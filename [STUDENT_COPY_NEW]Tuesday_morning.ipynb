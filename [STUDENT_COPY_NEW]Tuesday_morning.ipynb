{
  "cells": [
    {
      "cell_type": "markdown",
      "metadata": {
        "id": "view-in-github",
        "colab_type": "text"
      },
      "source": [
        "<a href=\"https://colab.research.google.com/github/SchachtmanLab/Transgenic-sorghum-sorgoleone/blob/master/%5BSTUDENT_COPY_NEW%5DTuesday_morning.ipynb\" target=\"_parent\"><img src=\"https://colab.research.google.com/assets/colab-badge.svg\" alt=\"Open In Colab\"/></a>"
      ]
    },
    {
      "cell_type": "markdown",
      "metadata": {
        "id": "rzt-ybJY64q0"
      },
      "source": [
        "# Good morning!\n",
        "\n",
        "Welcome back to Day 2 of PyCamp!\n",
        "\n",
        "Yesterday, we learned a lot about the fundamentals of Python: types, data structures, and the general syntax of Python code.\n",
        "\n",
        "Today, we'll delve into more practical uses of Python. We'll start by reviewing the most important aspects of yesterday's content, then we'll move on a very important package called `numpy`, which is a core Python data science package that provides tons of new, useful functions."
      ]
    },
    {
      "cell_type": "markdown",
      "metadata": {
        "id": "Bfw0ygTGykm0"
      },
      "source": [
        "# Review"
      ]
    },
    {
      "cell_type": "markdown",
      "metadata": {
        "id": "yg132mP3h9Mp"
      },
      "source": [
        "## Lists and loops\n",
        "\n",
        "Yesterday, we learned about our basic data types, including a very important data structure called a **list**.\n",
        "\n",
        "Recall that lists are defined with square brackets, and that they contain multiple elements."
      ]
    },
    {
      "cell_type": "code",
      "execution_count": 2,
      "metadata": {
        "id": "UwK19OlLjdr7",
        "outputId": "86fd524b-883f-47e7-fd42-7c71cb255144",
        "colab": {
          "base_uri": "https://localhost:8080/"
        }
      },
      "outputs": [
        {
          "output_type": "stream",
          "name": "stdout",
          "text": [
            "['Monday', 'Tuesday', 'Wednesday', 'Thursday', 'Friday']\n",
            "['Friday', 'Monday', 'Thursday', 'Tuesday', 'Wednesday']\n"
          ]
        }
      ],
      "source": [
        "weekdays = ['Monday', 'Tuesday', 'Wednesday', 'Thursday', 'Friday']\n",
        "print(weekdays)\n",
        "\n",
        "# try it out: sort weekdays alphabetically, then print the sorted list\n",
        "# Remember that the sort method works \"in place\"\n",
        "\n",
        "weekdays.sort()\n",
        "print(weekdays)"
      ]
    },
    {
      "cell_type": "markdown",
      "metadata": {
        "id": "DvuKBrvmk8or"
      },
      "source": [
        "Most of our work yesterday afternoon concerned `for` loops and lists. We can use `for` loops to perform some code on each item in a list.\n",
        "\n",
        "Loops are constructed in the following manner:\n",
        "\n",
        "```\n",
        "for <ITEM> in <ITERABLE>:\n",
        "\t<EXECUTE CODE HERE>\n",
        "```\n",
        "\n",
        "For example, the below loop will print each element of weekdays."
      ]
    },
    {
      "cell_type": "code",
      "execution_count": 3,
      "metadata": {
        "id": "jezeEcy2n4Sr",
        "outputId": "69f08d5a-f56f-4a73-d65d-4fc72f26fdd7",
        "colab": {
          "base_uri": "https://localhost:8080/"
        }
      },
      "outputs": [
        {
          "output_type": "stream",
          "name": "stdout",
          "text": [
            "Friday\n",
            "Monday\n",
            "Thursday\n",
            "Tuesday\n",
            "Wednesday\n"
          ]
        }
      ],
      "source": [
        "for day in weekdays:\n",
        "    print(day)"
      ]
    },
    {
      "cell_type": "markdown",
      "metadata": {
        "id": "C9guI-R2n7He"
      },
      "source": [
        "Notice that `day` is a *placeholder* that we can use in the code to signify each element of `weekdays` as the code within the loop is run. You should always name your placeholder something simple that makes sense to you. `i` is a common default variable."
      ]
    },
    {
      "cell_type": "code",
      "execution_count": 12,
      "metadata": {
        "id": "-yOjWLnGoX0U",
        "outputId": "fdd25f52-c0c7-4b41-f9c5-c41e86c81a4d",
        "colab": {
          "base_uri": "https://localhost:8080/"
        }
      },
      "outputs": [
        {
          "output_type": "stream",
          "name": "stdout",
          "text": [
            "4\n",
            "5.289999999999999\n",
            "9\n",
            "25\n",
            "81\n",
            "100\n",
            "196\n"
          ]
        }
      ],
      "source": [
        "num_list = [5, 9, 2.3, 14, 3, 2, 10]\n",
        "num_list.sort()\n",
        "\n",
        "for nu in num_list:\n",
        "    print(nu**2)\n",
        "\n",
        "# try it out: use a for loop to print the squared value of each number in num_list\n",
        "\n"
      ]
    },
    {
      "cell_type": "markdown",
      "metadata": {
        "id": "qNOGMj8fo_ye"
      },
      "source": [
        "## Defining functions\n",
        "\n",
        "**Custom functions** are defined using a `def` statement. Just like with `for` loops, functions use *placeholder variables* to indicate inputs that we want to use inside the function's code. The example below shows two inputs, but you can specify as many as you want!\n",
        "\n",
        "```\n",
        "def function_name(input1, input2):\n",
        "  # function code goes here #\n",
        "  return output\n",
        "```\n",
        "\n",
        "The code that goes inside the function must be written in an indented block. Generally speaking, you should make sure that you **return** values that you compute or generate within a function. This way, you can feed them into code that you use later on."
      ]
    },
    {
      "cell_type": "code",
      "execution_count": 18,
      "metadata": {
        "id": "Oqxf9jWzqpWV"
      },
      "outputs": [],
      "source": [
        "# Run this cell: notice that there's no output because we're just defining the function\n",
        "\n",
        "def list_mean(input_list):\n",
        "    # the code below will run each time we use this function\n",
        "    return sum(input_list) / len(input_list)\n",
        "\n"
      ]
    },
    {
      "cell_type": "code",
      "execution_count": 23,
      "metadata": {
        "id": "3ljCenURsEL_",
        "outputId": "12c1689f-37a4-422a-fd73-f73a0439f88c",
        "colab": {
          "base_uri": "https://localhost:8080/"
        }
      },
      "outputs": [
        {
          "output_type": "stream",
          "name": "stdout",
          "text": [
            "5\n",
            "4.4\n"
          ]
        }
      ],
      "source": [
        "# try it out: use list_mean on a list of numbers of your own choosing\n",
        "gg = [1,6,7,8,0]\n",
        "print(len(gg))\n",
        "print(list_mean([1,6,7,8,0]))"
      ]
    },
    {
      "cell_type": "markdown",
      "metadata": {
        "id": "e9v_5dBfu_Uh"
      },
      "source": [
        "We've taught you a lot about `print()` functions and how they're used to explicitly display the outputs of functions.\n",
        "\n",
        "`print()` functions are sometimes useful to put inside functions, as they can print out informative human-readable text. However, the text that `print()` generates **cannot** be used for anything else: it's just for display."
      ]
    },
    {
      "cell_type": "code",
      "execution_count": 25,
      "metadata": {
        "id": "dccAl4msuz5A"
      },
      "outputs": [],
      "source": [
        "# We're re-defining list_mean now\n",
        "\n",
        "def list_mean(input_list):\n",
        "    # the code below will run each time we use this function\n",
        "    print(\"The input list was:\", input_list)\n",
        "    return sum(input_list)/len(input_list)"
      ]
    },
    {
      "cell_type": "code",
      "execution_count": 27,
      "metadata": {
        "id": "TPpUZBG9vPS7",
        "outputId": "08d7c881-c6cc-464d-f20d-5e8e9d20cb7c",
        "colab": {
          "base_uri": "https://localhost:8080/"
        }
      },
      "outputs": [
        {
          "output_type": "stream",
          "name": "stdout",
          "text": [
            "The input list was: [1, 4, 10, 2]\n",
            "4.25\n"
          ]
        }
      ],
      "source": [
        "list_one = [1, 4, 10, 2]\n",
        "list_two = [4, 5, 2, 1]\n",
        "print(list_mean(list_one))\n",
        "# try it out: add the averages of list_one and list_two\n"
      ]
    },
    {
      "cell_type": "markdown",
      "metadata": {
        "id": "ktgyCeBmvvdr"
      },
      "source": [
        "## More data structures\n",
        "\n",
        "At the end of yesterday's session, we directed you to some extra reading and exercises about the remaining three key data structures in base Python: **tuples**, **sets**, and **dictionaries**. If you completed this reading, great! If not, this will be a very simple overview of what you need to know to progress with today's content."
      ]
    },
    {
      "cell_type": "markdown",
      "metadata": {
        "id": "whCm_Y8Y6XIk"
      },
      "source": [
        "### Tuple\n",
        "In simplest terms, a tuple is a list with very limited functionality. Tuples sacrifice much of the flexibility of lists in order to gain *efficiency* in data storage.\n",
        "\n",
        "We define tuples using parentheses instead of square brackets. Like lists, tuples store information in an ordered sequence and can be indexed using square brackets."
      ]
    },
    {
      "cell_type": "code",
      "execution_count": 28,
      "metadata": {
        "id": "RW8DEtI64Tv-",
        "outputId": "38a992a2-df7a-4ae7-f54e-7c98644f60af",
        "colab": {
          "base_uri": "https://localhost:8080/"
        }
      },
      "outputs": [
        {
          "output_type": "stream",
          "name": "stdout",
          "text": [
            "('a', 'b', 'c')\n",
            "(5, 9, 2.3, 14, 3, 2, 10)\n",
            "c\n",
            "9\n"
          ]
        }
      ],
      "source": [
        "string_tuple = ('a', 'b', 'c')  # a tuple of strings\n",
        "num_tuple = (5, 9, 2.3, 14, 3, 2, 10)  # a tuple of numerics\n",
        "\n",
        "print(string_tuple)\n",
        "print(num_tuple)\n",
        "\n",
        "# get the third item in the string_tuple\n",
        "print(string_tuple[2])\n",
        "\n",
        "# or the second item in the num_tuple (remember, python indexing begins with 0!)\n",
        "print(num_tuple[1])"
      ]
    },
    {
      "cell_type": "markdown",
      "metadata": {
        "id": "ajQP3Uk_4pfS"
      },
      "source": [
        "Tuples are interchangeable with lists in almost every aspect, with the exception that they **cannot be altered** once they've been created. This means that all of the methods we used to sort or append values to lists are *not applicable* to tuples."
      ]
    },
    {
      "cell_type": "code",
      "execution_count": 34,
      "metadata": {
        "id": "NOm3i5i240Ro",
        "outputId": "9303cf3b-958a-4412-845f-fe11100ecf33",
        "colab": {
          "base_uri": "https://localhost:8080/",
          "height": 180
        }
      },
      "outputs": [
        {
          "output_type": "error",
          "ename": "AttributeError",
          "evalue": "'tuple' object has no attribute 'sort'",
          "traceback": [
            "\u001b[0;31m---------------------------------------------------------------------------\u001b[0m",
            "\u001b[0;31mAttributeError\u001b[0m                            Traceback (most recent call last)",
            "\u001b[0;32m<ipython-input-34-436a0b4ff908>\u001b[0m in \u001b[0;36m<cell line: 4>\u001b[0;34m()\u001b[0m\n\u001b[1;32m      2\u001b[0m \u001b[0;34m\u001b[0m\u001b[0m\n\u001b[1;32m      3\u001b[0m \u001b[0mnum_list\u001b[0m\u001b[0;34m.\u001b[0m\u001b[0msort\u001b[0m\u001b[0;34m(\u001b[0m\u001b[0;34m)\u001b[0m\u001b[0;34m\u001b[0m\u001b[0;34m\u001b[0m\u001b[0m\n\u001b[0;32m----> 4\u001b[0;31m \u001b[0mstring_tuple\u001b[0m\u001b[0;34m.\u001b[0m\u001b[0msort\u001b[0m\u001b[0;34m(\u001b[0m\u001b[0;34m)\u001b[0m\u001b[0;34m\u001b[0m\u001b[0;34m\u001b[0m\u001b[0m\n\u001b[0m",
            "\u001b[0;31mAttributeError\u001b[0m: 'tuple' object has no attribute 'sort'"
          ]
        }
      ],
      "source": [
        "# try it out: what happens if you try using .sort() on num_tuple?\n",
        "\n",
        "num_list.sort()\n",
        "string_tuple.sort()"
      ]
    },
    {
      "cell_type": "markdown",
      "metadata": {
        "id": "8jyKmQYp5YtF"
      },
      "source": [
        "Why use tuples then? Well, tuples are the default output for functions that return multiple values. If you use a `return` statement with comma-separated variables, they will automatically be packaged up and returned in a tuple.\n",
        "\n"
      ]
    },
    {
      "cell_type": "code",
      "execution_count": 39,
      "metadata": {
        "id": "DA5KRyof5vWF"
      },
      "outputs": [],
      "source": [
        "def len_and_mean(input_list):\n",
        "    list_length = len(input_list)\n",
        "    list_average = (sum(input_list)/len(input_list))**45\n",
        "\n",
        "    # You can return multiple values by separating them with a comma\n",
        "    return list_length, list_average"
      ]
    },
    {
      "cell_type": "code",
      "execution_count": 40,
      "metadata": {
        "id": "a1EUGt4j6BAT",
        "outputId": "8ab9c875-c5fd-4301-a552-c3b68a8b1918",
        "colab": {
          "base_uri": "https://localhost:8080/"
        }
      },
      "outputs": [
        {
          "output_type": "execute_result",
          "data": {
            "text/plain": [
              "(4, 1.0394563753404887e+35)"
            ]
          },
          "metadata": {},
          "execution_count": 40
        }
      ],
      "source": [
        "# try it out: use len_and_mean on a list of numerics of your own choosing\n",
        "n = [7,8,9,0]\n",
        "len_and_mean(n)"
      ]
    },
    {
      "cell_type": "markdown",
      "metadata": {
        "id": "-HFIP-dg6nlh"
      },
      "source": [
        "### Sets\n",
        "\n",
        "A **set** is a structure that only contains unique values. Although you can create sets manually using curly brackets (`{ }`), the most common way to create a set is through the built-in function `set()`.\n",
        "\n",
        "The most common use of sets is identifying unique values in very long lists."
      ]
    },
    {
      "cell_type": "code",
      "execution_count": 55,
      "metadata": {
        "id": "lfJvqcK06_7Q",
        "outputId": "89f2f0c1-d5fb-43f6-d751-4898fbf12b50",
        "colab": {
          "base_uri": "https://localhost:8080/"
        }
      },
      "outputs": [
        {
          "output_type": "stream",
          "name": "stdout",
          "text": [
            "{0, 1, 2, 5, 6, 9, 11, -3}\n"
          ]
        }
      ],
      "source": [
        "repeat_list = [1, 5, 2, 11, 2, 6, 6, 9, 1, 2, 0, 6, 11, 2, -3, 1]\n",
        "\n",
        "# What if we just want unique values?\n",
        "dd = set(repeat_list)\n",
        "print(dd)\n"
      ]
    },
    {
      "cell_type": "markdown",
      "metadata": {
        "id": "S3eXDa9k7Son"
      },
      "source": [
        "You can use sets to perform useful set operations like intersections, unions, and differences. If these methods are relevant to your work, we recommend that you review this list of set methods [here](https://www.programiz.com/python-programming/methods/set)."
      ]
    },
    {
      "cell_type": "markdown",
      "metadata": {
        "id": "Pj-ftQljyNXT"
      },
      "source": [
        "### Dictionaries\n",
        "The most important of these structures is the **dictionary**. Dictionaries are powerful because they allow us to associate values with each other in **key-value pairs**. Each **key** must be a unique value, and we can associate each unique key with a defined **value**."
      ]
    },
    {
      "cell_type": "code",
      "execution_count": 56,
      "metadata": {
        "id": "ZElSxdvgIuLl",
        "outputId": "2b63fff9-6ef3-48fc-fd1f-510e2bea977d",
        "colab": {
          "base_uri": "https://localhost:8080/"
        }
      },
      "outputs": [
        {
          "output_type": "execute_result",
          "data": {
            "text/plain": [
              "{'08/05': 'Monday',\n",
              " '08/06': 'Tuesday',\n",
              " '08/07': 'Wednesday',\n",
              " '08/08': 'Thursday',\n",
              " '08/09': 'Friday'}"
            ]
          },
          "metadata": {},
          "execution_count": 56
        }
      ],
      "source": [
        "# Dictionaries are defined in key-value pairs\n",
        "# Below, our dates are keys and the weekday is the value\n",
        "\n",
        "days_and_dates = {\n",
        "    '08/05': 'Monday',\n",
        "    '08/06': 'Tuesday',\n",
        "    '08/07': 'Wednesday',\n",
        "    '08/08': 'Thursday',\n",
        "    '08/09': 'Friday'\n",
        "}\n",
        "\n",
        "days_and_dates"
      ]
    },
    {
      "cell_type": "markdown",
      "metadata": {
        "id": "JVKuYaWdJjYQ"
      },
      "source": [
        "This is useful because we now have a *direct association* between one value and another: if we have a key, we can retrieve its associated value."
      ]
    },
    {
      "cell_type": "code",
      "execution_count": 57,
      "metadata": {
        "id": "0Bo9XXZoauQb",
        "outputId": "171fe1ed-c32e-425d-8ae0-d58b2729b318",
        "colab": {
          "base_uri": "https://localhost:8080/",
          "height": 35
        }
      },
      "outputs": [
        {
          "output_type": "execute_result",
          "data": {
            "text/plain": [
              "'Tuesday'"
            ],
            "application/vnd.google.colaboratory.intrinsic+json": {
              "type": "string"
            }
          },
          "metadata": {},
          "execution_count": 57
        }
      ],
      "source": [
        "# This will return the value associated with the key '08/06'.\n",
        "days_and_dates['08/06']"
      ]
    },
    {
      "cell_type": "markdown",
      "metadata": {
        "id": "ct9iysn6MzP6"
      },
      "source": [
        "It can be a bit cumbersome to type out a dictionary: thankfully, we can easily convert lists of equal size to dictionaries using the `zip()` and `dict()` functions. We generally always pair these functions together, like so:\n",
        "\n",
        "```\n",
        "dict(zip(keys_list, values_list))\n",
        "```"
      ]
    },
    {
      "cell_type": "code",
      "execution_count": 58,
      "metadata": {
        "id": "zk9ogUmwMuFB",
        "outputId": "a5cccf98-54e0-46af-8518-8c8b7f165889",
        "colab": {
          "base_uri": "https://localhost:8080/"
        }
      },
      "outputs": [
        {
          "output_type": "stream",
          "name": "stdout",
          "text": [
            "{'01/13': 'Monday', '01/14': 'Tuesday', '01/15': 'Wednesday', '01/16': 'Thursday', '01/17': 'Friday'}\n"
          ]
        }
      ],
      "source": [
        "bootcamp_dates = ['01/13', '01/14', '01/15', '01/16', '01/17']\n",
        "weekdays = ['Monday', 'Tuesday', 'Wednesday', 'Thursday', 'Friday']\n",
        "\n",
        "# Use bootcamp_dates as the list of keys, and weekdays as the list of values\n",
        "bootcamp_dict = dict(zip(bootcamp_dates, weekdays))\n",
        "print(bootcamp_dict)"
      ]
    },
    {
      "cell_type": "markdown",
      "metadata": {
        "id": "0U8sD-XuaYEj"
      },
      "source": [
        "Unlike lists and tuples, dictionaries are not ordered. If we try to index by integer, there will return an error."
      ]
    },
    {
      "cell_type": "code",
      "execution_count": 72,
      "metadata": {
        "id": "IkUYgn71aPz6",
        "outputId": "d40bd280-c53d-49bf-e715-1f061b604f18",
        "colab": {
          "base_uri": "https://localhost:8080/"
        }
      },
      "outputs": [
        {
          "output_type": "stream",
          "name": "stdout",
          "text": [
            "Monday {0: 'a', 1: 'b', 2: 'c', 3: 'd', 4: 'e', 5: 'f', 6: 'g', 7: 'h', 8: 'i', 9: 'j', 10: 'k', 11: 'h', 12: 'l', 13: 'm', 14: 'o', 15: 'p', 16: 'q', 17: 'r', 18: 's', 19: 't', 20: 'u', 21: 'v', 22: 'w', 23: 'x', 24: 'y', 25: 'z'}\n"
          ]
        }
      ],
      "source": [
        "bootcamp_dict['01/13']\n",
        "x = bootcamp_dict['01/13']\n",
        "alp = \"abcdefghijkhlmopqrstuvwxyz\"\n",
        "alp\n",
        "sss = list(alp)\n",
        "sss\n",
        "index= range(0,26,1)\n",
        "index= range(0,26,2) # even number\n",
        "al_dic = dict(zip(index, alp))\n",
        "al_dic\n",
        "print(x, al_dic)"
      ]
    },
    {
      "cell_type": "markdown",
      "metadata": {
        "id": "FI_uEFrb8hHW"
      },
      "source": [
        "# More about functions\n",
        "\n",
        "Yesterday, we showed you a few different flavors of functions:\n",
        "1. **Built-in functions**: These are short, simple functions that are default provided by Python for performing essential operations.\n",
        "2. **Methods**: These are \"shortcut functions\" that are used *in reference* to objects. Each type of object has different methods available to it: for example, a list has different methods than a set or a string.\n",
        "3. **Custom functions**: These are functions that you define on your own using a `def` statement.\n",
        "\n",
        "Today, we'll introduce you to another source of useful functions: external packages."
      ]
    },
    {
      "cell_type": "markdown",
      "metadata": {
        "id": "8gKe-Ggkrv47"
      },
      "source": [
        "## Importing from packages\n",
        "\n",
        "Python is a very popular programming language for data scientists, and it's become increasingly popular for computational biologists over the last several years. As a result, there are many **[open-source packages](https://en.wikipedia.org/wiki/Open-source_software)** written by researchers and made available to the broader scientific community.\n",
        "\n",
        "These packages typically need to be installed manually, either using a downloadable installer or using the command line. Fortunately for us, Colab has many of these packages pre-installed, so all we have to do is **import** them into our runtime so we can begin to use them.\n",
        "\n",
        "We'll start off by importing a package called `numpy`, which is short for Numerical Python. 🔢"
      ]
    },
    {
      "cell_type": "code",
      "execution_count": 74,
      "metadata": {
        "id": "HD1_IEEy5pBO",
        "outputId": "0274479b-0a98-4cff-e97e-2031b8507c5d",
        "colab": {
          "base_uri": "https://localhost:8080/"
        }
      },
      "outputs": [
        {
          "output_type": "stream",
          "name": "stdout",
          "text": [
            "1.26.4\n"
          ]
        }
      ],
      "source": [
        "# Make sure to run this cell!\n",
        "import numpy as np\n",
        "\n",
        "# check that the package was installed by printing the version\n",
        "print(np.__version__)"
      ]
    },
    {
      "cell_type": "markdown",
      "metadata": {
        "id": "8SPhIDMC6Mmb"
      },
      "source": [
        "The `import` statement tells Python that we want to load functions from a certain package: in this case, it's `numpy`. For longer package names, you can use the `as` operator to provide an **alias** for the package. `numpy` is usually shortened to `np` by convention.\n",
        "\n",
        "Once you've imported the package, you have access to the functions contained within the package. In this manner, packages are like expansion packs for Python, adding new functions and possibilities for your analyses.\n",
        "\n",
        "You can use any of the functions contained within the package by prefixing them with the package name or alias. For example, `np.mean()` and `np.median()` are functions that belong to the `numpy` package."
      ]
    },
    {
      "cell_type": "code",
      "execution_count": 75,
      "metadata": {
        "id": "-ACn1D49-ZFN",
        "outputId": "d2ec8c62-b79e-4c6c-93e8-03db62829760",
        "colab": {
          "base_uri": "https://localhost:8080/"
        }
      },
      "outputs": [
        {
          "output_type": "stream",
          "name": "stdout",
          "text": [
            "Mean: 6.471428571428571\n",
            "Median: 5.0\n"
          ]
        }
      ],
      "source": [
        "num_list = [5, 9, 2.3, 14, 3, 2, 10]\n",
        "\n",
        "print('Mean:', np.mean(num_list))\n",
        "print('Median:', np.median(num_list))"
      ]
    },
    {
      "cell_type": "markdown",
      "metadata": {
        "id": "RTCaKtjFB_IR"
      },
      "source": [
        "By importing `numpy`, we can use functions like `np.median()` to accomplish operations without having to program them ourselves every time.\n",
        "> We *did* make you do this with `list_mean()` and `list_median()` yesterday, but from now on, we'll just import functions as needed. 😊\n",
        "\n",
        "More importantly, we can use these imported functions to write even more powerful and specific custom functions. Once the package is imported, we can use the imported functions freely inside our own custom functions."
      ]
    },
    {
      "cell_type": "code",
      "execution_count": 82,
      "metadata": {
        "id": "Tbq-aTy6K24C"
      },
      "outputs": [],
      "source": [
        "# try it out:\n",
        "\n",
        "# Write a function called summarize_list that will take a list of numerics\n",
        "# and return a tuple with:\n",
        "# 1) the length of the list\n",
        "# 2) the median of the list, using np.median\n",
        "# 3) the mean of the list, using np.mean\n",
        "\n",
        "def summarize_list(my_list):\n",
        "    list_len = len(my_list)\n",
        "    list_median = np.median(my_list)\n",
        "    list_mean = np.mean(my_list)\n",
        "    f = (list_len + list_median + list_mean)\n",
        "    return list_len, list_median, list_mean, f"
      ]
    },
    {
      "cell_type": "code",
      "execution_count": 86,
      "metadata": {
        "id": "BoVPf2CCJkUa",
        "outputId": "f18abaf6-d3dc-4116-e121-b6275c408941",
        "colab": {
          "base_uri": "https://localhost:8080/"
        }
      },
      "outputs": [
        {
          "output_type": "execute_result",
          "data": {
            "text/plain": [
              "(7, 5.0, 6.471428571428571, 18.47142857142857)"
            ]
          },
          "metadata": {},
          "execution_count": 86
        }
      ],
      "source": [
        "# test the function here\n",
        "x = summarize_list(num_list)\n",
        "x\n"
      ]
    },
    {
      "cell_type": "markdown",
      "metadata": {
        "id": "tBM8qEohzL4a"
      },
      "source": [
        "## Function inputs\n",
        "\n",
        "Now that we're moving into the world of imported functions, it's important to distinguish the different kinds of inputs that functions can take. This is important because many of the functions we'll use in the coming days have long lists of arguments and parameters that can be adjusted.\n",
        "\n",
        "* **Required inputs**: These are always required in order for the function to work. For example, `summarize_list()` requires `input_list` to work.\n",
        "* **Optional inputs**: These are inputs that adjust some aspect of how the function works. Unless otherwise specified using keyword arguments, the function proceeds with a default value/setting.\n",
        "\n",
        "By convention, required inputs go *first* in the list of your inputs. Any additional optional inputs are given afterwards using **keywords** that specify the optional input.\n",
        "\n",
        "Below is an example of `np.unique()`, a function that sorts an ordered data structure (like a list) and returns sorted unique values."
      ]
    },
    {
      "cell_type": "code",
      "execution_count": 88,
      "metadata": {
        "id": "BFzTjHAh2hZo",
        "outputId": "7b99a267-4639-42ab-9e05-9933460d11c1",
        "colab": {
          "base_uri": "https://localhost:8080/"
        }
      },
      "outputs": [
        {
          "output_type": "stream",
          "name": "stdout",
          "text": [
            "[1, 5, 2, 3, 3, 5, 8, 10, 7, 8]\n",
            "[ 1  2  3  5  7  8 10]\n",
            "[ 1  2  3  3  5  5  7  8  8 10]\n"
          ]
        }
      ],
      "source": [
        "# For example\n",
        "mixed_ints = [1, 5, 2, 3, 3, 5, 8, 10, 7, 8]\n",
        "print(mixed_ints)\n",
        "print(np.unique(mixed_ints))\n",
        "print(np.sort(mixed_ints))"
      ]
    },
    {
      "cell_type": "markdown",
      "metadata": {
        "id": "II8pRVYdhoER"
      },
      "source": [
        "Let's quickly look at the documentation for `np.unique()`. To learn more about a function and its inputs  and outputs within Google Colab, you can simply type `?` followed by the name of the function.\n",
        "\n"
      ]
    },
    {
      "cell_type": "code",
      "execution_count": 89,
      "metadata": {
        "id": "bwpWG5fIhgyi"
      },
      "outputs": [],
      "source": [
        "?np.unique"
      ]
    },
    {
      "cell_type": "markdown",
      "metadata": {
        "id": "1LZJOKcz3OaY"
      },
      "source": [
        "`np.unique()` has an optional input called `return_counts`, which specifies whether or not the counts of each value in the input is returned alongside the ordered unique values.\n",
        "\n",
        "`return_counts` is set to `False` by default: thus, the function works even if we don't provide an argument for `return_counts`. However, we can adjust `return_counts` if we wish to do so:"
      ]
    },
    {
      "cell_type": "code",
      "execution_count": 90,
      "metadata": {
        "id": "6xuzIRa63lxp",
        "outputId": "fbc7672c-e6d9-4b4c-f049-29a8e34f23ac",
        "colab": {
          "base_uri": "https://localhost:8080/"
        }
      },
      "outputs": [
        {
          "output_type": "execute_result",
          "data": {
            "text/plain": [
              "(array([ 1,  2,  3,  5,  7,  8, 10]), array([1, 1, 2, 2, 1, 2, 1]))"
            ]
          },
          "metadata": {},
          "execution_count": 90
        }
      ],
      "source": [
        "# Use np.unique on mixed_ints, setting return_counts = True\n",
        "np.unique(mixed_ints, return_counts=True)"
      ]
    },
    {
      "cell_type": "markdown",
      "metadata": {
        "id": "4joQv8mTIOGm"
      },
      "source": [
        "# The `numpy` package\n",
        "\n",
        "Although we introduced `numpy` in the context of providing convenient functions, `numpy` does much more than that.\n",
        "\n",
        "`numpy` is a package that provides additional data types and functions, notably a *multi-dimensional array* data type. Simply put, `numpy` allows us to use Python to perform operations in an Excel-like manner, spanning multi-dimensional arrays of data. This immense utility makes `numpy` one of the most commonly used Python packages for scientific work and beyond."
      ]
    },
    {
      "cell_type": "markdown",
      "metadata": {
        "id": "yxQJ9l0c-GyP"
      },
      "source": [
        "# Intro to arrays\n",
        "\n",
        "In a moment, we're going to introduce a very powerful new data structure called an **array.** An array is a data structure that incorporates elements of many data structures that we learned about yesterday.\n",
        "\n",
        "We can create **arrays** by using the function `np.array()` on an existing data structure."
      ]
    },
    {
      "cell_type": "code",
      "execution_count": 91,
      "metadata": {
        "id": "ufCGh1ew7D4z",
        "outputId": "5685ca2a-c7d3-4765-e5b2-53acf0fe9514",
        "colab": {
          "base_uri": "https://localhost:8080/"
        }
      },
      "outputs": [
        {
          "output_type": "stream",
          "name": "stdout",
          "text": [
            "['Monday', 'Tuesday', 'Wednesday', 'Thursday', 'Friday']\n"
          ]
        },
        {
          "output_type": "execute_result",
          "data": {
            "text/plain": [
              "array(['Monday', 'Tuesday', 'Wednesday', 'Thursday', 'Friday'],\n",
              "      dtype='<U9')"
            ]
          },
          "metadata": {},
          "execution_count": 91
        }
      ],
      "source": [
        "# creating an array from a list\n",
        "weekdays = ['Monday', 'Tuesday', 'Wednesday', 'Thursday', 'Friday']\n",
        "print(weekdays)\n",
        "weekday_array = np.array(weekdays)\n",
        "\n",
        "weekday_array"
      ]
    },
    {
      "cell_type": "markdown",
      "metadata": {
        "id": "nyT5Hedhmzv_"
      },
      "source": [
        "At the surface level, arrays aren't so different from lists. We can get their length, index their elements, iterate over them, and perform operations on their contents."
      ]
    },
    {
      "cell_type": "code",
      "execution_count": 93,
      "metadata": {
        "id": "vD3EgBCinclw",
        "outputId": "b8e28c6a-9900-452e-f825-892e4b51519b",
        "colab": {
          "base_uri": "https://localhost:8080/"
        }
      },
      "outputs": [
        {
          "output_type": "stream",
          "name": "stdout",
          "text": [
            "Length: 5\n",
            "Tuesday\n",
            "Monday is 6 characters long.\n",
            "Tuesday is 7 characters long.\n",
            "Wednesday is 9 characters long.\n",
            "Thursday is 8 characters long.\n",
            "Friday is 6 characters long.\n"
          ]
        }
      ],
      "source": [
        "# Get the length of the array\n",
        "print('Length:', len(weekday_array))\n",
        "# Retrieve Tuesday by index\n",
        "print(weekday_array[1])\n",
        "# Iterate over the array\n",
        "for day in weekday_array:\n",
        "    print(day, \"is\", len(day), 'characters long.')"
      ]
    },
    {
      "cell_type": "markdown",
      "metadata": {
        "id": "lwb_5wh--BhH"
      },
      "source": [
        "However, the main features of arrays are for **numerical arrays** that contain only numeric types."
      ]
    },
    {
      "cell_type": "code",
      "execution_count": 94,
      "metadata": {
        "id": "sRTAPeqFYWPf",
        "outputId": "afbfc4ee-0865-4d67-d776-9f16ef65eef5",
        "colab": {
          "base_uri": "https://localhost:8080/"
        }
      },
      "outputs": [
        {
          "output_type": "stream",
          "name": "stdout",
          "text": [
            "Starting array:\n",
            " [1 1 1 1 1]\n"
          ]
        }
      ],
      "source": [
        "one_by_five = np.array([1, 1, 1, 1, 1])\n",
        "print('Starting array:\\n', one_by_five)"
      ]
    },
    {
      "cell_type": "markdown",
      "metadata": {
        "id": "ca1--eJLEkH6"
      },
      "source": [
        "We can create multi-dimensional arrays by using `np.array()` with nested lists of equal length. `np.array()` will automatically format our nested list into a multi-dimensional array."
      ]
    },
    {
      "cell_type": "code",
      "execution_count": 96,
      "metadata": {
        "id": "5HnQVCu-LgJK",
        "outputId": "34d0f2bf-ecfa-4792-cfa4-23dce254f4d9",
        "colab": {
          "base_uri": "https://localhost:8080/"
        }
      },
      "outputs": [
        {
          "output_type": "stream",
          "name": "stdout",
          "text": [
            "Nested list: [[1, 1, 1, 1, 1], [1, 1, 1, 1, 1]] \n",
            "\n",
            "2 x 5 array:\n",
            " [[1 1 1 1 1]\n",
            " [1 1 1 1 1]] \n",
            "\n",
            "5 x 5 array:\n",
            " [[1 1 1 1 1]\n",
            " [1 1 1 1 1]\n",
            " [1 1 1 1 1]\n",
            " [1 1 1 1 1]\n",
            " [1 1 1 1 1]]\n"
          ]
        }
      ],
      "source": [
        "# As a nested list: two sub-lists of length 5\n",
        "print('Nested list:', [[1, 1, 1, 1, 1], [1, 1, 1, 1, 1]], '\\n')\n",
        "\n",
        "two_by_five = np.array([[1, 1, 1, 1, 1],\n",
        "                        [1, 1, 1, 1, 1]])\n",
        "print('2 x 5 array:\\n', two_by_five, '\\n')\n",
        "\n",
        "# As a nested list: five sub-lists of length 5\n",
        "five_by_five = np.array([[1, 1, 1, 1, 1],\n",
        "                         [1, 1, 1, 1, 1],\n",
        "                         [1, 1, 1, 1, 1],\n",
        "                         [1, 1, 1, 1, 1],\n",
        "                         [1, 1, 1, 1, 1]])\n",
        "print('5 x 5 array:\\n', five_by_five)"
      ]
    },
    {
      "cell_type": "markdown",
      "metadata": {
        "id": "xd0Ccpuplx8j"
      },
      "source": [
        "Arrays are optimized for numerical operations. One of the magical aspects of arrays is that they allow us to **broadcast** operations over each element in the array as if we were working on a single element. This property of arrays can make our code much more concise. This is especially important for **multi-dimensional arrays** (also known as *matrices*).\n",
        "\n",
        "As an example, say we want to divide each element in an array by 2, and then square each element. Using Numpy broadcasting, we can perform this on our multi-dimensional array in a single line:"
      ]
    },
    {
      "cell_type": "code",
      "execution_count": 99,
      "metadata": {
        "id": "AOcosMna66zh",
        "outputId": "7b8b1cd8-9607-4a5f-8fc0-688dc34616c6",
        "colab": {
          "base_uri": "https://localhost:8080/"
        }
      },
      "outputs": [
        {
          "output_type": "stream",
          "name": "stdout",
          "text": [
            "[[0.25 0.25 0.25 0.25 0.25]\n",
            " [0.25 0.25 0.25 0.25 0.25]\n",
            " [0.25 0.25 0.25 0.25 0.25]\n",
            " [0.25 0.25 0.25 0.25 0.25]\n",
            " [0.25 0.25 0.25 0.25 0.25]]\n"
          ]
        }
      ],
      "source": [
        "five_by_five_array = np.array(\n",
        "    [\n",
        "        [1, 1, 1, 1, 1],\n",
        "        [1, 1, 1, 1, 1],\n",
        "        [1, 1, 1, 1, 1],\n",
        "        [1, 1, 1, 1, 1],\n",
        "        [1, 1, 1, 1, 1]\n",
        "    ]\n",
        ")\n",
        "\n",
        "print((five_by_five_array / 2)**2)"
      ]
    },
    {
      "cell_type": "code",
      "source": [],
      "metadata": {
        "id": "1tewvWnwDYAo"
      },
      "execution_count": null,
      "outputs": []
    },
    {
      "cell_type": "markdown",
      "metadata": {
        "id": "yjIFufYRLs-l"
      },
      "source": [
        "However, if we were adamant about sticking to a nested list, the same operation would require us to use several techniques we learned yesterday:\n",
        "1. A nested `for` loop\n",
        "2. Indexing each element of the nested list\n",
        "3. Updating each element of the nested list\n",
        "4. The `range()`function."
      ]
    },
    {
      "cell_type": "code",
      "execution_count": 101,
      "metadata": {
        "id": "86PUWOLkmo1S",
        "outputId": "16596ee9-21b3-422d-c632-11ee627a92d5",
        "colab": {
          "base_uri": "https://localhost:8080/"
        }
      },
      "outputs": [
        {
          "output_type": "execute_result",
          "data": {
            "text/plain": [
              "[[0.25, 0.25, 0.25, 0.25, 0.25],\n",
              " [0.25, 0.25, 0.25, 0.25, 0.25],\n",
              " [0.25, 0.25, 0.25, 0.25, 0.25],\n",
              " [0.25, 0.25, 0.25, 0.25, 0.25],\n",
              " [0.25, 0.25, 0.25, 0.25, 0.25]]"
            ]
          },
          "metadata": {},
          "execution_count": 101
        }
      ],
      "source": [
        "five_by_five_list = [[1, 1, 1, 1, 1],\n",
        "                     [1, 1, 1, 1, 1],\n",
        "                     [1, 1, 1, 1, 1],\n",
        "                     [1, 1, 1, 1, 1],\n",
        "                     [1, 1, 1, 1, 1]]\n",
        "\n",
        "#(five_by_five_list/2)**2\n",
        "def nested_half_square(input_nested_list):\n",
        "    # a function that does the same thing as above for a nested list\n",
        "    # we index each sublist, then each item in the list, and then perform our operation\n",
        "\n",
        "    for sublist in input_nested_list:\n",
        "        for index in range(len(sublist)):\n",
        "            # here, the range object is similar to a list or tuple of integers ranging from 0 to 4\n",
        "            sublist[index] = (sublist[index]/2)**2\n",
        "    return input_nested_list\n",
        "\n",
        "nested_half_square(five_by_five_list)"
      ]
    },
    {
      "cell_type": "markdown",
      "metadata": {
        "id": "Ml_4C7McrvM7"
      },
      "source": [
        "## Why *not* use arrays?\n",
        "\n",
        "Unsurprisingly, arrays are much more efficient than lists in both memory (storage) and operation speed, and unlike tuples, items in the array can be changed or replaced. This now begs the question of why you would ever use a list instead of an array. Here are two major limitations of arrays:\n",
        "\n",
        "1. **Arrays cannot be of mixed types.** <br>\n",
        "  Unlike lists, arrays can only contain values of a singular data type.<br>\n",
        "  (Given a data structure of mixed types, `np.array()` will do its best to pick the \"most harmonious\" type. This is referred to as \"type coercion\".)\n",
        "\n",
        "2. **Arrays must be rectangular.**<br>\n",
        "  In a nested list, you can have sub-lists of different lengths. However, multi-dimensional `numpy` arrays require that every row must have the same number of columns.\n",
        "\n",
        "In short, arrays offer a great boost in efficiency and conciseness of code at the cost of some flexibility. However, **for most numerical and/or tabular data, arrays are more efficient than lists.**\n",
        "\n",
        "We'll spend the next day or so using arrays as our data structure of choice. This will prepare us for Thursday's content, which will focus heavily on a workhorse of a data structure called a DataFrame, which is heavily based on arrays."
      ]
    },
    {
      "cell_type": "code",
      "source": [
        "weekdays = [\"M\",\"T\",\"E\"]\n",
        "weekend = [\"F\",\"S\", \"S\"]\n",
        "week = [weekdays, weekend]\n",
        "np.array(week)"
      ],
      "metadata": {
        "id": "YjryLYyUEu-l",
        "outputId": "c49bfdf6-6f55-4fff-ca3e-d6fa365809a3",
        "colab": {
          "base_uri": "https://localhost:8080/"
        }
      },
      "execution_count": 106,
      "outputs": [
        {
          "output_type": "execute_result",
          "data": {
            "text/plain": [
              "array([['M', 'T', 'E'],\n",
              "       ['F', 'S', 'S']], dtype='<U1')"
            ]
          },
          "metadata": {},
          "execution_count": 106
        }
      ]
    },
    {
      "cell_type": "code",
      "execution_count": 110,
      "metadata": {
        "id": "kBarYTdipogl",
        "outputId": "87a6911b-2d4c-4b29-fb28-ab4826efa5a7",
        "colab": {
          "base_uri": "https://localhost:8080/"
        }
      },
      "outputs": [
        {
          "output_type": "stream",
          "name": "stdout",
          "text": [
            "['1' '2' '3' 'four']\n",
            "[1.  2.  3.6 4.3]\n",
            "['1.0' '2.0' '3.0' 'four']\n",
            "['1' '2.2' '3.3' 'four']\n"
          ]
        }
      ],
      "source": [
        "# try it out:\n",
        "# use np.array on a mixed list of:\n",
        "# 1) integers and strings\n",
        "# 2) integers and floats\n",
        "# 3) floats and strings\n",
        "# 4) integers, floats, and strings\n",
        "l1 = [1, 2, 3, 'four']\n",
        "l2 = [1, 2, 3.6, 4.3]\n",
        "l3 = [1.0, 2.0, 3.0, 'four']\n",
        "l4 = [1, 2.2, 3.3, 'four']\n",
        "\n",
        "\n",
        "l = [l1,l2,l3,l4]\n",
        "np.array(l)\n",
        "print(np.array(l1))\n",
        "print(np.array(l2))\n",
        "print(np.array(l3))\n",
        "print(np.array(l4))"
      ]
    },
    {
      "cell_type": "markdown",
      "metadata": {
        "id": "edXd9i8FQPAQ"
      },
      "source": [
        "# Interlude: Using autocomplete\n",
        "\n",
        "As we progress along today and the remainder of the bootcamp, you'll want to start taking advantage of Colab's autocomplete feature.\n",
        "\n",
        "Once you've defined a variable, function, or imported a package, Colab will understand that these objects are now available for us in the runtime. Colab will try to be helpful by providing \"text prediction\" for the variables and functions you reference. This is different than the AI-powered code generation features.\n",
        "\n",
        "For example, earlier we defined an array called `five_by_five`. Although it doesn't have the longest name, it's a little annoying to type it over and over again."
      ]
    },
    {
      "cell_type": "code",
      "execution_count": 111,
      "metadata": {
        "id": "PNjv4PCuQoju"
      },
      "outputs": [],
      "source": [
        "# Below, just write five_by and then pause. You can also press control+space to trigger auto-complete\n",
        "five_by_five\n",
        "five_by"
      ]
    },
    {
      "cell_type": "markdown",
      "metadata": {
        "id": "CtsAMOqeQz8O"
      },
      "source": [
        "You should see a small options menu pop up. If the top option is what you want, simply press `Tab` to autocomplete."
      ]
    },
    {
      "cell_type": "code",
      "execution_count": null,
      "metadata": {
        "id": "h8X3nRVFQ738"
      },
      "outputs": [],
      "source": [
        "# try it out again!\n"
      ]
    },
    {
      "cell_type": "markdown",
      "metadata": {
        "id": "vRZ-0ZCHIo05"
      },
      "source": [
        "# Working with arrays\n",
        "\n",
        "This section marks the beginning of the more rigorous Python content we'll cover in the bootcamp.\n",
        "\n",
        "We strongly encourage you to **refer to the cheat sheets as often as possible**, rather than trying to memorize the syntax of all of the operations. Memorization will come with practice, and if you try to force yourself to memorize the syntax of every command, you'll burn out before the end of the bootcamp!"
      ]
    },
    {
      "cell_type": "markdown",
      "metadata": {
        "id": "ZjOz1105JBIw"
      },
      "source": [
        "## Attributes\n",
        "\n",
        "In Python, objects have **attributes** that describe certain properties: for example, the length of a list or array is an attribute.\n",
        "\n",
        "In the past, we've used built-in functions like `len()` and `type()` to access information about object attributes. However, arrays have special attributes that can't always be accessed with built-in functions. For example, how can we check the number of elements in an array?"
      ]
    },
    {
      "cell_type": "code",
      "execution_count": 115,
      "metadata": {
        "id": "CNr-d93IJxf8",
        "outputId": "c75ba9ff-851c-4f1c-9e66-0767a51a2ac4",
        "colab": {
          "base_uri": "https://localhost:8080/"
        }
      },
      "outputs": [
        {
          "output_type": "stream",
          "name": "stdout",
          "text": [
            "Array:\n",
            "\n",
            " [[1 1 1 1 1]\n",
            " [1 1 1 1 1]\n",
            " [1 1 1 1 1]\n",
            " [1 1 1 1 1]\n",
            " [1 1 1 1 1]]\n",
            "5\n"
          ]
        }
      ],
      "source": [
        "print('Array:\\n\\n', five_by_five)\n",
        "\n",
        "print(len(five_by_five))  # this only gives us the number of rows"
      ]
    },
    {
      "cell_type": "markdown",
      "metadata": {
        "id": "-610_2xXKKtU"
      },
      "source": [
        "Not quite what we wanted, right? Thankfully, we can get information about array attributes by *referencing* our array of interest.\n",
        "\n",
        "When we use methods, we *reference* the object that the method is associated with by using the `.` as a link between the object and the method. We can use a similar strategy to access attributes of arrays: we'll *reference* the array we want using `.`, then provide the name of the attribute we want to access. For example, we can use `.size` to retrieve the number of elements in the array. You may think of `.` as the possessive 's in the English language (e.g. \"Josh's notebook\" or `josh.notebook`)."
      ]
    },
    {
      "cell_type": "code",
      "execution_count": 121,
      "metadata": {
        "id": "swf3Xy9yLP54",
        "outputId": "96f119bf-e259-4a5a-ba0b-6c4674aa8581",
        "colab": {
          "base_uri": "https://localhost:8080/"
        }
      },
      "outputs": [
        {
          "output_type": "stream",
          "name": "stdout",
          "text": [
            "Array:\n",
            " [[1 1 1 1 1]\n",
            " [1 1 1 1 1]\n",
            " [1 1 1 1 1]\n",
            " [1 1 1 1 1]\n",
            " [1 1 1 1 1]]\n",
            "[[1 1 1 1 1]\n",
            " [1 1 1 1 1]\n",
            " [1 1 1 1 1]\n",
            " [1 1 1 1 1]\n",
            " [1 1 1 1 1]]\n",
            "Number of elements: 25\n"
          ]
        }
      ],
      "source": [
        "# The size attribute describes the number of elements in the array\n",
        "# We access it with .size\n",
        "\n",
        "print('Array:\\n', five_by_five)\n",
        "print(five_by_five)\n",
        "\n",
        "print('Number of elements:', five_by_five.size)"
      ]
    },
    {
      "cell_type": "markdown",
      "metadata": {
        "id": "dipj3ZFvMFjs"
      },
      "source": [
        "The only difference between using an array method and accessing an array's attributes is the absence of a `()` when using `.size`: adding an extra `()` when trying to access attributes is a common mistake."
      ]
    },
    {
      "cell_type": "code",
      "execution_count": 122,
      "metadata": {
        "id": "SCBatjV8wweF",
        "outputId": "9b23078a-899e-45a2-9599-be13d65a5ace",
        "colab": {
          "base_uri": "https://localhost:8080/"
        }
      },
      "outputs": [
        {
          "output_type": "execute_result",
          "data": {
            "text/plain": [
              "25"
            ]
          },
          "metadata": {},
          "execution_count": 122
        }
      ],
      "source": [
        "five_by_five.size"
      ]
    },
    {
      "cell_type": "markdown",
      "metadata": {
        "id": "da-p3dDBw5We"
      },
      "source": [
        "Beyond `.size`, two other useful attributes to examine are:\n",
        "* `.shape`: Returns a tuple with the number of columns and number of rows.\n",
        "* `.ndim`: Returns the number of dimensions that the array contains.\n",
        "\n",
        "> Click [here](https://numpy.org/doc/stable/reference/arrays.ndarray.html#array-attributes) to view the full Numpy documentation for array attributes."
      ]
    },
    {
      "cell_type": "code",
      "execution_count": 128,
      "metadata": {
        "id": "SzQ1_CSA7Jpi",
        "outputId": "d4b59b20-922b-44ac-e2ea-e070fe06e693",
        "colab": {
          "base_uri": "https://localhost:8080/"
        }
      },
      "outputs": [
        {
          "output_type": "stream",
          "name": "stdout",
          "text": [
            "five_by_five has this number of rows: 5\n",
            "five_by_five has this number of columns: 5\n"
          ]
        },
        {
          "output_type": "execute_result",
          "data": {
            "text/plain": [
              "(5, 5)"
            ]
          },
          "metadata": {},
          "execution_count": 128
        }
      ],
      "source": [
        "# try it out: how many rows/columns are in five_by_five?\n",
        "\n",
        "print(\"five_by_five has this number of rows:\", five_by_five.shape[1])\n",
        "print(\"five_by_five has this number of columns:\", five_by_five.shape[0])\n",
        "five_by_five.size\n",
        "five_by_five.shape"
      ]
    },
    {
      "cell_type": "markdown",
      "metadata": {
        "id": "gvfyiz28rgdt"
      },
      "source": [
        "## Indexing and slicing\n",
        "\n",
        "Indexing and slicing in 1D arrays works exactly the same as it does with lists."
      ]
    },
    {
      "cell_type": "code",
      "execution_count": 127,
      "metadata": {
        "id": "l6OeotJUtAUM",
        "outputId": "6598ba60-25ec-4ad3-ff97-ef5b9271447a",
        "colab": {
          "base_uri": "https://localhost:8080/"
        }
      },
      "outputs": [
        {
          "output_type": "stream",
          "name": "stdout",
          "text": [
            "5\n",
            "[3 4 5]\n"
          ]
        }
      ],
      "source": [
        "one_to_five = np.array([1, 2, 3, 4, 5])\n",
        "\n",
        "# try it out:\n",
        "# print the last value of the array\n",
        "print(one_to_five[-1])\n",
        "\n",
        "# print the last three values of the array\n",
        "print(one_to_five[-3:])"
      ]
    },
    {
      "cell_type": "markdown",
      "metadata": {
        "id": "mng9_psjtVfU"
      },
      "source": [
        "Things are a little different for multi-dimensional arrays.\n",
        "\n",
        "In nested lists, we use **hierarchical indexing** to access elements, meaning that you have to first index the sub-list before you can index its elements."
      ]
    },
    {
      "cell_type": "code",
      "execution_count": 129,
      "metadata": {
        "id": "awg0JW41IoTW",
        "outputId": "d47a8a1d-7853-4efc-e75e-a4a63f0ccc2b",
        "colab": {
          "base_uri": "https://localhost:8080/"
        }
      },
      "outputs": [
        {
          "output_type": "stream",
          "name": "stdout",
          "text": [
            "Nested list: [[1, 2, 3, 4, 5], [6, 7, 8, 9, 10], [11, 12, 13, 14, 15]]\n",
            "\n",
            "Second sub-list:\n",
            "[6, 7, 8, 9, 10]\n",
            "\n",
            "Second sub-list, last element:\n",
            "10\n",
            "\n",
            "Second sub-list, last three elements:\n",
            "[8, 9, 10]\n"
          ]
        }
      ],
      "source": [
        "# a nested list: each sub-list has 5 elements\n",
        "one_to_fifteen_list = [\n",
        "    [1, 2, 3, 4, 5],\n",
        "    [6, 7, 8, 9, 10],\n",
        "    [11, 12, 13, 14, 15]\n",
        "]\n",
        "print('Nested list:', one_to_fifteen_list)\n",
        "\n",
        "# the second sub-list is index [1]\n",
        "print('\\nSecond sub-list:')\n",
        "print(one_to_fifteen_list[1])\n",
        "\n",
        "# the last element of the second sublist is [1][4]\n",
        "print('\\nSecond sub-list, last element:')\n",
        "print(one_to_fifteen_list[1][4])\n",
        "\n",
        "# the last three elements of the second sublist are [1][2:]\n",
        "print('\\nSecond sub-list, last three elements:')\n",
        "print(one_to_fifteen_list[1][2:])"
      ]
    },
    {
      "cell_type": "markdown",
      "metadata": {
        "id": "VVT9_IOhBq-w"
      },
      "source": [
        "In arrays, we use a single index in the format of `[row, column]`.\n",
        "* *Rows* are equivalent to sub-lists.\n",
        "* *Columns* are equivalent to elements in a sub-list.\n",
        "\n",
        "<img src = 'https://github.com/ccbskillssem/pythonbootcamp/raw/main/day_2/indexing.png'>"
      ]
    },
    {
      "cell_type": "code",
      "execution_count": 133,
      "metadata": {
        "id": "aN0DttfBtesf",
        "outputId": "f36e9b4a-bd13-49d3-e4dd-dd392710da23",
        "colab": {
          "base_uri": "https://localhost:8080/"
        }
      },
      "outputs": [
        {
          "output_type": "stream",
          "name": "stdout",
          "text": [
            "Array:\n",
            " [[ 1  2  3  4  5]\n",
            " [ 6  7  8  9 10]\n",
            " [11 12 13 14 15]]\n",
            "\n",
            "Second row:\n",
            "[ 6  7  8  9 10]\n",
            "\n",
            "Second row, last element:\n",
            "[10]\n",
            "\n",
            "Second row, last three elements:\n",
            "[ 8  9 10]\n"
          ]
        }
      ],
      "source": [
        "# array version of above nested list\n",
        "one_to_fifteen_array = np.array(one_to_fifteen_list)\n",
        "print('Array:\\n', one_to_fifteen_array)\n",
        "\n",
        "# the second row is index [1]\n",
        "print('\\nSecond row:')\n",
        "print(one_to_fifteen_array[1])\n",
        "\n",
        "# the last element of the second row is [1, 4]\n",
        "print('\\nSecond row, last element:')\n",
        "print(one_to_fifteen_array[1, -1:])\n",
        "\n",
        "# the last three elements of the second row are [1][2:]\n",
        "print('\\nSecond row, last three elements:')\n",
        "print(one_to_fifteen_array[1, 2:])"
      ]
    },
    {
      "cell_type": "markdown",
      "metadata": {
        "id": "QV2LPIIvGTFG"
      },
      "source": [
        "This method of indexing is superior for accessing elements *column-wise*, which was previously not possible with nested lists."
      ]
    },
    {
      "cell_type": "code",
      "execution_count": 136,
      "metadata": {
        "id": "92YanT_6Gdjl",
        "outputId": "954f2a96-65cc-4e52-900a-622ac9cb709f",
        "colab": {
          "base_uri": "https://localhost:8080/"
        }
      },
      "outputs": [
        {
          "output_type": "stream",
          "name": "stdout",
          "text": [
            "Array:\n",
            " [[ 1  2  3  4  5]\n",
            " [ 6  7  8  9 10]\n",
            " [11 12 13 14 15]]\n",
            "\n",
            "Fourth column:\n"
          ]
        },
        {
          "output_type": "execute_result",
          "data": {
            "text/plain": [
              "array([ 4,  9, 14])"
            ]
          },
          "metadata": {},
          "execution_count": 136
        }
      ],
      "source": [
        "# print array again for convenient viewing\n",
        "print('Array:\\n', one_to_fifteen_array)\n",
        "\n",
        "# print the fourth column of the array\n",
        "print('\\nFourth column:')\n",
        "one_to_fifteen_array[:, 3] # ':' is a placeholder for \"all rows\""
      ]
    },
    {
      "cell_type": "markdown",
      "metadata": {
        "id": "M72l5zSLscPf"
      },
      "source": [
        "Above, we simply used the slice (`:`) operator in place of the row index to indicate that we would like to access values from *all rows*. Providing `3` in place of the column index then retrieves the index 3 position from each row. This type of indexing is referred to as indexing across an **axis**.\n",
        "\n",
        "> In 2D arrays, we have two axes: the \"x axis\" (rows) and the \"y axis\" (columns).\n",
        "\n",
        "We can put these row and column indexing strategies together to be able to slice out portions of arrays that would have been inaccessible to us in nested lists."
      ]
    },
    {
      "cell_type": "code",
      "execution_count": 137,
      "metadata": {
        "id": "x5pONNg-IBx4",
        "outputId": "2aa50766-d547-48f6-afa2-2479bc5b203b",
        "colab": {
          "base_uri": "https://localhost:8080/"
        }
      },
      "outputs": [
        {
          "output_type": "stream",
          "name": "stdout",
          "text": [
            "Array:\n",
            " [[ 1  2  3  4  5]\n",
            " [ 6  7  8  9 10]\n",
            " [11 12 13 14 15]]\n",
            "\n",
            "Middle three elements of the first two rows:\n"
          ]
        },
        {
          "output_type": "execute_result",
          "data": {
            "text/plain": [
              "array([[2, 3, 4],\n",
              "       [7, 8, 9]])"
            ]
          },
          "metadata": {},
          "execution_count": 137
        }
      ],
      "source": [
        "# print array again for convenient viewing\n",
        "print('Array:\\n', one_to_fifteen_array)\n",
        "\n",
        "print('\\nMiddle three elements of the first two rows:')\n",
        "# rows: 0, 1\n",
        "# columns: 1, 2, 3\n",
        "one_to_fifteen_array[:2, 1:4]"
      ]
    },
    {
      "cell_type": "markdown",
      "metadata": {
        "id": "LWws2n6goBYh"
      },
      "source": [
        "Lastly, we can use tuples to specify exact columns that we want to slice."
      ]
    },
    {
      "cell_type": "code",
      "execution_count": 138,
      "metadata": {
        "id": "VZon3CJ_oJPQ",
        "outputId": "db265fc9-b42a-4442-f76c-3037e159f696",
        "colab": {
          "base_uri": "https://localhost:8080/"
        }
      },
      "outputs": [
        {
          "output_type": "stream",
          "name": "stdout",
          "text": [
            "Array:\n",
            " [[ 1  2  3  4  5]\n",
            " [ 6  7  8  9 10]\n",
            " [11 12 13 14 15]]\n",
            "\n",
            "Only the first, third, and fifth columns\n"
          ]
        },
        {
          "output_type": "execute_result",
          "data": {
            "text/plain": [
              "array([[ 1,  3,  5],\n",
              "       [ 6,  8, 10],\n",
              "       [11, 13, 15]])"
            ]
          },
          "metadata": {},
          "execution_count": 138
        }
      ],
      "source": [
        "# print array again for convenient viewing\n",
        "print('Array:\\n', one_to_fifteen_array)\n",
        "\n",
        "print('\\nOnly the first, third, and fifth columns')\n",
        "one_to_fifteen_array[:, (0, 2, 4)]"
      ]
    },
    {
      "cell_type": "markdown",
      "metadata": {
        "id": "FT07IaI2Ir3t"
      },
      "source": [
        "# Exercises"
      ]
    },
    {
      "cell_type": "markdown",
      "metadata": {
        "id": "y7ITMLrQU8rg"
      },
      "source": [
        "**1A**: Create a 3 x 4 array called `even_3x4` that contains sequential even numbers from 2 to 24. You may simply write out array elements literally (2, 4, etc.). It should look like this when printed:\n",
        "\n",
        "```\n",
        "[[ 2  4  6  8]\n",
        " [10 12 14 16]\n",
        " [18 20 22 24]]\n",
        "```"
      ]
    },
    {
      "cell_type": "code",
      "execution_count": 154,
      "metadata": {
        "id": "aOM0gS6pUQzl",
        "outputId": "661f515e-1963-4e38-aaab-2c07ca6b74a6",
        "colab": {
          "base_uri": "https://localhost:8080/"
        }
      },
      "outputs": [
        {
          "output_type": "stream",
          "name": "stdout",
          "text": [
            "[[ 2  4  6  8]\n",
            " [10 12 14 16]\n",
            " [18 20 22 24]]\n"
          ]
        }
      ],
      "source": [
        "### write your code below ###\n",
        "list = [\n",
        "    [2, 4, 6, 8],\n",
        "    [10, 12, 14, 16],\n",
        "    [18, 20, 22, 24]\n",
        "]\n",
        "c=np.array(list)\n",
        "print(c)"
      ]
    },
    {
      "cell_type": "markdown",
      "metadata": {
        "id": "OYHY-JiyV18q"
      },
      "source": [
        "**1B**: Next, look at the [documentation](https://numpy.org/doc/stable/reference/arrays.ndarray.html#array-attributes) for array attributes.\n",
        "\n",
        "Which attribute will tell us about the number of bytes consumed by the elements in the array?"
      ]
    },
    {
      "cell_type": "code",
      "execution_count": 158,
      "metadata": {
        "id": "0J0WFn3PV-BX",
        "outputId": "3b9a5980-a338-4639-d848-756fd8336b70",
        "colab": {
          "base_uri": "https://localhost:8080/"
        }
      },
      "outputs": [
        {
          "output_type": "stream",
          "name": "stdout",
          "text": [
            "12 (3, 4) 2\n"
          ]
        }
      ],
      "source": [
        "# access the relevant attribute for even_3x4\n",
        "c.size\n",
        "c.shape\n",
        "c.ndim\n",
        "print(c.size, c.shape, c.ndim)\n",
        "### write your code below ###\n",
        "\n"
      ]
    },
    {
      "cell_type": "markdown",
      "metadata": {
        "id": "Kax_gILJqZUv"
      },
      "source": [
        "**1C**: Find the column-wise mean of each column in `even_3x4`. The [documentation](https://numpy.org/doc/stable/reference/arrays.ndarray.html#array-methods) for array methods might be helpful."
      ]
    },
    {
      "cell_type": "code",
      "execution_count": 180,
      "metadata": {
        "id": "FtEI_Jw6qgOt",
        "outputId": "b9634bc7-ec98-4de3-a86d-43145b2d42c4",
        "colab": {
          "base_uri": "https://localhost:8080/"
        }
      },
      "outputs": [
        {
          "output_type": "stream",
          "name": "stdout",
          "text": [
            "[10. 12. 14. 16.]\n",
            "[10. 12. 14. 16.]\n"
          ]
        }
      ],
      "source": [
        "### write your code below ###\n",
        "c.mean()\n",
        "print(c.mean(0))\n",
        "print(np.mean(c, axis =0))\n"
      ]
    },
    {
      "cell_type": "markdown",
      "metadata": {
        "id": "Zs479EAYJyd-"
      },
      "source": [
        "**2A-F**: A tremendouly important skill for a programmer (Python or other language) is to be comfortable with finding answers to common questions using documentations and other online resources. In this exercise, you will learn to use the Numpy documentation and your search engine to find a few utilities that Numpy provides. We're purposefully not telling you where in the documentation to look so that you find it yourself."
      ]
    },
    {
      "cell_type": "code",
      "execution_count": 221,
      "metadata": {
        "id": "A0Ldw-m-KpwS",
        "colab": {
          "base_uri": "https://localhost:8080/"
        },
        "outputId": "d444ef0a-530d-4b5f-b752-899e80afb875"
      },
      "outputs": [
        {
          "output_type": "stream",
          "name": "stdout",
          "text": [
            "[[0 0 0 0]\n",
            " [0 0 0 0]]\n",
            " result is :\n",
            " False\n",
            "[0 1 2 3 4]\n",
            "[[1 1 2 3]\n",
            " [2 3 1 3]]\n",
            "[[0 1 2 3]\n",
            " [2 4 1 3]]\n",
            "this is the result from where:\n",
            " [[1 1 2 3]\n",
            " [2 4 1 3]]\n",
            "this is the result from where:\n",
            " [[1 1 2 3]\n",
            " [2 3 1 3]]\n"
          ]
        },
        {
          "output_type": "execute_result",
          "data": {
            "text/plain": [
              "array([['Ahh', 'Dbb'],\n",
              "       ['FFFn', 'KKK']], dtype='<U4')"
            ]
          },
          "metadata": {},
          "execution_count": 221
        }
      ],
      "source": [
        "# a. create a 2x4 array filled with random numbers between 0 and 4 (included)\n",
        "\n",
        "### write your code below ###\n",
        "#ll = np.random.default.rng()\n",
        "#ll.random(size=(2,4))\n",
        "\n",
        "li = [\n",
        "    [0,1,2,3],\n",
        "    [2,4,1,3]\n",
        "]\n",
        "a = np.array(li)\n",
        "a\n",
        "# b. create an array like the one above (i.e. same shape) that is filled with zeros\n",
        "\n",
        "### write your code below ###\n",
        "\n",
        "xx = np.zeros((2,4), dtype=int)\n",
        "print(xx)\n",
        "n\n",
        "lii = [\n",
        "    [0,0,0,0],\n",
        "    [0,0,0,0]\n",
        "]\n",
        "b = np.array(lii)\n",
        "b\n",
        "\n",
        "# c. use numpy to answer the following question: are a and b element-wise equal?\n",
        "# Note: \"element-wise equal\" means all their elements are equal.\n",
        "\n",
        "### write your code below ###\n",
        "a.ndim\n",
        "b.ndim\n",
        "\n",
        "result = np.array_equal(a, b)\n",
        "print(' result is :\\n', result)\n",
        "\n",
        "# d. print a 1D array that contains the values in the 2D array below but with no duplicates\n",
        "\n",
        "\n",
        "### write your code below ###\n",
        "\n",
        "unique_values = np.unique(a)\n",
        "print(unique_values)\n",
        "\n",
        "# e. limit the values in the array from part a by constraining them to be in the interval [1,3]\n",
        "# (i.e. any value less than 1 is replaced with a 1 and any value greater than 3 is replaced with a 3)\n",
        "\n",
        "### write your code below ###\n",
        "clip = np.clip(a, 1, 3)\n",
        "print(clip)\n",
        "print(a)\n",
        "\n",
        "\n",
        "where1 = np.where(a < 1, 1, a)\n",
        "where2 = np.where(where1 > 3, 3, where1)\n",
        "print('this is the result from where:\\n', where1)\n",
        "print('this is the result from where:\\n', where2)\n",
        "# f. use numpy to revert the casing in the string array below (uppercase become lowercase and vice versa)\n",
        "q = [\n",
        "    ['Ahh', 'Dbb'],\n",
        "    ['FFFn', 'KKK']\n",
        "]\n",
        "xg = np.array(q)\n",
        "xg\n",
        "#ccc = np.char.swapcase(q)\n",
        "\n",
        "### write your code below ###\n"
      ]
    },
    {
      "cell_type": "markdown",
      "metadata": {
        "id": "qnCi1kTNOvw8"
      },
      "source": [
        "**Challenge**: Write a function called `off_diagonals()` that takes a square matrix and returns a list containing the off-diagonal elements of the matrix, **using the `np.eye()` function**. Run the test below with your function and make sure it passes.\n",
        "\n",
        "Terminology:\n",
        "- A square matrix is a matrix that has the same number of rows and columns.\n",
        "- The diagonal elements of a square matrix are the numbers that are on the \"diagonal\" of the square, e.g. `a[0,0]`, `a[1,1]`, and in general `a[i,i]` for i=0...number of columns.\n",
        "- The off-diagonal elements of a square matrix are all elements in the matrix that are *not* on the diagonal.\n",
        "\n",
        "💡 **Hints**:\n",
        "- What happens if you multiply the output of `np.eye()` with the square matrix?\n",
        "- You're actually going to want to use the \"opposite\" of `np.eye()`, i.e. a matrix that has 1's on the off-diagnoals. How can you get that? Notice that `1 - 0 = 1`, and `1 - 1 = 0` and remember array broadcasting rules.\n",
        "- You might want to use `np.nonzero()`."
      ]
    },
    {
      "cell_type": "code",
      "execution_count": 222,
      "metadata": {
        "id": "ntsUIEX4RxE2"
      },
      "outputs": [],
      "source": [
        "### write your code below ###\n",
        "\n",
        "\n",
        "\n",
        "\n"
      ]
    },
    {
      "cell_type": "code",
      "execution_count": 223,
      "metadata": {
        "id": "s0FS3-T6Ren2",
        "outputId": "dd3d1127-1ac6-4749-8020-d96ee3c93ca3",
        "colab": {
          "base_uri": "https://localhost:8080/",
          "height": 323
        }
      },
      "outputs": [
        {
          "output_type": "stream",
          "name": "stdout",
          "text": [
            "Test mat: \n",
            " [[ 1  2  5 12]\n",
            " [ 5  8 10  3]\n",
            " [15  2 21  4]\n",
            " [ 8  9 11  3]] \n",
            "\n"
          ]
        },
        {
          "output_type": "error",
          "ename": "NameError",
          "evalue": "name 'off_diagonals' is not defined",
          "traceback": [
            "\u001b[0;31m---------------------------------------------------------------------------\u001b[0m",
            "\u001b[0;31mNameError\u001b[0m                                 Traceback (most recent call last)",
            "\u001b[0;32m<ipython-input-223-f5828c0baa37>\u001b[0m in \u001b[0;36m<cell line: 9>\u001b[0;34m()\u001b[0m\n\u001b[1;32m      7\u001b[0m \u001b[0mprint\u001b[0m\u001b[0;34m(\u001b[0m\u001b[0;34m'Test mat: \\n'\u001b[0m\u001b[0;34m,\u001b[0m \u001b[0mtest_mat\u001b[0m\u001b[0;34m,\u001b[0m \u001b[0;34m'\\n'\u001b[0m\u001b[0;34m)\u001b[0m\u001b[0;34m\u001b[0m\u001b[0;34m\u001b[0m\u001b[0m\n\u001b[1;32m      8\u001b[0m \u001b[0;34m\u001b[0m\u001b[0m\n\u001b[0;32m----> 9\u001b[0;31m \u001b[0mprint\u001b[0m\u001b[0;34m(\u001b[0m\u001b[0;34m'Off diagonal entries: \\n'\u001b[0m\u001b[0;34m,\u001b[0m \u001b[0moff_diagonals\u001b[0m\u001b[0;34m(\u001b[0m\u001b[0mtest_mat\u001b[0m\u001b[0;34m)\u001b[0m\u001b[0;34m)\u001b[0m\u001b[0;34m\u001b[0m\u001b[0;34m\u001b[0m\u001b[0m\n\u001b[0m\u001b[1;32m     10\u001b[0m \u001b[0;34m\u001b[0m\u001b[0m\n\u001b[1;32m     11\u001b[0m \u001b[0;32massert\u001b[0m\u001b[0;34m(\u001b[0m\u001b[0moff_diagonals\u001b[0m\u001b[0;34m(\u001b[0m\u001b[0mtest_mat\u001b[0m\u001b[0;34m)\u001b[0m \u001b[0;34m==\u001b[0m \u001b[0;34m[\u001b[0m\u001b[0;36m2.0\u001b[0m\u001b[0;34m,\u001b[0m \u001b[0;36m5.0\u001b[0m\u001b[0;34m,\u001b[0m \u001b[0;36m12.0\u001b[0m\u001b[0;34m,\u001b[0m \u001b[0;36m5.0\u001b[0m\u001b[0;34m,\u001b[0m \u001b[0;36m10.0\u001b[0m\u001b[0;34m,\u001b[0m \u001b[0;36m3.0\u001b[0m\u001b[0;34m,\u001b[0m \u001b[0;36m15.0\u001b[0m\u001b[0;34m,\u001b[0m \u001b[0;36m2.0\u001b[0m\u001b[0;34m,\u001b[0m \u001b[0;36m4.0\u001b[0m\u001b[0;34m,\u001b[0m \u001b[0;36m8.0\u001b[0m\u001b[0;34m,\u001b[0m \u001b[0;36m9.0\u001b[0m\u001b[0;34m,\u001b[0m \u001b[0;36m11.0\u001b[0m\u001b[0;34m]\u001b[0m\u001b[0;34m)\u001b[0m\u001b[0;34m\u001b[0m\u001b[0;34m\u001b[0m\u001b[0m\n",
            "\u001b[0;31mNameError\u001b[0m: name 'off_diagonals' is not defined"
          ]
        }
      ],
      "source": [
        "# Execute this cell after having defined off_diagonals above and make sure it passes\n",
        "test_mat = np.array([[1, 2, 5, 12],\n",
        "                     [5, 8, 10, 3],\n",
        "                     [15, 2, 21, 4],\n",
        "                     [8, 9, 11, 3]])\n",
        "\n",
        "print('Test mat: \\n', test_mat, '\\n')\n",
        "\n",
        "print('Off diagonal entries: \\n', off_diagonals(test_mat))\n",
        "\n",
        "assert(off_diagonals(test_mat) == [2.0, 5.0, 12.0, 5.0, 10.0, 3.0, 15.0, 2.0, 4.0, 8.0, 9.0, 11.0])"
      ]
    },
    {
      "cell_type": "markdown",
      "metadata": {
        "id": "0U3MXmNEObOd"
      },
      "source": [
        "# [Optional] Challenge question (loops, dictionaries)\n",
        "\n",
        "This challenge question is representative of code that you would be able to write and deploy without using external packages like `numpy`. Give it a go and see if you can figure it out!\n",
        "\n",
        "*Challenge*: Write a function called `translate()` that takes in a RNA sequence as input and does the following:\n",
        "1. Given the input sequence, replaces all instances of `'T'` with '`U'`.\n",
        "2. Finds the index of the first instance of the `'AUG'` substring.\n",
        "3. Slices the sequence, starting from the `'AUG'` and continuing until the end of the sequence.\n",
        "4. Divides the sequence into triplets (three-letter substrings).\n",
        "5. Iterates over substrings to build a string of single-letter amino acid codes.\n",
        "  * If the substring is a triplet, identifies the amino acid for the corresponding triplet.\n",
        "6. Returns the amino acid string.\n",
        "\n",
        "For example: the sequence `'AAGACAUGGCACUGGAGCGCGGGGUCAGCAGCUACGCUUAA'` would return `'MALERGVSSYA_'`.\n",
        "\n",
        "> *Note*: The sample string that we provide will have only one start codon, and the ORF will end with a stop codon. We'll leave ORF discovery as an exercise for you to try on your own :)"
      ]
    },
    {
      "cell_type": "code",
      "execution_count": null,
      "metadata": {
        "id": "2o0sLPXpsWxX"
      },
      "outputs": [],
      "source": [
        "### edit the skeleton code below ###\n",
        "\n",
        "def translate(seq):\n",
        "    # we've created an amino acid dictionary for you already\n",
        "    amino_dict = {'AAA': 'K', 'AAC': 'N', 'AAG': 'K', 'AAU': 'N',\n",
        "           'ACA': 'T', 'ACC': 'T', 'ACG': 'T', 'ACU': 'T',\n",
        "           'AGA': 'R', 'AGC': 'S', 'AGG': 'R', 'AGU': 'S',\n",
        "           'AUA': 'I', 'AUC': 'I', 'AUG': 'M', 'AUU': 'I',\n",
        "           'CAA': 'Q', 'CAC': 'H', 'CAG': 'Q', 'CAU': 'H',\n",
        "           'CCA': 'P', 'CCC': 'P', 'CCG': 'P', 'CCU': 'P',\n",
        "           'CGA': 'R', 'CGC': 'R', 'CGG': 'R', 'CGU': 'R',\n",
        "           'CUA': 'L', 'CUC': 'L', 'CUG': 'L', 'CUU': 'L',\n",
        "           'GAA': 'E', 'GAC': 'D', 'GAG': 'E', 'GAU': 'D',\n",
        "           'GCA': 'A', 'GCC': 'A', 'GCG': 'A', 'GCU': 'A',\n",
        "           'GGA': 'G', 'GGC': 'G', 'GGG': 'G', 'GGU': 'G',\n",
        "           'GUA': 'V', 'GUC': 'V', 'GUG': 'V', 'GUU': 'V',\n",
        "           'UAA': '_', 'UAC': 'Y', 'UAG': '_', 'UAU': 'Y',\n",
        "           'UCA': 'S', 'UCC': 'S', 'UCG': 'S', 'UCU': 'S',\n",
        "           'UGA': '_', 'UGC': 'C', 'UGG': 'W', 'UGU': 'C',\n",
        "           'UUA': 'L', 'UUC': 'F', 'UUG': 'L', 'UUU': 'F'}\n",
        "\n",
        "  ### write your code below ###\n"
      ]
    },
    {
      "cell_type": "code",
      "execution_count": null,
      "metadata": {
        "id": "5pdoRyosOjJO"
      },
      "outputs": [],
      "source": [
        "# try it out with translation_seq when you're done\n",
        "translation_seq = 'AACGTCAATGTATCACGCGACTAGCCTCTGCTTAATTTTTGTGCTCAAGGGTTTTGGTCCGCCCGAGCGGTGCAGCCGATTAGGACCATGTAATACATTTGTTACAAGACTTCTTTTAAACACTTAG'\n",
        "\n",
        "print(translate(translation_seq))\n",
        "print(translate(\"AAGACAUGGCACUGGAGCGCGGGGUCAGCAGCUACGCUUAA\"))"
      ]
    },
    {
      "cell_type": "markdown",
      "metadata": {
        "id": "1zD7ln5LFpRY"
      },
      "source": [
        "# [Optional] Function scope\n",
        "\n",
        "Scope is an important programming principle, but we've found that discussing it can be more of a hindrance than a help to people who are new to Python. Covering this section is up to the lecturer's discretion, and we may refer you to this section if you have trouble with the following problems:\n",
        "\n",
        "1. Trying to call variables that only exist within a function.\n",
        "2. Using redundant variable names within functions and outside of functions (and then doing #1).\n",
        "___\n",
        "\n",
        "So far, we've been using fairly descriptive variable names, and we've tried to avoid reusing them in functions. However, there will likely come a time when you tire of imagining new variable names and you begin to recycle them. In these cases, you'll want to be mindful of what your functions can access and/or modify. This is referred to as the **scope** of a function.\n",
        "\n",
        "When Python is running our code, it moves in and out of different **environments**. By default, Python starts in what we call the *global* environment, and when executing functions, moves into a *local* environment (local to the function, that is.)"
      ]
    },
    {
      "cell_type": "code",
      "execution_count": null,
      "metadata": {
        "id": "oDPadsUMn9Y5"
      },
      "outputs": [],
      "source": [
        "# everything below is instantiated in the global environment\n",
        "\n",
        "dog_breeds = ['shiba inu', 'corgi', 'pug']\n",
        "dog_counts = [6, 2, 3]\n",
        "dog_record = dict(zip(dog_breeds, dog_counts))"
      ]
    },
    {
      "cell_type": "markdown",
      "metadata": {
        "id": "Iar6JAEWujOs"
      },
      "source": [
        "We've instantiated (programming for created) three variables here: `dog_breeds`, `dog_counts`, and `dog_record`. These variables exist in the global environment.\n",
        "\n",
        "Now, let's create a function that reuses variable names that already exist in the global environment."
      ]
    },
    {
      "cell_type": "code",
      "execution_count": null,
      "metadata": {
        "id": "45I8mugNpKFE"
      },
      "outputs": [],
      "source": [
        "def doggy_daycare(breeds, counts):\n",
        "    dog_breeds = breeds\n",
        "    dog_counts = counts\n",
        "    dog_record = dict(zip(breeds, counts))\n",
        "\n",
        "    return dog_record"
      ]
    },
    {
      "cell_type": "markdown",
      "metadata": {
        "id": "g5kHufSQ27Kv"
      },
      "source": [
        "When run, `doggy_daycare()` creates variables named `dog_breeds`, `dog_counts`, and `dog_record`. How will these local variables interact with their identically named global counterparts?"
      ]
    },
    {
      "cell_type": "code",
      "execution_count": null,
      "metadata": {
        "id": "ALSzvMlF23Gs"
      },
      "outputs": [],
      "source": [
        "print('Global dog_record:', dog_record)\n",
        "print('dog_record, local to doggy_daycare:', doggy_daycare(['german shepherd', 'husky'], [3, 2]))\n",
        "print('Global dog_record is unchanged:', dog_record)"
      ]
    },
    {
      "cell_type": "markdown",
      "metadata": {
        "id": "S3Z7QZdJpfZl"
      },
      "source": [
        "As you can see, it turns out that they don't interact much at all. Let's walk through why:\n",
        "\n",
        "To start, we have to understand that Python references environments in a hierarchical fashion.\n",
        "\n",
        "<img src='https://github.com/ccbskillssem/pythonbootcamp/raw/main/day_2/global_enclosed_local.png'></img>\n",
        "\n",
        "When trying to execute functions, Python will start with the most specific environment first, then go up to more general environments to find what it needs.\n",
        "\n",
        "Here's how it works, step by step:\n",
        "1. Python starts in the global environment by default.\n",
        "2. Python needs to run a function: in this case, `doggy_daycare()`. This function references several different named variables.\n",
        "3. Python will start by searching the local environment to see if it can find the variable that it needs to execute the function.\n",
        "<br>**If the variable is found, Python goes on and executes the function and we skip Steps 4-6.**\n",
        "\n",
        "4. If this variable is not found, then Python moves up to the next environment.\n",
        "  - If the function happens to be nested inside another function, Python checks the local environment of the enclosing function, called the *enclosed* environment.\n",
        "  - If the function is not enclosed or Python doesn't find what it needs, Python then checks the global environment.\n",
        "5. If Python doesn't find what it needs in the global environment, it does one final check of the *built-in* environment, where all of Python's built in variables and functions exist.\n",
        "6. If Python really doesn't find what you're asking for in any environment, it throws an error.\n",
        "\n",
        "For `doggy_daycare()`, we specifically created variables named `dog_breeds`, `dog_counts`, and `dog_record` inside the function's local environment. Thus, when Python searched for those variables while running `doggy_daycare()`, it found the local variables first, in accordance with the hierarchical search. Since Python found what it needed, it continued on with executing the function.\n",
        "\n",
        "Now, that covers how Python starts from the local environment and progressively searches the outer environments: what about starting from the outer global environment and trying to look into the local? It turns out that the arrows in the figure are one-way for a reason."
      ]
    },
    {
      "cell_type": "code",
      "execution_count": null,
      "metadata": {
        "id": "sAvWw5M6rywN"
      },
      "outputs": [],
      "source": [
        "def daycare_report():\n",
        "    daycare_greeting = \"Have a paw-some day!\"\n",
        "    print(\"We have\", sum(dog_counts), \"dogs today.\")\n",
        "    print(daycare_greeting)\n",
        "\n",
        "daycare_report()\n",
        "print(daycare_greeting)"
      ]
    },
    {
      "cell_type": "markdown",
      "metadata": {
        "id": "npoIN28430tc"
      },
      "source": [
        "If Python is sitting in the global environment, it *cannot access* anything inside a function's local environment. It's a bit like a one-way mirror: inside `daycare_report()`, Python can \"see\" `dog_counts` and use it to execute `daycare_report()`. However, once Python returns to the global environment after executing the function, it can no longer \"see\" `daycare_greeting`, because it only exists inside the local environment.\n",
        "\n",
        "This is the very same reason why the `dog_breeds`, `dog_counts`, and `dog_record` inside `doggy_daycare()` don't change `dog_breeds`, `dog_counts`, `dog_record` in the global environment: What happens inside `doggy_daycare()` stays inside `doggy_daycare()`: if we want to bring anything \"outside\" of the function, we need to return and save it!\n",
        "\n",
        "This is a tough topic, so we encourage you to use the [Python Code Visualizer](http://www.pythontutor.com/visualize.html) to run the following code block and visualize how Python searches different environments.\n",
        "\n",
        "```\n",
        "dog_breeds = ['shiba inu', 'corgi', 'pug']\n",
        "dog_counts = [6, 2, 3]\n",
        "dog_record = dict(zip(dog_breeds, dog_counts))\n",
        "\n",
        "def doggy_daycare(breeds, counts):\n",
        "  dog_breeds = breeds\n",
        "  dog_counts = counts\n",
        "  dog_record = dict(zip(breeds, counts))\n",
        "\n",
        "  return dog_record\n",
        "\n",
        "print(doggy_daycare(['german shepherd', 'husky'], [3, 2]))\n",
        "print(dog_record)\n",
        "```"
      ]
    }
  ],
  "metadata": {
    "colab": {
      "provenance": [],
      "include_colab_link": true
    },
    "kernelspec": {
      "display_name": "Python 3",
      "name": "python3"
    },
    "language_info": {
      "name": "python"
    }
  },
  "nbformat": 4,
  "nbformat_minor": 0
}