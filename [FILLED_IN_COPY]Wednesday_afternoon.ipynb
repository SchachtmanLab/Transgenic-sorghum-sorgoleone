{
  "cells": [
    {
      "cell_type": "markdown",
      "metadata": {
        "id": "view-in-github",
        "colab_type": "text"
      },
      "source": [
        "<a href=\"https://colab.research.google.com/github/SchachtmanLab/Transgenic-sorghum-sorgoleone/blob/master/%5BFILLED_IN_COPY%5DWednesday_afternoon.ipynb\" target=\"_parent\"><img src=\"https://colab.research.google.com/assets/colab-badge.svg\" alt=\"Open In Colab\"/></a>"
      ]
    },
    {
      "cell_type": "markdown",
      "metadata": {
        "id": "vS2tF7uXaJJM"
      },
      "source": [
        "# More about data exploration\n",
        "\n",
        "Now that we have our data imported and cleaned, we can move on to summarizing and otherwise examining our data. Again, **do not try to memorize everything, you have access to a cheat sheet!**\n",
        "\n",
        "<font color = '#ed865c' size = 4>**Make sure to press the play button to run the cell below: this will re-load the datasets and functions that we worked on during the last section.**</font>"
      ]
    },
    {
      "cell_type": "code",
      "execution_count": null,
      "metadata": {
        "cellView": "form",
        "id": "h4c4RG3hVMNl",
        "colab": {
          "base_uri": "https://localhost:8080/"
        },
        "outputId": "0085f20d-4767-4f32-faff-39623a1f620b"
      },
      "outputs": [
        {
          "output_type": "stream",
          "name": "stdout",
          "text": [
            "Cloning into 'pythonbootcamp'...\n",
            "remote: Enumerating objects: 298, done.\u001b[K\n",
            "remote: Counting objects: 100% (200/200), done.\u001b[K\n",
            "remote: Compressing objects: 100% (163/163), done.\u001b[K\n",
            "remote: Total 298 (delta 113), reused 82 (delta 37), pack-reused 98 (from 1)\u001b[K\n",
            "Receiving objects: 100% (298/298), 95.57 MiB | 8.01 MiB/s, done.\n",
            "Resolving deltas: 100% (141/141), done.\n",
            "Updating files: 100% (50/50), done.\n"
          ]
        }
      ],
      "source": [
        "#@title\n",
        "# we hid the contents of this cell because there's a lot going on in here\n",
        "# you can re-hide this cell by clicking on View -> Show/hide code\n",
        "\n",
        "!git clone https://github.com/ccbskillssem/pythonbootcamp.git\n",
        "import numpy as np\n",
        "\n",
        "### load and clean datasets ###\n",
        "animals2 = np.genfromtxt('/content/pythonbootcamp/day_3/Animals2.csv',\n",
        "              delimiter=',')\n",
        "animals2 = animals2[:, ~np.isnan(animals2).all(axis = 0)][~np.isnan(animals2).all(axis = 1), :]\n",
        "airquality = np.genfromtxt('/content/pythonbootcamp/day_3/airquality.csv',\n",
        "              delimiter=',')\n",
        "airquality = airquality[:, ~np.isnan(airquality).all(axis = 0)][~np.isnan(airquality).all(axis = 1), :]\n",
        "nan_inds = np.where(np.isnan(airquality))\n",
        "airquality[nan_inds] = np.take(np.nanmean(airquality, axis = 0), nan_inds[1])\n",
        "\n",
        "### load in sample solution for clean_data() ###\n",
        "def clean_data(data_array):\n",
        "  nan_map = np.isnan(data_array)\n",
        "\n",
        "  data_array = data_array[:, ~nan_map.all(axis = 0)]\n",
        "  data_array = data_array[~nan_map.all(axis = 1), :]\n",
        "  return data_array"
      ]
    },
    {
      "cell_type": "markdown",
      "metadata": {
        "id": "Nsz1KLq_URBP"
      },
      "source": [
        "## Examining attributes\n",
        "\n",
        "<font color = '#ed865c' size = 4>**Make sure to run the cell above before you begin: this will re-load the datasets and functions that we worked on during the last section.**</font>\n",
        "\n",
        "As we discussed yesterday, arrays have *attributes* that describe key characteristics of the array at hand. Let's take a look at the attributes of the `animals2` array, just to make sure that we have the right number of columns and rows."
      ]
    },
    {
      "cell_type": "code",
      "execution_count": null,
      "metadata": {
        "id": "Ngf-3XiJayyE",
        "colab": {
          "base_uri": "https://localhost:8080/"
        },
        "outputId": "6b017bbb-8639-4c62-a817-5fa4f519c12a"
      },
      "outputs": [
        {
          "output_type": "stream",
          "name": "stdout",
          "text": [
            "(65, 2)\n",
            "130\n",
            "2\n"
          ]
        }
      ],
      "source": [
        "print(animals2.shape)\n",
        "print(animals2.size)\n",
        "print(animals2.ndim)"
      ]
    },
    {
      "cell_type": "markdown",
      "metadata": {
        "id": "4Qbt9mtA8BtS"
      },
      "source": [
        "Everything looks to be in order: based on the background information about `animals2`, we know that there should be 65 rows (species) and two columns.\n",
        "\n",
        "## Heads and tails\n",
        "\n",
        "One good place to start is by simply examining the content of the data. As we saw earlier, calling `animals2` directly results in the entire dataset being shown in the output. However, it can be visually difficult to parse all 65 rows at once: in most cases, slicing a small number of rows will suffice for examining the data."
      ]
    },
    {
      "cell_type": "code",
      "execution_count": null,
      "metadata": {
        "id": "zYaK4vqtKGuJ",
        "colab": {
          "base_uri": "https://localhost:8080/"
        },
        "outputId": "1b345754-c32a-40ab-91ad-775ce052cc62"
      },
      "outputs": [
        {
          "output_type": "execute_result",
          "data": {
            "text/plain": [
              "array([[1.350e+00, 8.100e+00],\n",
              "       [4.650e+02, 4.230e+02],\n",
              "       [3.633e+01, 1.195e+02],\n",
              "       [2.766e+01, 1.150e+02],\n",
              "       [1.040e+00, 5.500e+00],\n",
              "       [1.170e+04, 5.000e+01],\n",
              "       [2.547e+03, 4.603e+03],\n",
              "       [1.871e+02, 4.190e+02],\n",
              "       [5.210e+02, 6.550e+02],\n",
              "       [1.000e+01, 1.150e+02]])"
            ]
          },
          "metadata": {},
          "execution_count": 8
        }
      ],
      "source": [
        "# let's slice the first ten rows of animals2\n",
        "animals2[:10, :]\n"
      ]
    },
    {
      "cell_type": "markdown",
      "metadata": {
        "id": "He8JF9kRJphI"
      },
      "source": [
        "Good! This is a simple way for us to inspect a small, ordered section of the data: one row after another, for ten rows. This is described as viewing the **head** of our dataset.\n",
        "\n",
        "Similarly, taking a small number of rows from the end of your dataset is described as viewing the **tail** of the data."
      ]
    },
    {
      "cell_type": "code",
      "execution_count": null,
      "metadata": {
        "id": "QYj6D49USD2k",
        "colab": {
          "base_uri": "https://localhost:8080/"
        },
        "outputId": "6f27bf2d-b343-4781-9263-97538bcad147"
      },
      "outputs": [
        {
          "output_type": "execute_result",
          "data": {
            "text/plain": [
              "array([[4.288e+00, 3.920e+01],\n",
              "       [7.500e-02, 1.200e+00],\n",
              "       [4.800e-02, 3.300e-01],\n",
              "       [3.000e+00, 2.500e+01],\n",
              "       [1.600e+02, 1.690e+02],\n",
              "       [9.000e-01, 2.600e+00],\n",
              "       [1.620e+00, 1.140e+01],\n",
              "       [1.040e-01, 2.500e+00],\n",
              "       [4.235e+00, 5.040e+01]])"
            ]
          },
          "metadata": {},
          "execution_count": 12
        }
      ],
      "source": [
        "# try it out:\n",
        "# slice the *last* 10 rows of animals2\n",
        "animals2[-9:,:]"
      ]
    },
    {
      "cell_type": "markdown",
      "metadata": {
        "id": "JEkqoZE5DzYa"
      },
      "source": [
        "## Summarizing values\n",
        "\n",
        "Finally, we can generate some simple summary values. We've already taught you the following functions/methods that describe summary values of an array:\n",
        "* `np.min()` / `.min()`\n",
        "* `np.max()` / `.max()`\n",
        "* `np.mean()` / `.mean()`\n",
        "* `np.std()` / `.std()`\n",
        "* `np.var()` / `.var()`\n",
        "* `np.median()` (no method equivalent, for reasons unknown to us...)\n",
        "\n",
        "It's important to keep in mind that these summary functions/methods need a specific axis parameter to guide their operation: a row-wise mean will be different than a column-wise mean.\n",
        "\n",
        "* `0` indicates a column-wise operation.\n",
        "* `1` indicates a row-wise operation."
      ]
    },
    {
      "cell_type": "code",
      "execution_count": null,
      "metadata": {
        "id": "1cGCSry7kYBY",
        "colab": {
          "base_uri": "https://localhost:8080/"
        },
        "outputId": "0d2188f4-a6cb-4d0c-971d-1e5fa2ae3161"
      },
      "outputs": [
        {
          "output_type": "execute_result",
          "data": {
            "text/plain": [
              "array([1852.69198462,  274.28953846])"
            ]
          },
          "metadata": {},
          "execution_count": 13
        }
      ],
      "source": [
        "# try it out:\n",
        "# calculate the column-wise means of animals2\n",
        "animals2.mean(axis=0)"
      ]
    },
    {
      "cell_type": "markdown",
      "metadata": {
        "id": "TmY-LHPsCJXF"
      },
      "source": [
        "These last four functions are slightly more advanced in their scope. We've summarized their main inputs and functions, but they do offer additional options that may be useful to you in the future. You can view these options in the docs.\n",
        "* `np.unique()`: Takes an array and returns a sorted copy of unique values. [[docs]](https://numpy.org/doc/stable/reference/generated/numpy.unique.html)\n",
        "* `np.histogram()`: Takes an array of values and returns a tuple of two arrays: the first array describes bin count, and the second array gives left-hand bin boundaries. [[docs]](https://numpy.org/doc/stable/reference/generated/numpy.histogram.html)\n",
        "  * You can explicitly specify desired bin boundaries using the `bins` input.\n",
        "* `np.percentile()`: Takes in an array and a percentile value (float, `0.0`-`100.0`), returning the value of the array that demarcates the given percentile value. [[docs]](https://numpy.org/doc/stable/reference/generated/numpy.percentile.html)\n",
        "* `np.quantile()`: Takes in an array and a quantile value (float, `0.0`-`1.0`), returning the value of the array that demarcates the given quantile value. [[docs]](https://numpy.org/doc/stable/reference/generated/numpy.quantile.html)\n",
        "\n",
        "We'll show you how these work using the `airquality` dataset. We've provided the columns again for your convenience:\n",
        "\n",
        "| Index  | Description                   |\n",
        "|--------|-------------------------------|\n",
        "| 0      | Ozone (ppb)                   |\n",
        "| 1      | Solar radiation (Langeleys)   |\n",
        "| 2      | Wind (mph)                    |\n",
        "| 3      | Temperature (degrees F)       |\n",
        "| 4      | Month (`1`-`12`)              |\n",
        "| 5      | Day of month (`1`-`31`)       |"
      ]
    },
    {
      "cell_type": "code",
      "source": [
        "a = np.array([1,2,1])\n",
        "np.unique(a)"
      ],
      "metadata": {
        "colab": {
          "base_uri": "https://localhost:8080/"
        },
        "id": "XyuxSkEJ65Ip",
        "outputId": "a6b07638-538e-4af5-b7da-8e07b60abe92"
      },
      "execution_count": null,
      "outputs": [
        {
          "output_type": "execute_result",
          "data": {
            "text/plain": [
              "array([1, 2])"
            ]
          },
          "metadata": {},
          "execution_count": 15
        }
      ]
    },
    {
      "cell_type": "code",
      "execution_count": null,
      "metadata": {
        "id": "iVPF3JWbCEFW",
        "colab": {
          "base_uri": "https://localhost:8080/"
        },
        "outputId": "a42ccdb4-8903-4e30-93bd-3f5d601a8bf1"
      },
      "outputs": [
        {
          "output_type": "execute_result",
          "data": {
            "text/plain": [
              "(array([ 8,  8, 13, 10, 22, 24, 29, 20, 12,  7]),\n",
              " array([56. , 60.1, 64.2, 68.3, 72.4, 76.5, 80.6, 84.7, 88.8, 92.9, 97. ]))"
            ]
          },
          "metadata": {},
          "execution_count": 18
        }
      ],
      "source": [
        "# using np.histogram() to generate bin count and intervals for\n",
        "# temperature values in airquality\n",
        "\n",
        "np.histogram(airquality[:, 3])"
      ]
    },
    {
      "cell_type": "code",
      "execution_count": null,
      "metadata": {
        "id": "NaFk0jARDheh"
      },
      "outputs": [],
      "source": [
        "# creating bins from the minimum temp to the maximum temp in 5 degree intervals\n",
        "\n",
        "min_temp = airquality[:, 3].min()\n",
        "max_temp = airquality[:, 3].max()\n",
        "\n",
        "temp_bins = np.arange(min_temp, max_temp + 5, 5)\n"
      ]
    },
    {
      "cell_type": "code",
      "execution_count": null,
      "metadata": {
        "id": "fNi5WU8sF3Sj",
        "colab": {
          "base_uri": "https://localhost:8080/"
        },
        "outputId": "38685366-e6e3-4993-8a30-dcc23c782347"
      },
      "outputs": [
        {
          "output_type": "execute_result",
          "data": {
            "text/plain": [
              "(array([ 8, 10, 15, 19, 33, 34, 20, 12,  2]),\n",
              " array([ 56.,  61.,  66.,  71.,  76.,  81.,  86.,  91.,  96., 101.]))"
            ]
          },
          "metadata": {},
          "execution_count": 27
        }
      ],
      "source": [
        "# specifying temp_bins in np.histogram()\n",
        "\n",
        "np.histogram(airquality[:, 3], bins=temp_bins)"
      ]
    },
    {
      "cell_type": "markdown",
      "metadata": {
        "id": "laeHXxpC9AV6"
      },
      "source": [
        "## Very, very simple plots\n",
        "\n",
        "Plots can be a useful tool in data exploration: sometimes it's easier to identify patterns in data once it's been visualized.\n",
        "\n",
        "Today, we'll introduce you to some very simple plotting functions that you can use to explore your data. We'll use a popular package called `matplotlib`, which contains a collection of useful MATLAB-like plotting functions (`pyplot`)."
      ]
    },
    {
      "cell_type": "code",
      "execution_count": null,
      "metadata": {
        "id": "ptPVqnP68_mT"
      },
      "outputs": [],
      "source": [
        "import matplotlib.pyplot as plt # the alias is plt"
      ]
    },
    {
      "cell_type": "markdown",
      "metadata": {
        "id": "mq_RLdzK97mk"
      },
      "source": [
        "For today's purposes, we'll only introduce you to three simple `pyplot` functions and their key functionality.\n",
        "* `plt.hist()`: Takes in an array of values to generate a basic histogram plot.\n",
        "  * Can be used to visualize the distribution of values in a single column.\n",
        "  * You can explicitly specify desired bin boundaries using the `bins` input.\n",
        "* `plt.scatter()`: Takes in two arrays of values and generates a scatter plot.\n",
        "  * Can be used to visualize the relationship between values in two columns.\n",
        "* `plt.violinplot()`: Takes in a 2D array of values and plots a series of \"violins\".\n",
        "  * Can be used to visualize the distribution of values in *multiple* columns."
      ]
    },
    {
      "cell_type": "code",
      "execution_count": null,
      "metadata": {
        "id": "26vlWUV6vmfd",
        "colab": {
          "base_uri": "https://localhost:8080/",
          "height": 500
        },
        "outputId": "40c1953e-ef3b-4a89-a1e1-7c73ade5947b"
      },
      "outputs": [
        {
          "output_type": "execute_result",
          "data": {
            "text/plain": [
              "(array([ 8.,  8., 13., 10., 22., 24., 29., 20., 12.,  7.]),\n",
              " array([56. , 60.1, 64.2, 68.3, 72.4, 76.5, 80.6, 84.7, 88.8, 92.9, 97. ]),\n",
              " <BarContainer object of 10 artists>)"
            ]
          },
          "metadata": {},
          "execution_count": 30
        },
        {
          "output_type": "display_data",
          "data": {
            "text/plain": [
              "<Figure size 640x480 with 1 Axes>"
            ],
            "image/png": "[encoded data removed]"
          },
          "metadata": {}
        }
      ],
      "source": [
        "# creating a histogram of temperatures\n",
        "plt.hist(airquality[:, 3])"
      ]
    },
    {
      "cell_type": "code",
      "execution_count": null,
      "metadata": {
        "id": "l3Nn8B7XAOpK",
        "colab": {
          "base_uri": "https://localhost:8080/",
          "height": 500
        },
        "outputId": "e545d2af-a462-41c7-e6c8-ec588cff0081"
      },
      "outputs": [
        {
          "output_type": "execute_result",
          "data": {
            "text/plain": [
              "(array([ 8., 10., 15., 19., 33., 34., 20., 12.,  2.]),\n",
              " array([ 56.,  61.,  66.,  71.,  76.,  81.,  86.,  91.,  96., 101.]),\n",
              " <BarContainer object of 9 artists>)"
            ]
          },
          "metadata": {},
          "execution_count": 31
        },
        {
          "output_type": "display_data",
          "data": {
            "text/plain": [
              "<Figure size 640x480 with 1 Axes>"
            ],
            "image/png": "[encoded data removed]"
          },
          "metadata": {}
        }
      ],
      "source": [
        "# creating a histogram of temperatures using temp_bins\n",
        "plt.hist(airquality[:, 3], bins=temp_bins)"
      ]
    },
    {
      "cell_type": "code",
      "execution_count": null,
      "metadata": {
        "id": "pv2YA4iDIVBz",
        "colab": {
          "base_uri": "https://localhost:8080/",
          "height": 466
        },
        "outputId": "242b0528-f749-4029-ff61-9bf5dcf3479e"
      },
      "outputs": [
        {
          "output_type": "execute_result",
          "data": {
            "text/plain": [
              "<matplotlib.collections.PathCollection at 0x7ccce2170850>"
            ]
          },
          "metadata": {},
          "execution_count": 32
        },
        {
          "output_type": "display_data",
          "data": {
            "text/plain": [
              "<Figure size 640x480 with 1 Axes>"
            ],
            "image/png": "[encoded data removed]"
          },
          "metadata": {}
        }
      ],
      "source": [
        "# visualizing temperature ranges by month\n",
        "\n",
        "plt.scatter(airquality[:, 4], airquality[:, 3])"
      ]
    },
    {
      "cell_type": "code",
      "execution_count": null,
      "metadata": {
        "id": "6fyUfpgnQxrl",
        "colab": {
          "base_uri": "https://localhost:8080/",
          "height": 604
        },
        "outputId": "378cd16f-e3ad-4488-f7ad-6d9aaa5cd389"
      },
      "outputs": [
        {
          "output_type": "execute_result",
          "data": {
            "text/plain": [
              "{'bodies': [<matplotlib.collections.FillBetweenPolyCollection at 0x7ccce204cd90>,\n",
              "  <matplotlib.collections.FillBetweenPolyCollection at 0x7ccce204fc90>,\n",
              "  <matplotlib.collections.FillBetweenPolyCollection at 0x7ccce1be6610>,\n",
              "  <matplotlib.collections.FillBetweenPolyCollection at 0x7ccce19c7810>,\n",
              "  <matplotlib.collections.FillBetweenPolyCollection at 0x7ccce1a39350>,\n",
              "  <matplotlib.collections.FillBetweenPolyCollection at 0x7ccce199f810>],\n",
              " 'cmaxes': <matplotlib.collections.LineCollection at 0x7ccce1acf0d0>,\n",
              " 'cmins': <matplotlib.collections.LineCollection at 0x7ccce211f410>,\n",
              " 'cbars': <matplotlib.collections.LineCollection at 0x7ccce1accf10>}"
            ]
          },
          "metadata": {},
          "execution_count": 33
        },
        {
          "output_type": "display_data",
          "data": {
            "text/plain": [
              "<Figure size 640x480 with 1 Axes>"
            ],
            "image/png": "[encoded data removed]"
          },
          "metadata": {}
        }
      ],
      "source": [
        "# visualize the distribution of values in all the columns.\n",
        "plt.violinplot(airquality)\n"
      ]
    },
    {
      "cell_type": "markdown",
      "metadata": {
        "id": "n0goybhJLCBt"
      },
      "source": [
        "As you can see, these plots are quite rudimentary, but they get the job done for data exploration. We'll explore greater `pyplot` functionality on Friday."
      ]
    },
    {
      "cell_type": "markdown",
      "metadata": {
        "id": "FXknmaKG1F-i"
      },
      "source": [
        "# Mini-project: Exploring health data\n",
        "\n",
        "That's the last of the `numpy` techniques that we'll cover in this bootcamp!\n",
        "\n",
        "To cap things off, we're going to embark on a mini-project that will require you to use the skills you've learned so far. We've provided two project options:\n",
        "\n",
        "1. `badhealth`, a dataset describing healthcare habits of individuals and their self-reported health status. (Recommended)\n",
        "2. `hepatocellular`, a dataset from a journal article exploring gene expression biomarkers in cancer prognosis.\n",
        "\n",
        "We recommend that you start with `badhealth` and work on `hepatocellular` if you have extra time.\n"
      ]
    },
    {
      "cell_type": "markdown",
      "metadata": {
        "id": "nDHjEB7nPbIA"
      },
      "source": [
        "## `badhealth` dataset\n",
        "\n",
        "Our first dataset is the `badhealth` dataset. This dataset originates from a 1998 German health study of 1,127 individuals and their healthcare habits. [[source]](https://vincentarelbundock.github.io/Rdatasets/doc/COUNT/badhealth.html)\n",
        "\n",
        "Here are the descriptions and indices of columns in `badhealth`.\n",
        "\n",
        "| Index  | Description                   |\n",
        "|--------|-------------------------------|\n",
        "| 0      | Recorded # of doctor visits   |\n",
        "| 1      | Reported health status:<br>`0`: health, `1`: bad health   |\n",
        "| 2      | Age of patient (years)        |\n",
        "\n",
        "Using the following file path, import the `badhealth` dataset to a variable (also called `badhealth`). Slice and print the first 10 rows of the dataset.\n",
        "\n",
        "```\n",
        "'/content/pythonbootcamp/day_3/badhealth.csv'\n",
        "```"
      ]
    },
    {
      "cell_type": "code",
      "execution_count": null,
      "metadata": {
        "id": "0dDq4-QpPqtO",
        "colab": {
          "base_uri": "https://localhost:8080/"
        },
        "outputId": "4a062b61-84f4-4672-88ae-3e7ce45ba608"
      },
      "outputs": [
        {
          "output_type": "execute_result",
          "data": {
            "text/plain": [
              "array([[nan, nan, nan, nan],\n",
              "       [nan, 30.,  0., 58.],\n",
              "       [nan, 20.,  0., 54.],\n",
              "       [nan, 16.,  0., 44.],\n",
              "       [nan, 20.,  0., 57.],\n",
              "       [nan, 15.,  0., 33.],\n",
              "       [nan, 15.,  0., 28.],\n",
              "       [nan, 13.,  0., 37.],\n",
              "       [nan, 15.,  0., 31.],\n",
              "       [nan, 15.,  0., 30.]])"
            ]
          },
          "metadata": {},
          "execution_count": 34
        }
      ],
      "source": [
        "### use this cell to import and view the head of the data ###\n",
        "badhealth = np.genfromtxt('/content/pythonbootcamp/day_3/badhealth.csv', delimiter = \",\")\n",
        "badhealth[:10,:]"
      ]
    },
    {
      "cell_type": "markdown",
      "metadata": {
        "id": "MNB_U2mkPTbC"
      },
      "source": [
        "Next, use `clean_data()` to clean `badhealth`. There shouldn't be any interspersed `nan` values, but make sure to check anyway to practice your `nan`-detection routine!"
      ]
    },
    {
      "cell_type": "code",
      "execution_count": null,
      "metadata": {
        "id": "Dhi8pa5SPoVT",
        "colab": {
          "base_uri": "https://localhost:8080/"
        },
        "outputId": "ccf62422-1b71-4d05-b9a3-db1bc2e16a65"
      },
      "outputs": [
        {
          "output_type": "execute_result",
          "data": {
            "text/plain": [
              "0"
            ]
          },
          "metadata": {},
          "execution_count": 38
        }
      ],
      "source": [
        "### write your code below ###\n",
        "\n",
        "# Clean data\n",
        "badhealth_clean = clean_data(badhealth)\n",
        "\n",
        "# Check for na values\n",
        "np.isnan(badhealth_clean).sum()"
      ]
    },
    {
      "cell_type": "markdown",
      "metadata": {
        "id": "pXf0uY36MuSB"
      },
      "source": [
        "Let's consider some of the key summary values that we might want to identify in our dataset, such as mean and median values.\n",
        "\n",
        "Write a function called `summary_values()` that takes an array and returns a dictionary containing:\n",
        "* The number of elements in the array, with the key value `'count'`.\n",
        "* Column-wise minimum values, with the key value `'mins'`\n",
        "* Column-wise maximum values, with the key value `'maxs'`\n",
        "* Column-wise means, with the key value `'means'`\n",
        "* Column-wise medians, with the key value `'medians'`\n",
        "* Column-wise standard deviations, with the key value `'stdevs'`"
      ]
    },
    {
      "cell_type": "code",
      "execution_count": null,
      "metadata": {
        "id": "3opBMcq1SfWZ"
      },
      "outputs": [],
      "source": [
        "### write your code below ###\n",
        "\n",
        "def summary_values(input_array):\n",
        "  summary_dict = {}\n",
        "\n",
        "  summary_dict['count'] = input_array.size\n",
        "  summary_dict['mins'] = input_array.min(axis=0)\n",
        "  summary_dict['maxs'] = input_array.max(axis=0)\n",
        "  summary_dict['means'] = input_array.mean(axis=0)\n",
        "  summary_dict['median'] = np.median(input_array, axis=0)\n",
        "  summary_dict['stdevs'] = input_array.std(axis=0)\n",
        "\n",
        "  return summary_dict\n"
      ]
    },
    {
      "cell_type": "markdown",
      "metadata": {
        "id": "rFUxkBPrM1lD"
      },
      "source": [
        "Next, using `summary_values()`, find the specified summaries of all columns in `badhealth`."
      ]
    },
    {
      "cell_type": "code",
      "execution_count": null,
      "metadata": {
        "id": "78jwq6vjdVUM",
        "colab": {
          "base_uri": "https://localhost:8080/"
        },
        "outputId": "bdc26ebc-70a8-4e4b-de18-5f8529e673db"
      },
      "outputs": [
        {
          "output_type": "execute_result",
          "data": {
            "text/plain": [
              "{'count': 3381,\n",
              " 'mins': array([ 0.,  0., 20.]),\n",
              " 'maxs': array([40.,  1., 60.]),\n",
              " 'means': array([ 2.35314996,  0.09937888, 37.22892635]),\n",
              " 'median': array([ 1.,  0., 35.]),\n",
              " 'stdevs': array([ 3.45992988,  0.29917005, 10.82411358])}"
            ]
          },
          "metadata": {},
          "execution_count": 48
        }
      ],
      "source": [
        "### write your code below ###\n",
        "summary_values(badhealth_clean)"
      ]
    },
    {
      "cell_type": "markdown",
      "metadata": {
        "id": "zzU_ljjUdZG1"
      },
      "source": [
        "Good! Let's try out more of the techniques we learned about earlier, such as percentiles and histograms.\n",
        "\n",
        "Below, use `np.histogram()` to generate a histogram of individual ages in `badhealth` using 5 year-intervals from the min to max age (inclusive of max age). Assign the intervals to a variable called `age_bins`."
      ]
    },
    {
      "cell_type": "code",
      "execution_count": null,
      "metadata": {
        "id": "P9CYu9hF-uU7",
        "colab": {
          "base_uri": "https://localhost:8080/"
        },
        "outputId": "25e4e346-c2d3-429b-e88c-e51c57a0bbdc"
      },
      "outputs": [
        {
          "output_type": "execute_result",
          "data": {
            "text/plain": [
              "(array([124, 226, 196, 122, 132, 130, 105,  92]),\n",
              " array([20., 25., 30., 35., 40., 45., 50., 55., 60.]))"
            ]
          },
          "metadata": {},
          "execution_count": 56
        }
      ],
      "source": [
        "### write your code below ###\n",
        "min_age = badhealth_clean[:,2].min()\n",
        "max_age = badhealth_clean[:,2].max()\n",
        "\n",
        "age_bins = np.arange(min_age, max_age+5, 5)\n",
        "\n",
        "np.histogram(badhealth_clean[:, 2], bins=age_bins)"
      ]
    },
    {
      "cell_type": "code",
      "source": [
        "max_age"
      ],
      "metadata": {
        "colab": {
          "base_uri": "https://localhost:8080/"
        },
        "id": "UV-dXPhoJxrS",
        "outputId": "7a6db5a4-a896-4df2-ff33-5a263e6e06ca"
      },
      "execution_count": null,
      "outputs": [
        {
          "output_type": "execute_result",
          "data": {
            "text/plain": [
              "60.0"
            ]
          },
          "metadata": {},
          "execution_count": 54
        }
      ]
    },
    {
      "cell_type": "markdown",
      "metadata": {
        "id": "pgrxQjJvewgw"
      },
      "source": [
        "When you're done, try using `plt.hist()` to plot the histogram of ages, defined by `age_bins`: they should yield the same values as `np.histogram()`."
      ]
    },
    {
      "cell_type": "code",
      "execution_count": null,
      "metadata": {
        "id": "EAkZtblfe5JI",
        "colab": {
          "base_uri": "https://localhost:8080/",
          "height": 486
        },
        "outputId": "627db0cb-b2dd-4284-9221-9e28585ea7d0"
      },
      "outputs": [
        {
          "output_type": "execute_result",
          "data": {
            "text/plain": [
              "Text(0.5, 0, 'Age')"
            ]
          },
          "metadata": {},
          "execution_count": 59
        },
        {
          "output_type": "display_data",
          "data": {
            "text/plain": [
              "<Figure size 640x480 with 1 Axes>"
            ],
            "image/png": "[encoded data removed]"
          },
          "metadata": {}
        }
      ],
      "source": [
        "### write your code below ###\n",
        "plt.hist(badhealth_clean[:, 2], bins=age_bins)\n",
        "plt.xlabel(\"Age\")\n"
      ]
    },
    {
      "cell_type": "markdown",
      "metadata": {
        "id": "6zgndnmoG0iA"
      },
      "source": [
        "Repeat the above process to generate the histogram and histogram plot of individuals' doctor visits. Save the 5-visit interval bins to a new variable called `visit_bins`."
      ]
    },
    {
      "cell_type": "code",
      "execution_count": null,
      "metadata": {
        "id": "RS12Ds3kHJV8",
        "colab": {
          "base_uri": "https://localhost:8080/"
        },
        "outputId": "105ec24c-e5e9-40b2-cace-4ef4ecf09566"
      },
      "outputs": [
        {
          "output_type": "execute_result",
          "data": {
            "text/plain": [
              "(array([962, 111,  33,  12,   6,   0,   2,   1]),\n",
              " array([ 0.,  5., 10., 15., 20., 25., 30., 35., 40.]))"
            ]
          },
          "metadata": {},
          "execution_count": 64
        }
      ],
      "source": [
        "### write your code below ###\n",
        "visit_min = badhealth_clean[:, 0].min()\n",
        "visit_max = badhealth_clean[:, 0].max()\n",
        "\n",
        "visit_bins = np.arange(visit_min, visit_max + 5, 5)\n",
        "\n",
        "np.histogram(badhealth_clean[:, 0], bins=visit_bins)\n"
      ]
    },
    {
      "cell_type": "code",
      "source": [
        "plt.hist(badhealth_clean[:, 0], bins=visit_bins)\n",
        "plt.xlabel(\"Visits\")"
      ],
      "metadata": {
        "colab": {
          "base_uri": "https://localhost:8080/",
          "height": 488
        },
        "id": "hhCSE32PLBlY",
        "outputId": "87fc9dd4-ec01-4019-d90b-8f6ad80a6b78"
      },
      "execution_count": null,
      "outputs": [
        {
          "output_type": "execute_result",
          "data": {
            "text/plain": [
              "Text(0.5, 0, 'Visits')"
            ]
          },
          "metadata": {},
          "execution_count": 66
        },
        {
          "output_type": "display_data",
          "data": {
            "text/plain": [
              "<Figure size 640x480 with 1 Axes>"
            ],
            "image/png": "[encoded data removed]"
          },
          "metadata": {}
        }
      ]
    },
    {
      "cell_type": "markdown",
      "metadata": {
        "id": "ba1l7wEOdOgd"
      },
      "source": [
        "What percentile range corresponds to 30 or more visits? Try out different values with `np.percentile()` to find out."
      ]
    },
    {
      "cell_type": "code",
      "execution_count": null,
      "metadata": {
        "id": "qgGdRLT38mzV",
        "colab": {
          "base_uri": "https://localhost:8080/"
        },
        "outputId": "1648f2dc-08f3-48dd-e2b7-5abaeb8ad913"
      },
      "outputs": [
        {
          "output_type": "execute_result",
          "data": {
            "text/plain": [
              "30.0"
            ]
          },
          "metadata": {},
          "execution_count": 70
        }
      ],
      "source": [
        "### write your code below ###\n",
        "np.percentile(badhealth_clean[:, 0], 99.9)"
      ]
    },
    {
      "cell_type": "markdown",
      "metadata": {
        "id": "zJmmUHXVIEY4"
      },
      "source": [
        "Is there a difference in the age distribution of individuals who *never* visit the doctor, versus individuals who *frequently* visit the doctor?\n",
        "\n",
        "1.   `never_visit` for never-visiting individuals, or individuals with zero visits.\n",
        "2.   `frequent_visit` for frequently-visiting individuals, or individuals who visit more than 95% of other people (95+ percentile)\n",
        "\n"
      ]
    },
    {
      "cell_type": "code",
      "source": [
        "badhealth_clean"
      ],
      "metadata": {
        "colab": {
          "base_uri": "https://localhost:8080/"
        },
        "id": "5Wyskae-RDsa",
        "outputId": "9d4c98dc-fa05-4f8f-9deb-017edeee0133"
      },
      "execution_count": null,
      "outputs": [
        {
          "output_type": "execute_result",
          "data": {
            "text/plain": [
              "array([[30.,  0., 58.],\n",
              "       [20.,  0., 54.],\n",
              "       [16.,  0., 44.],\n",
              "       ...,\n",
              "       [ 0.,  1., 46.],\n",
              "       [ 0.,  1., 60.],\n",
              "       [ 0.,  1., 50.]])"
            ]
          },
          "metadata": {},
          "execution_count": 74
        }
      ]
    },
    {
      "cell_type": "code",
      "execution_count": null,
      "metadata": {
        "id": "252OAIvbIfVk"
      },
      "outputs": [],
      "source": [
        "### write your code below ###\n",
        "\n",
        "never_visit_mask = badhealth_clean[:, 0] == 0\n",
        "never_visit = badhealth_clean[never_visit_mask, :]\n",
        "\n",
        "freq_visit_mask = badhealth_clean[:, 0] > np.percentile(badhealth_clean[:, 0], 95)\n",
        "frequent_visit = badhealth_clean[freq_visit_mask, :]"
      ]
    },
    {
      "cell_type": "markdown",
      "metadata": {
        "id": "yxSGQilQNo0K"
      },
      "source": [
        "Use `summary_values()` to examine the ages of each group. How many individuals are in each group? Does there seem to be a difference in the average/median age?"
      ]
    },
    {
      "cell_type": "code",
      "execution_count": null,
      "metadata": {
        "id": "sKZOYlBhNpem",
        "colab": {
          "base_uri": "https://localhost:8080/"
        },
        "outputId": "1c6ac764-758e-4ac8-b6c0-3dc660570d66"
      },
      "outputs": [
        {
          "output_type": "execute_result",
          "data": {
            "text/plain": [
              "{'count': 171,\n",
              " 'mins': array([ 9.,  0., 22.]),\n",
              " 'maxs': array([40.,  1., 60.]),\n",
              " 'means': array([13.85964912,  0.50877193, 44.19298246]),\n",
              " 'median': array([12.,  1., 45.]),\n",
              " 'stdevs': array([ 5.69837957,  0.49992305, 10.24170798])}"
            ]
          },
          "metadata": {},
          "execution_count": 86
        }
      ],
      "source": [
        "### write your code below ###\n",
        "summary_values(frequent_visit)"
      ]
    },
    {
      "cell_type": "code",
      "source": [
        "summary_values(never_visit)"
      ],
      "metadata": {
        "colab": {
          "base_uri": "https://localhost:8080/"
        },
        "id": "zN9YZPURSZFI",
        "outputId": "3a71eeaf-554c-411c-ad8d-6aa7a92ea738"
      },
      "execution_count": null,
      "outputs": [
        {
          "output_type": "execute_result",
          "data": {
            "text/plain": [
              "{'count': 1080,\n",
              " 'mins': array([ 0.,  0., 20.]),\n",
              " 'maxs': array([ 0.,  1., 60.]),\n",
              " 'means': array([ 0.        ,  0.04166667, 37.45      ]),\n",
              " 'median': array([ 0.,  0., 37.]),\n",
              " 'stdevs': array([ 0.        ,  0.19982631, 10.59233213])}"
            ]
          },
          "metadata": {},
          "execution_count": 87
        }
      ]
    },
    {
      "cell_type": "markdown",
      "metadata": {
        "id": "EulZFWUbdJud"
      },
      "source": [
        "Finally, plot age histograms for both groups using `age_bins`."
      ]
    },
    {
      "cell_type": "code",
      "execution_count": null,
      "metadata": {
        "id": "IZoFDJOG_5qJ",
        "colab": {
          "base_uri": "https://localhost:8080/",
          "height": 500
        },
        "outputId": "30c0390e-d612-48f3-ed85-6769c3f3d8d4"
      },
      "outputs": [
        {
          "output_type": "execute_result",
          "data": {
            "text/plain": [
              "(array([ 1.,  4.,  9.,  3., 11.,  7., 10., 12.]),\n",
              " array([20., 25., 30., 35., 40., 45., 50., 55., 60.]),\n",
              " <BarContainer object of 8 artists>)"
            ]
          },
          "metadata": {},
          "execution_count": 89
        },
        {
          "output_type": "display_data",
          "data": {
            "text/plain": [
              "<Figure size 640x480 with 1 Axes>"
            ],
            "image/png": "[encoded data removed]"
          },
          "metadata": {}
        }
      ],
      "source": [
        "### write your code below ###\n",
        "plt.hist(frequent_visit[:,2], bins=age_bins)\n"
      ]
    },
    {
      "cell_type": "code",
      "source": [
        "plt.hist(never_visit[:,2], bins=age_bins)"
      ],
      "metadata": {
        "colab": {
          "base_uri": "https://localhost:8080/",
          "height": 500
        },
        "id": "Q1m_EkXAS28K",
        "outputId": "b8bb01a3-37fb-4f6c-b9c0-5e2624a56923"
      },
      "execution_count": null,
      "outputs": [
        {
          "output_type": "execute_result",
          "data": {
            "text/plain": [
              "(array([39., 72., 49., 43., 45., 53., 38., 21.]),\n",
              " array([20., 25., 30., 35., 40., 45., 50., 55., 60.]),\n",
              " <BarContainer object of 8 artists>)"
            ]
          },
          "metadata": {},
          "execution_count": 90
        },
        {
          "output_type": "display_data",
          "data": {
            "text/plain": [
              "<Figure size 640x480 with 1 Axes>"
            ],
            "image/png": "[encoded data removed]"
          },
          "metadata": {}
        }
      ]
    },
    {
      "cell_type": "code",
      "source": [
        "# Optional: Put these both on the same plot\n",
        "plt.hist(never_visit[:,2], bins=age_bins, label=\"Never visit\")\n",
        "plt.hist(frequent_visit[:,2], bins=age_bins, label=\"Frequent visit\")\n",
        "\n",
        "plt.legend()"
      ],
      "metadata": {
        "id": "sujJYsA7nGkF",
        "colab": {
          "base_uri": "https://localhost:8080/",
          "height": 466
        },
        "outputId": "22407d9d-9b16-42d7-d567-645fd48e0e9b"
      },
      "execution_count": null,
      "outputs": [
        {
          "output_type": "execute_result",
          "data": {
            "text/plain": [
              "<matplotlib.legend.Legend at 0x7ccce2083d10>"
            ]
          },
          "metadata": {},
          "execution_count": 96
        },
        {
          "output_type": "display_data",
          "data": {
            "text/plain": [
              "<Figure size 640x480 with 1 Axes>"
            ],
            "image/png": "[encoded data removed]"
          },
          "metadata": {}
        }
      ]
    },
    {
      "cell_type": "markdown",
      "metadata": {
        "id": "E4g4_fm8PZub"
      },
      "source": [
        "Are there other explorations you can think of, or better ways to plot the relationship between variables? If time permits, share your own useful explorations or visualizations!"
      ]
    },
    {
      "cell_type": "markdown",
      "metadata": {
        "id": "Q-uWZVMGgrEs"
      },
      "source": [
        "## `hepatocellular` dataset\n",
        "\n",
        "The `hepatocellular` dataset describes clinical metrics and biomarkers sampled in patients with hepatocellular carcinoma.\n",
        "\n",
        "> This dataset was obtained from this [source](https://vincentarelbundock.github.io/Rdatasets/doc/asaur/hepatoCellular.html), and originates from [Li et al. 2014: CXCL17 Expression Predicts Poor Prognosis and Correlates with Adverse Immune Infiltration in Hepatocellular Carcinoma](https://journals.plos.org/plosone/article?id=10.1371/journal.pone.0110064).\n",
        "\n",
        "`hepatocellular` contains significantly more columns than `badhealth`, spanning 48 variables for 227 individuals.\n",
        "\n",
        "Columns are listed in the following order: we've provided the 0-index of all columns for your convenience. All column values are encoded numerically.\n",
        "\n",
        "| Index   |      Description     | Index   |        Description       |  Index  |      Description      |  Index   |      Description    |\n",
        "| ------- | ---------------------| ------- | -------------------------| ------- | ----------------------| -------- | --------------------|\n",
        "| 0       | Patient ID number    | 12      | Capsulation              | 24      | CD8T                  | 36       | CD20NR              |\n",
        "| 1       | Age                  | 13      | TNM                      | 25      | CD8N                  | 37       | CD57NR              |\n",
        "| 2       | Sex                  | 14      | BCLC                     | 26      | CD20T                 | 38       | CD15NR              |\n",
        "| 3       | HBsAg                | 15      | Overall survival         | 27      | CD20N                 | 39       | CD68NR              |\n",
        "| 4       | Cirrhosis status     | 16      | Death                    | 28      | CD57T                 | 40       | CD4TR               |\n",
        "| 5       | ALT                  | 17      | Recurrence-free survival | 29      | CD57N                 | 41       | CD8TR               |\n",
        "| 6       | AST                  | 18      | Recurrence               | 30      | CD15T                 | 42       | CD20TR              |\n",
        "| 7       | AFP                  | 19      | CXCL17T                  | 31      | CD15N                 | 43       | CD57TR              |\n",
        "| 8       | Tumor size           | 20      | CXCL17P                  | 32      | CD68T                 | 44       | CD15TR              |\n",
        "| 9       | Tumor differentiation| 21      | CXCL17N                  | 33      | CD68N                 | 45       | CD68TR              |\n",
        "| 10      | Vascular invasion    | 22      | CD4T                     | 34      | CD4NR                 | 46       | Ki67                |\n",
        "| 11      | Tumor multiplicity   | 23      | CD4N                     | 35      | CD8NR                 | 47       | CD34                |\n",
        "\n",
        "That's a lot of columns, but have no fear – we're only going to have you take a look at a couple of them, and you don't need to know what the biological function of the biomarkers are (but we won't stop you from looking them up!)\n",
        "\n",
        "Just as before, start by importing the data from the following file path, then cleaning all-`nan` rows/columns using `clean_data()`.\n",
        "\n",
        "`'/content/pythonbootcamp/day_3/hepatoCellular.csv'`\n",
        "\n",
        "Assign this to a variable called `hepatocellular`."
      ]
    },
    {
      "cell_type": "code",
      "execution_count": null,
      "metadata": {
        "id": "ufksqFn-hCyv"
      },
      "outputs": [],
      "source": [
        "### use this cell to import and clean the data ###\n",
        "hepatocellular = np.genfromtxt('/content/pythonbootcamp/day_3/hepatoCellular.csv', delimiter = \",\")\n",
        "hepatocellular = clean_data(hepatocellular)"
      ]
    },
    {
      "cell_type": "code",
      "source": [
        "hepatocellular[:10, :10]"
      ],
      "metadata": {
        "colab": {
          "base_uri": "https://localhost:8080/"
        },
        "id": "huADfzwmWUHQ",
        "outputId": "b1e941bc-0263-4f84-97bb-f3a2024318ae"
      },
      "execution_count": null,
      "outputs": [
        {
          "output_type": "execute_result",
          "data": {
            "text/plain": [
              "array([[ 1., 57.,  0.,  1.,  1.,  1.,  2.,  2.,  2.,  1.],\n",
              "       [ 2., 58.,  1.,  0.,  0.,  1.,  1.,  2.,  1.,  1.],\n",
              "       [ 3., 65.,  1.,  0.,  0.,  1.,  1.,  2.,  2.,  2.],\n",
              "       [ 4., 54.,  1.,  1.,  0.,  2.,  1.,  2.,  2.,  2.],\n",
              "       [ 5., 71.,  1.,  1.,  0.,  2.,  2.,  2.,  2.,  2.],\n",
              "       [ 6., 32.,  1.,  0.,  0.,  2.,  2.,  2.,  2.,  2.],\n",
              "       [ 7., 79.,  1.,  0.,  0.,  2.,  1.,  2.,  2.,  1.],\n",
              "       [ 8., 27.,  0.,  1.,  0.,  1.,  2.,  2.,  2.,  2.],\n",
              "       [ 9., 55.,  1.,  1.,  0.,  2.,  2.,  2.,  2.,  2.],\n",
              "       [10., 35.,  1.,  1.,  0.,  2.,  2.,  1.,  2.,  1.]])"
            ]
          },
          "metadata": {},
          "execution_count": 99
        }
      ]
    },
    {
      "cell_type": "markdown",
      "metadata": {
        "id": "jLMUcoJbTLct"
      },
      "source": [
        "Check for remaining `nan` values by column. Which columns still have `nan` values?"
      ]
    },
    {
      "cell_type": "code",
      "execution_count": null,
      "metadata": {
        "id": "e7HrYPAhTAi_",
        "colab": {
          "base_uri": "https://localhost:8080/"
        },
        "outputId": "d2b321df-6d8c-4f2b-fef7-277e0e9500ea"
      },
      "outputs": [
        {
          "output_type": "execute_result",
          "data": {
            "text/plain": [
              "array([False, False, False, False, False, False, False, False, False,\n",
              "       False, False, False, False, False, False, False, False, False,\n",
              "       False, False, False, False,  True,  True,  True,  True,  True,\n",
              "        True,  True,  True,  True,  True,  True,  True,  True,  True,\n",
              "        True,  True,  True,  True,  True,  True,  True,  True,  True,\n",
              "        True,  True,  True])"
            ]
          },
          "metadata": {},
          "execution_count": 101
        }
      ],
      "source": [
        "### write your code below ###\n",
        "np.isnan(hepatocellular).any(axis=0)"
      ]
    },
    {
      "cell_type": "markdown",
      "metadata": {
        "id": "_JwVI8cEbSa4"
      },
      "source": [
        "For our purposes, we'll only be examining columns without `nan` values. The `hepatocellular` dataset has data for three measurements of `CXCL17` gene expression:\n",
        "* `CXCL17T`, Index 19: Intratumoral gene expression (measured within tumoral tissue).\n",
        "* `CXCL17P`, Index 20: Peritumoral gene expression (measured adjacent to tumoral tissue).\n",
        "* `CXCL17N`, Index 21: Non-tumoral gene expression.\n",
        "\n",
        "Recall the simple `pyplot` functions we taught you about earlier: which one is suitable for visualizing all three measurements of *CXCL17* expression? Use this function to visualize gene expression across all three measurements for all patients in `hepatocellular`."
      ]
    },
    {
      "cell_type": "code",
      "execution_count": null,
      "metadata": {
        "id": "YQBpiQX_b5fm",
        "colab": {
          "base_uri": "https://localhost:8080/",
          "height": 549
        },
        "outputId": "c4893a03-ecfc-4858-8bf8-81699cbb9e36"
      },
      "outputs": [
        {
          "output_type": "execute_result",
          "data": {
            "text/plain": [
              "{'bodies': [<matplotlib.collections.FillBetweenPolyCollection at 0x7cccdf0672d0>,\n",
              "  <matplotlib.collections.FillBetweenPolyCollection at 0x7cccdf1052d0>,\n",
              "  <matplotlib.collections.FillBetweenPolyCollection at 0x7cccdf06d910>],\n",
              " 'cmaxes': <matplotlib.collections.LineCollection at 0x7cccdf394650>,\n",
              " 'cmins': <matplotlib.collections.LineCollection at 0x7cccdf3c7550>,\n",
              " 'cbars': <matplotlib.collections.LineCollection at 0x7cccdf06fe10>}"
            ]
          },
          "metadata": {},
          "execution_count": 105
        },
        {
          "output_type": "display_data",
          "data": {
            "text/plain": [
              "<Figure size 640x480 with 1 Axes>"
            ],
            "image/png": "[encoded data removed]"
          },
          "metadata": {}
        }
      ],
      "source": [
        "### write your code below ###\n",
        "\n",
        "plt.violinplot(hepatocellular[:, 19:22])"
      ]
    },
    {
      "cell_type": "markdown",
      "metadata": {
        "id": "SaGOjdBadIHL"
      },
      "source": [
        "Take a moment to examine the range and distribution of each measurement: what does the spread of the values look like?\n",
        "\n",
        "In the paper discussion, the authors posit that high peritumoral and intratumoral *CXCL17* expression is predictive of carcinoma prognosis. Let's see if we can see the same trend, using very basic data exploration.\n",
        "\n",
        "* Find the median values for peritumoral and intratumoral *CXCL17* expression.\n",
        "* Create two new subsets: `low_exp`, for patients with below-median expression for both peri- and intratumoral expression, and `high_exp`, for patients with above-median expression."
      ]
    },
    {
      "cell_type": "code",
      "execution_count": null,
      "metadata": {
        "id": "dsGOa0e-dom1",
        "colab": {
          "base_uri": "https://localhost:8080/"
        },
        "outputId": "1f5a6c7e-eae3-4c62-b657-a5de76e7d465"
      },
      "outputs": [
        {
          "output_type": "stream",
          "name": "stdout",
          "text": [
            "Peri median is 46.4396978\n",
            "Intra median is 20.71263825\n"
          ]
        }
      ],
      "source": [
        "### write your code below ###\n",
        "\n",
        "# Find the median\n",
        "\n",
        "peri_median = np.median(hepatocellular[:, 20])\n",
        "print(\"Peri median is\", peri_median)\n",
        "\n",
        "intra_median = np.median(hepatocellular[:, 19])\n",
        "print(\"Intra median is\", intra_median)\n",
        "\n",
        "# Filter for lower than both medians\n",
        "peri_mask = hepatocellular[:, 20] < peri_median\n",
        "low_exp = hepatocellular[peri_mask, :]\n",
        "\n",
        "intra_mask = low_exp[:, 19] < intra_median\n",
        "low_exp = low_exp[intra_mask, :]\n",
        "\n",
        "combined_mask = (hepatocellular[:, 20] < peri_median) & (hepatocellular[:, 19] < intra_median)\n",
        "low_exp = hepatocellular[combined_mask, :]\n",
        "\n",
        "# Filter for greater than both medians\n",
        "\n",
        "combined_high_mask = (hepatocellular[:, 20] > peri_median) & (hepatocellular[:, 19] > intra_median)\n",
        "high_exp = hepatocellular[combined_high_mask, :]\n"
      ]
    },
    {
      "cell_type": "markdown",
      "metadata": {
        "id": "P5OlqSl9e_MF"
      },
      "source": [
        "Next, re-examine the distribution of all three *CXCL17T* measurements: this time, create one plot for `low_exp` and `high_exp`. Do you notice any trends or associations?"
      ]
    },
    {
      "cell_type": "code",
      "execution_count": null,
      "metadata": {
        "id": "v2rYXTrvewTH",
        "colab": {
          "base_uri": "https://localhost:8080/",
          "height": 549
        },
        "outputId": "52a824b6-5631-4267-9167-99c37b2d3f63"
      },
      "outputs": [
        {
          "output_type": "execute_result",
          "data": {
            "text/plain": [
              "{'bodies': [<matplotlib.collections.FillBetweenPolyCollection at 0x7cccdeedbad0>,\n",
              "  <matplotlib.collections.FillBetweenPolyCollection at 0x7cccded38410>,\n",
              "  <matplotlib.collections.FillBetweenPolyCollection at 0x7cccded39cd0>],\n",
              " 'cmaxes': <matplotlib.collections.LineCollection at 0x7cccdefc64d0>,\n",
              " 'cmins': <matplotlib.collections.LineCollection at 0x7cccdf412c50>,\n",
              " 'cbars': <matplotlib.collections.LineCollection at 0x7cccdf412650>}"
            ]
          },
          "metadata": {},
          "execution_count": 123
        },
        {
          "output_type": "display_data",
          "data": {
            "text/plain": [
              "<Figure size 640x480 with 1 Axes>"
            ],
            "image/png": "[encoded data removed]"
          },
          "metadata": {}
        }
      ],
      "source": [
        "### write your code below ###\n",
        "plt.violinplot(low_exp[:,19:22])"
      ]
    },
    {
      "cell_type": "code",
      "execution_count": null,
      "metadata": {
        "id": "hucGeVUde0nz",
        "colab": {
          "base_uri": "https://localhost:8080/",
          "height": 549
        },
        "outputId": "95424c47-00b8-40fa-9c72-b07bc57bd42b"
      },
      "outputs": [
        {
          "output_type": "execute_result",
          "data": {
            "text/plain": [
              "{'bodies': [<matplotlib.collections.FillBetweenPolyCollection at 0x7cccdef37f90>,\n",
              "  <matplotlib.collections.FillBetweenPolyCollection at 0x7cccdef41890>,\n",
              "  <matplotlib.collections.FillBetweenPolyCollection at 0x7cccdef43890>],\n",
              " 'cmaxes': <matplotlib.collections.LineCollection at 0x7cccdef43590>,\n",
              " 'cmins': <matplotlib.collections.LineCollection at 0x7cccdef427d0>,\n",
              " 'cbars': <matplotlib.collections.LineCollection at 0x7cccdf413d90>}"
            ]
          },
          "metadata": {},
          "execution_count": 124
        },
        {
          "output_type": "display_data",
          "data": {
            "text/plain": [
              "<Figure size 640x480 with 1 Axes>"
            ],
            "image/png": "[encoded data removed]"
          },
          "metadata": {}
        }
      ],
      "source": [
        "### write your code below ###\n",
        "plt.violinplot(high_exp[:,19:22])"
      ]
    },
    {
      "cell_type": "markdown",
      "metadata": {
        "id": "T85sdpvbfZWy"
      },
      "source": [
        "Next, let's look at patient prognosis. There are several measures of patient outcomes in the dataset, but we'll focus on just two: patient death (Index 16) and recurrence-free survival (Index 17).\n",
        "\n",
        "As we mentioned earlier, all of the columns in `hepatocellular` are numeric. Patient death is encoded as either a `0` or a `1`.\n",
        "* `0` indicates that the patient did not die.\n",
        "* `1` indicates patient death.\n",
        "\n",
        "Below, calculate the relative proportion of patients that died in `low_exp` and `high_exp`."
      ]
    },
    {
      "cell_type": "code",
      "execution_count": null,
      "metadata": {
        "id": "CY_6IiCXfw_b",
        "colab": {
          "base_uri": "https://localhost:8080/"
        },
        "outputId": "7e2fc813-c86f-476e-a8a5-340febc2b61b"
      },
      "outputs": [
        {
          "output_type": "stream",
          "name": "stdout",
          "text": [
            "Low exp: 0.3058823529411765\n",
            "High exp: 0.5411764705882353\n"
          ]
        }
      ],
      "source": [
        "### write your code below ###\n",
        "\n",
        "print(\"Low exp:\", low_exp[:, 16].mean())\n",
        "print(\"High exp:\", high_exp[:, 16].mean())"
      ]
    },
    {
      "cell_type": "markdown",
      "metadata": {
        "id": "cUVx8iuel3U6"
      },
      "source": [
        "Next, let's examine recurrence-free survival. The clinical definition of recurrence-free survival is the number of days between the dates of sample biopsy and cancer recurrence, or the date from sample biopsy to last follow-up if no recurrence was observed.\n",
        "\n",
        "Below, calculate the summary values and plot the distribution of recurrence-free survival intervals for patients in both groups *on the same histogram plot*."
      ]
    },
    {
      "cell_type": "code",
      "execution_count": null,
      "metadata": {
        "id": "owwj9R9Xm1Go",
        "colab": {
          "base_uri": "https://localhost:8080/"
        },
        "outputId": "8594a8ec-de5f-4c28-8621-10c729f82f9a"
      },
      "outputs": [
        {
          "output_type": "execute_result",
          "data": {
            "text/plain": [
              "{'count': 85,\n",
              " 'mins': 1.0,\n",
              " 'maxs': 76.0,\n",
              " 'means': 30.03529411764706,\n",
              " 'median': 29.0,\n",
              " 'stdevs': 22.3214205002457}"
            ]
          },
          "metadata": {},
          "execution_count": 131
        }
      ],
      "source": [
        "### write your code below ###\n",
        "summary_values(low_exp[:, 17])"
      ]
    },
    {
      "cell_type": "code",
      "source": [
        "summary_values(high_exp[:, 17])"
      ],
      "metadata": {
        "colab": {
          "base_uri": "https://localhost:8080/"
        },
        "id": "uKw4MnbhkP4L",
        "outputId": "cb40d0f0-4541-4af0-8f3b-1e0c2e050783"
      },
      "execution_count": null,
      "outputs": [
        {
          "output_type": "execute_result",
          "data": {
            "text/plain": [
              "{'count': 85,\n",
              " 'mins': 1.0,\n",
              " 'maxs': 81.0,\n",
              " 'means': 20.129411764705882,\n",
              " 'median': 11.0,\n",
              " 'stdevs': 22.006837565947077}"
            ]
          },
          "metadata": {},
          "execution_count": 132
        }
      ]
    },
    {
      "cell_type": "code",
      "execution_count": null,
      "metadata": {
        "id": "nRr_mxLCkRwy",
        "colab": {
          "base_uri": "https://localhost:8080/",
          "height": 466
        },
        "outputId": "e86082c6-bd78-402b-8d9d-cc795938016e"
      },
      "outputs": [
        {
          "output_type": "execute_result",
          "data": {
            "text/plain": [
              "<matplotlib.legend.Legend at 0x7cccdf482890>"
            ]
          },
          "metadata": {},
          "execution_count": 135
        },
        {
          "output_type": "display_data",
          "data": {
            "text/plain": [
              "<Figure size 640x480 with 1 Axes>"
            ],
            "image/png": "[encoded data removed]"
          },
          "metadata": {}
        }
      ],
      "source": [
        "# plot the distribution here\n",
        "### write your code below ###\n",
        "\n",
        "# hint: you can plot *two* histogram distributions on the same plot\n",
        "# if you provide a list of arrays\n",
        "\n",
        "plt.hist([low_exp[:, 17], high_exp[:, 17]], label=[\"low expression\", \"high expression\"])\n",
        "plt.legend()"
      ]
    },
    {
      "cell_type": "markdown",
      "metadata": {
        "id": "Pd0ye54bn4Ci"
      },
      "source": [
        "That's it for `hepatocellular`! If you've finished early, you can review the paper manuscript and work on executing some more explorations according to the author's findings. If time permits, we'll ask people to share their results.\n",
        "\n"
      ]
    },
    {
      "cell_type": "markdown",
      "metadata": {
        "id": "ge7GlvSYA43O"
      },
      "source": [
        "# Introduction to Pandas\n",
        "\n",
        "That's about it for today! We hope that you enjoyed putting your skills to the test.\n",
        "\n",
        "Tomorrow, we'll embark on our last full day of lecture content that will discuss data exploration and preliminary analysis. We'll be working with a package called `pandas`, which is a package that extends the array infrastructure provided by `numpy`.\n",
        "\n",
        "> *Another package already?!* 😱<br>\n",
        "Have no fear: all of the conceptual material we covered with `numpy` arrays is transferable to `pandas`. In fact, `pandas` takes care of many of the techniques that were fairly clunky for us to perform with `numpy`, and most people find `pandas` a little more intuitive to work with. We're only going to preview our forthcoming work with `pandas` today.\n",
        "\n",
        "Let's think all the way back to when we first introduced `numpy`: recall that arrays *do* have their limitations. For one, arrays can't contain multiple types. This can be troublesome for scientific data that can't be stored in solely numeric form. Thus, we turn to `pandas`.\n",
        "\n",
        "Like `numpy`, `pandas` is imported with a shorthand **alias** (`pd`), which is used as the prefix for any functions imported via `pandas`.\n",
        "\n"
      ]
    },
    {
      "cell_type": "code",
      "execution_count": null,
      "metadata": {
        "id": "C5FHiVmvEI9F"
      },
      "outputs": [],
      "source": [
        "# try it out: import pandas with its alias\n",
        "import pandas as pd"
      ]
    },
    {
      "cell_type": "markdown",
      "metadata": {
        "id": "oYMrGHlyS78m"
      },
      "source": [
        "## DataFrames versus arrays\n",
        "\n",
        "`pandas` is a great tool for data manipulation and analysis in Python because of the infrastructure it provides for complex tabular data. Just as `numpy` introduced the array, `pandas` introduces the **DataFrame** (a term familiar to those of you coming from R).\n",
        "\n",
        "DataFrames and arrays are quite similar in many aspects. For one, they can both be used to store rectangular data (rows and columns), and they're both useful for performing vectorized operations. However, DataFrames have several key functions that can make it easier to work with *labeled* data.\n",
        "\n",
        "1. **DataFrames allow mixed types.** Unlike with arrays, you can store strings, integers, numerics, etc. in the same DataFrame.\n",
        "2. **DataFrames supports row and column names**. You can index with row and column names! This can be handy if you know your sample/variable names by heart.\n",
        "3. **DataFrames support easy database-like operations**. Merging, joining, grouping, sorting on a column's values – all possible with `pandas` DataFrames!\n",
        "\n",
        "We'll teach you about the essential `pandas` functions and operations, but if you'd like to know *more* about what you can do with `pandas`, you can read the introduction on the `pandas` documentation [here](https://pandas.pydata.org/pandas-docs/stable/getting_started/overview.html).\n",
        "\n",
        "Let's take a quick look at some data using `pandas`. All of the operations we're showing you will be covered in tomorrow's lecture, so there's no need to commit all of it to memory right now."
      ]
    },
    {
      "cell_type": "code",
      "execution_count": null,
      "metadata": {
        "id": "5aXdUo-6E50q",
        "colab": {
          "base_uri": "https://localhost:8080/",
          "height": 433
        },
        "outputId": "c5b0f8fb-5fe9-40e9-af9d-3548dff6aa7f"
      },
      "outputs": [
        {
          "output_type": "execute_result",
          "data": {
            "text/plain": [
              "     Ozone  Solar.R  Wind  Temp  Month  Day\n",
              "0     41.0    190.0   7.4    67      5    1\n",
              "1     36.0    118.0   8.0    72      5    2\n",
              "2     12.0    149.0  12.6    74      5    3\n",
              "3     18.0    313.0  11.5    62      5    4\n",
              "4      NaN      NaN  14.3    56      5    5\n",
              "..     ...      ...   ...   ...    ...  ...\n",
              "148   30.0    193.0   6.9    70      9   26\n",
              "149    NaN    145.0  13.2    77      9   27\n",
              "150   14.0    191.0  14.3    75      9   28\n",
              "151   18.0    131.0   8.0    76      9   29\n",
              "152   20.0    223.0  11.5    68      9   30\n",
              "\n",
              "[153 rows x 6 columns]"
            ],
            "text/html": [
              "\n",
              "  <div id=\"df-7ec5a68d-7247-4b42-82d2-0621b62fdfa8\" class=\"colab-df-container\">\n",
              "    <div>\n",
              "<style scoped>\n",
              "    .dataframe tbody tr th:only-of-type {\n",
              "        vertical-align: middle;\n",
              "    }\n",
              "\n",
              "    .dataframe tbody tr th {\n",
              "        vertical-align: top;\n",
              "    }\n",
              "\n",
              "    .dataframe thead th {\n",
              "        text-align: right;\n",
              "    }\n",
              "</style>\n",
              "<table border=\"1\" class=\"dataframe\">\n",
              "  <thead>\n",
              "    <tr style=\"text-align: right;\">\n",
              "      <th></th>\n",
              "      <th>Ozone</th>\n",
              "      <th>Solar.R</th>\n",
              "      <th>Wind</th>\n",
              "      <th>Temp</th>\n",
              "      <th>Month</th>\n",
              "      <th>Day</th>\n",
              "    </tr>\n",
              "  </thead>\n",
              "  <tbody>\n",
              "    <tr>\n",
              "      <th>0</th>\n",
              "      <td>41.0</td>\n",
              "      <td>190.0</td>\n",
              "      <td>7.4</td>\n",
              "      <td>67</td>\n",
              "      <td>5</td>\n",
              "      <td>1</td>\n",
              "    </tr>\n",
              "    <tr>\n",
              "      <th>1</th>\n",
              "      <td>36.0</td>\n",
              "      <td>118.0</td>\n",
              "      <td>8.0</td>\n",
              "      <td>72</td>\n",
              "      <td>5</td>\n",
              "      <td>2</td>\n",
              "    </tr>\n",
              "    <tr>\n",
              "      <th>2</th>\n",
              "      <td>12.0</td>\n",
              "      <td>149.0</td>\n",
              "      <td>12.6</td>\n",
              "      <td>74</td>\n",
              "      <td>5</td>\n",
              "      <td>3</td>\n",
              "    </tr>\n",
              "    <tr>\n",
              "      <th>3</th>\n",
              "      <td>18.0</td>\n",
              "      <td>313.0</td>\n",
              "      <td>11.5</td>\n",
              "      <td>62</td>\n",
              "      <td>5</td>\n",
              "      <td>4</td>\n",
              "    </tr>\n",
              "    <tr>\n",
              "      <th>4</th>\n",
              "      <td>NaN</td>\n",
              "      <td>NaN</td>\n",
              "      <td>14.3</td>\n",
              "      <td>56</td>\n",
              "      <td>5</td>\n",
              "      <td>5</td>\n",
              "    </tr>\n",
              "    <tr>\n",
              "      <th>...</th>\n",
              "      <td>...</td>\n",
              "      <td>...</td>\n",
              "      <td>...</td>\n",
              "      <td>...</td>\n",
              "      <td>...</td>\n",
              "      <td>...</td>\n",
              "    </tr>\n",
              "    <tr>\n",
              "      <th>148</th>\n",
              "      <td>30.0</td>\n",
              "      <td>193.0</td>\n",
              "      <td>6.9</td>\n",
              "      <td>70</td>\n",
              "      <td>9</td>\n",
              "      <td>26</td>\n",
              "    </tr>\n",
              "    <tr>\n",
              "      <th>149</th>\n",
              "      <td>NaN</td>\n",
              "      <td>145.0</td>\n",
              "      <td>13.2</td>\n",
              "      <td>77</td>\n",
              "      <td>9</td>\n",
              "      <td>27</td>\n",
              "    </tr>\n",
              "    <tr>\n",
              "      <th>150</th>\n",
              "      <td>14.0</td>\n",
              "      <td>191.0</td>\n",
              "      <td>14.3</td>\n",
              "      <td>75</td>\n",
              "      <td>9</td>\n",
              "      <td>28</td>\n",
              "    </tr>\n",
              "    <tr>\n",
              "      <th>151</th>\n",
              "      <td>18.0</td>\n",
              "      <td>131.0</td>\n",
              "      <td>8.0</td>\n",
              "      <td>76</td>\n",
              "      <td>9</td>\n",
              "      <td>29</td>\n",
              "    </tr>\n",
              "    <tr>\n",
              "      <th>152</th>\n",
              "      <td>20.0</td>\n",
              "      <td>223.0</td>\n",
              "      <td>11.5</td>\n",
              "      <td>68</td>\n",
              "      <td>9</td>\n",
              "      <td>30</td>\n",
              "    </tr>\n",
              "  </tbody>\n",
              "</table>\n",
              "<p>153 rows × 6 columns</p>\n",
              "</div>\n",
              "    <div class=\"colab-df-buttons\">\n",
              "\n",
              "  <div class=\"colab-df-container\">\n",
              "    <button class=\"colab-df-convert\" onclick=\"convertToInteractive('df-7ec5a68d-7247-4b42-82d2-0621b62fdfa8')\"\n",
              "            title=\"Convert this dataframe to an interactive table.\"\n",
              "            style=\"display:none;\">\n",
              "\n",
              "  <svg xmlns=\"http://www.w3.org/2000/svg\" height=\"24px\" viewBox=\"0 -960 960 960\">\n",
              "    <path d=\"M120-120v-720h720v720H120Zm60-500h600v-160H180v160Zm220 220h160v-160H400v160Zm0 220h160v-160H400v160ZM180-400h160v-160H180v160Zm440 0h160v-160H620v160ZM180-180h160v-160H180v160Zm440 0h160v-160H620v160Z\"/>\n",
              "  </svg>\n",
              "    </button>\n",
              "\n",
              "  <style>\n",
              "    .colab-df-container {\n",
              "      display:flex;\n",
              "      gap: 12px;\n",
              "    }\n",
              "\n",
              "    .colab-df-convert {\n",
              "      background-color: #E8F0FE;\n",
              "      border: none;\n",
              "      border-radius: 50%;\n",
              "      cursor: pointer;\n",
              "      display: none;\n",
              "      fill: #1967D2;\n",
              "      height: 32px;\n",
              "      padding: 0 0 0 0;\n",
              "      width: 32px;\n",
              "    }\n",
              "\n",
              "    .colab-df-convert:hover {\n",
              "      background-color: #E2EBFA;\n",
              "      box-shadow: 0px 1px 2px rgba(60, 64, 67, 0.3), 0px 1px 3px 1px rgba(60, 64, 67, 0.15);\n",
              "      fill: #174EA6;\n",
              "    }\n",
              "\n",
              "    .colab-df-buttons div {\n",
              "      margin-bottom: 4px;\n",
              "    }\n",
              "\n",
              "    [theme=dark] .colab-df-convert {\n",
              "      background-color: #3B4455;\n",
              "      fill: #D2E3FC;\n",
              "    }\n",
              "\n",
              "    [theme=dark] .colab-df-convert:hover {\n",
              "      background-color: #434B5C;\n",
              "      box-shadow: 0px 1px 3px 1px rgba(0, 0, 0, 0.15);\n",
              "      filter: drop-shadow(0px 1px 2px rgba(0, 0, 0, 0.3));\n",
              "      fill: #FFFFFF;\n",
              "    }\n",
              "  </style>\n",
              "\n",
              "    <script>\n",
              "      const buttonEl =\n",
              "        document.querySelector('#df-7ec5a68d-7247-4b42-82d2-0621b62fdfa8 button.colab-df-convert');\n",
              "      buttonEl.style.display =\n",
              "        google.colab.kernel.accessAllowed ? 'block' : 'none';\n",
              "\n",
              "      async function convertToInteractive(key) {\n",
              "        const element = document.querySelector('#df-7ec5a68d-7247-4b42-82d2-0621b62fdfa8');\n",
              "        const dataTable =\n",
              "          await google.colab.kernel.invokeFunction('convertToInteractive',\n",
              "                                                    [key], {});\n",
              "        if (!dataTable) return;\n",
              "\n",
              "        const docLinkHtml = 'Like what you see? Visit the ' +\n",
              "          '<a target=\"_blank\" href=https://colab.research.google.com/notebooks/data_table.ipynb>data table notebook</a>'\n",
              "          + ' to learn more about interactive tables.';\n",
              "        element.innerHTML = '';\n",
              "        dataTable['output_type'] = 'display_data';\n",
              "        await google.colab.output.renderOutput(dataTable, element);\n",
              "        const docLink = document.createElement('div');\n",
              "        docLink.innerHTML = docLinkHtml;\n",
              "        element.appendChild(docLink);\n",
              "      }\n",
              "    </script>\n",
              "  </div>\n",
              "\n",
              "\n",
              "<div id=\"df-b3c6e9fa-11da-4652-9cc5-fbcd3751bc33\">\n",
              "  <button class=\"colab-df-quickchart\" onclick=\"quickchart('df-b3c6e9fa-11da-4652-9cc5-fbcd3751bc33')\"\n",
              "            title=\"Suggest charts\"\n",
              "            style=\"display:none;\">\n",
              "\n",
              "<svg xmlns=\"http://www.w3.org/2000/svg\" height=\"24px\"viewBox=\"0 0 24 24\"\n",
              "     width=\"24px\">\n",
              "    <g>\n",
              "        <path d=\"M19 3H5c-1.1 0-2 .9-2 2v14c0 1.1.9 2 2 2h14c1.1 0 2-.9 2-2V5c0-1.1-.9-2-2-2zM9 17H7v-7h2v7zm4 0h-2V7h2v10zm4 0h-2v-4h2v4z\"/>\n",
              "    </g>\n",
              "</svg>\n",
              "  </button>\n",
              "\n",
              "<style>\n",
              "  .colab-df-quickchart {\n",
              "      --bg-color: #E8F0FE;\n",
              "      --fill-color: #1967D2;\n",
              "      --hover-bg-color: #E2EBFA;\n",
              "      --hover-fill-color: #174EA6;\n",
              "      --disabled-fill-color: #AAA;\n",
              "      --disabled-bg-color: #DDD;\n",
              "  }\n",
              "\n",
              "  [theme=dark] .colab-df-quickchart {\n",
              "      --bg-color: #3B4455;\n",
              "      --fill-color: #D2E3FC;\n",
              "      --hover-bg-color: #434B5C;\n",
              "      --hover-fill-color: #FFFFFF;\n",
              "      --disabled-bg-color: #3B4455;\n",
              "      --disabled-fill-color: #666;\n",
              "  }\n",
              "\n",
              "  .colab-df-quickchart {\n",
              "    background-color: var(--bg-color);\n",
              "    border: none;\n",
              "    border-radius: 50%;\n",
              "    cursor: pointer;\n",
              "    display: none;\n",
              "    fill: var(--fill-color);\n",
              "    height: 32px;\n",
              "    padding: 0;\n",
              "    width: 32px;\n",
              "  }\n",
              "\n",
              "  .colab-df-quickchart:hover {\n",
              "    background-color: var(--hover-bg-color);\n",
              "    box-shadow: 0 1px 2px rgba(60, 64, 67, 0.3), 0 1px 3px 1px rgba(60, 64, 67, 0.15);\n",
              "    fill: var(--button-hover-fill-color);\n",
              "  }\n",
              "\n",
              "  .colab-df-quickchart-complete:disabled,\n",
              "  .colab-df-quickchart-complete:disabled:hover {\n",
              "    background-color: var(--disabled-bg-color);\n",
              "    fill: var(--disabled-fill-color);\n",
              "    box-shadow: none;\n",
              "  }\n",
              "\n",
              "  .colab-df-spinner {\n",
              "    border: 2px solid var(--fill-color);\n",
              "    border-color: transparent;\n",
              "    border-bottom-color: var(--fill-color);\n",
              "    animation:\n",
              "      spin 1s steps(1) infinite;\n",
              "  }\n",
              "\n",
              "  @keyframes spin {\n",
              "    0% {\n",
              "      border-color: transparent;\n",
              "      border-bottom-color: var(--fill-color);\n",
              "      border-left-color: var(--fill-color);\n",
              "    }\n",
              "    20% {\n",
              "      border-color: transparent;\n",
              "      border-left-color: var(--fill-color);\n",
              "      border-top-color: var(--fill-color);\n",
              "    }\n",
              "    30% {\n",
              "      border-color: transparent;\n",
              "      border-left-color: var(--fill-color);\n",
              "      border-top-color: var(--fill-color);\n",
              "      border-right-color: var(--fill-color);\n",
              "    }\n",
              "    40% {\n",
              "      border-color: transparent;\n",
              "      border-right-color: var(--fill-color);\n",
              "      border-top-color: var(--fill-color);\n",
              "    }\n",
              "    60% {\n",
              "      border-color: transparent;\n",
              "      border-right-color: var(--fill-color);\n",
              "    }\n",
              "    80% {\n",
              "      border-color: transparent;\n",
              "      border-right-color: var(--fill-color);\n",
              "      border-bottom-color: var(--fill-color);\n",
              "    }\n",
              "    90% {\n",
              "      border-color: transparent;\n",
              "      border-bottom-color: var(--fill-color);\n",
              "    }\n",
              "  }\n",
              "</style>\n",
              "\n",
              "  <script>\n",
              "    async function quickchart(key) {\n",
              "      const quickchartButtonEl =\n",
              "        document.querySelector('#' + key + ' button');\n",
              "      quickchartButtonEl.disabled = true;  // To prevent multiple clicks.\n",
              "      quickchartButtonEl.classList.add('colab-df-spinner');\n",
              "      try {\n",
              "        const charts = await google.colab.kernel.invokeFunction(\n",
              "            'suggestCharts', [key], {});\n",
              "      } catch (error) {\n",
              "        console.error('Error during call to suggestCharts:', error);\n",
              "      }\n",
              "      quickchartButtonEl.classList.remove('colab-df-spinner');\n",
              "      quickchartButtonEl.classList.add('colab-df-quickchart-complete');\n",
              "    }\n",
              "    (() => {\n",
              "      let quickchartButtonEl =\n",
              "        document.querySelector('#df-b3c6e9fa-11da-4652-9cc5-fbcd3751bc33 button');\n",
              "      quickchartButtonEl.style.display =\n",
              "        google.colab.kernel.accessAllowed ? 'block' : 'none';\n",
              "    })();\n",
              "  </script>\n",
              "</div>\n",
              "\n",
              "  <div id=\"id_d078bf3a-bcd4-47c0-8202-61c6e6755757\">\n",
              "    <style>\n",
              "      .colab-df-generate {\n",
              "        background-color: #E8F0FE;\n",
              "        border: none;\n",
              "        border-radius: 50%;\n",
              "        cursor: pointer;\n",
              "        display: none;\n",
              "        fill: #1967D2;\n",
              "        height: 32px;\n",
              "        padding: 0 0 0 0;\n",
              "        width: 32px;\n",
              "      }\n",
              "\n",
              "      .colab-df-generate:hover {\n",
              "        background-color: #E2EBFA;\n",
              "        box-shadow: 0px 1px 2px rgba(60, 64, 67, 0.3), 0px 1px 3px 1px rgba(60, 64, 67, 0.15);\n",
              "        fill: #174EA6;\n",
              "      }\n",
              "\n",
              "      [theme=dark] .colab-df-generate {\n",
              "        background-color: #3B4455;\n",
              "        fill: #D2E3FC;\n",
              "      }\n",
              "\n",
              "      [theme=dark] .colab-df-generate:hover {\n",
              "        background-color: #434B5C;\n",
              "        box-shadow: 0px 1px 3px 1px rgba(0, 0, 0, 0.15);\n",
              "        filter: drop-shadow(0px 1px 2px rgba(0, 0, 0, 0.3));\n",
              "        fill: #FFFFFF;\n",
              "      }\n",
              "    </style>\n",
              "    <button class=\"colab-df-generate\" onclick=\"generateWithVariable('airquality_df')\"\n",
              "            title=\"Generate code using this dataframe.\"\n",
              "            style=\"display:none;\">\n",
              "\n",
              "  <svg xmlns=\"http://www.w3.org/2000/svg\" height=\"24px\"viewBox=\"0 0 24 24\"\n",
              "       width=\"24px\">\n",
              "    <path d=\"M7,19H8.4L18.45,9,17,7.55,7,17.6ZM5,21V16.75L18.45,3.32a2,2,0,0,1,2.83,0l1.4,1.43a1.91,1.91,0,0,1,.58,1.4,1.91,1.91,0,0,1-.58,1.4L9.25,21ZM18.45,9,17,7.55Zm-12,3A5.31,5.31,0,0,0,4.9,8.1,5.31,5.31,0,0,0,1,6.5,5.31,5.31,0,0,0,4.9,4.9,5.31,5.31,0,0,0,6.5,1,5.31,5.31,0,0,0,8.1,4.9,5.31,5.31,0,0,0,12,6.5,5.46,5.46,0,0,0,6.5,12Z\"/>\n",
              "  </svg>\n",
              "    </button>\n",
              "    <script>\n",
              "      (() => {\n",
              "      const buttonEl =\n",
              "        document.querySelector('#id_d078bf3a-bcd4-47c0-8202-61c6e6755757 button.colab-df-generate');\n",
              "      buttonEl.style.display =\n",
              "        google.colab.kernel.accessAllowed ? 'block' : 'none';\n",
              "\n",
              "      buttonEl.onclick = () => {\n",
              "        google.colab.notebook.generateWithVariable('airquality_df');\n",
              "      }\n",
              "      })();\n",
              "    </script>\n",
              "  </div>\n",
              "\n",
              "    </div>\n",
              "  </div>\n"
            ],
            "application/vnd.google.colaboratory.intrinsic+json": {
              "type": "dataframe",
              "variable_name": "airquality_df",
              "summary": "{\n  \"name\": \"airquality_df\",\n  \"rows\": 153,\n  \"fields\": [\n    {\n      \"column\": \"Ozone\",\n      \"properties\": {\n        \"dtype\": \"number\",\n        \"std\": 32.987884514433944,\n        \"min\": 1.0,\n        \"max\": 168.0,\n        \"num_unique_values\": 67,\n        \"samples\": [\n          48.0,\n          4.0,\n          28.0\n        ],\n        \"semantic_type\": \"\",\n        \"description\": \"\"\n      }\n    },\n    {\n      \"column\": \"Solar.R\",\n      \"properties\": {\n        \"dtype\": \"number\",\n        \"std\": 90.05842222838169,\n        \"min\": 7.0,\n        \"max\": 334.0,\n        \"num_unique_values\": 117,\n        \"samples\": [\n          120.0,\n          299.0,\n          138.0\n        ],\n        \"semantic_type\": \"\",\n        \"description\": \"\"\n      }\n    },\n    {\n      \"column\": \"Wind\",\n      \"properties\": {\n        \"dtype\": \"number\",\n        \"std\": 3.5230013522125962,\n        \"min\": 1.7,\n        \"max\": 20.7,\n        \"num_unique_values\": 31,\n        \"samples\": [\n          15.5,\n          18.4,\n          4.6\n        ],\n        \"semantic_type\": \"\",\n        \"description\": \"\"\n      }\n    },\n    {\n      \"column\": \"Temp\",\n      \"properties\": {\n        \"dtype\": \"number\",\n        \"std\": 9,\n        \"min\": 56,\n        \"max\": 97,\n        \"num_unique_values\": 40,\n        \"samples\": [\n          84,\n          79,\n          81\n        ],\n        \"semantic_type\": \"\",\n        \"description\": \"\"\n      }\n    },\n    {\n      \"column\": \"Month\",\n      \"properties\": {\n        \"dtype\": \"number\",\n        \"std\": 1,\n        \"min\": 5,\n        \"max\": 9,\n        \"num_unique_values\": 5,\n        \"samples\": [\n          6,\n          9,\n          7\n        ],\n        \"semantic_type\": \"\",\n        \"description\": \"\"\n      }\n    },\n    {\n      \"column\": \"Day\",\n      \"properties\": {\n        \"dtype\": \"number\",\n        \"std\": 8,\n        \"min\": 1,\n        \"max\": 31,\n        \"num_unique_values\": 31,\n        \"samples\": [\n          28,\n          16,\n          24\n        ],\n        \"semantic_type\": \"\",\n        \"description\": \"\"\n      }\n    }\n  ]\n}"
            }
          },
          "metadata": {},
          "execution_count": 137
        }
      ],
      "source": [
        "# importing data\n",
        "airquality_df = pd.read_csv('/content/pythonbootcamp/day_3/airquality.csv').drop('Unnamed: 0', axis = \"columns\")\n",
        "airquality_df"
      ]
    },
    {
      "cell_type": "markdown",
      "metadata": {
        "id": "u-bgREA8RaxX"
      },
      "source": [
        "This is the `airquality` dataset we worked with earlier today, but imported into a `pandas` DataFrame. The first thing you'll notice is that the display of the data is quite different, compared to an array.\n",
        "\n",
        "Next, you'll probably notice that the columns in this table have names, and the rows have numbers: DataFrames operate using these **labels** as indices, rather than the strict numerical indices we've been using so far. This is *especially* useful for columns!"
      ]
    },
    {
      "cell_type": "code",
      "execution_count": null,
      "metadata": {
        "id": "NYKpaZAHSVBj"
      },
      "outputs": [],
      "source": [
        "hepatocellular_df = pd.read_csv('/content/pythonbootcamp/day_3/hepatoCellular.csv').drop('Unnamed: 0', axis = 1)\n",
        "hepatocellular_df"
      ]
    },
    {
      "cell_type": "markdown",
      "metadata": {
        "id": "lo3eHO5aSdjy"
      },
      "source": [
        "Look at all those columns! With DataFrames, you won't need to worry about constantly referring to index lists for datasets like `hepatocellular` that contain dozens of columns."
      ]
    },
    {
      "cell_type": "code",
      "execution_count": null,
      "metadata": {
        "id": "1v-ES7D1R8oJ"
      },
      "outputs": [],
      "source": [
        "# before, if we wanted CXCL17T expression\n",
        "hepatocellular[:,19]"
      ]
    },
    {
      "cell_type": "code",
      "execution_count": null,
      "metadata": {
        "id": "c5qtgiTFSEXl"
      },
      "outputs": [],
      "source": [
        "# if we want to examine CXCL17T expression in our DataFrame\n",
        "hepatocellular_df['CXCL17T']"
      ]
    },
    {
      "cell_type": "markdown",
      "metadata": {
        "id": "_klT99sZSN5v"
      },
      "source": [
        "Hopefully this is starting to show you some of the motivation behind `pandas` and DataFrames! By the end of the week, you'll be well-prepared to use `numpy`, `pandas`, and `pyplot` to analyze *your* particular data. We'll have TAs on staff during the Friday afternoon session to discuss future directions for your Python analyses."
      ]
    },
    {
      "cell_type": "markdown",
      "metadata": {
        "id": "EtzY5548Qn0U"
      },
      "source": [
        "# [Optional] Saving your arrays to external files\n",
        "\n",
        "`numpy` also provides a utility function called `np.savetxt()` that saves arrays to external files. We won't be using it in the remainder of the bootcamp (`pandas` has superior file input/output functions for mixed-type data), but it may be useful if you work with solely numerical data.\n",
        "\n",
        "`np.savetxt()` takes three key inputs:\n",
        "1. A file name.\n",
        "2. The array of interest.\n",
        "3. A `delimiter` string."
      ]
    },
    {
      "cell_type": "code",
      "execution_count": null,
      "metadata": {
        "id": "gV4tfZYfQnRp"
      },
      "outputs": [],
      "source": [
        "# let's sample 5 random rows from airquality\n",
        "\n",
        "rng = np.random.default_rng(2023) # this time, using a seed value for reproducibility\n",
        "random_airquality = rng.choice(airquality, 5)\n",
        "random_airquality"
      ]
    },
    {
      "cell_type": "code",
      "execution_count": null,
      "metadata": {
        "id": "Zg77LO5nTNLt"
      },
      "outputs": [],
      "source": [
        "# now let's save random_airquality as a comma-separated value file\n",
        "np.savetxt('random_airquality.csv', random_airquality, delimiter = ',')"
      ]
    },
    {
      "cell_type": "markdown",
      "metadata": {
        "id": "3TPs58j-Tp3l"
      },
      "source": [
        "Go to the left hand panel of the Colab notebook and click on the folder icon at the bottom of the panel. This will bring you to Colab's `Files` menu. You should see a file called `random_airquality.csv`: if you hover over it and click the menu with three dots, you can obtain the file path (if you want to import it again) or download the file.\n",
        "___\n",
        "**CAUTION**: Files that you save while using Colab are not retained after you close the notebook, as they only exist in Colab's temporary **session storage**. If you generate files and wish to keep them, make sure to download your files (with the same three dots menu) before you exit Colab.\n",
        "___"
      ]
    },
    {
      "cell_type": "markdown",
      "metadata": {
        "id": "9ST-WXNFsPoD"
      },
      "source": [
        "# [Optional] Cloning files from GitHub\n",
        "\n",
        "> This section was first introduced in the morning session on `numpy`. We've copy-pasted it here for convenience.\n",
        "\n",
        "[GitHub](https://github.com/) is a website that hosts code and files for software development projects. It serves two major functions: backing up **codebases** (files with data and code that work together) and enabling collaboration between programmers/developers.\n",
        "\n",
        "We (your staff team) use GitHub as a **repository** for files that are used during PyCamp. We do this so that we have a stable copy of these files that stays out of \"I spilled coffee on my laptop the night before PyCamp\", or \"my laptop was ransomed for cryptocurrency\" territory. Moreover, if we accidentally delete a file from the repository, GitHub's **version control**  allows us to roll back the repository to a working version. Neat, right?\n",
        "\n",
        "The below command allows us to **clone** these files from the GitHub repository to our local runtime's session storage. This allows for us to skip the messy steps of trying to get everyone to download and re-upload the right data.\n",
        "\n",
        "```\n",
        "!git clone https://github.com/ccbskillssem/pythonbootcamp.git\n",
        "```\n",
        "\n",
        "The `!` operator is used to indicate *special commands* that would normally be run at a computer's **command line**, rather than in Python. This is akin to communicating with a computer (or in Colab, our runtime) directly to tell it that we want to download files using the given file path.\n",
        "\n",
        "The GitHub file path that you see above points to a single file called a `.git` file. This file does not contain all the data: rather, it provides directions to the GitHub repository of interest, and therefore all the files it contains. In this manner, we never have to worry about giving all the file paths to each file we want: we just pull all the files in the repository by giving its `.git` file path."
      ]
    },
    {
      "cell_type": "markdown",
      "metadata": {
        "id": "vkHMnmrPUOlR"
      },
      "source": [
        "# [Optional] More methods for external data\n",
        "\n",
        "> This section was first introduced in yesterday's session on `numpy`. We've copy-pasted it here for convenience.\n",
        "\n",
        "This section describes the bare essentials of file uploads/downloads with Colab. For a more in-depth exploration, you can visit the official Google Colab notebook on data I/O [here](https://colab.research.google.com/notebooks/io.ipynb)."
      ]
    },
    {
      "cell_type": "markdown",
      "metadata": {
        "id": "0nFgc5EnUwZW"
      },
      "source": [
        "## Loading data from your computer\n",
        "You can use Colab's `Files` menu to upload data from your own computer to Colab's temporary **session storage**. Session storage is reset each time the notebook runtime ends or is otherwise reset.\n",
        "\n",
        "Go to the left hand panel of the Colab notebook and click on the folder icon at the bottom of the panel. This will bring you to Colab's `Files` menu.\n",
        "\n",
        "Click on the leftmost icon underneath the `'Files'` title of the panel: it should appear as a piece of paper with an up arrow on it. Follow the prompts to upload your data of choice. Once your file is uploaded, you can access the file path by hovering over the file name, clicking on the three-dot menu, then selecting `Copy path`.\n",
        "\n",
        "___\n",
        "\n",
        "**CAUTION**: Files that you upload are NOT retained in the `Files` panel after you close the notebook or reset the runtime. If you would prefer to avoid the upload process, consider the next section on loading data from Google Drive.\n",
        "\n",
        "___"
      ]
    },
    {
      "cell_type": "markdown",
      "metadata": {
        "id": "WIs4S8UeVl1p"
      },
      "source": [
        "## Loading data from Google Drive\n",
        "Google Drive is an excellent cloud storage solution for data you wish to work with in Colab. Colab provides a simple solution for allowing you to access files from Google Drive in Colab: all you have to do is access the `Files` menu by clicking the folder icon on the left hand panel of the Colab notebook.\n",
        "\n",
        "Once you're in the `Files` menu, click on the third icon below the `'Files'` title: it should appear as a filled-in white folder with the Google Drive icon. Click this button to connect Google Drive to Colab: a pop-up should appear asking you to confirm that you wish to do this, and you may need to wait a few minutes while Google Drive loads.\n",
        "\n",
        "Once your Drive is mounted, you should see a new folder called `drive` in the `Files` menu. You can access the file path by hovering over the file name, clicking on the three-dot menu, then selecting `Copy path`."
      ]
    }
  ],
  "metadata": {
    "colab": {
      "provenance": [],
      "include_colab_link": true
    },
    "kernelspec": {
      "display_name": "Python 3",
      "name": "python3"
    },
    "language_info": {
      "name": "python"
    }
  },
  "nbformat": 4,
  "nbformat_minor": 0
}