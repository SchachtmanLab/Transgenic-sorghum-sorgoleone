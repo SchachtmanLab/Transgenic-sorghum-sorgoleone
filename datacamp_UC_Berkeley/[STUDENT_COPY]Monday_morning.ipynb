{
  "cells": [
    {
      "cell_type": "markdown",
      "metadata": {
        "id": "view-in-github",
        "colab_type": "text"
      },
      "source": [
        "<a href=\"https://colab.research.google.com/github/SchachtmanLab/Transgenic-sorghum-sorgoleone/blob/master/%5BSTUDENT_COPY%5DMonday_morning.ipynb\" target=\"_parent\"><img src=\"https://colab.research.google.com/assets/colab-badge.svg\" alt=\"Open In Colab\"/></a>"
      ]
    },
    {
      "cell_type": "markdown",
      "metadata": {
        "id": "p3w0YV0Gp3g8"
      },
      "source": [
        "# Welcome to the Center for Computational Biology's Introduction to Programming for Bioinformatics bootcamp!\n"
      ]
    },
    {
      "cell_type": "markdown",
      "metadata": {
        "id": "SM8VqrdSnGZR"
      },
      "source": [
        "## Downloading materials\n",
        "If you haven't downloaded the materials yet, please refer to the link in the reminder email you received on Friday.\n",
        "\n",
        "You'll need to download a copy of the materials in that link and then upload those materials to your own Google Drive. This way, you have your **own copy** that you can modify and edit as you progress through the bootcamp.\n",
        "\n",
        "In the meantime, we'll introduce today's teaching staff and talk about the logistics of the bootcamp."
      ]
    },
    {
      "cell_type": "markdown",
      "metadata": {
        "id": "-_s5I7BQvOf8"
      },
      "source": [
        "## Lecture logistics\n",
        "### Browser\n",
        "We highly recommend using [Google Chrome](https://www.google.com/chrome/) to view and edit these notebooks. There shouldn't be an issue with using other browsers, but because Google Colaboratory (more on this soon) is a Google product, we expect that most functions will work best with Google Chrome.\n",
        "\n",
        "### Zoom (virtual students)\n",
        " Make sure you have Zoom desktop or mobile installed (instead of using it from a browser). Please turn your video off during lecture to minimize lagginess.\n",
        "\n",
        "### Slack\n",
        "Slack is an interactive workspace that allows for us to share resources, provide support, and otherwise communicate with you all during the workshop. **If you are a virtual attendee, Slack will be your primary resource for questions and discussion durign the bootcamp.** If you haven't signed up already, check the pre-bootcamp email for the invitation link. If you haven't used Slack before, feel free to refer to [this quick-start guide](https://slack.com/help/articles/360059928654-How-to-use-Slack--your-quick-start-guide).\n",
        "\n",
        "### Lecture\n",
        "<!-- If you're attending in-person, feel free to raise your hand if you'd like to ask a question out loud. Otherwise,  -->\n",
        "Lectures will be presented on Zoom with TAs monitoring the #lecture-discussion Slack channel for lecture-related questions.\n",
        "\n",
        "**During coding exercises**: We strongly encurage you to work through excersizes together with fellow bootcampers, but please don't hesitate to ask questions to the TAs or head instructor!\n",
        "<!-- We strongly encourage you to work with fellow bootcampers at your table. Our TAs will walk around and check on how you're doing – please wave one of them down if you'd like to ask a question! -->\n",
        "\n",
        "Each day of the bootcamp, the head instructor and TAs will be available during bootcamp hours (9AM - 5PM) to respond to questions and comments in the below channels.\n",
        "\n",
        "* **Have an issue with Zoom, Google Drive, or your Colab notebook?**: Please DM one of the TAs on Zoom or Slack so they can help you out!\n",
        "* **Want to introduce yourself, share a cool paper, or chat about science/coding related things?**: We have a *#water-cooler* channel!"
      ]
    },
    {
      "cell_type": "markdown",
      "metadata": {
        "id": "mrBhtCQ9p3hE"
      },
      "source": [
        "## Topics and schedule\n",
        "\n",
        "### What are you going to learn?\n",
        "\n",
        "You are going to learn Python! 🐍\n",
        "\n",
        "Python is a simple and powerful programming language that is used for many applications, from simple tasks to large software development projects. It has become popular as both a first language for beginning students and in everyday use advanced programmers.\n",
        "\n",
        "Our goal is to show you how to apply programming to the problems and tasks that you face in the lab – in short, we'll be teaching you **basic bioinformatics**. By the end of this course, you will be able to do the following:\n",
        "* Parse and read in data from various biological file formats.\n",
        "* Write custom functions for analyzing your data.\n",
        "* Learn how to find and use different Python packages for analyzing your data.\n",
        "* Understand how to construct scripts to automate your data analysis.\n",
        "* Make publication-quality figures with your data.\n",
        "\n",
        "Our aim is for you to leave this course with a sufficiently generalized knowledge of programming (and the confidence to read the manuals) that you will be able to apply your skills to whatever you happen to be working on.\n",
        "\n",
        "### What are you *not* going to learn?\n",
        "\n",
        "With only one week to teach this course, there are many topics that we are not going to cover. :(\n",
        "\n",
        "We will focus on basic skills that can be employed by biologists at all levels: manage and handle large data sets, automating and speeding up tasks, efficiently use existing software packages to answer biological questions, build pipelines for data analysis and management, and perform basic statistical tests and analysis.\n",
        "\n",
        "This means we will *not* delve into more complex topics like software development, algorithms, or deploying code on computing clusters. We're happy to refer you to other resources or programs that may be useful for these topics, but **our goal is to get you started with the basics so that you can direct *your own* learning.**\n"
      ]
    },
    {
      "cell_type": "markdown",
      "metadata": {
        "id": "h39F4b77uQN9"
      },
      "source": [
        "### Weekly Schedule\n",
        "That being said, we do have a defined list of topics that we'll be going through day by day.<br>\n",
        "\n",
        "**Monday, January 8th**: Introduction to Colab & Python\n",
        "\n",
        "**Tuesday, January 9th**: Introduction to numpy\n",
        "\n",
        "**Wednesday, January 10th**: More on numpy, introduction to pandas\n",
        "* Mini-project 1: The `badhealth` dataset\n",
        "* Mini-project 2: The `hepatocellular` dataset\n",
        "\n",
        "**Thursday, January 11th**: Pandas for tabular data operations\n",
        "\n",
        "**Friday, January 12th**: Introduction to machine learning in Python\n",
        "* Mini-project 1: Wisconsin Breast Cancer Dataset\n",
        "* Mini-project 2: (if time) Convolutional Neural Networks (CNNs) and the MNIST dataset.\n",
        "\n",
        "<!-- Plotting data and putting it all together\n",
        "* Mini-project 3: The [Tabula Muris Senis](https://www.nature.com/articles/s41586-020-2496-1) cell atlas -->"
      ]
    },
    {
      "cell_type": "markdown",
      "metadata": {
        "id": "LgQunZ_fuxSj"
      },
      "source": [
        "### Daily Schedule\n",
        "\n",
        "Each day is broken up into two interactive lecture modules: instructors will share their screens and lecture while working through the notebook. You are *strongly encouraged* to work through your copy of the notebook side-by-side! (More details on that in a few minutes.)\n",
        "\n",
        "Below is a rough outline of the schedule: the amount of time we spend on each segment will vary.\n",
        "\n",
        "- **9:00-9:10am**: Getting set up for the day, troubleshooting any connection issues.\n",
        "- **9:10am-12:30pm**: Morning lecture and exercises\n",
        "- **Lunch from 12:30-1:30pm**: Lunch break.\n",
        "- **1:40-5:00pm**: Afternoon lecture and exercises\n",
        "- **End at 5pm!**\n",
        "\n",
        "Last but not least: we will try to build in some short 5-10 minute breaks throughout the day, but please feel free to take breaks at your own discretion."
      ]
    },
    {
      "cell_type": "markdown",
      "metadata": {
        "id": "q8kvQtArf69l"
      },
      "source": [
        "## Cheat sheets\n",
        "\n",
        "During the course of the week, we'll be distributing copies of **cheat sheets** that cover the essential content for each section. These cheat sheets aren't just supplemental handouts, they're actually *essential* for your progress during the bootcamp.\n",
        "\n",
        "Over the years, we've found that students who focus heavily on trying to memorize how to do each operation often begin to fall behind once we introduce more advanced content. We believe that the key to student success in such a short bootcamp is not memorizing lines of code, but *intuiting* what principles of the code are important and relevant to the task at hand.\n",
        "\n",
        "We encourage you to frequently refer to the cheat sheet and make it a part of your learning process this week. Whenever you learn about a new concept, take note of the corresponding cheat sheet section so you know where to find the code syntax again. Memorization will come with time and practice, so for now, focus on learning!"
      ]
    },
    {
      "cell_type": "markdown",
      "metadata": {
        "id": "FT5IZunwp3hF"
      },
      "source": [
        "# Getting started with Google Colaboratory\n",
        "\n",
        "During the bootcamp, you'll be writing and executing your code with a tool called **Google Colaboratory** (Google Colab for short).\n",
        "\n",
        "Colab is like an interactive coding notebook: you can write chunks of text just like you would with a word document or Google Doc, interspersed with chunks of Python code. Colab is especially nifty because it allows you to run your code using Google's cloud computing resources instead of your own computer's hardware. What's more, your code is saved to the cloud in real time, just like with the other tools in Google Drive.\n",
        "\n",
        "At this point, you should have your own copies of the Colab notebooks we're going to use throughout the week. During the daily lectures, the instructors will be working on their copy of the notebook. **You can (and should!) work through your own copy of notebook side by side in order to get the most out of the bootcamp.** No worries about mistakes or overwriting: you can always re-download a fresh copy of the materials from Google Drive.\n",
        "\n",
        "> *Note*: Each day, we'll upload the instructor's \"filled out\" notebook to the Google Drive. This way you won't miss out on anything if you have to step away from the lecture!\n",
        "\n",
        "Let's get started by familiarizing ourselves with the basic tools in Colab, many of which may be familiar to you if you've used Google Drive products (Docs, etc) before."
      ]
    },
    {
      "cell_type": "markdown",
      "source": [
        "## Hiding the Generative AI Assistant\n",
        "\n",
        "By default, Colab has a generative AI assistant that recommends code for you. While this is a great tool for coding, it can write code for you without you actually learning python. We **highly recommend** hiding the AI assistance tool for the duration of the bootcamp so that you can learn as much is possible! The AI tool can be hidden under `Tools -> Settings -> AI Assistance`."
      ],
      "metadata": {
        "id": "RcpIdwz0yr3I"
      }
    },
    {
      "cell_type": "markdown",
      "metadata": {
        "id": "mRZd_VVbF_ms"
      },
      "source": [
        "## Adjusting the font size or theme\n",
        "\n",
        "One of the first things you might want to do is change the font size or dark/light mode theme of the notebook. You can do that easily by going to the top toolbar, then clicking `Tools -> Settings`."
      ]
    },
    {
      "cell_type": "markdown",
      "metadata": {
        "id": "wYF_MKl7yBAo"
      },
      "source": [
        "## Using the Table of Contents\n",
        "\n",
        "The Table of Contents is an invaluable tool for flipping through the notebooks we'll be using each day of the bootcamp. You can access the Table of Contents by clicking on the topmost button of the *left hand side toolbar*.\n",
        "\n",
        "Try clicking on the \"Editing text cells\" heading, which will bring you to the section below."
      ]
    },
    {
      "cell_type": "markdown",
      "metadata": {
        "id": "OCpXke_B4Am7"
      },
      "source": [
        "## Editing text cells\n",
        "\n",
        "Much like with live lectures, you'll probably want to take notes as we go. Luckily, Colab allows you to write notes in a number of different ways. Let's start by editing some text within an already established text cell.\n",
        "\n",
        "Double-click on the sentence below to reveal the text cell. Afterwards, double click to fill in the blanks, then hold down `Shift + Enter` (both Windows and macOS) to save your changes."
      ]
    },
    {
      "cell_type": "markdown",
      "metadata": {
        "id": "cSEHzt_B4fwj"
      },
      "source": [
        "\n",
        "Today is [TODAYS DATE]\n",
        "\n",
        "My instructor is [NAME].\n",
        "\n"
      ]
    },
    {
      "cell_type": "markdown",
      "metadata": {
        "id": "qgL6RW2o5Roc"
      },
      "source": [
        "You can edit any of the text cells in Colab using this method. Colab supports basic formatting like **bold**, *italic*, and even\n",
        "\n",
        "\n",
        "*   bullet\n",
        "*   points!\n",
        "\n",
        "\n",
        "Editing your format is super easy! Watch as I turn this line into a block quote, then a numbered list.\n",
        "\n",
        "\n",
        "Alternatively, you can *create* new text cells anywhere you want. You can do this by hovering over the top/bottom middle portion of an existing text or code cell until the + Code and + Text buttons appear.\n",
        "\n",
        "Give it a try: hover over the bottom middle portion of this text cell, then click the `+ Text` button."
      ]
    },
    {
      "cell_type": "markdown",
      "metadata": {
        "id": "38BQTKoE6Qe2"
      },
      "source": [
        "Your new text cell should appear right above this text cell."
      ]
    },
    {
      "cell_type": "markdown",
      "metadata": {
        "id": "r0CX-h-D8zdV"
      },
      "source": [
        "## Connecting to a runtime\n",
        "A **runtime** in Google Colab is a computing environment that allows us to execute the code in our notebook. The resources for a runtime are hosted using Google's computing resources, which means that you can run code and execute analyses on Colab regardless of your own laptop's computing capabilities.\n",
        "\n",
        "Click on the \"Connect\" button on the right hand side of the top toolbar. You should see it flash through a few different status messages. After the runtime is connected, you should see a green checkmark and two bars labeled \"RAM\" and \"Disk\"."
      ]
    },
    {
      "cell_type": "markdown",
      "metadata": {
        "id": "COSI58pEzPKU"
      },
      "source": [
        "## Working with code cells\n",
        "\n",
        "Now that we're connected to our runtime, we can start running some code cells: these are the bread and butter of our interactive notebooks.\n",
        "\n",
        "When you're ready, go ahead and run the cell by doing one of the following:\n",
        "1. Hovering over the cell and pressing the Play button that appears on the left side.\n",
        "2. Click on the cell and pressing `Shift + Enter` (both Windows and macOS)."
      ]
    },
    {
      "cell_type": "code",
      "execution_count": null,
      "metadata": {
        "id": "YNtfsHVa9yR0"
      },
      "outputs": [],
      "source": [
        "print(\"Today's a good day to learn Python!\")"
      ]
    },
    {
      "cell_type": "markdown",
      "metadata": {
        "id": "n6WRES3_7aoO"
      },
      "source": [
        "You can edit and run code cells just like you would with text cells. In fact, editing cells to annotate code is encouraged: you can do this with **comments**, which are lines of code that are prefaced with `#` characters."
      ]
    },
    {
      "cell_type": "code",
      "execution_count": null,
      "metadata": {
        "id": "i-mvCuUQ6twa"
      },
      "outputs": [],
      "source": [
        "# This is a \"comment\": programmers use comments to annotate their code.\n",
        "# Comments are not considered code, so Python doesn't \"run\" comment lines.\n",
        "# We've tried to mark up our code with useful comments, and you should write comments in your code as you go along!\n",
        "\n",
        "print(\"Comments aren't visible in the output of the code cell: they're just for the reader!\")\n",
        "# print(\"That means that this bit of code won't actually run!\")\n",
        "print(\"You can put comments in between or after lines of code, and they won't be visible.\") # Look, no comment!"
      ]
    },
    {
      "cell_type": "markdown",
      "metadata": {
        "id": "wwcYEPG4DNgi"
      },
      "source": [
        "Last but not least, you can create your own code cells, just like you would with text cells. There are a few ways to do this:\n",
        "\n",
        "1. Hovering over the top/bottom middle portion of an existing code cell until the `+ Code` and `+ Text` buttons appear.\n",
        "2. Clicking on an existing cell and using a shortcut:\n",
        "  - (macOS) `Ctrl + M + B`\n",
        "  - (Windows) `Ctrl + M + B`\n",
        "\n",
        "Let's put it all together: try creating a new code cell below, then copy/paste the following and run the code cell.\n",
        "\n",
        "```\n",
        "\"Hello world!\"\n",
        "```"
      ]
    },
    {
      "cell_type": "code",
      "execution_count": null,
      "metadata": {
        "id": "gq2FHYml6hV-"
      },
      "outputs": [],
      "source": [
        "# try it out\n"
      ]
    },
    {
      "cell_type": "markdown",
      "metadata": {
        "id": "aAoWyotU8whC"
      },
      "source": [
        "Congratulations! You've just taken your first baby step to writing code in Python. 🐍"
      ]
    },
    {
      "cell_type": "markdown",
      "metadata": {
        "id": "oQb3utvZQ5xp"
      },
      "source": [
        "# Python Basics"
      ]
    },
    {
      "cell_type": "markdown",
      "metadata": {
        "id": "kpKm40bd9GPJ"
      },
      "source": [
        "## Cheat sheet\n",
        "To view the Day 1 cheat sheet, click [here](https://drive.google.com/drive/folders/1JTZ_sJijmZXH1d5OxviX1gnxYIoSNBlz)."
      ]
    },
    {
      "cell_type": "markdown",
      "metadata": {
        "id": "3Ox-Nxf6Q8vL"
      },
      "source": [
        "## Basic types\n",
        "\n",
        "Many of the tasks scientists usually want to do with Python involve sorting and manipulating data. However, before we can do that, we have to understand how Python parses the data we give it.\n",
        "\n",
        "Python follows what we call an **object-oriented programming** structure. In short, Python is a language that centers around manipulation of \"objects\" of different types. Data, which we would like to analyze, can be represented as certain **types** of objects. Tasks or functions can also be represented as different types of objects.\n",
        "\n",
        "Although Python can be a very powerful language, it is can be a very *particular* language, especially for learners who are unfamiliar with the (in)flexibility of code. Let's start by going over some basic data types."
      ]
    },
    {
      "cell_type": "markdown",
      "metadata": {
        "id": "vMXq_-xERdAe"
      },
      "source": [
        "### Numerics\n",
        "\n",
        "There are two *numeric* data types: **integers** and **floats**. You can think of integers as, well, integers, and floats as decimal point containing numbers. In Colab, you can identify numeric types by the light green color they're displayed with in the code cell."
      ]
    },
    {
      "cell_type": "code",
      "execution_count": null,
      "metadata": {
        "id": "ZHVTA6n_RfM8"
      },
      "outputs": [],
      "source": [
        "# a float\n",
        "100.0"
      ]
    },
    {
      "cell_type": "code",
      "execution_count": null,
      "metadata": {
        "id": "jV6qcn5iRfY6"
      },
      "outputs": [],
      "source": [
        "# an integer\n",
        "42"
      ]
    },
    {
      "cell_type": "markdown",
      "metadata": {
        "id": "FQXF9j-y34fB"
      },
      "source": [
        "As you might already be anticipating, you can perform simple mathematical operations with numerics using conventional operators like the addition (`+`), subtraction (`-`), multiplication (`*`), and division (`/`) signs."
      ]
    },
    {
      "cell_type": "code",
      "execution_count": null,
      "metadata": {
        "id": "NKebUQFRABrn"
      },
      "outputs": [],
      "source": [
        "5 + 2 - 3"
      ]
    },
    {
      "cell_type": "code",
      "execution_count": null,
      "metadata": {
        "id": "4G1DPzK6BXLF"
      },
      "outputs": [],
      "source": [
        "5 * 4"
      ]
    },
    {
      "cell_type": "code",
      "execution_count": null,
      "metadata": {
        "id": "tF16w7aTAD7N"
      },
      "outputs": [],
      "source": [
        "10 / 2"
      ]
    },
    {
      "cell_type": "markdown",
      "metadata": {
        "id": "e6o3d013AGqs"
      },
      "source": [
        "Take care to mind the order of operations: you can use parentheses to enclose operations as necessary."
      ]
    },
    {
      "cell_type": "code",
      "execution_count": null,
      "metadata": {
        "id": "nroLD9IJAMPG"
      },
      "outputs": [],
      "source": [
        "(5 + 3) * 3"
      ]
    },
    {
      "cell_type": "markdown",
      "metadata": {
        "id": "_U6XG-nHAV5H"
      },
      "source": [
        "Python also supports advanced numerical operators:\n",
        "\n",
        "- `//`: Division, but returns only the integer component of the resultant value.\n",
        "\n"
      ]
    },
    {
      "cell_type": "code",
      "execution_count": null,
      "metadata": {
        "id": "tfR6xtgRAxYE"
      },
      "outputs": [],
      "source": [
        "# Try 23/5, then 23//5\n",
        "\n"
      ]
    },
    {
      "cell_type": "code",
      "source": [],
      "metadata": {
        "id": "bOWxJ-6rMpn6"
      },
      "execution_count": null,
      "outputs": []
    },
    {
      "cell_type": "markdown",
      "metadata": {
        "id": "sLEpzROKA6Mx"
      },
      "source": [
        "- `%`: Division, but returns only the remainder of the operation."
      ]
    },
    {
      "cell_type": "code",
      "execution_count": null,
      "metadata": {
        "id": "KywY1OJFBKVI"
      },
      "outputs": [],
      "source": [
        "# Try 23/5, then 23%5\n",
        "\n"
      ]
    },
    {
      "cell_type": "code",
      "source": [],
      "metadata": {
        "id": "xmykmxJ-Msbl"
      },
      "execution_count": null,
      "outputs": []
    },
    {
      "cell_type": "markdown",
      "metadata": {
        "id": "eEIT7DZgBP3U"
      },
      "source": [
        "- `**`: Raising the given base to the specified exponent."
      ]
    },
    {
      "cell_type": "code",
      "execution_count": null,
      "metadata": {
        "id": "6hrcTS75BidW"
      },
      "outputs": [],
      "source": [
        "2**3"
      ]
    },
    {
      "cell_type": "markdown",
      "metadata": {
        "id": "YQqD0aVSQ-U_"
      },
      "source": [
        "### Strings\n",
        "\n",
        "**Strings** refer to literal strings of characters. In Colab, you can also identify strings by the <font color = '#ed865c'>**red color**</font> they're shown with in the code cells.\n"
      ]
    },
    {
      "cell_type": "code",
      "execution_count": null,
      "metadata": {
        "id": "U6oEuCDKRDC3"
      },
      "outputs": [],
      "source": [
        "\"This is a string!\""
      ]
    },
    {
      "cell_type": "markdown",
      "metadata": {
        "id": "HNaqJUCgRH0h"
      },
      "source": [
        "Strings are most commonly encoded by single (`'`) or double(`\"`) quotes. Both yield the same data type (string), but the convention of using one format over another will vary depending on what you're doing with the string.\n",
        "\n",
        "**Double quotes**: The default mode of encoding strings. Anything between the double quotes is a string."
      ]
    },
    {
      "cell_type": "code",
      "execution_count": null,
      "metadata": {
        "id": "j3lNYPo7RJjm"
      },
      "outputs": [],
      "source": [
        "\"This is a string using double quote encoding.\""
      ]
    },
    {
      "cell_type": "markdown",
      "metadata": {
        "id": "9CtkxSvGRLmd"
      },
      "source": [
        "**Single quotes**: Useful for encoding prose or any other text where you conventionally use double quotes to indicate some sort of dialogue."
      ]
    },
    {
      "cell_type": "code",
      "execution_count": null,
      "metadata": {
        "id": "ytxcJGpVynUT"
      },
      "outputs": [],
      "source": [
        "\"She said: \"Hello!\"\" # run me and see what happens"
      ]
    },
    {
      "cell_type": "code",
      "execution_count": null,
      "metadata": {
        "id": "VPnqIl2dRMuG"
      },
      "outputs": [],
      "source": [
        "\"She said: 'Hello!'\" # now run me and see what happens"
      ]
    },
    {
      "cell_type": "markdown",
      "metadata": {
        "id": "QxJkxdTkU1jD"
      },
      "source": [
        "Python allows you to perform arithmetic-like operations with strings. For example, we can **concatenate** (combine) strings by using the addition operator."
      ]
    },
    {
      "cell_type": "code",
      "execution_count": null,
      "metadata": {
        "id": "hsnUSLxxU677"
      },
      "outputs": [],
      "source": [
        "print(\"Hello! \" + \"I would like to order a pizza. \") # order matters when printing\n",
        "print(\"I would like to order a pizza. \" + \"Hello! \")"
      ]
    },
    {
      "cell_type": "markdown",
      "metadata": {
        "id": "Wg_8A8DbU8EL"
      },
      "source": [
        "We can also repeat the content of a string by using the multiplication operator."
      ]
    },
    {
      "cell_type": "code",
      "execution_count": null,
      "metadata": {
        "id": "wx1nqHjMU_tx"
      },
      "outputs": [],
      "source": [
        "print(\"Hello! \" * 3)"
      ]
    },
    {
      "cell_type": "code",
      "execution_count": null,
      "metadata": {
        "id": "qHSne60kVAGw"
      },
      "outputs": [],
      "source": [
        "# What happens if you try that with a float multiplier instead of an integer?\n",
        "\n",
        "print(\"Hello! \" * 3.0)"
      ]
    },
    {
      "cell_type": "markdown",
      "metadata": {
        "id": "FwDFGl8eU_MD"
      },
      "source": [
        "Just as with our numerical operations, the order of operations applies with strings as well:"
      ]
    },
    {
      "cell_type": "code",
      "execution_count": null,
      "metadata": {
        "id": "-vO4Jqo6VDLw"
      },
      "outputs": [],
      "source": [
        "print((\"Hello! \" * 3) + \"I would like to order a pizza. \")\n",
        "print((\"Hello! \" + \"I would like to order a pizza. \") * 3)"
      ]
    },
    {
      "cell_type": "markdown",
      "metadata": {
        "id": "zu51qosQS8vc"
      },
      "source": [
        "## Assigning variables\n",
        "**Variables** are simply representations of the data that you want to work with. For example, we use variables in mathematical equations like `F = ma`, where each variable (`F`, `m`, `a`) represents a value corresponding to force, mass, and acceleration.\n",
        "\n",
        "To create a variable, you write out your variable name, an assignment operator (`=`), and then what you want it to represent. Spaces around the equal sign are optional but encouraged for code readability.\n",
        "\n",
        "Let's run the cell below:"
      ]
    },
    {
      "cell_type": "code",
      "execution_count": 9,
      "metadata": {
        "id": "IULZrja4S_lk"
      },
      "outputs": [],
      "source": [
        "todays_date = \"January 13th, 2025\"  # assigning the variable todays_date"
      ]
    },
    {
      "cell_type": "markdown",
      "metadata": {
        "id": "3Im4zhQvTAW6"
      },
      "source": [
        "Before, when we ran code cells containing strings and numerics and saw their values in the output: however, when you assign variables, there's no output given to the console. Nevertheless, once you've assigned the variable, it's **stored** in your runtime, meaning that you can access it by **calling** the variable by its name, which will **return** its value to output."
      ]
    },
    {
      "cell_type": "code",
      "execution_count": 18,
      "metadata": {
        "id": "G-VvAvw_F8XY",
        "outputId": "38d22fd3-557c-4084-fdf5-80a89fc0e316",
        "colab": {
          "base_uri": "https://localhost:8080/"
        }
      },
      "outputs": [
        {
          "output_type": "stream",
          "name": "stdout",
          "text": [
            "January 13th, 2025\n",
            "January 13th, 2025! January 13th, 2025! January 13th, 2025! \n"
          ]
        }
      ],
      "source": [
        "print(todays_date)\n",
        "print((todays_date + \"! \") * 3)"
      ]
    },
    {
      "cell_type": "markdown",
      "metadata": {
        "id": "yat6_cQBF9UO"
      },
      "source": [
        "## Updating variables\n",
        "If you want to change a variable's value, you have to \"update\" it by assigning the variable again. If the variable value is derived from other variables, you will also need to \"update\" if any variable values are altered."
      ]
    },
    {
      "cell_type": "code",
      "execution_count": 6,
      "metadata": {
        "id": "QSnNnJEdUi5C"
      },
      "outputs": [],
      "source": [
        "# a simple F = ma calculation\n",
        "mass = 237.0\n",
        "acceleration = 9.81\n",
        "force = mass * acceleration"
      ]
    },
    {
      "cell_type": "markdown",
      "metadata": {
        "id": "ppRNKkSwkfA4"
      },
      "source": [
        "Again, assigning variables does *not* result in their value being returned to output. If we want to see what the `force` variable contains, we need to call the variable's name."
      ]
    },
    {
      "cell_type": "code",
      "execution_count": null,
      "metadata": {
        "id": "xVeRxOkykwVY"
      },
      "outputs": [],
      "source": [
        "# try it out:\n",
        "# call the force variable\n"
      ]
    },
    {
      "cell_type": "markdown",
      "metadata": {
        "id": "g3HzlOFUFD9P"
      },
      "source": [
        "Let's change `mass` to 250 and calculate `force` again."
      ]
    },
    {
      "cell_type": "code",
      "execution_count": null,
      "metadata": {
        "id": "B9mAZ52nFN87"
      },
      "outputs": [],
      "source": [
        "# try it out:\n",
        "# reassign mass to 250\n"
      ]
    },
    {
      "cell_type": "code",
      "execution_count": null,
      "metadata": {
        "id": "XlBRWszJFTHr"
      },
      "outputs": [],
      "source": [
        "# try it out:\n",
        "# call force again\n",
        "\n"
      ]
    },
    {
      "cell_type": "markdown",
      "metadata": {
        "id": "t2-nNSp7Fs06"
      },
      "source": [
        "Notice that `force` *did not* automatically update its value given the new value of `mass`. Thus, we have to update `force` as well."
      ]
    },
    {
      "cell_type": "code",
      "execution_count": null,
      "metadata": {
        "id": "iYNCnDgpFuM5"
      },
      "outputs": [],
      "source": [
        "force = mass * acceleration\n",
        "force"
      ]
    },
    {
      "cell_type": "markdown",
      "metadata": {
        "id": "bbFoiLcWSRWC"
      },
      "source": [
        "## Built-in functions\n",
        "A **function**, as its name intuitively reveals, performs some sort of a task using code. Much like a variable, you interact with functions by calling their names, with the additional step of  using parentheses and providing inputs to the function if necessary.\n",
        "\n",
        "> *Tip:* In Colab, you can usually identify functions by the ochre color they're displayed with in the code cell.\n",
        "\n",
        "Some of the simplest, but most crucial functions in Python are **built-in functions**, which are \"built in\" to base Python. We'll start out with four important built-ins:\n",
        "- `len()`\n",
        "- `print()`\n",
        "- `type()`\n",
        "- `help()`\n",
        "\n",
        "We'll use these built-in functions to prime our understanding of how functions work.\n",
        "\n",
        "`len()` lets us check the length of an object. The input to `len()` goes between the parentheses."
      ]
    },
    {
      "cell_type": "code",
      "execution_count": 1,
      "metadata": {
        "id": "AkJ0RoJW6Wzs",
        "outputId": "ea0d6126-3fe1-44ad-9bca-a6487e352ec1",
        "colab": {
          "base_uri": "https://localhost:8080/"
        }
      },
      "outputs": [
        {
          "output_type": "execute_result",
          "data": {
            "text/plain": [
              "74"
            ]
          },
          "metadata": {},
          "execution_count": 1
        }
      ],
      "source": [
        "len(\"This function is useful for counting the number of characters in a string.\")"
      ]
    },
    {
      "cell_type": "code",
      "execution_count": 2,
      "metadata": {
        "id": "4L8voyInA5D7",
        "outputId": "a0308f67-3a19-45ef-8256-1c509e10c86d",
        "colab": {
          "base_uri": "https://localhost:8080/",
          "height": 144
        }
      },
      "outputs": [
        {
          "output_type": "error",
          "ename": "TypeError",
          "evalue": "object of type 'int' has no len()",
          "traceback": [
            "\u001b[0;31m---------------------------------------------------------------------------\u001b[0m",
            "\u001b[0;31mTypeError\u001b[0m                                 Traceback (most recent call last)",
            "\u001b[0;32m<ipython-input-2-04425247d956>\u001b[0m in \u001b[0;36m<cell line: 1>\u001b[0;34m()\u001b[0m\n\u001b[0;32m----> 1\u001b[0;31m \u001b[0mlen\u001b[0m\u001b[0;34m(\u001b[0m\u001b[0;36m8888888\u001b[0m\u001b[0;34m)\u001b[0m \u001b[0;31m# integers don't have lengths\u001b[0m\u001b[0;34m\u001b[0m\u001b[0;34m\u001b[0m\u001b[0m\n\u001b[0m",
            "\u001b[0;31mTypeError\u001b[0m: object of type 'int' has no len()"
          ]
        }
      ],
      "source": [
        "len(8888888) # integers don't have lengths"
      ]
    },
    {
      "cell_type": "code",
      "execution_count": 12,
      "metadata": {
        "id": "WkBo4ZwLAyCT",
        "outputId": "5faf72a4-d81d-413b-ea5d-131d0da2f725",
        "colab": {
          "base_uri": "https://localhost:8080/",
          "height": 144
        }
      },
      "outputs": [
        {
          "output_type": "error",
          "ename": "TypeError",
          "evalue": "object of type 'float' has no len()",
          "traceback": [
            "\u001b[0;31m---------------------------------------------------------------------------\u001b[0m",
            "\u001b[0;31mTypeError\u001b[0m                                 Traceback (most recent call last)",
            "\u001b[0;32m<ipython-input-12-2f03782acd85>\u001b[0m in \u001b[0;36m<cell line: 1>\u001b[0;34m()\u001b[0m\n\u001b[0;32m----> 1\u001b[0;31m \u001b[0mlen\u001b[0m\u001b[0;34m(\u001b[0m\u001b[0;36m5.0\u001b[0m\u001b[0;34m)\u001b[0m \u001b[0;31m# and neither do floats\u001b[0m\u001b[0;34m\u001b[0m\u001b[0;34m\u001b[0m\u001b[0m\n\u001b[0m",
            "\u001b[0;31mTypeError\u001b[0m: object of type 'float' has no len()"
          ]
        }
      ],
      "source": [
        "len(5.0) # and neither do floats"
      ]
    },
    {
      "cell_type": "markdown",
      "metadata": {
        "id": "jXH817d_125c"
      },
      "source": [
        "`print()` is a function that **prints** the given input to the Colab notebook's output. It's a useful function for a multitude of reasons: the first one being that you can use it to check the value of variables.\n",
        "\n",
        "Go ahead and try to use `print()` to check the contents of the variable `todays_date`."
      ]
    },
    {
      "cell_type": "code",
      "execution_count": 13,
      "metadata": {
        "id": "h6qfryg3D1sR"
      },
      "outputs": [],
      "source": [
        "# try it out:\n",
        "# use print() with todays_date as the input\n",
        "\n"
      ]
    },
    {
      "cell_type": "markdown",
      "metadata": {
        "id": "JlL3c5jhDryk"
      },
      "source": [
        "`print()` can also be used to explicitly show the outputs of operations that would normally not be visible. This is easier shown than explained."
      ]
    },
    {
      "cell_type": "code",
      "execution_count": 15,
      "metadata": {
        "id": "e1e9io3Uzdve",
        "outputId": "80864d25-b8fa-4b28-e061-3742a2eac226",
        "colab": {
          "base_uri": "https://localhost:8080/"
        }
      },
      "outputs": [
        {
          "output_type": "execute_result",
          "data": {
            "text/plain": [
              "1573.0"
            ]
          },
          "metadata": {},
          "execution_count": 15
        }
      ],
      "source": [
        "# Will only display last line of code\n",
        "40 + 100\n",
        "90**3\n",
        "500 * 3.146"
      ]
    },
    {
      "cell_type": "code",
      "execution_count": 14,
      "metadata": {
        "id": "ajFyOVLM0eRq",
        "outputId": "a96f3e3c-c037-41a0-c06c-318878fbb02d",
        "colab": {
          "base_uri": "https://localhost:8080/"
        }
      },
      "outputs": [
        {
          "output_type": "stream",
          "name": "stdout",
          "text": [
            "140\n",
            "729000\n",
            "1573.0\n",
            "\n"
          ]
        }
      ],
      "source": [
        "# Will display each line of code\n",
        "print(40 + 100) # the operation happens inside of print()\n",
        "print(90**3)\n",
        "print(500 * 3.146)\n",
        "print()"
      ]
    },
    {
      "cell_type": "markdown",
      "metadata": {
        "id": "OP3aLgem0fJ_"
      },
      "source": [
        "Above, we can only observe the output of the *last* operation. By using `print()`, we can display the result of each operation.\n",
        "\n",
        "`print()` is an example of a function that can take *multiple* inputs. If we use `print()` with multiple inputs, we can display multiple objects in an ordered manner separated by spaces."
      ]
    },
    {
      "cell_type": "code",
      "execution_count": 16,
      "metadata": {
        "id": "t6SR_bgwnZsO"
      },
      "outputs": [],
      "source": [
        "# # try it out:\n",
        "# print force, mass, acceleration (in that order)\n",
        "# simply separate each input with a comma\n",
        "\n",
        "\n",
        "\n",
        "# then try printing acceleration, mass, force (in that order)\n",
        "\n"
      ]
    },
    {
      "cell_type": "markdown",
      "metadata": {
        "id": "3zJyT9p999Ct"
      },
      "source": [
        "Functions can be **nested** within each other, such that the result of one function can be fed directly into another function. Nested functions are evaluated from the inside out. For example, we can use `len()` nested within `print()` to print the length of multiple strings."
      ]
    },
    {
      "cell_type": "code",
      "execution_count": 17,
      "metadata": {
        "id": "qUX_jTuJ-LfZ",
        "outputId": "cb807a76-0067-4fcd-d509-5a366004a5b1",
        "colab": {
          "base_uri": "https://localhost:8080/"
        }
      },
      "outputs": [
        {
          "output_type": "stream",
          "name": "stdout",
          "text": [
            "6\n",
            "7\n",
            "9\n"
          ]
        }
      ],
      "source": [
        "# len() is evaluated first, which gives the length of the string as an integer\n",
        "# this integer is passed on to print(), yielding a printed integer\n",
        "\n",
        "print(len('Monday'))\n",
        "print(len('Tuesday'))\n",
        "print(len('Wednesday'))\n"
      ]
    },
    {
      "cell_type": "markdown",
      "metadata": {
        "id": "tn0tYFdNzTYe"
      },
      "source": [
        "However, be careful: `print()` simply ***displays*** the value of an object or the outcome of a command, so you can't use it to update a variable."
      ]
    },
    {
      "cell_type": "code",
      "execution_count": null,
      "metadata": {
        "id": "pxcCWfDCz8_f"
      },
      "outputs": [],
      "source": [
        "print(mass)\n",
        "printed_addition = print(mass + 1) # the result is displayed, but not stored -- don't be fooled!\n"
      ]
    },
    {
      "cell_type": "code",
      "execution_count": null,
      "metadata": {
        "id": "CCTQd1yg0OlQ"
      },
      "outputs": [],
      "source": [
        "printed_addition + 1 # we get an error because the variable printed_addition contains nothing (NoneType)"
      ]
    },
    {
      "cell_type": "markdown",
      "metadata": {
        "id": "qeOgDq4XLrLi"
      },
      "source": [
        "The `type()` function is a useful built-in function for checking the type of objects. This can be useful for troubleshooting whether or not something is the type that you expect it to be."
      ]
    },
    {
      "cell_type": "code",
      "execution_count": null,
      "metadata": {
        "id": "kBVCcFRrL_1P"
      },
      "outputs": [],
      "source": [
        "# try it out:\n",
        "# use print() to check the type of 42, 42.0, and \"42\"\n",
        "\n"
      ]
    },
    {
      "cell_type": "markdown",
      "metadata": {
        "id": "MoDwf_aGywow"
      },
      "source": [
        "Edit the code below and notice the difference between typing `print()` vs. just `print` inside of `type()`. Why is that?"
      ]
    },
    {
      "cell_type": "code",
      "execution_count": null,
      "metadata": {
        "id": "J36Rjdo4MYty"
      },
      "outputs": [],
      "source": [
        "# try it out:\n",
        "# check the type of print() using type()\n"
      ]
    },
    {
      "cell_type": "markdown",
      "metadata": {
        "id": "hiu7BC3U7TKm"
      },
      "source": [
        "Functions are the bread and butter of conducting analyses in Python, so we'll get to learn a lot of them as we go. You won't need to remember all of them off the top of your head, and you can always look up important ones using the `help()` function."
      ]
    },
    {
      "cell_type": "code",
      "execution_count": null,
      "metadata": {
        "id": "DC5cspnX9jTf"
      },
      "outputs": [],
      "source": [
        "help(len) # if you forget about what len does"
      ]
    },
    {
      "cell_type": "markdown",
      "metadata": {
        "id": "AUAJK7gVRmmq"
      },
      "source": [
        "## Intro to data structures\n",
        "Now that we've familiarized ourselves with some basic data types and manipulations, we can move on to **data structures**. At their simplest, data structures are simply ways to organize units of data. Some data structures are only to organize specific types of data, and others can be used to organize mixed types of data.\n",
        "\n",
        "Today, we'll focus on teaching you all about the **built-in data structures**: lists, sets, tuples, and dictionaries. These are the building blocks of the more advanced data structures that we'll learn about tomorrow and use for the rest of the week."
      ]
    },
    {
      "cell_type": "markdown",
      "metadata": {
        "id": "c1uV3cqScJYZ"
      },
      "source": [
        "### Lists\n",
        "\n",
        "Let's begin with a familiar and intuitive data structure: **lists**. In your day-to-day life, you likely come up with simple lists all the time: grocery lists, task lists, so on and so forth.\n",
        "\n",
        "The structure of lists in Python is quite similar: a list is a data structure that stores an ordered series of values. Lists are typically denoted with square brackets and stored/referenced using a variable name."
      ]
    },
    {
      "cell_type": "code",
      "execution_count": 23,
      "metadata": {
        "id": "LuLdd48VdN6L",
        "outputId": "232997af-064e-4db3-cf84-7b0c8b43f8e7",
        "colab": {
          "base_uri": "https://localhost:8080/"
        }
      },
      "outputs": [
        {
          "output_type": "stream",
          "name": "stdout",
          "text": [
            "['Monday', 'Tuesday', 'Wednesday', 'Thursday', 'Friday']\n",
            "<class 'list'>\n"
          ]
        },
        {
          "output_type": "execute_result",
          "data": {
            "text/plain": [
              "list"
            ]
          },
          "metadata": {},
          "execution_count": 23
        }
      ],
      "source": [
        "weekdays = ['Monday', 'Tuesday', 'Wednesday', 'Thursday', 'Friday']\n",
        "print(weekdays)\n",
        "print(type(weekdays))  # type() will identify data structures as well\n",
        "type(weekdays)"
      ]
    },
    {
      "cell_type": "markdown",
      "metadata": {
        "id": "ORmisFm3KOsb"
      },
      "source": [
        "Lists can be used to store a variety of data types. Most lists you'll use will be composed of the same data type, but it is *possible* to store multiple data types in the same list."
      ]
    },
    {
      "cell_type": "code",
      "execution_count": 33,
      "metadata": {
        "id": "lX_lr6eoR-8q",
        "colab": {
          "base_uri": "https://localhost:8080/",
          "height": 198
        },
        "outputId": "4ad6f2a0-b2c5-4be0-86e8-f1e6cb757d70"
      },
      "outputs": [
        {
          "output_type": "stream",
          "name": "stdout",
          "text": [
            "['one', 2, 3.0, 'four', 5]\n"
          ]
        },
        {
          "output_type": "error",
          "ename": "TypeError",
          "evalue": "'>' not supported between instances of 'int' and 'str'",
          "traceback": [
            "\u001b[0;31m---------------------------------------------------------------------------\u001b[0m",
            "\u001b[0;31mTypeError\u001b[0m                                 Traceback (most recent call last)",
            "\u001b[0;32m<ipython-input-33-9f0daf126a8d>\u001b[0m in \u001b[0;36m<cell line: 3>\u001b[0;34m()\u001b[0m\n\u001b[1;32m      1\u001b[0m \u001b[0mmixed_list\u001b[0m \u001b[0;34m=\u001b[0m \u001b[0;34m[\u001b[0m\u001b[0;34m'one'\u001b[0m\u001b[0;34m,\u001b[0m \u001b[0;36m2\u001b[0m\u001b[0;34m,\u001b[0m \u001b[0;36m3.0\u001b[0m\u001b[0;34m,\u001b[0m \u001b[0;34m'four'\u001b[0m\u001b[0;34m,\u001b[0m \u001b[0;36m5\u001b[0m\u001b[0;34m]\u001b[0m\u001b[0;34m\u001b[0m\u001b[0;34m\u001b[0m\u001b[0m\n\u001b[1;32m      2\u001b[0m \u001b[0mprint\u001b[0m\u001b[0;34m(\u001b[0m\u001b[0mmixed_list\u001b[0m\u001b[0;34m)\u001b[0m\u001b[0;34m\u001b[0m\u001b[0;34m\u001b[0m\u001b[0m\n\u001b[0;32m----> 3\u001b[0;31m \u001b[0mmax\u001b[0m\u001b[0;34m(\u001b[0m\u001b[0mmixed_list\u001b[0m\u001b[0;34m)\u001b[0m\u001b[0;34m\u001b[0m\u001b[0;34m\u001b[0m\u001b[0m\n\u001b[0m",
            "\u001b[0;31mTypeError\u001b[0m: '>' not supported between instances of 'int' and 'str'"
          ]
        }
      ],
      "source": [
        "mixed_list = ['one', 2, 3.0, 'four', 5]\n",
        "print(mixed_list)\n",
        "max(mixed_list)"
      ]
    },
    {
      "cell_type": "code",
      "execution_count": null,
      "metadata": {
        "outputId": "6fa9cf9d-af98-4291-e9d2-0e3fb24ffe94",
        "colab": {
          "base_uri": "https://localhost:8080/"
        },
        "id": "4FiuaiMF2DCo"
      },
      "outputs": [
        {
          "output_type": "stream",
          "name": "stdout",
          "text": [
            "['one', 2, 3.0, 'four', 5]\n"
          ]
        }
      ],
      "source": [
        "mixed_list = ['one', 2, 3.0, 'four', 5]\n",
        "print(mixed_list)\n",
        "max()"
      ]
    },
    {
      "cell_type": "markdown",
      "metadata": {
        "id": "wKEt3hFgR2wh"
      },
      "source": [
        "\n",
        "If you have a list of numerics, you can perform some simple arithmetic operations using built-in functions:\n",
        "\n",
        "* `sum()`: Sums values across a list of numerics.\n",
        "* `min()`: Returns the minimum value in a list of numerics.\n",
        "* `max()`: Returns the maximum value in a list of numerics."
      ]
    },
    {
      "cell_type": "code",
      "execution_count": 36,
      "metadata": {
        "id": "I_YQwsWzLHtu",
        "outputId": "c51f1f32-1be0-475e-c1ee-95fdd5a18650",
        "colab": {
          "base_uri": "https://localhost:8080/"
        }
      },
      "outputs": [
        {
          "output_type": "stream",
          "name": "stdout",
          "text": [
            "2\n"
          ]
        }
      ],
      "source": [
        "num_list = [5, 9, 2.3, 14, 3, 2, 10] # a sample list of numerics\n",
        "\n",
        "# try it out: use sum(), min(), and max() on num_list and see what you get!\n",
        "\n",
        "print(min(num_list))\n",
        "\n"
      ]
    },
    {
      "cell_type": "markdown",
      "metadata": {
        "id": "Q3sYP9P1MvvE"
      },
      "source": [
        "Lastly, lists can be *nested* within each other: you can do this by simply including a list as an element within a list."
      ]
    },
    {
      "cell_type": "code",
      "execution_count": 37,
      "metadata": {
        "id": "sGWDsPFDM7xd",
        "outputId": "471a67b8-e75c-4309-8fb5-21d24767064a",
        "colab": {
          "base_uri": "https://localhost:8080/"
        }
      },
      "outputs": [
        {
          "output_type": "stream",
          "name": "stdout",
          "text": [
            "[['Monday', 'Tuesday', 'Wednesday', 'Thursday', 'Friday'], ['Saturday', 'Sunday']]\n"
          ]
        }
      ],
      "source": [
        "weekends = ['Saturday', 'Sunday']\n",
        "\n",
        "week = [weekdays, weekends]\n",
        "print(week)"
      ]
    },
    {
      "cell_type": "markdown",
      "metadata": {
        "id": "L3qzqLjVVFvE"
      },
      "source": [
        "## Indexes and slicing\n",
        "\n",
        "So far, we've taught you about types of data and how to store them. Now, we'll move on to how to *access* the data that you store.\n",
        "\n",
        "In Python, **iterable** objects are a special class of objects that can be accessed using something called **indexing**. In practical terms, that means that you can access the first, second, third, etc. elements of certain objects like lists and strings. Consider the following string."
      ]
    },
    {
      "cell_type": "code",
      "execution_count": 38,
      "metadata": {
        "id": "e3-nODySIyEI"
      },
      "outputs": [],
      "source": [
        "some_string = 'abcdefghij'  # first ten letters of the alphabet"
      ]
    },
    {
      "cell_type": "markdown",
      "metadata": {
        "id": "CewNxwKUIxn2"
      },
      "source": [
        "Python uses **zero-based indexing**, in which the starting element of a string is indexed as the 0th element rather than the 1st element. (If you've used R in the past, you may stumble a bit while shifting to zero-based indexing. Sorry!)\n",
        "\n",
        "Below are the indices for all of the characters in `some_string`. Although the string itself is ten characters (confirm it with `len()` if you want!), the indices of each character run from 0 to 9.\n",
        "\n",
        "```\n",
        "some_string: a b c d e f g h i j\n",
        "Index:       0 1 2 3 4 5 6 7 8 9\n",
        "```\n",
        "\n",
        "You can access the character at a specific index by using square brackets directly after the variable name, then using an integer index."
      ]
    },
    {
      "cell_type": "code",
      "execution_count": 39,
      "metadata": {
        "id": "kxk_H1XYVHYe",
        "outputId": "2dc9e3d1-c051-4874-955a-0af941d87fa8",
        "colab": {
          "base_uri": "https://localhost:8080/"
        }
      },
      "outputs": [
        {
          "output_type": "stream",
          "name": "stdout",
          "text": [
            "The first character is a\n",
            "The last character is j\n",
            "The last character is also j\n"
          ]
        }
      ],
      "source": [
        "print(\"The first character is\", some_string[0])\n",
        "\n",
        "print(\"The last character is\", some_string[9])\n",
        "\n",
        "print(\"The last character is also\", some_string[-1])"
      ]
    },
    {
      "cell_type": "markdown",
      "metadata": {
        "id": "ME4I84GNVRl5"
      },
      "source": [
        "We can also use square brackets in conjunction with a colon operator `:` to extract a subset of a string, called a **substring**. The colon operator indicates that we want to retrieve the values starting from the left index, then going up to *but not including* the right index. This means that if you want to include the last element of the string in your substring, you actually have to add 1 to the last index!"
      ]
    },
    {
      "cell_type": "code",
      "execution_count": 40,
      "metadata": {
        "id": "3YbpZRS5KRRA",
        "outputId": "7a964a19-1de9-4341-c0fe-7113a010ccc2",
        "colab": {
          "base_uri": "https://localhost:8080/"
        }
      },
      "outputs": [
        {
          "output_type": "stream",
          "name": "stdout",
          "text": [
            "abcd\n",
            "efghi\n",
            "efghij\n"
          ]
        }
      ],
      "source": [
        "print(some_string[0:4]) # only characters from index 0 to 3, does not include index 4\n",
        "\n",
        "print(some_string[4:9]) # only characters from index 4 to 8, does not include index 9\n",
        "\n",
        "print(some_string[4:10]) # only characters from index 4 to 9, does not include index 10 (which doesn't exist)"
      ]
    },
    {
      "cell_type": "markdown",
      "metadata": {
        "id": "SgcLWniQKPGO"
      },
      "source": [
        "Below, we've provided the index guide for the string `'Goodbye!'`, stored in the variable `farewell`."
      ]
    },
    {
      "cell_type": "markdown",
      "metadata": {
        "id": "6Gefz0ukVY-y"
      },
      "source": [
        "\n",
        "\n",
        "```\n",
        "String:  g o o d b y e !\n",
        "Index:   0 1 2 3 4 5 6 7\n",
        "```"
      ]
    },
    {
      "cell_type": "code",
      "execution_count": 47,
      "metadata": {
        "id": "jX8RCXUWVUx_",
        "outputId": "f864ae6a-767c-4b5a-9ce6-84b81cd2da4f",
        "colab": {
          "base_uri": "https://localhost:8080/"
        }
      },
      "outputs": [
        {
          "output_type": "stream",
          "name": "stdout",
          "text": [
            "8\n",
            "farewell\n"
          ]
        }
      ],
      "source": [
        "farewell = \"Goodbye!\"\n",
        "print(len(farewell))\n",
        "print(\"farewell\")\n",
        "\n",
        "# try it out:\n",
        "# slice and print out out the substring 'Good'\n",
        "\n",
        "\n",
        "\n",
        "# try it out:\n",
        "# slice and print out the substring 'bye!'\n",
        "\n"
      ]
    },
    {
      "cell_type": "markdown",
      "metadata": {
        "id": "NRsfTl3Mq9zR"
      },
      "source": [
        "Although using explicit left/right indices works well for shorter strings, it can become cumbersome for large strings with large indices. Thankfully, we can efficiently index or slice elements using these nifty little shortcuts:\n",
        "\n"
      ]
    },
    {
      "cell_type": "code",
      "execution_count": 50,
      "metadata": {
        "id": "hczoh_Q0rSMq",
        "outputId": "c5311913-2ab8-4063-f15a-f64f90abe864",
        "colab": {
          "base_uri": "https://localhost:8080/"
        }
      },
      "outputs": [
        {
          "output_type": "stream",
          "name": "stdout",
          "text": [
            "Good\n",
            "bye!\n",
            "bye!\n"
          ]
        }
      ],
      "source": [
        "print(farewell[:4])  # left index defaults to the first index (0) if left empty\n",
        "\n",
        "print(farewell[4:])  # right index defaults to the last index (n + 1) if left empty\n",
        "\n",
        "print(farewell[-4:])  # you can use *negative* indexes as well: mostly useful to get the last element"
      ]
    },
    {
      "cell_type": "markdown",
      "metadata": {
        "id": "TfnO8vG8oyMQ"
      },
      "source": [
        "Indexing is an important skill to know for parsing data structures. It turns out that you can use the square index brackets to access single elements or subsets of elements in lists, just as you would with strings."
      ]
    },
    {
      "cell_type": "code",
      "execution_count": 55,
      "metadata": {
        "id": "xwC27qCqpWii",
        "outputId": "c1f78395-0187-4b2e-d815-2c9914c19d08",
        "colab": {
          "base_uri": "https://localhost:8080/"
        }
      },
      "outputs": [
        {
          "output_type": "stream",
          "name": "stdout",
          "text": [
            "['grapes', 'orange']\n",
            "['apple', 'orange', 'banana', 'apple']\n"
          ]
        }
      ],
      "source": [
        "fruits = ['apple', 'orange', 'banana', 'apple', 'grapes', 'orange']\n",
        "\n",
        "# try it out:\n",
        "# use indexing to print the last three fruits in the list\n",
        "\n",
        "print(fruits[-2:])\n",
        "print(fruits[:4])"
      ]
    },
    {
      "cell_type": "markdown",
      "metadata": {
        "id": "qVKs9Uy5NujT"
      },
      "source": [
        "If we're working with a nested list, we simply use *two sets* of square brackets to access elements in a sub-list."
      ]
    },
    {
      "cell_type": "code",
      "execution_count": 56,
      "metadata": {
        "id": "_H_a_U9kNznR",
        "outputId": "0f183ca7-57ee-433e-9b9a-3b9823f9892d",
        "colab": {
          "base_uri": "https://localhost:8080/"
        }
      },
      "outputs": [
        {
          "output_type": "stream",
          "name": "stdout",
          "text": [
            "The nested list:  [['Monday', 'Tuesday', 'Wednesday', 'Thursday', 'Friday'], ['Saturday', 'Sunday']]\n",
            "['Monday', 'Tuesday', 'Wednesday', 'Thursday', 'Friday']\n",
            "['Saturday', 'Sunday']\n",
            "Saturday\n"
          ]
        }
      ],
      "source": [
        "# Reassigning the 'week' variable; same as before\n",
        "weekdays = ['Monday', 'Tuesday', 'Wednesday', 'Thursday', 'Friday']\n",
        "weekends = ['Saturday', 'Sunday']\n",
        "week = [weekdays, weekends]\n",
        "\n",
        "\n",
        "\n",
        "print('The nested list: ', week)\n",
        "\n",
        "print(week[0]) # first sub-list\n",
        "\n",
        "print(week[1]) # second sub-list\n",
        "\n",
        "print(week[1][0]) # get first element from the second sub-list"
      ]
    },
    {
      "cell_type": "markdown",
      "metadata": {
        "id": "SrMLoVUOWvqr"
      },
      "source": [
        "## Coercing types\n",
        "\n",
        "Unlike strings and lists, numeric (`int` and `float`) types cannot be indexed. This is slightly frustrating if we want to obtain certain positions in a `int` or `float` value."
      ]
    },
    {
      "cell_type": "code",
      "execution_count": 57,
      "metadata": {
        "id": "NNYzHIvSWoe7",
        "outputId": "2e3ef8ab-76cd-4c5b-d471-adcda00af3f4",
        "colab": {
          "base_uri": "https://localhost:8080/"
        }
      },
      "outputs": [
        {
          "output_type": "execute_result",
          "data": {
            "text/plain": [
              "9.81"
            ]
          },
          "metadata": {},
          "execution_count": 57
        }
      ],
      "source": [
        "# How can we access the hundreth decimal place value of acceleration?\n",
        "acceleration = 9.81\n",
        "acceleration"
      ]
    },
    {
      "cell_type": "code",
      "execution_count": 58,
      "metadata": {
        "id": "GMqONLXtWyq7"
      },
      "outputs": [],
      "source": [
        "# try it out:\n",
        "# what happens when you try to index the hundredth decimal place?\n",
        "\n"
      ]
    },
    {
      "cell_type": "markdown",
      "metadata": {
        "id": "4bUP4QZ1W1yC"
      },
      "source": [
        "Fortunately, we can convert numerics to strings with ease by using the `str()` function.\n",
        "\n",
        "Notice that the value is now surrounded by quotes, indicating that it has been converted to a string."
      ]
    },
    {
      "cell_type": "code",
      "execution_count": 59,
      "metadata": {
        "id": "oKVhuglBW3Bp",
        "outputId": "e6699716-c892-4c80-ed82-0167eadf8ecd",
        "colab": {
          "base_uri": "https://localhost:8080/",
          "height": 35
        }
      },
      "outputs": [
        {
          "output_type": "execute_result",
          "data": {
            "text/plain": [
              "'1'"
            ],
            "application/vnd.google.colaboratory.intrinsic+json": {
              "type": "string"
            }
          },
          "metadata": {},
          "execution_count": 59
        }
      ],
      "source": [
        "str(acceleration)[3] # try to index as usual *after* the conversion to str"
      ]
    },
    {
      "cell_type": "markdown",
      "metadata": {
        "id": "WEh7KTEDW4Xa"
      },
      "source": [
        "Performing these types of conversions is also referred to **coercion** or **typecasting**.\n",
        "\n",
        "We can use built-in functions to convert one data type to another:\n",
        "- `int()`: Converts to an integer\n",
        "- `float()`: Converts to a float\n",
        "- `list()`: Converts to a list of elements"
      ]
    },
    {
      "cell_type": "code",
      "execution_count": 72,
      "metadata": {
        "id": "IuRNsYtzW5wI",
        "outputId": "526a24db-49cc-418b-f4c1-7e1f6f4933dc",
        "colab": {
          "base_uri": "https://localhost:8080/"
        }
      },
      "outputs": [
        {
          "output_type": "execute_result",
          "data": {
            "text/plain": [
              "['4', '9', '5', '0', '.', '1', '8']"
            ]
          },
          "metadata": {},
          "execution_count": 72
        }
      ],
      "source": [
        "# try it out:\n",
        "# convert the string '4950.18' into a float\n",
        "float(4950.18)\n",
        "list('4950.18')\n"
      ]
    },
    {
      "cell_type": "code",
      "execution_count": 62,
      "metadata": {
        "id": "ag9xT4vL6Tfp",
        "outputId": "9ffb10b3-367d-4e04-f524-6bbfa0d74c92",
        "colab": {
          "base_uri": "https://localhost:8080/",
          "height": 35
        }
      },
      "outputs": [
        {
          "output_type": "execute_result",
          "data": {
            "text/plain": [
              "'4950.18'"
            ],
            "application/vnd.google.colaboratory.intrinsic+json": {
              "type": "string"
            }
          },
          "metadata": {},
          "execution_count": 62
        }
      ],
      "source": [
        "# try it out:\n",
        "# convert the int 49 to a string\n",
        "str(4950.18)\n"
      ]
    },
    {
      "cell_type": "code",
      "execution_count": 66,
      "metadata": {
        "id": "RnXXZSMc6Vhu",
        "outputId": "cbd09bfc-5764-4bf0-f0f2-ca5aef165111",
        "colab": {
          "base_uri": "https://localhost:8080/"
        }
      },
      "outputs": [
        {
          "output_type": "execute_result",
          "data": {
            "text/plain": [
              "['b', 'a', 'n', 'a', 'n', 'a']"
            ]
          },
          "metadata": {},
          "execution_count": 66
        }
      ],
      "source": [
        "# try it out:\n",
        "# convert the string 'banana' into a list\n",
        "list('banana')\n"
      ]
    },
    {
      "cell_type": "code",
      "execution_count": null,
      "metadata": {
        "id": "EaXuRMRK6YrB"
      },
      "outputs": [],
      "source": [
        "# try it out:\n",
        "# convert the string '900' into a int\n",
        "\n"
      ]
    },
    {
      "cell_type": "markdown",
      "metadata": {
        "id": "U5tMk-I8W7vv"
      },
      "source": [
        "Not all coercions are possible: for example, character-only strings won't become floats or ints, and you can't turn a non-iterable object into a list."
      ]
    },
    {
      "cell_type": "code",
      "execution_count": null,
      "metadata": {
        "id": "GnhzVHP1W9fg"
      },
      "outputs": [],
      "source": [
        "# this won't work\n",
        "greeting = \"Hello\"\n",
        "\n",
        "print(greeting)\n",
        "print(int(greeting))"
      ]
    },
    {
      "cell_type": "code",
      "execution_count": null,
      "metadata": {
        "id": "eHtuG1dlPzaK"
      },
      "outputs": [],
      "source": [
        "# this won't work\n",
        "print(495)\n",
        "print(list(495))"
      ]
    },
    {
      "cell_type": "markdown",
      "metadata": {
        "id": "ONJVavV7P4uB"
      },
      "source": [
        "Lastly, the same \"updating\" rule applies to coercing variables. You can coerce a variable's value to whatever you want (as long as it's a valid coercion!), but the coercion won't actually alter the variable's value unless you update the variable."
      ]
    },
    {
      "cell_type": "code",
      "execution_count": null,
      "metadata": {
        "id": "vJbJCJGaQI8q"
      },
      "outputs": [],
      "source": [
        "acceleration = 9.81\n",
        "print(\"The original variable type is\", type(acceleration)) # check original type of variable's value\n",
        "print(str(acceleration)) # coerce the variable's value to a string, then print it\n",
        "print(\"The current variable type is\", type(acceleration)) # check the type again\n",
        "\n",
        "acceleration = str(acceleration) # update to coerced value\n",
        "print(acceleration) # print the variable's value\n",
        "print(\"The current variable type is\", type(acceleration)) # check the type again"
      ]
    },
    {
      "cell_type": "markdown",
      "metadata": {
        "id": "xWKdVRZLWt_Y"
      },
      "source": [
        "# More operations with strings"
      ]
    },
    {
      "cell_type": "markdown",
      "metadata": {
        "id": "vuxALiC-W_7r"
      },
      "source": [
        "## Special characters\n",
        "You can use **special characters** in strings to modify how they print. The most common special characters for string formatting are `\\t` and `\\n`, which correspond to **tabs** and **newlines**. You can think of the backslash as a character that tells the computer to treat the next character as something other than the default, such that 'n' becomes a new line when preceded by a backslash, 't' becomes as tab, etc.\n",
        "\n",
        "Let's examine the following string:"
      ]
    },
    {
      "cell_type": "code",
      "execution_count": 73,
      "metadata": {
        "id": "PFhh6juQQ4hZ",
        "outputId": "7acca27f-7e33-4841-e604-f72ed3b9ca25",
        "colab": {
          "base_uri": "https://localhost:8080/",
          "height": 35
        }
      },
      "outputs": [
        {
          "output_type": "execute_result",
          "data": {
            "text/plain": [
              "'This is the first line,\\n\\tthis is the second line,\\n\\t\\tthis is the third line.'"
            ],
            "application/vnd.google.colaboratory.intrinsic+json": {
              "type": "string"
            }
          },
          "metadata": {},
          "execution_count": 73
        }
      ],
      "source": [
        "\"This is the first line,\\n\\tthis is the second line,\\n\\t\\tthis is the third line.\""
      ]
    },
    {
      "cell_type": "markdown",
      "metadata": {
        "id": "RclzX_eQQ5L4"
      },
      "source": [
        "This might look messy, but `print()` function knows how to format the string in accordance with the special characters."
      ]
    },
    {
      "cell_type": "code",
      "execution_count": 74,
      "metadata": {
        "id": "H68xSax8XBg0",
        "outputId": "51965991-0ce5-41c7-ea65-01f8bed199c5",
        "colab": {
          "base_uri": "https://localhost:8080/"
        }
      },
      "outputs": [
        {
          "output_type": "stream",
          "name": "stdout",
          "text": [
            "This is the first line,\n",
            "\tthis is the second line,\n",
            "\t\tthis is the third line.\n"
          ]
        }
      ],
      "source": [
        "print(\"This is the first line,\\n\\tthis is the second line,\\n\\t\\tthis is the third line.\")"
      ]
    },
    {
      "cell_type": "markdown",
      "metadata": {
        "id": "ULIsp9-HXEr6"
      },
      "source": [
        "\n",
        "\n",
        "If you want to include an actual backslash (or an actual \\n or \\t) in your string, you can simply add another backslash (sort of like a double negative!)"
      ]
    },
    {
      "cell_type": "code",
      "execution_count": 75,
      "metadata": {
        "id": "42Mw-RGlXGfq",
        "outputId": "45499a61-b755-4133-c0c5-86d5c44d8b60",
        "colab": {
          "base_uri": "https://localhost:8080/"
        }
      },
      "outputs": [
        {
          "output_type": "stream",
          "name": "stdout",
          "text": [
            "This is the first line, \n",
            "\t this is the second line.\n",
            "There is only one line in this string,\\not \\two.\n"
          ]
        }
      ],
      "source": [
        "print(\"This is the first line, \\n\\t this is the second line.\")  # a newline and a tab\n",
        "print(\"There is only one line in this string,\\\\not \\\\two.\")  # extra backslashes cancel out newline and tab activity"
      ]
    },
    {
      "cell_type": "markdown",
      "metadata": {
        "id": "sv6tCo8eXIUL"
      },
      "source": [
        "Why bother with formatting? It turns out that some file formats use these special characters as part of their unique formatting. For example, **BED (Browser Extensible Data) files**, which are used to view genomic annotations in genome browsers, use tab delimiting with `\\t` to define annotation tracks:"
      ]
    },
    {
      "cell_type": "code",
      "execution_count": 76,
      "metadata": {
        "id": "V8fTTNu7XJm_",
        "outputId": "722e16a6-22d9-4ae1-badb-6effb856bc51",
        "colab": {
          "base_uri": "https://localhost:8080/"
        }
      },
      "outputs": [
        {
          "output_type": "stream",
          "name": "stdout",
          "text": [
            "chr7\t127471196\t127472363\tPos1\t0\t+\t127471196\t127472363\t255,0,0\n",
            "chr7\t127472363\t127473530\tPos2\t0\t+\t127472363\t127473530\t255,0,0\n"
          ]
        }
      ],
      "source": [
        "print('''chr7\\t127471196\\t127472363\\tPos1\\t0\\t+\\t127471196\\t127472363\\t255,0,0\n",
        "chr7\\t127472363\\t127473530\\tPos2\\t0\\t+\\t127472363\\t127473530\\t255,0,0''')"
      ]
    },
    {
      "cell_type": "markdown",
      "metadata": {
        "id": "QKNXe5SwXLlF"
      },
      "source": [
        "Similarly, **FASTA/FASTQ files** use newlines with `\\n` to mark different sequences within a single file:"
      ]
    },
    {
      "cell_type": "code",
      "execution_count": 84,
      "metadata": {
        "id": "p3bfPFjJXNC9",
        "outputId": "43600572-d176-4229-b9dd-e658c5be933b",
        "colab": {
          "base_uri": "https://localhost:8080/"
        }
      },
      "outputs": [
        {
          "output_type": "stream",
          "name": "stdout",
          "text": [
            ">chr1 Jackalope chromosome 1;length=7\n",
            "GATTACA\n",
            ">chr2 Jackalope chromosome 2;length=7\n",
            "TTACAGA\n",
            "<class 'str'>\n"
          ]
        }
      ],
      "source": [
        "print('''>chr1 Jackalope chromosome 1;length=7\n",
        "GATTACA\\n>chr2 Jackalope chromosome 2;length=7\\nTTACAGA''')\n",
        "a = 'ATC'\n",
        "b = \"ATC\"\n",
        "c = '''ATC'''\n",
        "print(type(c))"
      ]
    },
    {
      "cell_type": "markdown",
      "metadata": {
        "id": "fKura_m9XOSa"
      },
      "source": [
        "Once you're more advanced in your Python journey, you can generate these particularly formatted files by simply writing strings and inserting characters where appropriate."
      ]
    },
    {
      "cell_type": "markdown",
      "metadata": {
        "id": "4mp8eknjNnf4"
      },
      "source": [
        "# Exercises\n",
        "\n",
        "Let's finish up with some exercises. The solutions to these exercises are available in the Day 1 Solutions notebook, and we'll also post the lecturer's copy of the notebook after the end of each day."
      ]
    },
    {
      "cell_type": "markdown",
      "metadata": {
        "id": "k7fazW-xLaND"
      },
      "source": [
        "## Set A\n",
        "\n",
        "**A1**: Assign three variables called month, year, and day with the month, year, and day of your birth."
      ]
    },
    {
      "cell_type": "code",
      "execution_count": 95,
      "metadata": {
        "id": "MDefLCc5Lc2w"
      },
      "outputs": [],
      "source": [
        "### write your code below ###\n",
        "month = 'January'\n",
        "year = 2025\n",
        "day = '10/10/1981'\n",
        "\n",
        "\n"
      ]
    },
    {
      "cell_type": "markdown",
      "metadata": {
        "id": "RNLSHF8Ep0Ir"
      },
      "source": [
        "**A2**: Using `print()`, display the value of each variable in the following order: year, month, day."
      ]
    },
    {
      "cell_type": "code",
      "execution_count": 96,
      "metadata": {
        "id": "fx1JR-eBMUUl",
        "outputId": "573b0bd0-64fd-48ca-e853-161ee15027b4",
        "colab": {
          "base_uri": "https://localhost:8080/"
        }
      },
      "outputs": [
        {
          "output_type": "stream",
          "name": "stdout",
          "text": [
            "2025 January 10/10/1981\n"
          ]
        }
      ],
      "source": [
        "### write your code below ###\n",
        "\n",
        "print(year, month, day)\n"
      ]
    },
    {
      "cell_type": "markdown",
      "metadata": {
        "id": "j0UhRJzbp0Ir"
      },
      "source": [
        "**A3**: Check the type of each of the variables."
      ]
    },
    {
      "cell_type": "code",
      "execution_count": 99,
      "metadata": {
        "id": "hAYHhBpARZmd",
        "outputId": "8c0da9d5-5d76-4fb1-cec4-4dada9ce9211",
        "colab": {
          "base_uri": "https://localhost:8080/"
        }
      },
      "outputs": [
        {
          "output_type": "stream",
          "name": "stdout",
          "text": [
            "<class 'int'>\n",
            "<class 'str'>\n",
            "<class 'str'>\n"
          ]
        }
      ],
      "source": [
        "### write your code below ###\n",
        "print(type(year))\n",
        "print(type(month))\n",
        "print(type(day))\n"
      ]
    },
    {
      "cell_type": "markdown",
      "metadata": {
        "id": "x5WKZi-Up0Ir"
      },
      "source": [
        "**A4**: Check the length of each of the variables."
      ]
    },
    {
      "cell_type": "code",
      "execution_count": 107,
      "metadata": {
        "id": "P-v76OkXO2B0",
        "outputId": "cfa19673-5673-4a8f-fec4-dc70a3e570ac",
        "colab": {
          "base_uri": "https://localhost:8080/"
        }
      },
      "outputs": [
        {
          "output_type": "stream",
          "name": "stdout",
          "text": [
            "4\n",
            "7\n",
            "10\n"
          ]
        }
      ],
      "source": [
        "### write your code below ###\n",
        "print(len('year'))\n",
        "print(len(month))\n",
        "print(len(day))"
      ]
    },
    {
      "cell_type": "markdown",
      "metadata": {
        "id": "NNGVmWbMp0Is"
      },
      "source": [
        "**A5**: Coerce the type of each variable to a string, then check the type of each of the variables again."
      ]
    },
    {
      "cell_type": "code",
      "execution_count": 109,
      "metadata": {
        "id": "l42ikWeRPrry",
        "outputId": "a7289a1f-ded0-4a3c-bacd-4cda4272ec52",
        "colab": {
          "base_uri": "https://localhost:8080/"
        }
      },
      "outputs": [
        {
          "output_type": "stream",
          "name": "stdout",
          "text": [
            "4\n"
          ]
        }
      ],
      "source": [
        "### write your code below ###\n",
        "year = str(year)\n",
        "print(len(year))\n"
      ]
    },
    {
      "cell_type": "markdown",
      "metadata": {
        "id": "9i_pYjvlp0Is"
      },
      "source": [
        "**A6**: Create a list that contains the variables in the following order: year, month, day."
      ]
    },
    {
      "cell_type": "code",
      "execution_count": 114,
      "metadata": {
        "id": "7BBGArs8Rgdy",
        "outputId": "c99d3651-25df-4853-80bd-f41bc0f04254",
        "colab": {
          "base_uri": "https://localhost:8080/"
        }
      },
      "outputs": [
        {
          "output_type": "execute_result",
          "data": {
            "text/plain": [
              "['2025', 'January', '10/10/1981']"
            ]
          },
          "metadata": {},
          "execution_count": 114
        }
      ],
      "source": [
        "### write your code below ###\n",
        "list(year)\n",
        "list(month)\n",
        "list(day)\n",
        "my_bir= [year, month, day]\n",
        "my_bir\n"
      ]
    },
    {
      "cell_type": "markdown",
      "metadata": {
        "id": "Spsl-pfGLK6T"
      },
      "source": [
        "## Set B\n",
        "\n",
        "**B1**: Try printing the concatenation of `stringA` and `stringB`."
      ]
    },
    {
      "cell_type": "code",
      "execution_count": 119,
      "metadata": {
        "id": "iav2NaJGWCY1",
        "outputId": "a4e02be8-e4d7-47c2-e751-0fefed3d8648",
        "colab": {
          "base_uri": "https://localhost:8080/"
        }
      },
      "outputs": [
        {
          "output_type": "stream",
          "name": "stdout",
          "text": [
            "AGGAGGU AUG CAG\n",
            "AGGAGGUAUGCAG\n"
          ]
        }
      ],
      "source": [
        "stringA = 'AGGAGGU'\n",
        "stringB = 'AUG'\n",
        "stringC = 'CAG'\n",
        "\n",
        "### write your code below ###\n",
        "\n",
        "print(stringA, stringB, stringC)\n",
        "print(stringA + stringB + stringC)"
      ]
    },
    {
      "cell_type": "markdown",
      "metadata": {
        "id": "OPrzbyWMp0It"
      },
      "source": [
        "**B2**: Try printing `stringC`, repeated 38 times."
      ]
    },
    {
      "cell_type": "code",
      "execution_count": 117,
      "metadata": {
        "id": "8zyjCeAeWFs_",
        "outputId": "e6827feb-b7ca-41e4-b747-f3976d44ce9d",
        "colab": {
          "base_uri": "https://localhost:8080/"
        }
      },
      "outputs": [
        {
          "output_type": "stream",
          "name": "stdout",
          "text": [
            "CAGCAGCAGCAGCAGCAGCAGCAGCAGCAGCAGCAGCAGCAGCAGCAGCAGCAGCAGCAGCAGCAGCAGCAGCAGCAGCAGCAGCAGCAGCAGCAGCAGCAGCAGCAGCAGCAG\n"
          ]
        }
      ],
      "source": [
        "### write your code below ###\n",
        "print(stringC * 38)\n"
      ]
    },
    {
      "cell_type": "markdown",
      "metadata": {
        "id": "dm80eKMPXhU3"
      },
      "source": [
        "## Set C\n",
        "\n",
        "Let's try some last quick exercises before we go off to lunch!\n",
        "\n",
        "**C1**: Calculate the average of 5, 6, 7, 8, and 9.\n",
        "\n",
        "(hint: we've learned how to do this using both lists and basic computations - once you've figured out one can you figure it out using the other method?)"
      ]
    },
    {
      "cell_type": "code",
      "execution_count": 150,
      "metadata": {
        "id": "BokyaLjLXpC1",
        "outputId": "0e15b495-72c0-4a93-c4ae-89d3cd8c0218",
        "colab": {
          "base_uri": "https://localhost:8080/"
        }
      },
      "outputs": [
        {
          "output_type": "stream",
          "name": "stdout",
          "text": [
            "7.0\n",
            "<class 'list'>\n",
            "<class 'list'>\n",
            "aver of them is : 7.0\n"
          ]
        }
      ],
      "source": [
        "### write your code below ###\n",
        "\n",
        "print((5 + 6 + 7 + 8 + 9)/5)\n",
        "number = ['5','6','7','8','9']\n",
        "\n",
        "print(type(number))\n",
        "print(type(number2))\n",
        "number2 = [5,6,7,8,9]\n",
        "#print(\"aver of them is :\", sum(number)/len(number))\n",
        "print(\"aver of them is :\", sum(number2)/len(number2))"
      ]
    },
    {
      "cell_type": "markdown",
      "metadata": {
        "id": "etcLiJCcp0It"
      },
      "source": [
        "**C2**: Correct the errors and/or make the necessary changes to the code below. There are multiple ways to make things right!"
      ]
    },
    {
      "cell_type": "code",
      "execution_count": 127,
      "metadata": {
        "id": "I3pBw9NaXrkk",
        "outputId": "81a17d52-674d-4033-9c04-5ef69d8af7e3",
        "colab": {
          "base_uri": "https://localhost:8080/"
        }
      },
      "outputs": [
        {
          "output_type": "stream",
          "name": "stdout",
          "text": [
            "\n",
            "0\n",
            "5.0\n",
            "5\n",
            "60\n",
            "60.0\n"
          ]
        }
      ],
      "source": [
        "print() # Change this to print 0.\n",
        "print(0)\n",
        "\n",
        "print(40 / 8) # Change this to print 5 (integer value, not float)\n",
        "print(int(40 / 8))\n",
        "\n",
        "print(60 // (5 % 2)) # Change this to print 60.0\n",
        "print(float(60 // (5 % 2)))"
      ]
    },
    {
      "cell_type": "markdown",
      "metadata": {
        "id": "cEiMwqTRp0Iu"
      },
      "source": [
        "**C3**: Add special characters to make the string print in a fasta format. (See below)"
      ]
    },
    {
      "cell_type": "code",
      "execution_count": 139,
      "metadata": {
        "id": "yVSG0uz8Xru5",
        "outputId": "71dd81f5-f4ff-43a3-c2c2-eeb65d0289da",
        "colab": {
          "base_uri": "https://localhost:8080/"
        }
      },
      "outputs": [
        {
          "output_type": "stream",
          "name": "stdout",
          "text": [
            ">gene1\n",
            "ACTAGCTA\n",
            "CAGTTCGCNAGC\n",
            ">gene2\n",
            "TCGATCNATC\n",
            "GATNGTCGAT\n"
          ]
        }
      ],
      "source": [
        "fasta = '>gene1ACTAGCTACAGTTCGCNAGC>gene2TCGATCNATCGATNGTCGAT'\n",
        "fasta = '>gene1\\nACTAGCTA\\nCAGTTCGCNAGC\\n>gene2\\nTCGATCNATC\\nGATNGTCGAT'\n",
        "\n",
        "print(fasta)\n",
        "\n"
      ]
    },
    {
      "cell_type": "markdown",
      "metadata": {
        "id": "6zJU40HnYB3e"
      },
      "source": [
        "The result of printing your edited string should look like this:\n",
        "\n",
        "    >gene1\n",
        "    ACTAGCTACA\n",
        "    GTTCGCNAGC\n",
        "    >gene2\n",
        "    TCGATCNATC\n",
        "    GATNGTCGAT"
      ]
    }
  ],
  "metadata": {
    "colab": {
      "provenance": [],
      "include_colab_link": true
    },
    "kernelspec": {
      "display_name": "Python 3",
      "language": "python",
      "name": "python3"
    },
    "language_info": {
      "codemirror_mode": {
        "name": "ipython",
        "version": 3
      },
      "file_extension": ".py",
      "mimetype": "text/x-python",
      "name": "python",
      "nbconvert_exporter": "python",
      "pygments_lexer": "ipython3",
      "version": "3.8.5"
    }
  },
  "nbformat": 4,
  "nbformat_minor": 0
}