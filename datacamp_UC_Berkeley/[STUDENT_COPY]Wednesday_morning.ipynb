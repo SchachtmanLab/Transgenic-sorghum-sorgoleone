{
  "cells": [
    {
      "cell_type": "markdown",
      "metadata": {
        "id": "view-in-github",
        "colab_type": "text"
      },
      "source": [
        "<a href=\"https://colab.research.google.com/github/SchachtmanLab/Transgenic-sorghum-sorgoleone/blob/master/%5BSTUDENT_COPY%5DWednesday_morning.ipynb\" target=\"_parent\"><img src=\"https://colab.research.google.com/assets/colab-badge.svg\" alt=\"Open In Colab\"/></a>"
      ]
    },
    {
      "cell_type": "markdown",
      "metadata": {
        "id": "KLUTNONZ7r_x"
      },
      "source": [
        "# Good morning!\n",
        "\n",
        "Welcome back to Day 3 of PyCamp!\n",
        "\n",
        "Yesterday, we went on a grand tour of `numpy`, a package broadly used to conduct numerical operations in Python. We learned a *ton* of new functions with `numpy`, so instead of diving in to a new topic right away, we're going to spend a fair chunk of the morning expanding on yesterday's content and walking through how you can use it for your own data."
      ]
    },
    {
      "cell_type": "markdown",
      "metadata": {
        "id": "Y-PV1ST6phYU"
      },
      "source": [
        "# Warm-up: reviewing arrays\n",
        "\n",
        "Yesterday, we spent our whole day discussing the art and science of `numpy` arrays. You probably recall the main points of arrays: they're similar-ish to lists, they can be of different shapes and sizes, and they're very efficient for numerical operations.\n",
        "\n",
        "Let's begin our review by importing the package that allows us to actually use arrays: `numpy`. **Please follow along with your cheat sheet in hand, so that you know exactly where to find the material during exercises.**"
      ]
    },
    {
      "cell_type": "code",
      "execution_count": 7,
      "metadata": {
        "id": "fDAyOlqz8_45",
        "outputId": "569c0baa-f413-4d0e-f144-a516781b52e0",
        "colab": {
          "base_uri": "https://localhost:8080/",
          "height": 180
        }
      },
      "outputs": [
        {
          "output_type": "error",
          "ename": "TypeError",
          "evalue": "array() missing required argument 'object' (pos 0)",
          "traceback": [
            "\u001b[0;31m---------------------------------------------------------------------------\u001b[0m",
            "\u001b[0;31mTypeError\u001b[0m                                 Traceback (most recent call last)",
            "\u001b[0;32m<ipython-input-7-f7bfa9b0cdc7>\u001b[0m in \u001b[0;36m<cell line: 7>\u001b[0;34m()\u001b[0m\n\u001b[1;32m      5\u001b[0m \u001b[0;31m# import the numpy package with its alias\u001b[0m\u001b[0;34m\u001b[0m\u001b[0;34m\u001b[0m\u001b[0m\n\u001b[1;32m      6\u001b[0m \u001b[0;32mimport\u001b[0m \u001b[0mnumpy\u001b[0m \u001b[0;32mas\u001b[0m \u001b[0mnp\u001b[0m\u001b[0;34m\u001b[0m\u001b[0;34m\u001b[0m\u001b[0m\n\u001b[0;32m----> 7\u001b[0;31m \u001b[0mnp\u001b[0m\u001b[0;34m.\u001b[0m\u001b[0marray\u001b[0m\u001b[0;34m(\u001b[0m\u001b[0;34m)\u001b[0m\u001b[0;34m\u001b[0m\u001b[0;34m\u001b[0m\u001b[0m\n\u001b[0m",
            "\u001b[0;31mTypeError\u001b[0m: array() missing required argument 'object' (pos 0)"
          ]
        }
      ],
      "source": [
        "# remember, we need to import the packages we want to use\n",
        "# you've seen us do it before: now try it yourself\n",
        "\n",
        "# try it out:\n",
        "# import the numpy package with its alias\n",
        "import numpy as np\n",
        "np.array()"
      ]
    },
    {
      "cell_type": "code",
      "source": [],
      "metadata": {
        "id": "FGr4hM4n9sNa"
      },
      "execution_count": null,
      "outputs": []
    },
    {
      "cell_type": "markdown",
      "metadata": {
        "id": "WisRvYJAl2_C"
      },
      "source": [
        "## Creating arrays\n",
        "\n",
        "Next, let's recall how we generate arrays. We can generate arrays from lists or nested lists:\n",
        "\n",
        "```\n",
        "two_by_five = np.array([[1, 1, 1, 1, 1],\n",
        "                        [1, 1, 1, 1, 1]])\n",
        "```\n",
        "\n",
        "Alternatively, we can use special functions to generate arrays:\n",
        "\n",
        "* `np.ones()`: Given a tuple of `(rows, columns)`, returns an array of the desired shape where each value is a `1.0`.\n",
        "* `np.zeros()`: Given a tuple of `(rows, columns)`, returns an array of the desired shape where each value is a `0.0`.\n",
        "* `np.full()`: Given a tuple of `(rows, columns)` and a input value, returns an array of the desired shape where each value is the input value.\n",
        "* `np.arange()`: Given three inputs: `start, stop, step`, returns a sequence of numerics spaced by `step` in the range between `start` and `stop`, *exclusive* of `stop`.\n",
        "  * Example: `np.arange(0, 6, 3)` would return an array with `0, 3`."
      ]
    },
    {
      "cell_type": "markdown",
      "metadata": {
        "id": "TVQRxDHQp8tP"
      },
      "source": [
        "## Basic operations\n",
        "\n",
        "Once we have our arrays in the shape, size, and range we desire, we can perform basic array operations."
      ]
    },
    {
      "cell_type": "code",
      "execution_count": 17,
      "metadata": {
        "id": "chTe1knLqCvl",
        "outputId": "8e7f4ee0-be9c-4018-8ce7-f0a979f91105",
        "colab": {
          "base_uri": "https://localhost:8080/"
        }
      },
      "outputs": [
        {
          "output_type": "execute_result",
          "data": {
            "text/plain": [
              "array([[5., 5., 5.],\n",
              "       [5., 5., 5.],\n",
              "       [5., 5., 5.]])"
            ]
          },
          "metadata": {},
          "execution_count": 17
        }
      ],
      "source": [
        "# a 3x3 array of 1s + a 3x3 array of 4s\n",
        "np.ones((3,3))\n",
        "np.full((3,3),4)\n",
        "np.ones((3,3)) + np.full((3,3),4)\n"
      ]
    },
    {
      "cell_type": "code",
      "source": [
        "np.array([1,3,5])\n",
        "np.zeros((1,3))\n",
        "np.full((5,8),10000000000000000)\n",
        "np.arange(9,19,1)\n",
        "\n",
        "array_1 = (np.array([0,9,8,8])).reshape(4,1)\n",
        "array_1"
      ],
      "metadata": {
        "id": "06a4MnPh9u3-",
        "outputId": "cabbd6b6-0407-40a7-f74d-0c63e3097da1",
        "colab": {
          "base_uri": "https://localhost:8080/"
        }
      },
      "execution_count": 19,
      "outputs": [
        {
          "output_type": "execute_result",
          "data": {
            "text/plain": [
              "array([[0],\n",
              "       [9],\n",
              "       [8],\n",
              "       [8]])"
            ]
          },
          "metadata": {},
          "execution_count": 19
        }
      ]
    },
    {
      "cell_type": "code",
      "source": [
        "# When performing an operation on two arrays in numpy:\n",
        "# For every dimension, either:\n",
        "# 1) Both numpy arrays have the same length\n",
        "# 2) One numpy array has a length of one (broadcasting happens)"
      ],
      "metadata": {
        "id": "87VoQvhLKVyj"
      },
      "execution_count": null,
      "outputs": []
    },
    {
      "cell_type": "markdown",
      "metadata": {
        "id": "y2kmAGeDkTBG"
      },
      "source": [
        "We can use *broadcasting* to \"stretch\" operations across rows and columns:\n",
        "\n",
        "![broadcasting figure 3](https://numpy.org/doc/stable/_images/broadcasting_4.png)"
      ]
    },
    {
      "cell_type": "code",
      "execution_count": 34,
      "metadata": {
        "id": "n4gLGQplnSaA",
        "outputId": "90dc3007-a5af-4e45-d749-85c5b8054fbb",
        "colab": {
          "base_uri": "https://localhost:8080/"
        }
      },
      "outputs": [
        {
          "output_type": "stream",
          "name": "stdout",
          "text": [
            "[[1. 1. 1. 1. 1. 1.]\n",
            " [1. 1. 1. 1. 1. 1.]\n",
            " [1. 1. 1. 1. 1. 1.]] \n",
            " [1 2 3 4 5 6]\n",
            "[[1. 2. 3. 4. 5. 6.]\n",
            " [1. 2. 3. 4. 5. 6.]\n",
            " [1. 2. 3. 4. 5. 6.]] \n",
            " [[2. 3. 4. 5. 6. 7.]\n",
            " [2. 3. 4. 5. 6. 7.]\n",
            " [2. 3. 4. 5. 6. 7.]]\n"
          ]
        }
      ],
      "source": [
        "# try it out:\n",
        "# multiply a 3 x 6 array of ones by an array containing\n",
        "# the sequence of integers from 1 to 7, exclusive of 7\n",
        "# and assign it to a variable called int_array\n",
        "a = np.ones((3,6))\n",
        "b = np.arange(1,7,1) #default stepsize  = 1\n",
        "\n",
        "print(a,\"\\n\", b)\n",
        "int_array = a * b\n",
        "int_array_2 = a + b\n",
        "print(int_array, \"\\n\", int_array_2)"
      ]
    },
    {
      "cell_type": "markdown",
      "metadata": {
        "id": "a1LaK1UFiDlN"
      },
      "source": [
        "## Indexing and slicing\n",
        "Next, we can index and slice arrays using a `[row, column]` index. Here are the key tips for this:\n",
        "* You can use the `:` operator in place of the `row` or `column` index to indicate \"all rows\" or \"all columns\".\n",
        "* You can use a tuple in the `row` or `column` index to select specific rows or columns: for example, `(0, 1)` in the column index would select the first and second columns."
      ]
    },
    {
      "cell_type": "code",
      "execution_count": 37,
      "metadata": {
        "id": "qr-4tpb7ipSj",
        "outputId": "d5f05d4f-3372-4872-c251-449fa1827841",
        "colab": {
          "base_uri": "https://localhost:8080/"
        }
      },
      "outputs": [
        {
          "output_type": "execute_result",
          "data": {
            "text/plain": [
              "array([[1., 3., 6.],\n",
              "       [1., 3., 6.],\n",
              "       [1., 3., 6.]])"
            ]
          },
          "metadata": {},
          "execution_count": 37
        }
      ],
      "source": [
        "# try it out: slice out the first, third, and sixth columns of int_array\n",
        "int_array[0, (0,5)]\n",
        "int_array[:,(0, 2,5)] # use tumple in () to slice multiple columns"
      ]
    },
    {
      "cell_type": "markdown",
      "metadata": {
        "id": "A1Lakfb4ppOD"
      },
      "source": [
        "## Summarizing arrays\n",
        "\n",
        "We can use simple methods and functions to summarize values in arrays.\n",
        "\n",
        "* `.min()` and `.max()` are equivalent to `np.min()` and `np.max()`.\n",
        "* `.sum()` is equivalent to `np.sum()`.\n",
        "* `.mean()` is equivalent to `np.mean()`.\n",
        "* `.std()` is equivalent to `np.std()`.\n",
        "* `.var()` is equivalent to `np.var()`.\n",
        "* Median is only available as a function (`np.median`)."
      ]
    },
    {
      "cell_type": "code",
      "execution_count": 42,
      "metadata": {
        "id": "-NQutp5Mdqzb",
        "outputId": "3813be15-98c6-42d5-f41c-3115ff8ce9d6",
        "colab": {
          "base_uri": "https://localhost:8080/"
        }
      },
      "outputs": [
        {
          "output_type": "execute_result",
          "data": {
            "text/plain": [
              "3.5"
            ]
          },
          "metadata": {},
          "execution_count": 42
        }
      ],
      "source": [
        "# try it out both ways: calculate the mean of int_array\n",
        "int_array.var()\n",
        "int_array.mean()\n",
        "np.median(int_array)"
      ]
    },
    {
      "cell_type": "markdown",
      "metadata": {
        "id": "e-nAVmNWlKWK"
      },
      "source": [
        "### The `axis` parameter\n",
        "Many methods and functions in `numpy` accept an input parameter called `axis`, which determines whether the summary calculation is performed row-wise or column-wise.\n",
        "* `axis = 0`: Indicates a column-wise operation.\n",
        "* `axis = 1`: Indicates a row-wise operation."
      ]
    },
    {
      "cell_type": "code",
      "source": [
        "# column-wise means\n",
        "a= int_array.mean(axis=0)\n",
        "b=np.mean(int_array, axis=0)\n",
        "a==b"
      ],
      "metadata": {
        "id": "xERqILpIMrlm",
        "outputId": "7a210273-9a7f-43d9-ca80-e2e4bdb71e15",
        "colab": {
          "base_uri": "https://localhost:8080/"
        }
      },
      "execution_count": 45,
      "outputs": [
        {
          "output_type": "execute_result",
          "data": {
            "text/plain": [
              "array([ True,  True,  True,  True,  True,  True])"
            ]
          },
          "metadata": {},
          "execution_count": 45
        }
      ]
    },
    {
      "cell_type": "code",
      "source": [
        "# row-wise means\n"
      ],
      "metadata": {
        "id": "REBC9JicM0k9"
      },
      "execution_count": null,
      "outputs": []
    },
    {
      "cell_type": "markdown",
      "metadata": {
        "id": "mddeKmX7p_yC"
      },
      "source": [
        "## Random number generation\n",
        "\n",
        "We can create arrays of pseudo-random numbers using `numpy`'s random number generator object, which is always created with the same line of code:\n",
        "\n",
        "```\n",
        "rng = np.random.default_rng()\n",
        "```\n",
        "\n",
        "We can slightly modify this line of code with a **seed value**, ensuring that we generate reproducible random numbers (read: the \"random\" numbers that the lecturer generates will be the same ones that you generate on your own screen).\n",
        "\n",
        "```\n",
        "# we will usually use 2025 as a seed\n",
        "rng = np.random.default_rng(2025)\n",
        "```\n",
        "\n",
        "We can use methods for `rng` to draw random numbers from a set or distribution of numbers:\n",
        "* `.integers()`: Takes three inputs: a lower bound, an upper bound, and the number of desired numbers. Draws from the set of *integers*.\n",
        "* `.uniform()`: Takes three inputs: a lower bound, an upper bound, and the number of desired numbers. Each value is equally likely to be drawn from the uniform distribution in the given range.\n",
        "* `.normal()`: Takes three inputs: the center (mean) of the distribution, a scale factor, and the number of desired numbers. Probabilities of numbers within the range correspond to the normal distribution."
      ]
    },
    {
      "cell_type": "code",
      "execution_count": 56,
      "metadata": {
        "id": "uyj5opumqm_L",
        "outputId": "550f7b2a-f297-4019-f8e8-02a2c2c8ecff",
        "colab": {
          "base_uri": "https://localhost:8080/"
        }
      },
      "outputs": [
        {
          "output_type": "execute_result",
          "data": {
            "text/plain": [
              "array([ 7.22444237,  8.67883541,  9.03561987,  8.78305723, 11.89500834,\n",
              "        7.36791179, 10.73347405,  9.52178924,  2.39126714,  3.42144134])"
            ]
          },
          "metadata": {},
          "execution_count": 56
        }
      ],
      "source": [
        "# try it out:\n",
        "# using 2025 as a seed, create the rng object\n",
        "# then draw 10 random numbers from the normal distribution with a scale factor of 5\n",
        "rng = np.random.default_rng(2025)\n",
        "rng.integers(0,666, (4,5))\n",
        "rng.uniform(0,666, (4,5))\n",
        "\n",
        "rng.normal(8,5, 10)"
      ]
    },
    {
      "cell_type": "markdown",
      "metadata": {
        "id": "5IFfbhwXr93c"
      },
      "source": [
        "## Filtering (Boolean masking)\n",
        "Lastly (and most importantly), we can filter arrays using logical operations. Using a logic check on an array will yield a Boolean array of the same shape and size, which tells us about whether or not each element in the original array passes the logic check."
      ]
    },
    {
      "cell_type": "code",
      "execution_count": 67,
      "metadata": {
        "id": "0xLlSJAftY7Q",
        "outputId": "dd561318-2971-46fb-ec9f-f883f19a59bb",
        "colab": {
          "base_uri": "https://localhost:8080/"
        }
      },
      "outputs": [
        {
          "output_type": "stream",
          "name": "stdout",
          "text": [
            "Starting array:\n",
            " [[4 3 2]\n",
            " [3 7 2]\n",
            " [4 4 9]\n",
            " [1 1 1]\n",
            " [6 8 7]\n",
            " [1 4 3]\n",
            " [1 8 9]\n",
            " [3 4 9]]\n",
            "Rows where the third column is greater than 4:\n",
            " [False False  True False  True False  True  True]\n",
            "Row values where the third column is greater than 4:\n",
            " [[4 4 9]\n",
            " [6 8 7]\n",
            " [1 8 9]\n",
            " [3 4 9]]\n"
          ]
        }
      ],
      "source": [
        "# generate random integers into a (8,3) array\n",
        "rng = np.random.default_rng()\n",
        "random_ints = rng.integers(1,10,(8,3))\n",
        "\n",
        "\n",
        "# reshape it\n",
        "\n",
        "print('Starting array:\\n', random_ints)  #back-in:\\n\n",
        "\n",
        "print('Rows where the third column is greater than 4:\\n', random_ints[:, 2] > 4)\n",
        "rr = random_ints[:, 2] > 4\n",
        "random_ints[rr,:]\n",
        "\n",
        "print('Row values where the third column is greater than 4:\\n', random_ints[rr,:])"
      ]
    },
    {
      "cell_type": "markdown",
      "metadata": {
        "id": "UC7AD_ZCtin_"
      },
      "source": [
        "Once we have the Boolean array, we can use it to select our filtered values and perform downstream operations on them."
      ]
    },
    {
      "cell_type": "code",
      "execution_count": 89,
      "metadata": {
        "id": "Y2yKAIeEtqCa",
        "outputId": "65856b59-33c3-422b-a8ca-2503c7fc8162",
        "colab": {
          "base_uri": "https://localhost:8080/"
        }
      },
      "outputs": [
        {
          "output_type": "stream",
          "name": "stdout",
          "text": [
            "[ True  True  True False  True  True  True  True]\n",
            "[3.14285714 5.42857143 5.85714286] \n",
            " [3.14285714 5.42857143 5.85714286]\n",
            "inti array:\n",
            "[[4 3 2]\n",
            " [3 7 2]\n",
            " [4 4 9]\n",
            " [1 1 1]\n",
            " [6 8 7]\n",
            " [1 4 3]\n",
            " [1 8 9]\n",
            " [3 4 9]]\n",
            "inti array:\n",
            " [[4 3 2]\n",
            " [3 7 2]\n",
            " [4 4 9]\n",
            " [1 1 1]\n",
            " [6 8 7]\n",
            " [1 4 3]\n",
            " [1 8 9]\n",
            " [3 4 9]]\n"
          ]
        }
      ],
      "source": [
        "# try it out:\n",
        "# select rows in random_ints where the second column is greater than 2\n",
        "# then calculate the column-wise means of the selected rows\n",
        "cc = random_ints[:, 1] > 2\n",
        "print(cc)\n",
        "#random_ints.mean([:,cc])\n",
        "np.mean(random_ints[cc,:], axis=0)\n",
        "gg=random_ints[cc,:]\n",
        "gg.mean(axis=0)\n",
        "\n",
        "print(gg.mean(axis=0), \"\\n\", np.mean(random_ints[cc,:], axis=0))\n",
        "print(f'inti array:\\n{random_ints}')\n",
        "print('inti array:\\n', random_ints)\n",
        "#print(random_ints[cc,:])\n"
      ]
    },
    {
      "cell_type": "markdown",
      "metadata": {
        "id": "1C4kzoAz04io"
      },
      "source": [
        "# Intro to data exploration\n",
        "Now that we've refreshed our knowledge of arrays, we're ready to move on to the next phase of our Python journey: learning how to import and work with actual data.\n",
        "\n",
        "**Data exploration** refers to the process of semi-structured examination of the data at hand – we're not gathering data, but we're also not quite analyzing it rigorously (statistical tests, etc) yet. This process broadly encompasses importing, cleaning, and summarizing data."
      ]
    },
    {
      "cell_type": "code",
      "execution_count": 90,
      "metadata": {
        "id": "G8x0BfTSROHD",
        "outputId": "32b8a617-e6ab-45ad-e8f6-20eb5f27e308",
        "colab": {
          "base_uri": "https://localhost:8080/"
        }
      },
      "outputs": [
        {
          "output_type": "stream",
          "name": "stdout",
          "text": [
            "Cloning into 'pythonbootcamp'...\n",
            "remote: Enumerating objects: 298, done.\u001b[K\n",
            "remote: Counting objects: 100% (200/200), done.\u001b[K\n",
            "remote: Compressing objects: 100% (163/163), done.\u001b[K\n",
            "remote: Total 298 (delta 113), reused 82 (delta 37), pack-reused 98 (from 1)\u001b[K\n",
            "Receiving objects: 100% (298/298), 95.57 MiB | 23.64 MiB/s, done.\n",
            "Resolving deltas: 100% (141/141), done.\n",
            "Updating files: 100% (50/50), done.\n"
          ]
        }
      ],
      "source": [
        "# make sure to run this cell to import our external files for today!\n",
        "# this is not something you have to know the details of, but if you're\n",
        "# curious about the specifics, you can read the [Optional] section\n",
        "# on cloning files from GitHub at the end of the notebook\n",
        "\n",
        "!git clone https://github.com/ccbskillssem/pythonbootcamp.git"
      ]
    },
    {
      "cell_type": "markdown",
      "metadata": {
        "id": "rJIRO35Wvtvz"
      },
      "source": [
        "## Common file types\n",
        "\n",
        "Scientific data comes in a myriad of file types. The easiest form of data to work with comes in a **delimited file**, which separates values into rows and columns based on *delimiter characters*. Here are some common delimited file types:\n",
        "* **Comma separated value files** (`.csv`): Columns are separated by commas, and rows are separated by *newlines* (literally new lines, or `\\n` special characters).\n",
        "* **Tab separated value files** (`.tsv`): Columns are separated by tabs, and rows are separated by newlines as well.\n",
        "\n",
        "You can generally tell the structure of a file given its **file extension**: for example, a comma separated file will usually be denoted `.csv`, and a tab separated file will be denoted `.tsv`."
      ]
    },
    {
      "cell_type": "markdown",
      "metadata": {
        "id": "nMm3u4RBCvcb"
      },
      "source": [
        "## Importing data\n",
        "\n",
        "Let's take a look at a simple dataset called `animals2` [[source here]](https://vincentarelbundock.github.io/Rdatasets/doc/robustbase/Animals2.html), which contains data on average body weight and brain weight for 65 species.\n",
        "\n",
        "| Index  | Description                   |\n",
        "|--------|-------------------------------|\n",
        "| 0      | Body weight (kilograms)       |\n",
        "| 1      | Brain weight (grams)          |\n",
        "\n",
        "A **file path** is an address that points to where the data is stored. Our file path, shown below, is a string that points to the location in the runtime where the `animals2` dataset is stored.\n",
        "\n",
        "```\n",
        "# we represent file paths as strings\n",
        "'/content/pythonbootcamp/day_3/Animals2.csv'\n",
        "```\n",
        "\n",
        "We're going to use a function called `np.genfromtxt()` to read in our data. This function takes many different input parameters, but the most important one is `delimiter`, a string that specifies the character used to delimit columns. By default, `numpy` delimits columns by spaces, so this is an essential input parameter for comma and tab delimited data.\n",
        "\n",
        "We can infer from the file path that `animals2` comma-delimited (`.csv` format). Let's give importing a go and see what our data looks like."
      ]
    },
    {
      "cell_type": "code",
      "execution_count": 91,
      "metadata": {
        "id": "fsbFtn7ZTf5_",
        "outputId": "297b6cc8-1be2-4bac-8bbf-7a9bcb38bf21",
        "colab": {
          "base_uri": "https://localhost:8080/"
        }
      },
      "outputs": [
        {
          "output_type": "execute_result",
          "data": {
            "text/plain": [
              "array([[      nan,       nan,       nan],\n",
              "       [      nan, 1.350e+00, 8.100e+00],\n",
              "       [      nan, 4.650e+02, 4.230e+02],\n",
              "       [      nan, 3.633e+01, 1.195e+02],\n",
              "       [      nan, 2.766e+01, 1.150e+02],\n",
              "       [      nan, 1.040e+00, 5.500e+00],\n",
              "       [      nan, 1.170e+04, 5.000e+01],\n",
              "       [      nan, 2.547e+03, 4.603e+03],\n",
              "       [      nan, 1.871e+02, 4.190e+02],\n",
              "       [      nan, 5.210e+02, 6.550e+02],\n",
              "       [      nan, 1.000e+01, 1.150e+02],\n",
              "       [      nan, 3.300e+00, 2.560e+01],\n",
              "       [      nan, 5.290e+02, 6.800e+02],\n",
              "       [      nan, 2.070e+02, 4.060e+02],\n",
              "       [      nan, 6.200e+01, 1.320e+03],\n",
              "       [      nan, 6.654e+03, 5.712e+03],\n",
              "       [      nan, 9.400e+03, 7.000e+01],\n",
              "       [      nan, 6.800e+00, 1.790e+02],\n",
              "       [      nan, 3.500e+01, 5.600e+01],\n",
              "       [      nan, 1.200e-01, 1.000e+00],\n",
              "       [      nan, 2.300e-02, 4.000e-01],\n",
              "       [      nan, 2.500e+00, 1.210e+01],\n",
              "       [      nan, 5.550e+01, 1.750e+02],\n",
              "       [      nan, 1.000e+02, 1.570e+02],\n",
              "       [      nan, 5.216e+01, 4.400e+02],\n",
              "       [      nan, 2.800e-01, 1.900e+00],\n",
              "       [      nan, 8.700e+04, 1.545e+02],\n",
              "       [      nan, 1.220e-01, 3.000e+00],\n",
              "       [      nan, 1.920e+02, 1.800e+02],\n",
              "       [      nan, 3.385e+00, 4.450e+01],\n",
              "       [      nan, 4.800e-01, 1.550e+01],\n",
              "       [      nan, 1.483e+01, 9.820e+01],\n",
              "       [      nan, 4.190e+00, 5.800e+01],\n",
              "       [      nan, 4.250e-01, 6.400e+00],\n",
              "       [      nan, 1.010e-01, 4.000e+00],\n",
              "       [      nan, 9.200e-01, 5.700e+00],\n",
              "       [      nan, 1.000e+00, 6.600e+00],\n",
              "       [      nan, 5.000e-03, 1.400e-01],\n",
              "       [      nan, 6.000e-02, 1.000e+00],\n",
              "       [      nan, 3.500e+00, 1.080e+01],\n",
              "       [      nan, 2.000e+00, 1.230e+01],\n",
              "       [      nan, 1.700e+00, 6.300e+00],\n",
              "       [      nan, 2.300e-02, 3.000e-01],\n",
              "       [      nan, 7.850e-01, 3.500e+00],\n",
              "       [      nan, 2.000e-01, 5.000e+00],\n",
              "       [      nan, 1.410e+00, 1.750e+01],\n",
              "       [      nan, 8.500e+01, 3.250e+02],\n",
              "       [      nan, 7.500e-01, 1.230e+01],\n",
              "       [      nan, 3.500e+00, 3.900e+00],\n",
              "       [      nan, 4.050e+00, 1.700e+01],\n",
              "       [      nan, 1.000e-02, 2.500e-01],\n",
              "       [      nan, 1.400e+00, 1.250e+01],\n",
              "       [      nan, 2.500e+02, 4.900e+02],\n",
              "       [      nan, 1.055e+01, 1.795e+02],\n",
              "       [      nan, 5.500e-01, 2.400e+00],\n",
              "       [      nan, 6.000e+01, 8.100e+01],\n",
              "       [      nan, 3.600e+00, 2.100e+01],\n",
              "       [      nan, 4.288e+00, 3.920e+01],\n",
              "       [      nan, 7.500e-02, 1.200e+00],\n",
              "       [      nan, 4.800e-02, 3.300e-01],\n",
              "       [      nan, 3.000e+00, 2.500e+01],\n",
              "       [      nan, 1.600e+02, 1.690e+02],\n",
              "       [      nan, 9.000e-01, 2.600e+00],\n",
              "       [      nan, 1.620e+00, 1.140e+01],\n",
              "       [      nan, 1.040e-01, 2.500e+00],\n",
              "       [      nan, 4.235e+00, 5.040e+01]])"
            ]
          },
          "metadata": {},
          "execution_count": 91
        }
      ],
      "source": [
        "animals2 = np.genfromtxt('/content/pythonbootcamp/day_3/Animals2.csv',\n",
        "              delimiter=',')\n",
        "animals2 # look at the imported data"
      ]
    },
    {
      "cell_type": "markdown",
      "metadata": {
        "id": "1wiHZdvhX3Gt"
      },
      "source": [
        "## Cleaning data\n",
        "Now that our data is imported, we can see that we have a fair number of elements called `nan`, which stands for *not a number*. `nan` values are problematic because they can prevent us from performing meaningful analysis with our data.\n",
        "\n",
        "> *What's the origin of `nan` values?<br>*\n",
        "Recall that `numpy` arrays can only contain a single data type: for example, our data is mostly numerical, `numpy` will default to importing the data as a numerical-only array. Any non-numerical data (for example, column or row names) or missing data values (like empty cells in Excel) are automatically transformed into `nan` values.<br>If you download `animals2`, you'll see that it has both column and row names: hence, it has both a column and row of `nan` values. Tomorrow, we'll learn about a data structure that borrows heavily from arrays and *also* lets us use multiple types.\n",
        "\n",
        "How to download the data file? Go to the left hand panel of the Colab notebook and click on the folder icon at the bottom of the panel. This will bring you to Colab's Files menu. You should see a file called random_airquality.csv: if you hover over it and click the menu with three dots, you can obtain the file path (if you want to import it again) or download the file.\n",
        "\n",
        "There are many methods to resolve these `nan` values. This process is known as **data cleaning**, and it's one of the most important steps for us to do ahead of data analysis.\n",
        "\n",
        "Let's start by mocking up a smaller array with interspersed `nan` values. We'll practice with this array before returning to `animals2`."
      ]
    },
    {
      "cell_type": "code",
      "execution_count": 94,
      "metadata": {
        "id": "aZrWXPcy0ZER",
        "outputId": "9c67dd92-d865-48a5-8afb-422356a014db",
        "colab": {
          "base_uri": "https://localhost:8080/"
        }
      },
      "outputs": [
        {
          "output_type": "execute_result",
          "data": {
            "text/plain": [
              "array([[nan, nan, nan, nan, nan],\n",
              "       [ 0.,  2., nan,  3.,  5.],\n",
              "       [ 1.,  3.,  5.,  0.,  9.],\n",
              "       [ 4.,  2.,  9., nan,  2.]])"
            ]
          },
          "metadata": {},
          "execution_count": 94
        }
      ],
      "source": [
        "# manually create an smaller sample array with nan values\n",
        "# using np.nan\n",
        "\n",
        "nan_array = np.array([[np.nan, np.nan, np.nan, np.nan, np.nan],\n",
        "                      [0, 2, np.nan, 3, 5],\n",
        "                      [1, 3, 5, 0, 9],\n",
        "                      [4, 2, 9, np.nan, 2]])\n",
        "nan_array"
      ]
    },
    {
      "cell_type": "markdown",
      "metadata": {
        "id": "ZxE2YhJkOI96"
      },
      "source": [
        "What happens if we try to perform operations with this array?"
      ]
    },
    {
      "cell_type": "code",
      "execution_count": 95,
      "metadata": {
        "id": "hUYM3w_0UHty",
        "outputId": "614d6d69-154d-42f7-f9b1-9b607d50fc70",
        "colab": {
          "base_uri": "https://localhost:8080/"
        }
      },
      "outputs": [
        {
          "output_type": "execute_result",
          "data": {
            "text/plain": [
              "array([nan, nan, nan, nan, nan])"
            ]
          },
          "metadata": {},
          "execution_count": 95
        }
      ],
      "source": [
        "# try it out:\n",
        "# get the column-wise mean for each column\n",
        "nan_array.mean(axis=0)"
      ]
    },
    {
      "cell_type": "markdown",
      "metadata": {
        "id": "gDsKuJXU6Hmy"
      },
      "source": [
        "### Identifying `nan` values\n",
        "We can resolve `nan` values using re-assignment and filtering, which we learned about yesterday, alongside a new function called `np.isnan()`.\n",
        "\n",
        "`np.isnan()` takes in an existing array and performs a logic check on its values, returning a Boolean array where `True` indicates the presence of a `nan` value."
      ]
    },
    {
      "cell_type": "code",
      "execution_count": 96,
      "metadata": {
        "id": "Y_6zFoh-YKos",
        "outputId": "a4c8b877-8ced-4382-f6fc-f3b056f5be45",
        "colab": {
          "base_uri": "https://localhost:8080/"
        }
      },
      "outputs": [
        {
          "output_type": "stream",
          "name": "stdout",
          "text": [
            "Array with nans:\n",
            " [[nan nan nan nan nan]\n",
            " [ 0.  2. nan  3.  5.]\n",
            " [ 1.  3.  5.  0.  9.]\n",
            " [ 4.  2.  9. nan  2.]]\n",
            "Boolean map of nans:\n",
            " [[ True  True  True  True  True]\n",
            " [False False  True False False]\n",
            " [False False False False False]\n",
            " [False False False  True False]]\n"
          ]
        }
      ],
      "source": [
        "print('Array with nans:\\n', nan_array)\n",
        "\n",
        "print('Boolean map of nans:\\n', np.isnan(nan_array))"
      ]
    },
    {
      "cell_type": "code",
      "source": [
        "#True = 1\n",
        "#False = 0\n",
        "\n",
        "np.array([True, False]).mean()"
      ],
      "metadata": {
        "id": "uNpn6759OZOp",
        "outputId": "4af672c0-adff-4db9-83cf-67144d54a289",
        "colab": {
          "base_uri": "https://localhost:8080/"
        }
      },
      "execution_count": 98,
      "outputs": [
        {
          "output_type": "execute_result",
          "data": {
            "text/plain": [
              "0.5"
            ]
          },
          "metadata": {},
          "execution_count": 98
        }
      ]
    },
    {
      "cell_type": "markdown",
      "metadata": {
        "id": "ORFAPeiX0zNz"
      },
      "source": [
        "Although it's easy to manually inspect the Boolean map for our above sample array, it may not be so simple for larger arrays. Thankfully, we can use the `.sum()` method on the Boolean map to get a count of `nan` values. If the sum is non-zero, we have `nan` values."
      ]
    },
    {
      "cell_type": "code",
      "execution_count": 109,
      "metadata": {
        "id": "QX6t9nnS1E5T",
        "outputId": "5cd8ff76-9173-4cc7-8d90-91f494119334",
        "colab": {
          "base_uri": "https://localhost:8080/"
        }
      },
      "outputs": [
        {
          "output_type": "execute_result",
          "data": {
            "text/plain": [
              "array([[nan, nan, nan, nan, nan],\n",
              "       [ 0.,  2., nan,  3.,  5.],\n",
              "       [ 1.,  3.,  5.,  0.,  9.],\n",
              "       [ 4.,  2.,  9., nan,  2.]])"
            ]
          },
          "metadata": {},
          "execution_count": 109
        }
      ],
      "source": [
        "# try it out:\n",
        "# use .sum() on the Boolean map to get the number of nan values\n",
        "np.isnan(nan_array) == True\n",
        "x = (np.isnan(nan_array) == True)\n",
        "x.sum()\n",
        "\n",
        "boolmap = np.isnan(nan_array)\n",
        "boolmap.sum()\n",
        "boolmap.sum(axis =1)\n",
        "x = (np.isnan(nan_array) == False)\n",
        "x.sum()\n",
        "#np.isnan(nan_array).sum()\n",
        "# use .sum() and the axis parameter to get the number of nan values in each row\n",
        "nan_array\n"
      ]
    },
    {
      "cell_type": "markdown",
      "metadata": {
        "id": "0z2a7W4hA5m9"
      },
      "source": [
        "### Removing all-`nan` rows/cols\n",
        "\n",
        "Let's start by performing an obvious data-cleaning step: removing \"empty\" rows and columns that contain all `nan` values. These rows/columns are devoid of data value and prevent us from performing calculations with our array.\n",
        "\n",
        "The `.all()` method summarizes the `np.isnan()` map by collapsing it either row-wise or column-wise, depending on the `axis` parameter. Rows/columns that are comprised of all `nan` values will be collapsed to a `True` value."
      ]
    },
    {
      "cell_type": "code",
      "source": [
        "print(np.isnan(nan_array)[1, :])\n",
        "print(np.isnan(nan_array)[1, :].all()) # Tests whether all elements are True. boolean logic: everything is the array is true or not"
      ],
      "metadata": {
        "id": "WlFHbg4FoFJR",
        "outputId": "6302f6e4-1052-47e6-d82c-537e559aada6",
        "colab": {
          "base_uri": "https://localhost:8080/"
        }
      },
      "execution_count": 112,
      "outputs": [
        {
          "output_type": "stream",
          "name": "stdout",
          "text": [
            "[False False  True False False]\n",
            "False\n"
          ]
        }
      ]
    },
    {
      "cell_type": "code",
      "execution_count": 118,
      "metadata": {
        "id": "ORvkLoMeCf5a",
        "outputId": "c0f8e0bf-ed7f-4f74-f585-c1a884aab718",
        "colab": {
          "base_uri": "https://localhost:8080/"
        }
      },
      "outputs": [
        {
          "output_type": "stream",
          "name": "stdout",
          "text": [
            "Boolean map of nans:\n",
            " [[ True  True  True  True  True]\n",
            " [False False  True False False]\n",
            " [False False False False False]\n",
            " [False False False  True False]]\n",
            "[False False False False False]\n",
            "\n",
            "Columns containing all nans:\n",
            " [False False False False False]\n",
            "\n",
            "Rows containing all nans:\n",
            " [ True False False False]\n"
          ]
        }
      ],
      "source": [
        "print('Boolean map of nans:\\n', np.isnan(nan_array))\n",
        "print(np.isnan(nan_array).all(axis=0))\n",
        "print('\\nColumns containing all nans:\\n', np.isnan(nan_array).all(axis=0))\n",
        "\n",
        "print('\\nRows containing all nans:\\n', np.isnan(nan_array).all(axis=1))"
      ]
    },
    {
      "cell_type": "markdown",
      "metadata": {
        "id": "ZOZ05ck4xCcz"
      },
      "source": [
        "Above, we see that we have no all-`nan` columns, but we do have one all-`nan` row.\n",
        "\n",
        "We're going to perform our most complicated filtering and slicing trick yet: we're going to take the 1D Boolean map of rows containing only `nan` values and use it as a Boolean mask to remove the all-`nan` row.\n",
        "\n",
        "Let's start by examining the 1D Boolean map generated with `.all()`. If we use this as a Boolean mask, we end up selecting *only* the all-`nan` row."
      ]
    },
    {
      "cell_type": "code",
      "execution_count": 125,
      "metadata": {
        "id": "-S58JgI2cdmp",
        "outputId": "589924d0-5327-46c5-c0af-7b16f9ae8e1b",
        "colab": {
          "base_uri": "https://localhost:8080/"
        }
      },
      "outputs": [
        {
          "output_type": "stream",
          "name": "stdout",
          "text": [
            "after filter\n",
            " [[nan nan nan nan nan]]\n",
            "[ True False False False]\n",
            "after filter\n",
            " [[ 0.  2. nan  3.  5.]\n",
            " [ 1.  3.  5.  0.  9.]\n",
            " [ 4.  2.  9. nan  2.]]\n"
          ]
        }
      ],
      "source": [
        "# you can use a 1D Boolean array as a row index to select rows\n",
        "# True = selects the row\n",
        "# False = does not select the row\n",
        "filter = np.isnan(nan_array).all(axis=1)\n",
        "nan_array[filter, :]\n",
        "print(\"after filter\\n\", nan_array[filter, :])\n",
        "print(filter)\n",
        "nan_array\n",
        "~np.isnan(nan_array).all(axis=1)  # flip everything by ~\n",
        "print(\"after filter\\n\", nan_array[~filter, :])"
      ]
    },
    {
      "cell_type": "markdown",
      "metadata": {
        "id": "-EIgwg7kcWms"
      },
      "source": [
        "How does this work?\n",
        "\n",
        "Above, `np.isnan(nan_array).all(axis = 1)`, corresponds to:\n",
        "\n",
        "```\n",
        "[True, False, False, False]\n",
        "```\n",
        "\n",
        "The `True` value indicates that the first row of `nan_array` contains all `nan` values. When we select with this map, we only retain this all-`nan` row. That's the opposite of what we want!\n",
        "\n",
        "Therefore, we'll need to **negate** our 1D Boolean map using a new operator: the `~` operator.\n",
        "\n",
        "This operator will invert the Boolean values in the map, such that the `True` values (indicating a row containing all `nan` values) becomes `False`, and vice versa."
      ]
    },
    {
      "cell_type": "code",
      "execution_count": 126,
      "metadata": {
        "id": "j9FwMwReytee",
        "outputId": "b0a6c9a6-0963-4934-ce4d-6cdc4174a2dd",
        "colab": {
          "base_uri": "https://localhost:8080/"
        }
      },
      "outputs": [
        {
          "output_type": "stream",
          "name": "stdout",
          "text": [
            "Before negation:\n",
            " [ True False False False]\n",
            "After negation:\n",
            " Ellipsis\n"
          ]
        }
      ],
      "source": [
        "print('Before negation:\\n', np.isnan(nan_array).all(axis = 1))\n",
        "\n",
        "print('After negation:\\n', ...)"
      ]
    },
    {
      "cell_type": "markdown",
      "metadata": {
        "id": "AAAXjzNZcRdk"
      },
      "source": [
        "This allows us to specifically *exclude* the all-`nan` row, which is marked as `False`."
      ]
    },
    {
      "cell_type": "code",
      "execution_count": 127,
      "metadata": {
        "id": "lG2tfKRjxyiu",
        "outputId": "b9b30a01-0637-43b0-f9d3-7948d3ddcd5e",
        "colab": {
          "base_uri": "https://localhost:8080/"
        }
      },
      "outputs": [
        {
          "output_type": "stream",
          "name": "stdout",
          "text": [
            "Array with nans:\n",
            " [[nan nan nan nan nan]\n",
            " [ 0.  2. nan  3.  5.]\n",
            " [ 1.  3.  5.  0.  9.]\n",
            " [ 4.  2.  9. nan  2.]]\n",
            "After filtering out all-nan row:\n",
            " Ellipsis\n"
          ]
        }
      ],
      "source": [
        "print('Array with nans:\\n', nan_array)\n",
        "\n",
        "print('After filtering out all-nan row:\\n', ...)"
      ]
    },
    {
      "cell_type": "markdown",
      "metadata": {
        "id": "VPQRzz50bDr8"
      },
      "source": [
        "### Setting `nan` to a default value\n",
        "\n",
        "After removing the all-`nan` row, we still have some interspersed `nan` values. One common method for resolving `nan` values is simply replacing them with a real numeric value.\n",
        "\n",
        "The `np.nan_to_num()` function is a convenient function that replaces `nan` with the float `0.0`."
      ]
    },
    {
      "cell_type": "code",
      "execution_count": 131,
      "metadata": {
        "id": "IeSHvJOzblgG",
        "outputId": "5f75a627-2068-4c55-a307-2719dd2efd9e",
        "colab": {
          "base_uri": "https://localhost:8080/"
        }
      },
      "outputs": [
        {
          "output_type": "stream",
          "name": "stdout",
          "text": [
            "Array with nans:\n",
            " [[nan nan nan nan nan]\n",
            " [ 0.  2. nan  3.  5.]\n",
            " [ 1.  3.  5.  0.  9.]\n",
            " [ 4.  2.  9. nan  2.]]\n",
            "Array with replaced nans:\n",
            " [[0. 0. 0. 0. 0.]\n",
            " [0. 2. 0. 3. 5.]\n",
            " [1. 3. 5. 0. 9.]\n",
            " [4. 2. 9. 0. 2.]]\n",
            "Array with replaced nans:\n",
            " [[-999. -999. -999. -999. -999.]\n",
            " [   0.    2. -999.    3.    5.]\n",
            " [   1.    3.    5.    0.    9.]\n",
            " [   4.    2.    9. -999.    2.]]\n"
          ]
        }
      ],
      "source": [
        "# look at our array again\n",
        "print('Array with nans:\\n', nan_array)\n",
        "\n",
        "# replace nan_array's nans with 0.0\n",
        "print('Array with replaced nans:\\n', np.nan_to_num(nan_array))\n",
        "print('Array with replaced nans:\\n', np.nan_to_num(nan_array, nan=-999))"
      ]
    },
    {
      "cell_type": "code",
      "execution_count": 142,
      "metadata": {
        "id": "4NV3TsDwt6BV",
        "outputId": "6a1cfe7b-2c5a-4d9f-e06f-d8adab2a2fdb",
        "colab": {
          "base_uri": "https://localhost:8080/"
        }
      },
      "outputs": [
        {
          "output_type": "stream",
          "name": "stdout",
          "text": [
            "after filter\n",
            " [[ 0.  2. nan  3.  5.]\n",
            " [ 1.  3.  5.  0.  9.]\n",
            " [ 4.  2.  9. nan  2.]]\n",
            "Array with replaced nans with -999:\n",
            " [[   0.    2. -999.    3.    5.]\n",
            " [   1.    3.    5.    0.    9.]\n",
            " [   4.    2.    9. -999.    2.]]\n",
            "[   1.66666667    2.33333333 -328.33333333 -332.            5.33333333]\n"
          ]
        },
        {
          "output_type": "execute_result",
          "data": {
            "text/plain": [
              "array([ True, False, False, False])"
            ]
          },
          "metadata": {},
          "execution_count": 142
        }
      ],
      "source": [
        "# try it out:\n",
        "# update nan_array by removing all-nan rows\n",
        "filter = np.isnan(nan_array).all(axis=1)\n",
        "~np.isnan(nan_array).all(axis=1)  # flip everything by ~\n",
        "print(\"after filter\\n\", nan_array[~filter, :])\n",
        "# update nan_array, using np.nan_to_num() to replace nan values\n",
        "gg = nan_array[~filter, :]\n",
        "print('Array with replaced nans with -999:\\n', np.nan_to_num(gg, nan=-999))\n",
        "# then calculate the column-wise mean\n",
        "cc = np.nan_to_num(gg, nan=-999)\n",
        "print(cc.mean(axis = 0))\n",
        "np.isnan(nan_array).all(axis=1)\n",
        "# np.isnan(nan_array).all(axis=-1) %% [markdown] Now that we've reviewed the\n",
        "# various methods for cleaning our data, finish cleaning up `animals2` using the\n",
        "# following steps: * Count how many `nan` values exist in our dataset. * Remove\n",
        "# all-`nan` rows. * Remove all-`nan` columns. * Count how many `nan` values\n",
        "# remain. %% use this cell to \"reset\" animals2 if necessary"
      ]
    },
    {
      "cell_type": "markdown",
      "metadata": {
        "id": "WfpEKewbF9st"
      },
      "source": [
        "Now that we've reviewed the various methods for cleaning our data, finish cleaning up `animals2` using the following steps:\n",
        "\n",
        "* Count how many `nan` values exist in our dataset.\n",
        "* Remove all-`nan` rows.\n",
        "* Remove all-`nan` columns.\n",
        "* Count how many `nan` values remain."
      ]
    },
    {
      "cell_type": "code",
      "source": [],
      "metadata": {
        "id": "UZRRcXdRW_8K"
      },
      "execution_count": null,
      "outputs": []
    },
    {
      "cell_type": "code",
      "execution_count": 161,
      "metadata": {
        "id": "3QMNt27uKcEf",
        "collapsed": true,
        "outputId": "8ad347b8-4dd4-487f-b022-df66bd6cf136",
        "colab": {
          "base_uri": "https://localhost:8080/"
        }
      },
      "outputs": [
        {
          "output_type": "stream",
          "name": "stdout",
          "text": [
            "[[ nan  nan  nan]\n",
            " [ nan 521. 655.]]\n"
          ]
        },
        {
          "output_type": "execute_result",
          "data": {
            "text/plain": [
              "array([[      nan,       nan,       nan],\n",
              "       [      nan, 1.350e+00, 8.100e+00],\n",
              "       [      nan, 4.650e+02, 4.230e+02],\n",
              "       [      nan, 3.633e+01, 1.195e+02],\n",
              "       [      nan, 2.766e+01, 1.150e+02],\n",
              "       [      nan, 1.040e+00, 5.500e+00],\n",
              "       [      nan, 1.170e+04, 5.000e+01],\n",
              "       [      nan, 2.547e+03, 4.603e+03],\n",
              "       [      nan, 1.871e+02, 4.190e+02],\n",
              "       [      nan, 5.210e+02, 6.550e+02]])"
            ]
          },
          "metadata": {},
          "execution_count": 161
        }
      ],
      "source": [
        "# use this cell to \"reset\" animals2 if necessary\n",
        "animals2 = np.genfromtxt('/content/pythonbootcamp/day_3/Animals2.csv',\n",
        "              delimiter=',')\n",
        "animals2\n",
        "print(animals2[(0,9),:]) # 1st and 10th row\n",
        "animals2[:10,:]"
      ]
    },
    {
      "cell_type": "code",
      "execution_count": 245,
      "metadata": {
        "id": "ZPDzaSY00CS0",
        "outputId": "211771f1-90eb-4242-abad-f111e3b39ea9",
        "colab": {
          "base_uri": "https://localhost:8080/"
        }
      },
      "outputs": [
        {
          "output_type": "stream",
          "name": "stdout",
          "text": [
            "Total nans in dataset: 68\n",
            "Total nans in dataset: 0\n",
            "[ True False False]\n"
          ]
        }
      ],
      "source": [
        "# try it out:\n",
        "# Count how many nan values exist in our dataset\n",
        "\n",
        "print(\"Total nans in dataset:\", np.isnan(animals2).sum())\n",
        "\n",
        "# Remove all-nan rows\n",
        "fil = np.isnan(animals2).all(axis=1)\n",
        "fil\n",
        "animals2.shape\n",
        "fil\n",
        "\n",
        "ss = animals2[~fil, :] # all the column, semicolumn here :\n",
        "ss.shape\n",
        "\n",
        "# Remove all-nan columns\n",
        "fil2 = np.isnan(ss).all(axis=0)\n",
        "sss = ss[:, ~fil2]\n",
        "sss.shape\n",
        "# Count how many nan values remain\n",
        "print(\"Total nans in dataset:\", np.isnan(sss).sum())\n",
        "\n",
        "sss.mean(axis=0)\n",
        "sss.mean(axis=1)\n",
        "sss.mean()\n",
        "\n",
        "print(fil2)\n"
      ]
    },
    {
      "cell_type": "markdown",
      "metadata": {
        "id": "8VB9YQUbK4wF"
      },
      "source": [
        "# << `Exercises` >>\n",
        "\n",
        "The following exercises introduce a function (`clean_data()` and dataset (`airquality`) that we'll need in the next section."
      ]
    },
    {
      "cell_type": "markdown",
      "metadata": {
        "id": "yotLT0WmbP3G"
      },
      "source": [
        "## clean_data()\n",
        "Write a function called `clean_data()` that takes in a 2D array of values and removes all-`nan` rows and columns. Your function should return a cleaned array."
      ]
    },
    {
      "cell_type": "code",
      "execution_count": 208,
      "metadata": {
        "id": "598dEr2Sbb97"
      },
      "outputs": [],
      "source": [
        "### write your code below ###\n",
        "\n",
        "def clean_data(precleaned_array):\n",
        "\n",
        "  # remove all-nan rows\n",
        "    fil = ~ np.isnan(precleaned_array).all(axis=1)\n",
        "    ss = precleaned_array[fil, :]\n",
        "  # remove all-nan columns\n",
        "    fil2 = ~ np.isnan(ss).all(axis=0)\n",
        "    sss = ss[:, fil2]\n",
        "    #cc = np.nan_to_num(sss, nan=-999)\n",
        "    cleaned_array = sss\n",
        "    return(cleaned_array)\n"
      ]
    },
    {
      "cell_type": "code",
      "source": [
        "clean_data(animals2)"
      ],
      "metadata": {
        "collapsed": true,
        "id": "MqQmi7MLhOrW",
        "outputId": "8ff6cd43-30ea-48db-b30e-6047892ea61a",
        "colab": {
          "base_uri": "https://localhost:8080/"
        }
      },
      "execution_count": 197,
      "outputs": [
        {
          "output_type": "execute_result",
          "data": {
            "text/plain": [
              "array([[1.350e+00, 8.100e+00],\n",
              "       [4.650e+02, 4.230e+02],\n",
              "       [3.633e+01, 1.195e+02],\n",
              "       [2.766e+01, 1.150e+02],\n",
              "       [1.040e+00, 5.500e+00],\n",
              "       [1.170e+04, 5.000e+01],\n",
              "       [2.547e+03, 4.603e+03],\n",
              "       [1.871e+02, 4.190e+02],\n",
              "       [5.210e+02, 6.550e+02],\n",
              "       [1.000e+01, 1.150e+02],\n",
              "       [3.300e+00, 2.560e+01],\n",
              "       [5.290e+02, 6.800e+02],\n",
              "       [2.070e+02, 4.060e+02],\n",
              "       [6.200e+01, 1.320e+03],\n",
              "       [6.654e+03, 5.712e+03],\n",
              "       [9.400e+03, 7.000e+01],\n",
              "       [6.800e+00, 1.790e+02],\n",
              "       [3.500e+01, 5.600e+01],\n",
              "       [1.200e-01, 1.000e+00],\n",
              "       [2.300e-02, 4.000e-01],\n",
              "       [2.500e+00, 1.210e+01],\n",
              "       [5.550e+01, 1.750e+02],\n",
              "       [1.000e+02, 1.570e+02],\n",
              "       [5.216e+01, 4.400e+02],\n",
              "       [2.800e-01, 1.900e+00],\n",
              "       [8.700e+04, 1.545e+02],\n",
              "       [1.220e-01, 3.000e+00],\n",
              "       [1.920e+02, 1.800e+02],\n",
              "       [3.385e+00, 4.450e+01],\n",
              "       [4.800e-01, 1.550e+01],\n",
              "       [1.483e+01, 9.820e+01],\n",
              "       [4.190e+00, 5.800e+01],\n",
              "       [4.250e-01, 6.400e+00],\n",
              "       [1.010e-01, 4.000e+00],\n",
              "       [9.200e-01, 5.700e+00],\n",
              "       [1.000e+00, 6.600e+00],\n",
              "       [5.000e-03, 1.400e-01],\n",
              "       [6.000e-02, 1.000e+00],\n",
              "       [3.500e+00, 1.080e+01],\n",
              "       [2.000e+00, 1.230e+01],\n",
              "       [1.700e+00, 6.300e+00],\n",
              "       [2.300e-02, 3.000e-01],\n",
              "       [7.850e-01, 3.500e+00],\n",
              "       [2.000e-01, 5.000e+00],\n",
              "       [1.410e+00, 1.750e+01],\n",
              "       [8.500e+01, 3.250e+02],\n",
              "       [7.500e-01, 1.230e+01],\n",
              "       [3.500e+00, 3.900e+00],\n",
              "       [4.050e+00, 1.700e+01],\n",
              "       [1.000e-02, 2.500e-01],\n",
              "       [1.400e+00, 1.250e+01],\n",
              "       [2.500e+02, 4.900e+02],\n",
              "       [1.055e+01, 1.795e+02],\n",
              "       [5.500e-01, 2.400e+00],\n",
              "       [6.000e+01, 8.100e+01],\n",
              "       [3.600e+00, 2.100e+01],\n",
              "       [4.288e+00, 3.920e+01],\n",
              "       [7.500e-02, 1.200e+00],\n",
              "       [4.800e-02, 3.300e-01],\n",
              "       [3.000e+00, 2.500e+01],\n",
              "       [1.600e+02, 1.690e+02],\n",
              "       [9.000e-01, 2.600e+00],\n",
              "       [1.620e+00, 1.140e+01],\n",
              "       [1.040e-01, 2.500e+00],\n",
              "       [4.235e+00, 5.040e+01]])"
            ]
          },
          "metadata": {},
          "execution_count": 197
        }
      ]
    },
    {
      "cell_type": "code",
      "execution_count": 246,
      "metadata": {
        "id": "gO33bbGBg1B_",
        "outputId": "1dd7da3d-dda1-4108-af3f-b9ffaeabe406",
        "colab": {
          "base_uri": "https://localhost:8080/"
        }
      },
      "outputs": [
        {
          "output_type": "execute_result",
          "data": {
            "text/plain": [
              "array([[ 0.,  2., nan,  3.,  5.],\n",
              "       [ 1.,  3.,  5.,  0.,  9.],\n",
              "       [ 4.,  2.,  9., nan,  2.]])"
            ]
          },
          "metadata": {},
          "execution_count": 246
        }
      ],
      "source": [
        "# you can test out your function by using it on nan_array\n",
        "nan_array = np.array([[np.nan, np.nan, np.nan, np.nan, np.nan],\n",
        "                      [0, 2, np.nan, 3, 5],\n",
        "                      [1, 3, 5, 0, 9],\n",
        "                      [4, 2, 9, np.nan, 2]])\n",
        "\n",
        "#print('Nan_array: \\n', nan_array)\n",
        "#print('Cleaned array:\\n', clean_data(nan_array))\n",
        "\n",
        "# Did it work? :)\n",
        "clean_data(nan_array)"
      ]
    },
    {
      "cell_type": "markdown",
      "metadata": {
        "id": "-sAVBmAlL1ZN"
      },
      "source": [
        "## `airquality` dataset\n",
        "Let's try importing and cleaning another dataset called `airquality`. This dataset is a little more complex, containing 153 daily observations of the air quality values from May to September 1973. [[source]](https://vincentarelbundock.github.io/Rdatasets/doc/datasets/airquality.html)\n",
        "\n",
        "| Index  | Description                   |\n",
        "|--------|-------------------------------|\n",
        "| 0      | Ozone (ppb)                   |\n",
        "| 1      | Solar radiation (Langeleys)   |\n",
        "| 2      | Wind (mph)                    |\n",
        "| 3      | Temperature (degrees F)       |\n",
        "| 4      | Month (`1`-`12`)              |\n",
        "| 5      | Day of month (`1`-`31`)       |\n",
        "\n",
        "Start by importing the data using `np.genfromtxt()` and the file path below:\n",
        "\n",
        "```\n",
        "'/content/pythonbootcamp/day_3/airquality.csv'\n",
        "```"
      ]
    },
    {
      "cell_type": "code",
      "execution_count": 209,
      "metadata": {
        "id": "i9t3vNw4MujV",
        "outputId": "a2d660ef-7a4d-47bb-8432-46e1252e0dc8",
        "colab": {
          "base_uri": "https://localhost:8080/"
        }
      },
      "outputs": [
        {
          "output_type": "execute_result",
          "data": {
            "text/plain": [
              "array([[ nan,  nan,  nan, ...,  nan,  nan,  nan],\n",
              "       [ nan,  41., 190., ...,  67.,   5.,   1.],\n",
              "       [ nan,  36., 118., ...,  72.,   5.,   2.],\n",
              "       ...,\n",
              "       [ nan,  14., 191., ...,  75.,   9.,  28.],\n",
              "       [ nan,  18., 131., ...,  76.,   9.,  29.],\n",
              "       [ nan,  20., 223., ...,  68.,   9.,  30.]])"
            ]
          },
          "metadata": {},
          "execution_count": 209
        }
      ],
      "source": [
        "### import the data using this cell ###\n",
        "airquality = np.genfromtxt(\"/content/pythonbootcamp/day_3/airquality.csv\", delimiter = \",\")\n",
        "airquality"
      ]
    },
    {
      "cell_type": "markdown",
      "metadata": {
        "id": "sbKCwRzgbz2S"
      },
      "source": [
        "How many `nan` values are there? Using `clean_data()`, remove the all-`nan` row and column. How many `nan` values are there after cleaning? Can you identify the remaining `nan` values?"
      ]
    },
    {
      "cell_type": "code",
      "execution_count": 210,
      "metadata": {
        "id": "jcjdnfnob2NK",
        "collapsed": true,
        "outputId": "7e0d68ef-44a6-4f4b-ab45-67bb17f34e1f",
        "colab": {
          "base_uri": "https://localhost:8080/"
        }
      },
      "outputs": [
        {
          "output_type": "stream",
          "name": "stdout",
          "text": [
            "Total nans in dataset: 44\n"
          ]
        }
      ],
      "source": [
        "### clean your data below ###\n",
        "x = clean_data(airquality)\n",
        "print(\"Total nans in dataset:\", np.isnan(x).sum())"
      ]
    },
    {
      "cell_type": "markdown",
      "metadata": {
        "id": "KXKi9aFrQ2HD"
      },
      "source": [
        "Earlier, we discussed using `np.nan_to_num()` as a way to simply fill in `nan` values with `0.0` substitute values. Although `np.nan_to_num()` is a quick and simple fix, substituting `0.0` for measurements in the `airquality` dataset may compromise our analyses.\n",
        "\n",
        "Here are some things to explore and consider:\n",
        "* What is the relative proportion of rows that have any `nan` values, compared to the total number of rows in `airquality`?\n",
        "* Do the `nan` values appear evenly interspersed throughout all of the data, or do they mostly fall in one column?\n",
        "  * Do rows with `nan` values tend to have multiple `nan` values, or just one?\n",
        "* Will the dataset be valuable with partial data per observation, or are the observations only valuable if all columns are filled?"
      ]
    },
    {
      "cell_type": "code",
      "execution_count": 214,
      "metadata": {
        "id": "yuGeCcy_U1K4",
        "collapsed": true,
        "outputId": "aed4f562-6bcc-4466-febb-4247678ec7f4",
        "colab": {
          "base_uri": "https://localhost:8080/"
        }
      },
      "outputs": [
        {
          "output_type": "stream",
          "name": "stdout",
          "text": [
            "(154, 7)\n",
            "[[ True  True  True ...  True  True  True]\n",
            " [ True False False ... False False False]\n",
            " [ True False False ... False False False]\n",
            " ...\n",
            " [ True False False ... False False False]\n",
            " [ True False False ... False False False]\n",
            " [ True False False ... False False False]]\n",
            "all the NA number is:\n",
            " 204\n",
            "[ True  True  True  True  True  True  True  True  True  True  True  True\n",
            "  True  True  True  True  True  True  True  True  True  True  True  True\n",
            "  True  True  True  True  True  True  True  True  True  True  True  True\n",
            "  True  True  True  True  True  True  True  True  True  True  True  True\n",
            "  True  True  True  True  True  True  True  True  True  True  True  True\n",
            "  True  True  True  True  True  True  True  True  True  True  True  True\n",
            "  True  True  True  True  True  True  True  True  True  True  True  True\n",
            "  True  True  True  True  True  True  True  True  True  True  True  True\n",
            "  True  True  True  True  True  True  True  True  True  True  True  True\n",
            "  True  True  True  True  True  True  True  True  True  True  True  True\n",
            "  True  True  True  True  True  True  True  True  True  True  True  True\n",
            "  True  True  True  True  True  True  True  True  True  True  True  True\n",
            "  True  True  True  True  True  True  True  True  True  True]\n"
          ]
        },
        {
          "output_type": "execute_result",
          "data": {
            "text/plain": [
              "154"
            ]
          },
          "metadata": {},
          "execution_count": 214
        }
      ],
      "source": [
        "# find the number of rows with *any* nan values\n",
        "x.shape\n",
        "airquality.shape\n",
        "print(airquality.shape)\n",
        "print(np.isnan(airquality))\n",
        "print(\"all the NA number is:\\n\",np.isnan(airquality).sum())\n",
        "#np.isnan(airquality).all(axis=1)\n",
        "np.isnan(airquality).any(axis=1)\n",
        "ll = np.isnan(airquality).any(axis=1)\n",
        "print(ll)\n",
        "ll.sum()"
      ]
    },
    {
      "cell_type": "markdown",
      "metadata": {
        "id": "U5MD7C8fP_H2"
      },
      "source": [
        "*Challenge*: One method of resolving `nan` values is to substitute `nan` with values that minimize data distortion. For example, we can use **mean imputation** to substitute the remaining `nan` values with the *mean* of non-`nan` values in the ozone and solar radiation columns.\n",
        "\n",
        "`numpy` provides a useful function called `np.nanmean()`, which excludes `nan` values. You can read about it [here](https://numpy.org/doc/stable/reference/generated/numpy.nanmean.html?highlight=nanmean#numpy.nanmean).\n",
        "\n",
        "Try starting with just the ozone column: how can you replace the `nan` values with the `nan`-excluding mean of the existing ozone values?\n",
        "\n",
        "> *Hint*: If you have a Boolean map that tells you where `nan` values are, you can use the map to select those values and assign them to a different value. Use this strategy to change existing `nan` values to the `nan`-excluding mean value."
      ]
    },
    {
      "cell_type": "code",
      "execution_count": 215,
      "metadata": {
        "id": "f-n2OLPUiKy5",
        "outputId": "f1e26314-8ad8-4ede-fbc3-cdec0cce424d",
        "colab": {
          "base_uri": "https://localhost:8080/"
        }
      },
      "outputs": [
        {
          "output_type": "stream",
          "name": "stdout",
          "text": [
            "Before:\n",
            " [[-6  3 -9 -6 -4]\n",
            " [-4  8  5  8  9]\n",
            " [-9 -8  7 -9 -7]\n",
            " [-7  8 -3 -5 -7]\n",
            " [-1  1  6  2  9]]\n",
            "After:\n",
            " [[0 3 0 0 0]\n",
            " [0 8 5 8 9]\n",
            " [0 0 7 0 0]\n",
            " [0 8 0 0 0]\n",
            " [0 1 6 2 9]]\n"
          ]
        }
      ],
      "source": [
        "# Hint: review this example from yesterday\n",
        "\n",
        "rng = np.random.default_rng(2024)\n",
        "random_ints = rng.integers(-10, 10, 25)\n",
        "random_ints = random_ints.reshape((5,5))\n",
        "print('Before:\\n',random_ints)\n",
        "\n",
        "# select all elements in random_ints that are less than 0\n",
        "# and then assign them to be 0\n",
        "\n",
        "random_ints[random_ints < 0] = 0\n",
        "print('After:\\n', random_ints)"
      ]
    },
    {
      "cell_type": "code",
      "execution_count": 267,
      "metadata": {
        "id": "fkTIq3KqRoyF",
        "outputId": "d4ff5fca-5b9b-4c95-9783-bf3740f76606",
        "colab": {
          "base_uri": "https://localhost:8080/"
        }
      },
      "outputs": [
        {
          "output_type": "stream",
          "name": "stdout",
          "text": [
            "before add mean:\n",
            " 37\n",
            "[41.         36.         12.         18.         42.12931034 28.\n",
            " 23.         19.          8.         42.12931034  7.         16.        ]\n",
            "[190. 118. 149. 313.  nan  nan 299.  99.  19. 194.  nan 256.]\n"
          ]
        },
        {
          "output_type": "execute_result",
          "data": {
            "text/plain": [
              "0"
            ]
          },
          "metadata": {},
          "execution_count": 267
        }
      ],
      "source": [
        "### write your code below ###\n",
        "airquality = np.genfromtxt(\"/content/pythonbootcamp/day_3/airquality.csv\", delimiter = \",\")\n",
        "airquality\n",
        "print(\"before add mean:\\n\", np.isnan(airquality)[1:,1].sum())\n",
        "#print(airquality)\n",
        "#airquality[:,1]\n",
        "mean = np.nanmean(airquality[1:,1])\n",
        "#print(np.nanmean(airquality[:,1]))\n",
        "###filter = np.isnan(airquality)[1:, 1]\n",
        "xxx = np.nan_to_num(airquality[1:,1],  nan=mean)\n",
        "xxx\n",
        "#print(xxx)\n",
        "airquality[1:,1] = xxx\n",
        "print(airquality[1:13,1])\n",
        "print(airquality[1:13,2])\n",
        "np.isnan(airquality)[1:,1].sum()\n",
        "\n",
        "\n",
        "\n",
        "\n",
        "\n"
      ]
    },
    {
      "cell_type": "markdown",
      "metadata": {
        "id": "-F7gj1TTf3AA"
      },
      "source": [
        "# [Optional] Removing rows/cols with *any* `nan`s\n",
        "\n",
        "For absolutely stringent filtering, we can remove all rows and/or columns that contain any `nan` values.\n",
        "\n",
        "The `.any()` method is similar to the `.all()` method: however, it returns a collapsed map where `True` corresponds to the presence of *any* `nan` values."
      ]
    },
    {
      "cell_type": "code",
      "execution_count": null,
      "metadata": {
        "id": "bkVCqPVHf2gP"
      },
      "outputs": [],
      "source": [
        "# re-initialize our array with nan values\n",
        "nan_array = np.array([[np.nan, np.nan, np.nan, np.nan, np.nan],\n",
        "                      [0, 2, np.nan, 3, 5],\n",
        "                      [1, 3, 5, 0, 9],\n",
        "                      [4, 2, 9, np.nan, 2]])\n",
        "\n",
        "# look at our map again\n",
        "print('Array with nans:\\n', nan_array)\n",
        "\n",
        "print('Boolean map of nans:\\n', np.isnan(nan_array))"
      ]
    },
    {
      "cell_type": "code",
      "execution_count": null,
      "metadata": {
        "id": "x-lRvl_wgAlf"
      },
      "outputs": [],
      "source": [
        "# try it out\n",
        "# use the .any() method to filter out the rows containing *any* nan values\n"
      ]
    },
    {
      "cell_type": "markdown",
      "metadata": {
        "id": "n3lDgEzFgEII"
      },
      "source": [
        "As you can see, this method can be a little *too* stringent. Most of the time, you can retain the bulk of your data by trimming all-`nan` rows/columns and setting a default value for the rest. Unless you have a very good reason to exclude all missing values, tread carefully!"
      ]
    },
    {
      "cell_type": "markdown",
      "metadata": {
        "id": "fuXOYfT7RxDu"
      },
      "source": [
        "# [Optional] Simple random samples\n",
        "With very large datasets, we may be interested in *randomly* sampling our rows. We can do this by initiating a random number generator (`rng`), then using the `.choice()` method with to draw random rows *without* replacement.\n",
        "\n",
        "The `.choice()` method takes two inputs: an array that we wish to sample from, and a number of rows."
      ]
    },
    {
      "cell_type": "code",
      "execution_count": null,
      "metadata": {
        "id": "WrI1j5XhRwgq"
      },
      "outputs": [],
      "source": [
        "# let's sample 10 rows from animals2\n",
        "\n",
        "rng = np.random.default_rng() # run this a few times: you should get different values\n",
        "rng.choice(animals2, 10)"
      ]
    },
    {
      "cell_type": "markdown",
      "metadata": {
        "id": "-EnFxP0jPGwd"
      },
      "source": [
        "# [Optional] Cloning files from GitHub\n",
        "\n",
        "[GitHub](https://github.com/) is a website that hosts code and files for software development projects. It serves two major functions: backing up **codebases** (files with data and code that work together) and enabling collaboration between programmers/developers.\n",
        "\n",
        "We (your staff team) use GitHub as a **repository** for files that are used during PyCamp. We do this so that we have a stable copy of these files that stays out of \"I spilled coffee on my laptop the night before PyCamp\", or \"my laptop was ransomed for cryptocurrency\" territory. Moreover, if we accidentally delete a file from the repository, GitHub's **version control**  allows us to roll back the repository to a working version. Neat, right?\n",
        "\n",
        "The below command allows us to **clone** these files from the GitHub repository to our local runtime's session storage. This allows for us to skip the messy steps of trying to get everyone to download and re-upload the right data.\n",
        "\n",
        "```\n",
        "!git clone https://github.com/ccbskillssem/pythonbootcamp.git\n",
        "```\n",
        "\n",
        "The `!` operator is used to indicate *special commands* that would normally be run at a computer's **command line**, rather than in Python. This is akin to communicating with a computer (or in Colab, our runtime) directly to tell it that we want to download files using the given file path.\n",
        "\n",
        "The GitHub file path that you see above points to a single file called a `.git` file. This file does not contain all the data: rather, it provides directions to the GitHub repository of interest, and therefore all the files it contains. In this manner, we never have to worry about giving all the file paths to each file we want: we just pull all the files in the repository by giving its `.git` file path."
      ]
    },
    {
      "cell_type": "markdown",
      "metadata": {
        "id": "vkHMnmrPUOlR"
      },
      "source": [
        "# [Optional] More methods for external data\n",
        "\n",
        "This section describes the bare essentials of file uploads/downloads with Colab. For a more in-depth exploration, you can visit the official Google Colab notebook on data I/O [here](https://colab.research.google.com/notebooks/io.ipynb)."
      ]
    },
    {
      "cell_type": "markdown",
      "metadata": {
        "id": "0nFgc5EnUwZW"
      },
      "source": [
        "## Loading data from your computer\n",
        "You can use Colab's `Files` menu to upload data from your own computer to Colab's temporary **session storage**. Session storage is reset each time the notebook runtime ends or is otherwise reset.\n",
        "\n",
        "Go to the left hand panel of the Colab notebook and click on the folder icon at the bottom of the panel. This will bring you to Colab's `Files` menu.\n",
        "\n",
        "Click on the leftmost icon underneath the `'Files'` title of the panel: it should appear as a piece of paper with an up arrow on it. Follow the prompts to upload your data of choice. Once your file is uploaded, you can access the file path by hovering over the file name, clicking on the three-dot menu, then selecting `Copy path`.\n",
        "\n",
        "___\n",
        "\n",
        "**CAUTION**: Files that you upload are NOT retained in the `Files` panel after you close the notebook or reset the runtime. If you would prefer to avoid the upload process, consider the next section on loading data from Google Drive.\n",
        "\n",
        "___"
      ]
    },
    {
      "cell_type": "markdown",
      "metadata": {
        "id": "WIs4S8UeVl1p"
      },
      "source": [
        "## Loading data from Google Drive\n",
        "Google Drive is an excellent cloud storage solution for data you wish to work with in Colab. Colab provides a simple solution for allowing you to access files from Google Drive in Colab: all you have to do is access the `Files` menu by clicking the folder icon on the left hand panel of the Colab notebook.\n",
        "\n",
        "Once you're in the `Files` menu, click on the third icon below the `'Files'` title: it should appear as a filled-in white folder with the Google Drive icon. Click this button to connect Google Drive to Colab: a pop-up should appear asking you to confirm that you wish to do this, and you may need to wait a few minutes while Google Drive loads.\n",
        "\n",
        "Once your Drive is mounted, you should see a new folder called `drive` in the `Files` menu. You can access the file path by hovering over the file name, clicking on the three-dot menu, then selecting `Copy path`."
      ]
    },
    {
      "cell_type": "markdown",
      "metadata": {
        "id": "EtzY5548Qn0U"
      },
      "source": [
        "## Saving your arrays to external files\n",
        "\n",
        "`numpy` also provides a utility function called `np.savetxt()` that saves arrays to external files. We won't be using it in the remainder of the bootcamp, but it might be useful for your post-bootcamp adventures.\n",
        "\n",
        "`np.savetxt()` takes three key inputs:\n",
        "1. A file name.\n",
        "2. The array of interest.\n",
        "3. A `delimiter` string."
      ]
    },
    {
      "cell_type": "code",
      "execution_count": null,
      "metadata": {
        "id": "gV4tfZYfQnRp"
      },
      "outputs": [],
      "source": [
        "# let's sample 5 random rows from airquality\n",
        "\n",
        "rng = np.random.default_rng(2024) # this time, using a seed value for reproducibility\n",
        "random_airquality = rng.choice(airquality, 5)\n",
        "random_airquality"
      ]
    },
    {
      "cell_type": "code",
      "execution_count": null,
      "metadata": {
        "id": "Zg77LO5nTNLt"
      },
      "outputs": [],
      "source": [
        "# now let's save random_airquality as a comma-separated value file\n",
        "np.savetxt('random_airquality.csv', random_airquality, delimiter = ',')"
      ]
    },
    {
      "cell_type": "markdown",
      "metadata": {
        "id": "3TPs58j-Tp3l"
      },
      "source": [
        "Go to the left hand panel of the Colab notebook and click on the folder icon at the bottom of the panel. This will bring you to Colab's `Files` menu. You should see a file called `random_airquality.csv`: if you hover over it and click the menu with three dots, you can obtain the file path (if you want to import it again) or download the file.\n",
        "___\n",
        "**CAUTION**: Files that you save while using Colab are not retained after you close the notebook, as they only exist in Colab's temporary **session storage**. If you generate files and wish to keep them, make sure to download your files (with the same three dots menu) before you exit Colab.\n",
        "___"
      ]
    }
  ],
  "metadata": {
    "colab": {
      "provenance": [],
      "include_colab_link": true
    },
    "kernelspec": {
      "display_name": "Python 3",
      "name": "python3"
    },
    "language_info": {
      "codemirror_mode": {
        "name": "ipython",
        "version": 3
      },
      "file_extension": ".py",
      "mimetype": "text/x-python",
      "name": "python",
      "nbconvert_exporter": "python",
      "pygments_lexer": "ipython3",
      "version": "3.12.0"
    }
  },
  "nbformat": 4,
  "nbformat_minor": 0
}