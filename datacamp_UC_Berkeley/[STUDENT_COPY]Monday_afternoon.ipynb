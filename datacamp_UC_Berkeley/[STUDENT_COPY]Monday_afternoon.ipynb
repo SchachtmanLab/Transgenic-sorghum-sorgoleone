{
  "cells": [
    {
      "cell_type": "markdown",
      "metadata": {
        "id": "view-in-github",
        "colab_type": "text"
      },
      "source": [
        "<a href=\"https://colab.research.google.com/github/SchachtmanLab/Transgenic-sorghum-sorgoleone/blob/master/%5BSTUDENT_COPY%5DMonday_afternoon.ipynb\" target=\"_parent\"><img src=\"https://colab.research.google.com/assets/colab-badge.svg\" alt=\"Open In Colab\"/></a>"
      ]
    },
    {
      "cell_type": "markdown",
      "metadata": {
        "id": "e4AZw0UA6A0G"
      },
      "source": [
        "Welcome back! Let's dive right in to our afternoon session."
      ]
    },
    {
      "cell_type": "markdown",
      "metadata": {
        "id": "BSvBm-nsWu-5"
      },
      "source": [
        "# Welcome back!\n",
        "\n",
        "Let's go ahead and dive in to our afternoon session. Before we start, we highly recommend you pull up the cheat sheet from Day 1, which is available [here](https://drive.google.com/drive/folders/1JTZ_sJijmZXH1d5OxviX1gnxYIoSNBlz)."
      ]
    },
    {
      "cell_type": "markdown",
      "metadata": {
        "id": "Pbbz6IM3WK5E"
      },
      "source": [
        "# Intro to loops"
      ]
    },
    {
      "cell_type": "markdown",
      "metadata": {
        "id": "xz9G7ryDUHTu"
      },
      "source": [
        "## `for` loops\n",
        "\n",
        "As we discussed this morning, **iterables** are a special class of objects that can be accessed using **indexing**. Iterables are special because they can *return* their elements separately: for example, one at a time, or by *slices*.\n",
        "\n",
        "Lists and strings are two examples of iterables."
      ]
    },
    {
      "cell_type": "code",
      "execution_count": 1,
      "metadata": {
        "id": "Cgk_JKyLUGOj",
        "outputId": "bb99b63a-0440-4adb-9223-5ebe97fa112e",
        "colab": {
          "base_uri": "https://localhost:8080/"
        }
      },
      "outputs": [
        {
          "output_type": "stream",
          "name": "stdout",
          "text": [
            "Weekdays: ['Monday', 'Tuesday', 'Wednesday', 'Thursday', 'Friday']\n",
            "Weekends: ['Saturday', 'Sunday']\n"
          ]
        }
      ],
      "source": [
        "# a quick review of creating and nesting lists\n",
        "weekdays = ['Monday', 'Tuesday', 'Wednesday', 'Thursday', 'Friday']\n",
        "weekends = ['Saturday', 'Sunday']\n",
        "week = [weekdays, weekends]\n",
        "\n",
        "print('Weekdays:', weekdays)\n",
        "print('Weekends:', weekends)"
      ]
    },
    {
      "cell_type": "markdown",
      "metadata": {
        "id": "AqVdUR-Gnl7_"
      },
      "source": [
        "We can access elements in iterables using *indexing*. The first position of an iterable starts at the `0`th index due to *zero indexing*. For example, consider `weekdays`, which contains five string elements.\n",
        "\n",
        "| iterable element | index position |\n",
        "|------------------|----------------|\n",
        "| Monday           | 0              |\n",
        "| Tuesday          | 1              |\n",
        "| Wednesday        | 2              |\n",
        "| Thursday         | 3              |\n",
        "| Friday           | 4              |"
      ]
    },
    {
      "cell_type": "code",
      "execution_count": 4,
      "metadata": {
        "id": "dzQecYGVnkuY",
        "outputId": "64517c3a-9ac0-4423-86e9-aca8cbd15e78",
        "colab": {
          "base_uri": "https://localhost:8080/"
        }
      },
      "outputs": [
        {
          "output_type": "stream",
          "name": "stdout",
          "text": [
            "Monday\n",
            "Friday\n",
            "['Tuesday', 'Wednesday', 'Thursday', 'Friday']\n",
            "['Monday']\n",
            "['Saturday', 'Sunday']\n",
            "Saturday\n"
          ]
        }
      ],
      "source": [
        "# first element in weekdays\n",
        "print(weekdays[0])\n",
        "\n",
        "# last element in weekdays\n",
        "print(weekdays[-1])\n",
        "\n",
        "# slice from the second element through the end of the list\n",
        "print(weekdays[1:])\n",
        "print(weekdays[:1])\n",
        "\n",
        "# second sub-list in week\n",
        "print(week[1])\n",
        "\n",
        "# get first element from the second sub-list in week\n",
        "print(week[1][0])"
      ]
    },
    {
      "cell_type": "markdown",
      "metadata": {
        "id": "hUOK7vpnVQYe"
      },
      "source": [
        "Although indexing allows us to access elements in iterable objects, it doesn't provide a system for systematically or sequentially accessing elements in an iterable.\n",
        "\n",
        "For example, it would be really inefficient to call `len()` for each element of `weekdays`. How inefficient? Let's try it out."
      ]
    },
    {
      "cell_type": "code",
      "execution_count": 5,
      "metadata": {
        "id": "bzqZqoBpVjR6"
      },
      "outputs": [],
      "source": [
        "# try it out:\n",
        "# use len() and print() to count the length of each element in weekdays\n",
        "\n"
      ]
    },
    {
      "cell_type": "markdown",
      "metadata": {
        "id": "9NSm32FOVuY7"
      },
      "source": [
        "Annoying, right? Thankfully, we can use something called a **`for` loop** to **iterate** through elements of a list or string.\n",
        "\n",
        "The anatomy of a `for` loop is as follows:\n",
        "```\n",
        "for <ITEM> in <ITERABLE>:\n",
        "\t<EXECUTE CODE HERE>\n",
        "```\n",
        "\n",
        "First, we use the `for` operator to begin our loop. `<ITEM>` is a **placeholder** variable that we use to represent each element in the iterable during the loop. You can name `<ITEM>` to whatever you want: we suggest you try to use placeholders that make sense to you, relative to the iterable that you're trying to iterate through.\n",
        "\n",
        "Next, we use the `:` operator to signal that we're transitioning into the code we want to be executed during the loop. The code that you want executed during the loop **must** go on the next line in an **indented block**: any code that is not in the indented block will be run normally (just once).\n",
        "\n",
        "Python will diligently go through each element in your list or string, perform the code in the indented line(s), then move on to the next element: rinse and repeat.\n",
        "\n",
        "Below, we're going to use the placeholder `day` to represent each element in `weekdays`. We'll print the length of each element once."
      ]
    },
    {
      "cell_type": "code",
      "execution_count": 6,
      "metadata": {
        "id": "H7zKqTflWlC9",
        "outputId": "239f051a-ac22-40af-ab15-0d2cfd4a4e36",
        "colab": {
          "base_uri": "https://localhost:8080/"
        }
      },
      "outputs": [
        {
          "output_type": "stream",
          "name": "stdout",
          "text": [
            "6\n",
            "7\n",
            "9\n",
            "8\n",
            "6\n",
            "Now we are outside of the loop!\n",
            "6\n",
            "The weekdays list:  ['Monday', 'Tuesday', 'Wednesday', 'Thursday', 'Friday']\n"
          ]
        }
      ],
      "source": [
        "for day in weekdays:\n",
        "    print(len(day)) # this is part of the loop\n",
        "\n",
        "print(\"Now we are outside of the loop!\")\n",
        "print(len(day))\n",
        "print('The weekdays list: ', weekdays) # this is NOT part of the loop"
      ]
    },
    {
      "cell_type": "markdown",
      "source": [
        "After going through every value in the list, the placeholder `day` now is the final element in the list:"
      ],
      "metadata": {
        "id": "Kch4iIYN3Mnj"
      }
    },
    {
      "cell_type": "code",
      "source": [
        "print(day)"
      ],
      "metadata": {
        "id": "c8nKh2c03ckG",
        "outputId": "fd2a6c2e-a8f0-4eb7-8d09-90579e93e267",
        "colab": {
          "base_uri": "https://localhost:8080/"
        }
      },
      "execution_count": 7,
      "outputs": [
        {
          "output_type": "stream",
          "name": "stdout",
          "text": [
            "Friday\n"
          ]
        }
      ]
    },
    {
      "cell_type": "markdown",
      "metadata": {
        "id": "qrqfYd3LW2ej"
      },
      "source": [
        "With just two lines, we can avoid needing to use indices to access each element of `weekdays`.\n",
        "\n",
        "\n",
        "Let's move on to *nested* `for` loops. Nested `for` loops allow us to iterate over multiple iterables, which can be useful if we need to evaluate combinations of iterable elements.\n",
        "\n",
        "![96 well plate](https://upload.wikimedia.org/wikipedia/commons/thumb/0/07/96-Well_plate.svg/453px-96-Well_plate.svg.png?20201120040527)\n",
        "\n",
        "If you work in a lab without multichannels, you may be familiar with the tedious task of having to pipette across a 96-well plate. Imagine that you have to pipette across this whole plate, going row by row from A1 to H12: the following code roughly approximates the strategy you would take."
      ]
    },
    {
      "cell_type": "code",
      "execution_count": 8,
      "metadata": {
        "id": "etGZXpNEXWE3",
        "outputId": "636e1d71-912f-406e-af4e-111152f44c8f",
        "colab": {
          "base_uri": "https://localhost:8080/"
        }
      },
      "outputs": [
        {
          "output_type": "stream",
          "name": "stdout",
          "text": [
            "Start of row A\n",
            "A1\n",
            "A2\n",
            "A3\n",
            "A4\n",
            "A5\n",
            "A6\n",
            "A7\n",
            "A8\n",
            "A9\n",
            "A10\n",
            "A11\n",
            "A12\n",
            "Start of row B\n",
            "B1\n",
            "B2\n",
            "B3\n",
            "B4\n",
            "B5\n",
            "B6\n",
            "B7\n",
            "B8\n",
            "B9\n",
            "B10\n",
            "B11\n",
            "B12\n",
            "Start of row C\n",
            "C1\n",
            "C2\n",
            "C3\n",
            "C4\n",
            "C5\n",
            "C6\n",
            "C7\n",
            "C8\n",
            "C9\n",
            "C10\n",
            "C11\n",
            "C12\n",
            "Start of row D\n",
            "D1\n",
            "D2\n",
            "D3\n",
            "D4\n",
            "D5\n",
            "D6\n",
            "D7\n",
            "D8\n",
            "D9\n",
            "D10\n",
            "D11\n",
            "D12\n",
            "Start of row E\n",
            "E1\n",
            "E2\n",
            "E3\n",
            "E4\n",
            "E5\n",
            "E6\n",
            "E7\n",
            "E8\n",
            "E9\n",
            "E10\n",
            "E11\n",
            "E12\n",
            "Start of row F\n",
            "F1\n",
            "F2\n",
            "F3\n",
            "F4\n",
            "F5\n",
            "F6\n",
            "F7\n",
            "F8\n",
            "F9\n",
            "F10\n",
            "F11\n",
            "F12\n",
            "Start of row G\n",
            "G1\n",
            "G2\n",
            "G3\n",
            "G4\n",
            "G5\n",
            "G6\n",
            "G7\n",
            "G8\n",
            "G9\n",
            "G10\n",
            "G11\n",
            "G12\n",
            "Start of row H\n",
            "H1\n",
            "H2\n",
            "H3\n",
            "H4\n",
            "H5\n",
            "H6\n",
            "H7\n",
            "H8\n",
            "H9\n",
            "H10\n",
            "H11\n",
            "H12\n"
          ]
        }
      ],
      "source": [
        "# warning: this is going to print a lot of text to output\n",
        "\n",
        "# rows and columns of a 96 well plate\n",
        "rows = ['A', 'B', 'C', 'D', 'E', 'F', 'G', 'H']\n",
        "columns = ['1', '2', '3', '4', '5', '6', '7', '8', '9', '10', '11', '12']\n",
        "\n",
        "for row in rows:\n",
        "\tprint('Start of row', row)\n",
        "\tfor col in columns:\n",
        "\t\tprint(row+col) # the nested for statement code needs to be indented one more level"
      ]
    },
    {
      "cell_type": "markdown",
      "metadata": {
        "id": "yWVqj96mar2f"
      },
      "source": [
        "Above, our nested `for` loop generated all possible combinations of `rows` and `columns` in only four lines of code."
      ]
    },
    {
      "cell_type": "markdown",
      "metadata": {
        "id": "z-nRijj_-qhl"
      },
      "source": [
        "## Ranges\n",
        "\n",
        "We can combine `for` loops with the built-in `range()` function to iterate over a specific numeric range.\n",
        "\n",
        "The `range()` function takes three numeric inputs: a starting value, a stop value, and a step value (set to `1` by default)."
      ]
    },
    {
      "cell_type": "code",
      "execution_count": null,
      "metadata": {
        "id": "MNu54_J7_SLK"
      },
      "outputs": [],
      "source": [
        "# a range from 2 to 10, exclusive of 10\n",
        "(range(2, 10))"
      ]
    },
    {
      "cell_type": "markdown",
      "metadata": {
        "id": "c4hHqHtX_N6e"
      },
      "source": [
        "As you can see, this iterable `range` object doesn't show all the values in its range by default: if we want to access each value in its range, we need to iterate over it."
      ]
    },
    {
      "cell_type": "code",
      "execution_count": 9,
      "metadata": {
        "id": "-e3MzvLpJeR-",
        "outputId": "af492e35-96fc-4d6e-ae8e-797c09ea78a8",
        "colab": {
          "base_uri": "https://localhost:8080/"
        }
      },
      "outputs": [
        {
          "output_type": "stream",
          "name": "stdout",
          "text": [
            "First loop (all numbers)\n",
            "5\n",
            "6\n",
            "7\n",
            "8\n",
            "9\n",
            "10\n",
            "11\n",
            "Second loop (every third number)\n",
            "5\n",
            "8\n",
            "11\n"
          ]
        }
      ],
      "source": [
        "print(\"First loop (all numbers)\")\n",
        "for number in range(5, 12):\n",
        "    print(number)\n",
        "\n",
        "print(\"Second loop (every third number)\")\n",
        "for number in range(5, 12, 3):\n",
        "    print(number)"
      ]
    },
    {
      "cell_type": "code",
      "source": [
        "# try it out:\n",
        "# print all even numbers between 20 and 30, including 20 and 30\n",
        "for number in range(20, 32, 2):\n",
        "    print(number)\n",
        "\n"
      ],
      "metadata": {
        "id": "BjHaiPKX4GXP",
        "outputId": "ccd8ada7-610b-44aa-d749-fadfa44a1142",
        "colab": {
          "base_uri": "https://localhost:8080/"
        }
      },
      "execution_count": 12,
      "outputs": [
        {
          "output_type": "stream",
          "name": "stdout",
          "text": [
            "20\n",
            "22\n",
            "24\n",
            "26\n",
            "28\n",
            "30\n"
          ]
        }
      ]
    },
    {
      "cell_type": "markdown",
      "metadata": {
        "id": "XaRl8A9pLPpc"
      },
      "source": [
        "One common strategy is to use `range()` in combination with `len()` to create a numeric range over the length of an existing iterable."
      ]
    },
    {
      "cell_type": "code",
      "execution_count": 16,
      "metadata": {
        "id": "CGL5yOFnLUAx",
        "outputId": "943992de-455a-481e-f28a-74061fe48516",
        "colab": {
          "base_uri": "https://localhost:8080/"
        }
      },
      "outputs": [
        {
          "output_type": "stream",
          "name": "stdout",
          "text": [
            "26\n",
            "a\n",
            "b\n",
            "c\n",
            "d\n",
            "e\n",
            "f\n",
            "g\n",
            "h\n",
            "i\n",
            "j\n",
            "k\n",
            "l\n",
            "m\n",
            "n\n",
            "o\n",
            "p\n",
            "q\n",
            "r\n",
            "s\n",
            "t\n",
            "u\n",
            "v\n",
            "q\n",
            "x\n",
            "y\n",
            "z\n"
          ]
        }
      ],
      "source": [
        "alphabet = 'abcdefghijklmnopqrstuvqxyz'\n",
        "print(len(alphabet))\n",
        "for index in range(0, len(alphabet)):\n",
        "    print(alphabet[index])"
      ]
    },
    {
      "cell_type": "markdown",
      "metadata": {
        "id": "oDWjFD4uJw4_"
      },
      "source": [
        "`range()` can be useful for instances in which we want to use the *indices* of an iterable, rather than the iterable itself. This can be useful for obtaining interval-spaced elements or slices of an iterable."
      ]
    },
    {
      "cell_type": "code",
      "execution_count": 17,
      "metadata": {
        "id": "HBr5AYwvKI6J",
        "outputId": "509288ee-5bbb-40ed-826f-0c95e4adbf21",
        "colab": {
          "base_uri": "https://localhost:8080/"
        }
      },
      "outputs": [
        {
          "output_type": "stream",
          "name": "stdout",
          "text": [
            "b\n",
            "d\n",
            "f\n",
            "h\n",
            "j\n",
            "l\n",
            "n\n",
            "p\n",
            "r\n",
            "t\n",
            "v\n",
            "x\n",
            "z\n"
          ]
        }
      ],
      "source": [
        "# every other letter of the alphabet\n",
        "\n",
        "alphabet = 'abcdefghijklmnopqrstuvqxyz'\n",
        "\n",
        "for index in range(1, len(alphabet), 2):\n",
        "  print(alphabet[index])"
      ]
    },
    {
      "cell_type": "code",
      "execution_count": 18,
      "metadata": {
        "id": "g6RWZeMTLBGo",
        "outputId": "43b0c54e-cec8-4fe3-8b0a-a58322712bf1",
        "colab": {
          "base_uri": "https://localhost:8080/"
        }
      },
      "outputs": [
        {
          "output_type": "stream",
          "name": "stdout",
          "text": [
            "abcd\n",
            "defg\n",
            "ghij\n",
            "jklm\n",
            "mnop\n",
            "pqrs\n",
            "stuv\n",
            "vqxy\n",
            "yz\n"
          ]
        }
      ],
      "source": [
        "# three-letter interval slices of the alphabet\n",
        "\n",
        "alphabet = 'abcdefghijklmnopqrstuvqxyz'\n",
        "\n",
        "for index in range(0, len(alphabet), 3):\n",
        "  print(alphabet[index:index+4])"
      ]
    },
    {
      "cell_type": "markdown",
      "metadata": {
        "id": "GYouasWr6A0H"
      },
      "source": [
        "# Logic & control flow"
      ]
    },
    {
      "cell_type": "markdown",
      "metadata": {
        "id": "4h3sgGj-WxBi"
      },
      "source": [
        "## Boolean logic checks\n",
        "**Boolean logic** refers to a simple logic system where there are only two possible values: \"true\" and \"false\". In Python, Boolean logic is used to check for *identity* (ex. \"is 5 + 3 equal to 8?\"), *membership* (\"is 5 in the range of integers between 1 and 7?\"), and *conditionality* (\"are there fewer than 8 people in the line for coffee?\")."
      ]
    },
    {
      "cell_type": "markdown",
      "metadata": {
        "id": "LA8j_oL0QmU3"
      },
      "source": [
        "### Logical operators"
      ]
    },
    {
      "cell_type": "code",
      "execution_count": 19,
      "metadata": {
        "id": "X6B5ioGTO4HP",
        "outputId": "e43d1af5-f4ba-43ce-ff22-f9dce688be2d",
        "colab": {
          "base_uri": "https://localhost:8080/"
        }
      },
      "outputs": [
        {
          "output_type": "stream",
          "name": "stdout",
          "text": [
            "True\n",
            "<class 'bool'>\n"
          ]
        }
      ],
      "source": [
        "# is 5 + 3 equal to 8?\n",
        "print(5 + 3 == 8)\n",
        "print(type(5 + 3 == 8))"
      ]
    },
    {
      "cell_type": "markdown",
      "metadata": {
        "id": "EjCzc0pTO8DT"
      },
      "source": [
        "The first thing you'll notice here is the **`==` operator**: this is the *identity* operator, which checks if the objects on the left and right side share identity (are equal to each other). This operator is one of several operators that we can use to perform **logic checks**.\n",
        "\n",
        "Although `True` looks like it could be a string, it isn't: it's a special type of its own called a `bool`, which is short for Boolean.\n",
        "\n",
        "*Tip: you can distinguish strings from booleans in 2 ways: booleans are not surrounded by quotation marks and show up in blue in Colab, while strings are surrouned in quotes and show up in orange in Colab.*"
      ]
    },
    {
      "cell_type": "code",
      "execution_count": 21,
      "metadata": {
        "id": "IJSehYdkP6_i",
        "outputId": "423aa95c-74c0-4445-af62-09d1ad7054ad",
        "colab": {
          "base_uri": "https://localhost:8080/"
        }
      },
      "outputs": [
        {
          "output_type": "stream",
          "name": "stdout",
          "text": [
            "False\n",
            "True\n"
          ]
        }
      ],
      "source": [
        "# is the string 'True' equal to the Boolean value True?\n",
        "\n",
        "print('True' == (True))\n",
        "print('True' == 'True')"
      ]
    },
    {
      "cell_type": "markdown",
      "metadata": {
        "id": "cmE3hWPsQDDN"
      },
      "source": [
        "As you might guess, `False` is also a `bool` type object as well. `True` and `False` are the two Boolean logic types that Python evaluates: `True` indicates that the logic check has passed, and `False` indicates that the logic check has failed.\n",
        "\n",
        "We can use several more familiar operators to perform logic checks with numeric values:\n",
        "- `>`: Checks if the left value is greater than the right value.\n",
        "- `<`: Checks if the right value is greater than the left value.\n",
        "- `>=`: Checks if the left value is greater than OR equal to the right value.\n",
        "- `<=`: Checks if the right value is greater than OR equal to the left value.\n",
        "- `!=`: Checks if the left and right values are *not* equal to each other. (This should return the *opposite* value of what `==` returns.)"
      ]
    },
    {
      "cell_type": "markdown",
      "metadata": {
        "id": "q52EYfINTn_i"
      },
      "source": [
        "### Membership checks\n",
        "Now that we understand how logical operators work, checking membership of an object in a data structure is a comically simple task: you just use the `in` operator."
      ]
    },
    {
      "cell_type": "code",
      "execution_count": 22,
      "metadata": {
        "id": "INMFYQ8OT1mL",
        "outputId": "782a514d-0405-4a07-9134-3adbeec7c5f8",
        "colab": {
          "base_uri": "https://localhost:8080/"
        }
      },
      "outputs": [
        {
          "output_type": "stream",
          "name": "stdout",
          "text": [
            "True\n",
            "False\n"
          ]
        }
      ],
      "source": [
        "mixed_list = ['one', 2, 3.0, 'four', 5]\n",
        "\n",
        "print('four' in mixed_list) # Is 'four' in mixed_list?\n",
        "\n",
        "print('seven' in mixed_list) # Is 'seven' in mixed_list?"
      ]
    },
    {
      "cell_type": "markdown",
      "metadata": {
        "id": "JlyIWidqmHhI"
      },
      "source": [
        "Simple, right? Python interprets the `in` operator as a logic check for the *membership* of the element. If the element is present, Python returns `True`, and if not, Python returns `False`."
      ]
    },
    {
      "cell_type": "code",
      "execution_count": 35,
      "metadata": {
        "id": "L_BVS5cfRfz3",
        "outputId": "4fa8ba22-8f20-44ff-bc7a-6efe78c9b352",
        "colab": {
          "base_uri": "https://localhost:8080/"
        }
      },
      "outputs": [
        {
          "output_type": "stream",
          "name": "stdout",
          "text": [
            "Is 9 equal to '9'?\n",
            " False\n",
            "Is 5 greater than 3?\n",
            " True\n",
            "Is 9 less than 4?\n",
            " False\n",
            "Is 12 greater than or equal to 12?\n",
            " True\n",
            "Is 4.333 less than or equal to 4.33333333?\n",
            " True\n",
            "Is 5 equal to 5?\n",
            " True\n",
            "Is 5 not equal to 5?\n",
            " False\n",
            "Is 3 in the list [1, 2, 3, 4, 5]?\n",
            " True\n",
            "Is the substring 'an' present in the string 'banana'?\n",
            " True\n"
          ]
        }
      ],
      "source": [
        "# try it out:\n",
        "# replace the comment ### REPLACE ME ### with the appropriate logic check\n",
        "# for the following operations\n",
        "\n",
        "# the \\n is a newline character that we are using to make the strings print\n",
        "# in a more human-readable fashion: you can read more in the [Optional] string\n",
        "# formatting section\n",
        "\n",
        "print(\"Is 9 equal to '9'?\\n\", 9 == '9')\n",
        "\n",
        "print('Is 5 greater than 3?\\n', 5 > 3)\n",
        "\n",
        "print('Is 9 less than 4?\\n', 9 < 4 )\n",
        "\n",
        "print('Is 12 greater than or equal to 12?\\n', 12 >= 12)\n",
        "\n",
        "print('Is 4.333 less than or equal to 4.33333333?\\n', 4.333 <= 4.33333333)\n",
        "\n",
        "print('Is 5 equal to 5?\\n', 5 == 5)\n",
        "\n",
        "print('Is 5 not equal to 5?\\n', (5 != 5))\n",
        "\n",
        "myList = [1, 2, 3, 4, 5]\n",
        "print('Is 3 in the list [1, 2, 3, 4, 5]?\\n', (3 in myList))\n",
        "\n",
        "print(\"Is the substring 'an' present in the string 'banana'?\\n\", 'an' in 'bananana')\n",
        "\n"
      ]
    },
    {
      "cell_type": "markdown",
      "metadata": {
        "id": "wTH1JtKYSdya"
      },
      "source": [
        "## Control flow\n",
        "\n",
        "Now that we've learned how Python parses identity and membership, we can move on to how Python interprets *conditionality*. You can use **conditional statements** to control the operation of code that you may not always want to run. The use of conditional statements is an essential part of a programming strategy called **control flow**."
      ]
    },
    {
      "cell_type": "markdown",
      "metadata": {
        "id": "f5udGwteSpM6"
      },
      "source": [
        "### Conditional statements\n",
        "\n",
        "Let's start with the three main conditional statements, which will form the bulk of your control flow. The first conditional statement is the workhorse of conditionals:\n",
        "\n",
        "- `if`: Code will be executed *if* the logic check passes (returns `True`).\n",
        "\n",
        "The following two conditional statements can be used to create additional complexity in your conditionals. These **cannot** be used on their own: they must always follow an `if` statement.\n",
        "- `else`: An optional secondary statement that must follow an `if` statement. Code will be executed if the preceding `if` statement's logic check fails (returns `False`).\n",
        "- `elif` (\"else if\"): An optional secondary statement that must follow an  `if` statement, but come *before* a closing `else` statement. If the preceding `if` statement's logic check fails, then the `elif` statement's logic check will be executed in the same manner as an `if` statement.\n",
        "\n",
        "Below, we'll start with the simplest possible conditional execution."
      ]
    },
    {
      "cell_type": "code",
      "execution_count": 36,
      "metadata": {
        "id": "bV-qXGPXVSKm",
        "outputId": "44007a4d-a8ee-44c0-a2ce-deadce6e2fd7",
        "colab": {
          "base_uri": "https://localhost:8080/"
        }
      },
      "outputs": [
        {
          "output_type": "stream",
          "name": "stdout",
          "text": [
            "one is a string.\n",
            "four is a string.\n"
          ]
        }
      ],
      "source": [
        "mixed_list = ['one', 2, 3.0, 'four', 5]\n",
        "\n",
        "# we want to iterate through each element in mixed_list\n",
        "# and print a sentence if the element is a string\n",
        "\n",
        "for element in mixed_list:\n",
        "    if type(element) == str:  # str represents the string type\n",
        "        print(element, \"is a string.\")"
      ]
    },
    {
      "cell_type": "markdown",
      "metadata": {
        "id": "1UqI3YkJY0Bd"
      },
      "source": [
        "We directed Python to only run `print()` if the element was a string: given that there were only two strings in `mixed_list`, Python only printed text twice.\n",
        "\n",
        "Now, let's throw in an `else` statement to print something else if the element is *not* a string."
      ]
    },
    {
      "cell_type": "code",
      "execution_count": 37,
      "metadata": {
        "id": "TPOPrl1EYzcc",
        "outputId": "6a415795-e473-4da0-c628-2436765f969d",
        "colab": {
          "base_uri": "https://localhost:8080/"
        }
      },
      "outputs": [
        {
          "output_type": "stream",
          "name": "stdout",
          "text": [
            "one is a string.\n",
            "2 is not a string, it is a <class 'int'>\n",
            "3.0 is not a string, it is a <class 'float'>\n",
            "four is a string.\n",
            "5 is not a string, it is a <class 'int'>\n",
            "6 is not a string, it is a <class 'int'>\n"
          ]
        }
      ],
      "source": [
        "mixed_list = ['one', 2, 3.0, 'four', 5, 6]\n",
        "\n",
        "# we want to go through each element in mixed_list\n",
        "# and print different sentences depending on the element type\n",
        "\n",
        "for element in mixed_list:\n",
        "    if type(element) == str:\n",
        "        print(element, \"is a string.\")\n",
        "    else:\n",
        "        print(element, \"is not a string, it is a\", type(element))"
      ]
    },
    {
      "cell_type": "markdown",
      "metadata": {
        "id": "wPh5bPD8Xl0y"
      },
      "source": [
        "Let's add another layer of complexity with the `elif` statement. `elif` statements come into play when the preceding `if` logic check fails: `elif` provides alternative \"paths\" for the code to take before defaulting to the catch-all `else` statement."
      ]
    },
    {
      "cell_type": "code",
      "execution_count": 39,
      "metadata": {
        "id": "rqrgoYIWZ_K3",
        "outputId": "d8942ded-4536-4902-c0e1-b5f34e026645",
        "colab": {
          "base_uri": "https://localhost:8080/"
        }
      },
      "outputs": [
        {
          "output_type": "stream",
          "name": "stdout",
          "text": [
            "one is a string.\n",
            "2 is an even number.\n",
            "3.0 is not a string, it is a <class 'float'>\n",
            "four is a string.\n",
            "5 is not a string, it is a <class 'int'>\n",
            "6 is an even number.\n"
          ]
        }
      ],
      "source": [
        "mixed_list = ['one', 2, 3.0, 'four', 5, 6]\n",
        "\n",
        "for element in mixed_list:\n",
        "    if type(element) == str:\n",
        "        print(element, \"is a string.\")\n",
        "    elif element % 2 == 0: # remember that % returns the remainder of the division\n",
        "        print(element, \"is an even number.\")\n",
        "    else:\n",
        "        print(element, \"is not a string, it is a\", type(element))"
      ]
    },
    {
      "cell_type": "markdown",
      "metadata": {
        "id": "-0Zc_w9xeHtD"
      },
      "source": [
        "### Multiple logic checks\n",
        "Sometimes logic checks are more complex than a simple one-off check. Perhaps you have multiple conditions that you need to be fulfilled, or maybe just one in a set: that's where complex conditional operators come in.\n",
        "\n",
        "- `and`: Indicates that multiple logic checks must be passed to yield `True`.\n",
        "- `or`: Indicates that *at least one* logic check must be passed to yield `True`."
      ]
    },
    {
      "cell_type": "code",
      "execution_count": 40,
      "metadata": {
        "id": "0h89FOyXejwe",
        "outputId": "b8738b3f-bf30-40b9-85c6-1525c69e12e2",
        "colab": {
          "base_uri": "https://localhost:8080/"
        }
      },
      "outputs": [
        {
          "output_type": "stream",
          "name": "stdout",
          "text": [
            "Let me take a look at this apple ...\n",
            "I'll take this today.\n",
            "Let me take a look at this orange ...\n",
            "Isn't it funny that a(n) orange is both a fruit and a color?\n",
            "Let me take a look at this banana ...\n",
            "I'll take this today.\n",
            "Let me take a look at this grapes ...\n",
            "I'll take this today.\n",
            "Let me take a look at this kiwi ...\n",
            "Not this one.\n"
          ]
        }
      ],
      "source": [
        "# Decision making in the fruit section: it's complicated!\n",
        "\n",
        "fruits = ['apple', 'orange', 'banana', 'grapes', 'kiwi']\n",
        "colors = ['red', 'yellow', 'orange']\n",
        "sale = ['apple', 'banana']\n",
        "favorite = ['apple', 'grapes']\n",
        "\n",
        "for fruit in fruits:\n",
        "    print(\"Let me take a look at this\", fruit, \"...\")\n",
        "    if (fruit in fruits) and (fruit in colors):\n",
        "        print(\"Isn't it funny that a(n)\", fruit, \"is both a fruit and a color?\")\n",
        "    elif (fruit in sale) or (fruit in favorite):\n",
        "        print(\"I'll take this today.\")\n",
        "    else:\n",
        "        print(\"Not this one.\")"
      ]
    },
    {
      "cell_type": "markdown",
      "metadata": {
        "id": "Ec04bDcNU4b0"
      },
      "source": [
        "# Exercises: Set A"
      ]
    },
    {
      "cell_type": "markdown",
      "metadata": {
        "id": "2h9lhf7xYF0F"
      },
      "source": [
        "**A1**:\n",
        "Write a series of nested loops that will print every combination of the departmental titles, prefixes, and suffixes given above."
      ]
    },
    {
      "cell_type": "code",
      "execution_count": 42,
      "metadata": {
        "id": "SAGjSxWgXskZ",
        "outputId": "1aa8cd23-122e-490e-d9da-f8a3f26b842f",
        "colab": {
          "base_uri": "https://localhost:8080/"
        }
      },
      "outputs": [
        {
          "output_type": "stream",
          "name": "stdout",
          "text": [
            "The Department of Biology Biology\n",
            "The Department of Biology Chemistry\n",
            "The Department of Biology Biology\n",
            "The Department of Biology Chemistry\n",
            "The Department of Chemistry Biology\n",
            "The Department of Chemistry Chemistry\n",
            "The Department of Chemistry Biology\n",
            "The Department of Chemistry Chemistry\n",
            "The Department of Biology Biology\n",
            "The Department of Biology Chemistry\n",
            "The Department of Biology Biology\n",
            "The Department of Biology Chemistry\n",
            "The Department of Chemistry Biology\n",
            "The Department of Chemistry Chemistry\n",
            "The Department of Chemistry Biology\n",
            "The Department of Chemistry Chemistry\n",
            "The Division of Biology Biology\n",
            "The Division of Biology Chemistry\n",
            "The Division of Biology Biology\n",
            "The Division of Biology Chemistry\n",
            "The Division of Chemistry Biology\n",
            "The Division of Chemistry Chemistry\n",
            "The Division of Chemistry Biology\n",
            "The Division of Chemistry Chemistry\n",
            "The Division of Biology Biology\n",
            "The Division of Biology Chemistry\n",
            "The Division of Biology Biology\n",
            "The Division of Biology Chemistry\n",
            "The Division of Chemistry Biology\n",
            "The Division of Chemistry Chemistry\n",
            "The Division of Chemistry Biology\n",
            "The Division of Chemistry Chemistry\n",
            "The Center for Biology Biology\n",
            "The Center for Biology Chemistry\n",
            "The Center for Biology Biology\n",
            "The Center for Biology Chemistry\n",
            "The Center for Chemistry Biology\n",
            "The Center for Chemistry Chemistry\n",
            "The Center for Chemistry Biology\n",
            "The Center for Chemistry Chemistry\n",
            "The Center for Biology Biology\n",
            "The Center for Biology Chemistry\n",
            "The Center for Biology Biology\n",
            "The Center for Biology Chemistry\n",
            "The Center for Chemistry Biology\n",
            "The Center for Chemistry Chemistry\n",
            "The Center for Chemistry Biology\n",
            "The Center for Chemistry Chemistry\n"
          ]
        }
      ],
      "source": [
        "# how many generic department names can we create?\n",
        "\n",
        "dept_titles = ['The Department of', 'The Division of', 'The Center for']\n",
        "dept_prefixes = ['Molecular', 'Physical', 'Quantitative', 'Computational']\n",
        "dept_suffixes = ['Biology', 'Chemistry', 'Biology', 'Chemistry']\n",
        "\n",
        "for title in dept_titles:\n",
        "    for prefix in dept_suffixes:\n",
        "        for suffix in dept_suffixes:\n",
        "            print(title, prefix, suffix)\n",
        "\n",
        "### write your code below ###\n",
        "\n",
        "\n"
      ]
    },
    {
      "cell_type": "code",
      "execution_count": 43,
      "metadata": {
        "id": "zs1CmVg_2c3y",
        "outputId": "5a3aa8ca-f6e9-4919-ba11-e00007429d52",
        "colab": {
          "base_uri": "https://localhost:8080/"
        }
      },
      "outputs": [
        {
          "output_type": "stream",
          "name": "stdout",
          "text": [
            "12\n"
          ]
        }
      ],
      "source": [
        "# tip: in python you can use the += operator to simultaneously add a value to\n",
        "# a variable and update the variable in place\n",
        "\n",
        "vowel_count = 0\n",
        "\n",
        "for char in 'The quick brown fox jumped over the lazy dog':\n",
        "    if char in 'aeiou':  # logic check for vowels\n",
        "        vowel_count += 1\n",
        "\n",
        "print(vowel_count)"
      ]
    },
    {
      "cell_type": "markdown",
      "metadata": {
        "id": "_tvgLn2Fdasb"
      },
      "source": [
        "**A2**: Let's consider some other examples of operations that you can do with a `for` loop. One common operation is counting the instances of an element in an iterable.\n",
        "\n",
        "Below, write code that will loop through `sample_seq` and count the number of each nucleotide by updating the corresponding variable. Afterwards, print the percentage of each nucleotide in `sample_seq`."
      ]
    },
    {
      "cell_type": "code",
      "execution_count": 45,
      "metadata": {
        "id": "8zXGSB1cdhPv",
        "outputId": "3956e689-2167-4eb6-81b2-5a37ba682655",
        "colab": {
          "base_uri": "https://localhost:8080/"
        }
      },
      "outputs": [
        {
          "output_type": "stream",
          "name": "stdout",
          "text": [
            "24.615384615384617\n"
          ]
        }
      ],
      "source": [
        "sample_seq = 'TACGTAGCGTGGTCGCACAAGCACAGTAGATCCTCCCCGCGCATCCTATTTATTAAGTTAATTCT'\n",
        "\n",
        "### write your code below ###\n",
        "A_count = 0\n",
        "T_count = 0\n",
        "G_count = 0\n",
        "C_count = 0\n",
        "\n",
        "for nucleotide in sample_seq:\n",
        "    if nucleotide == \"A\":\n",
        "        A_count += 1\n",
        "    elif nucleotide == \"T\":\n",
        "        T_count += 1\n",
        "    elif nucleotide == \"G\":\n",
        "        G_count += 1\n",
        "    elif nucleotide == \"C\":\n",
        "        C_count += 1\n",
        "print(A_count / len(sample_seq) * 100)"
      ]
    },
    {
      "cell_type": "markdown",
      "metadata": {
        "id": "zmOyS7egidul"
      },
      "source": [
        "**A3**: Let's put together Boolean logic and control flow to solve the \"Hello, world\" of control flow: a classic programming question called `fizzbuzz`.\n",
        "\n",
        "Below, we've provided a list of integers called `fb_numbers`. Your task is to write code that will do the following things.\n",
        "1. Loop through each element in `fb_numbers`.\n",
        "2. For each element:\n",
        "  * If the element is cleanly divisible by 2 (no remainder), print `'fizz'`\n",
        "  * If the element is cleanly divisible by 5 (no remainder), print `'buzz'`\n",
        "  * If the element is cleanly divisible by both 2 AND 5 (no remainder), print `'fizzbuzz'`\n",
        "\n",
        "Only *one* of the above `'fizz'`/`'buzz'`/`'fizzbuzz'` should print per number\n"
      ]
    },
    {
      "cell_type": "code",
      "execution_count": 207,
      "metadata": {
        "id": "UyeDJjXqbBKm",
        "outputId": "f9658471-6bea-4dda-f299-c32071ffcb92",
        "colab": {
          "base_uri": "https://localhost:8080/"
        }
      },
      "outputs": [
        {
          "output_type": "stream",
          "name": "stdout",
          "text": [
            "fizz\n",
            "fizz\n",
            "buzz\n",
            "fizz\n",
            "fizz\n",
            "fizzbuzz\n"
          ]
        }
      ],
      "source": [
        "fb_numbers = [1, 2, 3, 4, 5, 6, 7, 8, 9, 10]\n",
        "\n",
        "# hints: refer to the numeric operations we learned about this morning\n",
        "#        the order of your conditionals matters\n",
        "\n",
        "### write your code below ###\n",
        "fb_numbers = [1, 2, 3, 4, 5, 6, 7, 8, 9, 10]\n",
        "\n",
        "for num in fb_numbers:\n",
        "    if num % 2 == 0 and num % 5 == 0:  # Check divisibility by both 2 and 5 first\n",
        "        print(\"fizzbuzz\")\n",
        "    elif num % 2 == 0:  # Then check divisibility by 2\n",
        "        print(\"fizz\")\n",
        "    elif num % 5 == 0:  # Finally, check divisibility by 5\n",
        "        print(\"buzz\")\n"
      ]
    },
    {
      "cell_type": "markdown",
      "metadata": {
        "id": "r2ckH_VmL4hM"
      },
      "source": [
        "# More about functions"
      ]
    },
    {
      "cell_type": "markdown",
      "metadata": {
        "id": "sVe3CzW492XA"
      },
      "source": [
        "Earlier this morning, we learned to use built-in functions, like  `print()`, `len()`, and `type()`. Over the course of this afternoon, we'll be extending our knowledge of functions to incorporate two new kinds of functions, which we'll broadly describe as:\n",
        "\n",
        "- **Methods**: functions that are specific to their object type\n",
        "- **Custom functions**: functions written by you!\n",
        "\n",
        "Writing and/or using these functions will allow you to avoid repeating large chunks of code that could otherwise make your analyses tedious and unmanageable."
      ]
    },
    {
      "cell_type": "markdown",
      "metadata": {
        "id": "-IdFiWx7dyBC"
      },
      "source": [
        "## Methods\n",
        "\n",
        "**Methods** are a type of function that can be called directly on certain object types and data structures in Python. We can think of methods as useful built-in shortcuts that we can use to get information or manipulate our object/data.\n"
      ]
    },
    {
      "cell_type": "markdown",
      "metadata": {
        "id": "dZXvdNFUKIhO"
      },
      "source": [
        "### Methods for lists\n",
        "We'll prime our intuition about methods by practicing some methods for lists. Lists are a useful data structure because they can be altered using methods: elements can be added and removed, and lists can even be combined with each other."
      ]
    },
    {
      "cell_type": "code",
      "execution_count": null,
      "metadata": {
        "id": "n08zIjmIe20u"
      },
      "outputs": [],
      "source": [
        "num_list = [5, 9, 2.3, 14, 3, 2, 10]\n",
        "num_list.append(18)  # .append() adds a single value to the end of the list\n",
        "\n",
        "print(num_list)"
      ]
    },
    {
      "cell_type": "markdown",
      "metadata": {
        "id": "xeO_bfr1gR5B"
      },
      "source": [
        "Notice a couple of things here about the *syntax* of using a method.\n",
        "1. `.append()` goes *after* the variable name, with the `.` acting as a link between the object and the method. <br>This is because methods act upon the specific object that they're pointing to (in this case, `num_list`). You can say that methods operate *in reference* the object that they're linked to.\n",
        "2. `num_list` did not have to be updated for `18` to show up at the end of the list. <br>This is because methods for lists work **in place**, meaning that they directly modify the list contained within the variable and save it in place. Not all methods will operate in place, and it can be useful to note this on your cheat sheet as you go along.\n",
        "\n",
        "Here are some of the key methods for modifying lists. **Do not try to memorize these methods, as they are available on your cheat sheet.** We have many data structures to learn about, so pace yourself 😊\n",
        "- `.append()`: Adds a single element to the end of the list. Sometimes described as **pushing** a value to the list.\n",
        "- `.extend()`: Adds 1+ elements contained in a data structure (like a list) to the end of the referenced list.\n",
        "- `.sort()`: Sorts the list from min to max: strings will be sorted alphabetically, numerics will be sorted by value.\n",
        "- `.reverse()`: Reverses the list.\n",
        "- `.remove()`: Removes an element from the list.\n",
        "\n",
        "> For a complete list of methods, click [here](https://www.programiz.com/python-programming/methods/list).\n",
        "\n",
        "Again, all of the methods listed modify the list **in place**, meaning that you do *not* need to update the variable storing the list. This means that you can use one method after another (**chaining** methods)."
      ]
    },
    {
      "cell_type": "code",
      "execution_count": 48,
      "metadata": {
        "id": "azKycLcYEWBR",
        "outputId": "d4c94a62-d8e0-4797-bd0f-13d4265dd2ac",
        "colab": {
          "base_uri": "https://localhost:8080/"
        }
      },
      "outputs": [
        {
          "output_type": "stream",
          "name": "stdout",
          "text": [
            "Original list: [5, 9, 2.3, 14, 3, 2, 10]\n",
            "Extended: [5, 9, 2.3, 14, 3, 2, 10, 1, 1, 52, 4, 8, 0]\n",
            "Sorted: [0, 1, 1, 2, 2.3, 3, 4, 5, 8, 9, 10, 14, 52]\n",
            "Reversed: [52, 14, 10, 9, 8, 5, 4, 3, 2.3, 2, 1, 1, 0]\n",
            "Final version of list: [52, 14, 10, 9, 8, 5, 4, 3, 2.3, 2, 1, 1, 0]\n"
          ]
        }
      ],
      "source": [
        "# an example of chaining methods\n",
        "\n",
        "num_list = [5, 9, 2.3, 14, 3, 2, 10]\n",
        "print('Original list:', num_list)\n",
        "\n",
        "# use three methods, one after another\n",
        "num_list.extend([1, 1, 52, 4, 8, 0])\n",
        "print('Extended:', num_list)\n",
        "num_list.sort()\n",
        "print('Sorted:', num_list)\n",
        "num_list.reverse()\n",
        "print('Reversed:', num_list)\n",
        "\n",
        "print('Final version of list:', num_list)"
      ]
    },
    {
      "cell_type": "code",
      "execution_count": 55,
      "metadata": {
        "id": "6TicDSpwjJPx",
        "outputId": "cd1509cf-9ff9-47e9-a6ac-8714343d8f2e",
        "colab": {
          "base_uri": "https://localhost:8080/"
        }
      },
      "outputs": [
        {
          "output_type": "stream",
          "name": "stdout",
          "text": [
            "[5, 9, 2.3, 14, 3, 2, 10]\n",
            "[10, 2, 3, 14, 2.3, 9, 5, 1, 8, 1]\n"
          ]
        }
      ],
      "source": [
        "# try it out:\n",
        "# use print() to view the list at each step\n",
        "\n",
        "num_list = [5, 9, 2.3, 14, 3, 2, 10]\n",
        "print(num_list)\n",
        "# use .reverse() to reverse num_list\n",
        "num_list.reverse()\n",
        "\n",
        "\n",
        "# use .extend() to add [1, 8, 1] to the list\n",
        "num_list.extend([1, 8, 1])\n",
        "print(num_list)\n",
        "\n",
        "# use .sort() to sort num_list\n",
        "\n",
        "\n",
        "\n",
        "# use .remove() to remove 2.3 from the list\n",
        "\n",
        "\n",
        "\n",
        "# print the final version of num_list: is it what you expect?\n"
      ]
    },
    {
      "cell_type": "markdown",
      "metadata": {
        "id": "eT-fh7LISPOW"
      },
      "source": [
        "Not all methods change the contents of a list: some can just be used to access useful information about the contents of a list.\n",
        "\n",
        "- `.count()`: Counts the instances of a certain element in the list.\n",
        "- `.index()`: Returns the index of the first instance of the element in the list."
      ]
    },
    {
      "cell_type": "code",
      "execution_count": 60,
      "metadata": {
        "id": "C-mCRSPRSc_u",
        "outputId": "33562cc6-3cda-4414-8d69-62ba50d5d69c",
        "colab": {
          "base_uri": "https://localhost:8080/"
        }
      },
      "outputs": [
        {
          "output_type": "stream",
          "name": "stdout",
          "text": [
            "2\n"
          ]
        }
      ],
      "source": [
        "# try it out:\n",
        "\n",
        "# print the number of 1 (ones) that exist in num_list\n",
        "num_list.count(1)\n",
        "print(num_list.count(1))\n",
        "# print the index of the first instance of 1\n"
      ]
    },
    {
      "cell_type": "markdown",
      "metadata": {
        "id": "s3X2_YnYKMTy"
      },
      "source": [
        "### Methods for strings\n",
        "Now that we've got the hang of how methods are called in relation to objects, we can try out some methods that are specific to strings. There are [far too many methods](https://www.w3schools.com/python/python_ref_string.asp) for strings for us to cover in one session alone, so we'll only get through a few today and leave the rest for if/when they become important for our purposes. (You don't need to memorize these, so just enjoy the ride!)\n",
        "\n",
        "- `.count()`: Counts the instances of a certain **substring** (a short string of at least one character, contained within the main string).\n",
        "- `.replace()`: Given a \"target\" substring and a replacement string, it will replace each instance of the target.\n",
        "- `.split()`: Given a \"target\" substring, it will split the input string at each instance of the target, returning a list of split strings.\n",
        "- `.join()`: Given a \"connector\" string, it will join an input *list* of strings with the connector string, returning a singular conjoined string.\n",
        "- `.find()`: Given a substring, it will return the index of the *first* instance of the substring. If the substring is not found, it will return the integer `-1`.\n",
        "\n",
        "Unlike methods for lists, methods for strings **do not** modify the string in place. Because of this distinction, string methods can be a little more complex than list methods, so we'll go through them one by one so you can understand the quirks. Again, you don't need to have all of these memorized, so just follow along!\n",
        "\n"
      ]
    },
    {
      "cell_type": "code",
      "execution_count": 61,
      "metadata": {
        "id": "6tSk74PkoqfP"
      },
      "outputs": [],
      "source": [
        "# a very imaginary and very short mRNA string\n",
        "\n",
        "imaginary_seq = 'AGGCATTTAGCATGCATGTAACGATGCTGCGCGTTCA'"
      ]
    },
    {
      "cell_type": "code",
      "execution_count": 62,
      "metadata": {
        "id": "35A5HtXiqp4k",
        "outputId": "83b7eec0-22fd-4623-b394-83f330c0d5a6",
        "colab": {
          "base_uri": "https://localhost:8080/"
        }
      },
      "outputs": [
        {
          "output_type": "stream",
          "name": "stdout",
          "text": [
            "T replaced with U: AGGCAUUUAGCAUGCAUGUAACGAUGCUGCGCGUUCA\n",
            "But imaginary_seq is *not* modified in place: AGGCATTTAGCATGCATGTAACGATGCTGCGCGTTCA\n"
          ]
        }
      ],
      "source": [
        "# let's start by replacing all the T's with U's\n",
        "# using .replace()\n",
        "\n",
        "# 'T' is the target, 'U' is the replacement\n",
        "print(f\"T replaced with U: {imaginary_seq.replace('T', 'U')}\")\n",
        "\n",
        "print(f\"But imaginary_seq is *not* modified in place: {imaginary_seq}\")  # checks the value of imaginary_seq"
      ]
    },
    {
      "cell_type": "code",
      "execution_count": 63,
      "metadata": {
        "id": "xJYoH3aosXFj",
        "outputId": "6e8e3a2c-c773-428b-bdee-7cab81978315",
        "colab": {
          "base_uri": "https://localhost:8080/"
        }
      },
      "outputs": [
        {
          "output_type": "stream",
          "name": "stdout",
          "text": [
            "Once imaginary_seq is updated: AGGCAUUUAGCAUGCAUGUAACGAUGCUGCGCGUUCA\n"
          ]
        }
      ],
      "source": [
        "# we have to *manually* update imaginary_seq if we want the string saved\n",
        "\n",
        "imaginary_seq = imaginary_seq.replace('T', 'U')\n",
        "print(f'Once imaginary_seq is updated: {imaginary_seq}')"
      ]
    },
    {
      "cell_type": "code",
      "execution_count": 64,
      "metadata": {
        "id": "bZ4ACPHyueFa",
        "outputId": "b746b5fe-e7ff-499a-f0c4-8416bd2021a6",
        "colab": {
          "base_uri": "https://localhost:8080/"
        }
      },
      "outputs": [
        {
          "output_type": "execute_result",
          "data": {
            "text/plain": [
              "11"
            ]
          },
          "metadata": {},
          "execution_count": 64
        }
      ],
      "source": [
        "# next, let's try to see if there are any start codons (AUG) in this sequence\n",
        "# using .find()\n",
        "\n",
        "imaginary_seq.find('AUG')  # if no AUG exists, it'll return -1"
      ]
    },
    {
      "cell_type": "code",
      "execution_count": 65,
      "metadata": {
        "id": "uPNLxNHHq98s",
        "outputId": "a736260d-c724-4b8b-97a1-a243669ac100",
        "colab": {
          "base_uri": "https://localhost:8080/"
        }
      },
      "outputs": [
        {
          "output_type": "stream",
          "name": "stdout",
          "text": [
            "There are 3 instances of AUG.\n"
          ]
        }
      ],
      "source": [
        "# now that we know that at least one start codon exists\n",
        "# let's count how many instances there are\n",
        "# using .count()\n",
        "\n",
        "print(f\"There are {imaginary_seq.count('AUG')} instances of AUG.\")"
      ]
    },
    {
      "cell_type": "code",
      "execution_count": 67,
      "metadata": {
        "id": "k3y_e6aUsk_b",
        "outputId": "ec95a47d-11f1-4cc6-ecc4-0af4d8c2f19d",
        "colab": {
          "base_uri": "https://localhost:8080/"
        }
      },
      "outputs": [
        {
          "output_type": "stream",
          "name": "stdout",
          "text": [
            "Substrings after splitting: ['AGGCAUUUAGC', 'C', 'UAACG', 'CUGCGCGUUCA']\n",
            "imaginary_seq is not modified in place: AGGCAUUUAGCAUGCAUGUAACGAUGCUGCGCGUUCA\n"
          ]
        }
      ],
      "source": [
        "# we can break apart the sequence at each instance of AUG\n",
        "# using .split()\n",
        "\n",
        "split_seqs = imaginary_seq.split('AUG')\n",
        "print(f\"Substrings after splitting: {split_seqs}\")\n",
        "print(f\"imaginary_seq is not modified in place: {imaginary_seq}\")"
      ]
    },
    {
      "cell_type": "code",
      "execution_count": 68,
      "metadata": {
        "id": "lZ6jVeGLtETw",
        "outputId": "aff1958e-1024-4f65-d016-e5ac28f64f94",
        "colab": {
          "base_uri": "https://localhost:8080/"
        }
      },
      "outputs": [
        {
          "output_type": "stream",
          "name": "stdout",
          "text": [
            "After joining: AGGCAUUUAGCAUGCAUGUAACGAUGCUGCGCGUUCA\n"
          ]
        }
      ],
      "source": [
        "# we can also reconstruct the sequence, joining the strings in split_seqs\n",
        "# together, using AUG as our \"connector\" string\n",
        "# using .join()\n",
        "\n",
        "reconstructed_seq = 'AUG'.join(split_seqs)\n",
        "\n",
        "# syntax note: .join() is a method for *strings*\n",
        "# that means that the target of .join() must be a string\n",
        "# split_seqs is a list, which means that 'AUG' must be our target\n",
        "\n",
        "print('After joining:', reconstructed_seq)"
      ]
    },
    {
      "cell_type": "code",
      "execution_count": 70,
      "metadata": {
        "id": "_F0-Eg01yMVV",
        "outputId": "7ab644a1-9952-4083-8227-ad4ee2e98a5a",
        "colab": {
          "base_uri": "https://localhost:8080/"
        }
      },
      "outputs": [
        {
          "output_type": "execute_result",
          "data": {
            "text/plain": [
              "True"
            ]
          },
          "metadata": {},
          "execution_count": 70
        }
      ],
      "source": [
        "# try it out:\n",
        "# use a logic check to see if reconstructed_seq is the same as imaginary_seq\n",
        "\n",
        "reconstructed_seq == imaginary_seq"
      ]
    },
    {
      "cell_type": "code",
      "execution_count": 73,
      "metadata": {
        "id": "8JOFUn94wILL",
        "outputId": "cad5d593-29d5-46ac-ee0e-7832553258ca",
        "colab": {
          "base_uri": "https://localhost:8080/"
        }
      },
      "outputs": [
        {
          "output_type": "stream",
          "name": "stdout",
          "text": [
            "There are 3 instances of CAT in imaginary_seq.\n",
            "There are 1 instances of CAT.\n"
          ]
        }
      ],
      "source": [
        "# resetting our strings:\n",
        "imaginary_seq = 'AGGCATTTAGCATGCATGTAACGATGCTGCGCGTTCA'\n",
        "catless = 'AGGGGTAACGATGCTGCGCGTTCATTAG'\n",
        "\n",
        "# try it out:\n",
        "# count each instance of the substring 'CAT'\n",
        "print(f\"There are {imaginary_seq.count('CAT')} instances of CAT in imaginary_seq.\")\n",
        "print(f\"There are {catless.count('CAT')} instances of CAT.\")\n"
      ]
    },
    {
      "cell_type": "code",
      "execution_count": 76,
      "metadata": {
        "id": "H8ctkFzKGff0",
        "outputId": "28768e3f-7f00-4558-a986-e63d29679c87",
        "colab": {
          "base_uri": "https://localhost:8080/"
        }
      },
      "outputs": [
        {
          "output_type": "execute_result",
          "data": {
            "text/plain": [
              "['AGG', 'TTAG', 'G', 'GTAACGATGCTGCGCGTTCA']"
            ]
          },
          "metadata": {},
          "execution_count": 76
        }
      ],
      "source": [
        "# try it out:\n",
        "# split imaginary_seq at each instance of 'CAT'\n",
        "# and save the resultant list to a variable called imaginary_cats\n",
        "split_imaginary_seq = imaginary_seq.split('CAT')\n",
        "split_imaginary_seq"
      ]
    },
    {
      "cell_type": "code",
      "execution_count": 78,
      "metadata": {
        "id": "PbIzTe_LGi3H",
        "outputId": "083e35c8-b0e3-4432-c754-868c865526db",
        "colab": {
          "base_uri": "https://localhost:8080/"
        }
      },
      "outputs": [
        {
          "output_type": "execute_result",
          "data": {
            "text/plain": [
              "['AGG', 'G', 'GTAACGATGCTGCGCGTTCA', 'TTAG']"
            ]
          },
          "metadata": {},
          "execution_count": 78
        }
      ],
      "source": [
        "# try it out:\n",
        "# sort imaginary_cats alphabetically\n",
        "# (this will require a method for lists, not strings!)\n",
        "\n",
        "split_imaginary_seq.sort()\n",
        "split_imaginary_seq"
      ]
    },
    {
      "cell_type": "code",
      "execution_count": 81,
      "metadata": {
        "id": "vmzo7UMNGkTB"
      },
      "outputs": [],
      "source": [
        "# try it out:\n",
        "# join imaginary_cats using an *empty* string ('')\n",
        "# and save the result in a variable called no_cats\n",
        "''.join(split_imaginary_seq)\n",
        "no_cats = ''.join(split_imaginary_seq)"
      ]
    },
    {
      "cell_type": "code",
      "execution_count": 88,
      "metadata": {
        "id": "5Uarsx2AGlDH",
        "outputId": "0938488b-0b8b-4c27-f092-c7aad1450e66",
        "colab": {
          "base_uri": "https://localhost:8080/",
          "height": 53
        }
      },
      "outputs": [
        {
          "output_type": "stream",
          "name": "stdout",
          "text": [
            "no cats\n"
          ]
        },
        {
          "output_type": "execute_result",
          "data": {
            "text/plain": [
              "'AGGGGTAACGATGCTGCGCGTTCATTAG'"
            ],
            "application/vnd.google.colaboratory.intrinsic+json": {
              "type": "string"
            }
          },
          "metadata": {},
          "execution_count": 88
        }
      ],
      "source": [
        "# try it out:\n",
        "# let's mix in some control flow and logic checks:\n",
        "# 1) check if no_cats is equal to catless\n",
        "# 2) if no cats is equal to catless, print the string \"No cats!\"\n",
        "if no_cats == catless:\n",
        "    print(\"no cats\")\n",
        "else:\n",
        "    print(\"yes, cats\")\n",
        "\n",
        "catless"
      ]
    },
    {
      "cell_type": "markdown",
      "metadata": {
        "id": "7ljRNZ3_6A0M"
      },
      "source": [
        "## Custom functions\n",
        "\n",
        "In Python, custom functions must be **defined** by using a `def` statement to signal that we are defining a new function. We follow `def` by our desired function name, then parentheses for the function's inputs, if it has any. Just like with `for` loops, the names provided for inputs are simply placeholder names that represent your input in the function's code.\n",
        "\n",
        "After that, we use `:` operator to signal that we're transitioning into the code we want to be executed upon running the function.\n",
        "\n",
        "```\n",
        "def function_name(input_1, input_2... input_n):\n",
        "  # code goes here\n",
        "  # each line is indented\n",
        "  # just like a for loop\n",
        "```\n",
        "\n",
        "Last but not least, any desired output of a function must be specified with a `return` statement. Without a `return` statement, the code will run, but the function itself will not output any objects or values. This is easier shown than explained, so let's go ahead and run the cell below:"
      ]
    },
    {
      "cell_type": "code",
      "execution_count": 90,
      "metadata": {
        "id": "OgObLzFcD5yR"
      },
      "outputs": [],
      "source": [
        "def sum_then_square(a, b):\n",
        "    # This function will coerce a and b to floats, sum the numbers a and b, then square the sum.\n",
        "    a = float(a)\n",
        "    b = float(b)\n",
        "    squared_sum = (a + b)**2\n",
        "    print(squared_sum)"
      ]
    },
    {
      "cell_type": "markdown",
      "metadata": {
        "id": "2AJk25g1EKiF"
      },
      "source": [
        "You'll notice that running the above code cell does not show any output, similar to defining a variable.\n",
        "\n",
        "Let's go ahead and test our function, using the values `2` and `5`."
      ]
    },
    {
      "cell_type": "code",
      "execution_count": 93,
      "metadata": {
        "id": "rHhQk6mpKIF0",
        "outputId": "e4c7f307-c200-4e29-c0b8-3358dd552c81",
        "colab": {
          "base_uri": "https://localhost:8080/"
        }
      },
      "outputs": [
        {
          "output_type": "stream",
          "name": "stdout",
          "text": [
            "100.0\n"
          ]
        }
      ],
      "source": [
        "# try it out:\n",
        "# run the function sum_then_square with 2 and 5\n",
        "sum_then_square(3, 7)\n"
      ]
    },
    {
      "cell_type": "markdown",
      "metadata": {
        "id": "ZhdGu_BZJlQ9"
      },
      "source": [
        "Nice! Now let's try running the function and saving its output in a new variable called `summed_square`."
      ]
    },
    {
      "cell_type": "code",
      "execution_count": 94,
      "metadata": {
        "id": "Ais_DRNjE55H"
      },
      "outputs": [],
      "source": [
        "# try it out:\n",
        "# save the output of sum_then_square(2, 5) to a variable called summed_square\n",
        "# then print the value of summed_square\n",
        "\n"
      ]
    },
    {
      "cell_type": "markdown",
      "metadata": {
        "id": "mJP3jnBkD1ZM"
      },
      "source": [
        "Although the squared sum was *printed*, the value of `result` is a `None`, not `49.0`. This is because `print()` does *not* have a defined return.\n",
        "\n",
        "If you don't return something explicitly, Python will default to returning the special object `None`, which has its own special `NoneType`. This is why nested `print()` calls don't work: `print()` doesn't have a defined return, so it returns `None` by default. Thus, printed values cannot be stored or interacted with: they're for display only."
      ]
    },
    {
      "cell_type": "code",
      "execution_count": 95,
      "metadata": {
        "id": "c0P9coDfAFD3",
        "outputId": "eddf3540-6d3f-4775-b316-dac3d975d0e6",
        "colab": {
          "base_uri": "https://localhost:8080/"
        }
      },
      "outputs": [
        {
          "output_type": "stream",
          "name": "stdout",
          "text": [
            "What happens with a nested print?\n",
            "None\n"
          ]
        }
      ],
      "source": [
        "print(print(\"What happens with a nested print?\"))"
      ]
    },
    {
      "cell_type": "markdown",
      "metadata": {
        "id": "2aZ3ZO4yABwK"
      },
      "source": [
        "If we want to actually save or interact with values generated in the function's code, we need to specify that with a `return` statement."
      ]
    },
    {
      "cell_type": "code",
      "execution_count": 99,
      "metadata": {
        "id": "MfrgDdl_Fv2i"
      },
      "outputs": [],
      "source": [
        "# we can update functions by re-defining them, just like updating a variable by re-assigning it\n",
        "\n",
        "def sum_then_square(a, b):\n",
        "    # This function will coerce a and b to floats, sum the numbers a and b, then square the sum.\n",
        "    a = float(a)\n",
        "    b = float(b)\n",
        "    squared_sum = (a + b)**2\n",
        "    print(squared_sum)\n",
        "    return squared_sum"
      ]
    },
    {
      "cell_type": "code",
      "execution_count": 98,
      "metadata": {
        "id": "J68SgYACEsxd"
      },
      "outputs": [],
      "source": [
        "# try it out:\n",
        "# save the output of sum_then_square(2, 5) to a variable called summed_square\n",
        "# then print the value of summed_square\n",
        "# you can use the same code as you did before!\n",
        "\n"
      ]
    },
    {
      "cell_type": "markdown",
      "metadata": {
        "id": "zCNGncCv6A0O"
      },
      "source": [
        "While somewhat annoying to new learners, it can be quite useful to use `print()` to show human-readable information in the output while retaining \"useful\" raw values in the returned output. When in doubt, make sure to use a `return` statement to output the information that you wish to store for future use.\n",
        "\n",
        "Let's do a quick exercise to make sure you recall the major points of custom functions.\n",
        "\n",
        "The code cell below contains *imperfect* code that will prevent it from running and/or generating the desired output, which is:\n",
        "\n",
        "```\n",
        "String A is  9  characters long.\n",
        "String B is  11  characters long.\n",
        "String C is  7  characters long.\n",
        "The actual saved value of shortest was:  AATGATC\n",
        "```"
      ]
    },
    {
      "cell_type": "code",
      "execution_count": 101,
      "metadata": {
        "id": "eoL6bEGd6A0O",
        "outputId": "7d9efb47-e5bf-47ad-cf1c-de53b0e271b7",
        "colab": {
          "base_uri": "https://localhost:8080/"
        }
      },
      "outputs": [
        {
          "output_type": "stream",
          "name": "stdout",
          "text": [
            "String A is 9 characters long.\n",
            "String B is 11 characters long.\n",
            "String C is 7 characters long.\n",
            "The actual saved value of shortest was:  AATGATC\n"
          ]
        }
      ],
      "source": [
        "# try it out:\n",
        "# 1) run this cell to see the error message\n",
        "# 2) correct the error(s) to generate the desired output (see above)\n",
        "\n",
        "def min_seq(a, b, c):\n",
        "    # Takes three string sequences and returns the shortest sequence in the trio.\n",
        "\n",
        "    print(f'String A is {len(a)} characters long.')\n",
        "    print(f'String B is {len(b)} characters long.')\n",
        "    print(f'String C is {len(c)} characters long.')\n",
        "\n",
        "    # find the shortest length of all sequences\n",
        "    length = [len(a), len(b), len(c)]\n",
        "    shortest_length = int(min(length))\n",
        "\n",
        "    # return the sequence with the shortest length\n",
        "    if len(a) == shortest_length:\n",
        "        return a\n",
        "    elif len(b) == shortest_length:\n",
        "        return b\n",
        "    elif len(c) == shortest_length:\n",
        "        return c\n",
        "    else:\n",
        "        return None\n",
        "\n",
        "### do not modify below ###\n",
        "shortest = min_seq('TAGGATGAA', 'TTATAGCTACG', 'AATGATC')\n",
        "print('The actual saved value of shortest was: ', shortest)\n",
        "### do not modify above ###"
      ]
    },
    {
      "cell_type": "markdown",
      "metadata": {
        "id": "ST4pXu6EmbBM"
      },
      "source": [
        "# Exercises: Set B\n",
        "\n"
      ]
    },
    {
      "cell_type": "markdown",
      "metadata": {
        "id": "2SVKyn-ZfhwT"
      },
      "source": [
        "**B1**: Edit the skeleton code below to create a nested list called `nested_plate` that contains one list for each row. The rows will be labelled A, B, or C, and the columns will be labelled 0, 1 ... 9. The output should be:\n",
        "```\n",
        "[['A0', 'A1', 'A2', 'A3', 'A4', 'A5', 'A6', 'A7', 'A8', 'A9'],\n",
        "['B0', 'B1', 'B2', 'B3', 'B4', 'B5', 'B6', 'B7', 'B8', 'B9'],\n",
        "['C0', 'C1', 'C2', 'C3', 'C4', 'C5', 'C6', 'C7', 'C8', 'C9']]\n",
        "```"
      ]
    },
    {
      "cell_type": "code",
      "execution_count": null,
      "metadata": {
        "id": "V47-OTt1YVWz"
      },
      "outputs": [],
      "source": [
        "# edit the skeleton code below to create a nested list called nested_plate\n",
        "# that contains one list for each row\n",
        "\n",
        "nested_plate = []  # an empty list: append lists to this to create a nested list\n",
        "\n",
        "rows = ['A','B','C']\n",
        "columns = list(range(10))\n",
        "\n",
        "for (write your loop here):  # loop through rows\n",
        "\tsub_row = []\n",
        "\tfor (write your loop here):  # loop through columns\n",
        "\t\tsub_row.append()  # build up the sub_row\n",
        "\tnested_plate.append()  # build up the full plate\n",
        "\n",
        "nested_plate"
      ]
    },
    {
      "cell_type": "code",
      "source": [
        "### Solution ###\n",
        "nested_plate = []  # an empty list: append lists to this to create a nested list\n",
        "\n",
        "rows = ['A','B','C']\n",
        "columns = list(range(10))\n",
        "\n",
        "for row in rows:  # loop through rows\n",
        "\tsub_row = []\n",
        "\tfor column in columns:  # loop through columns\n",
        "\t\tsub_row.append(row + str(col))  # build up the sub_row\n",
        "\tnested_plate.append(sub_row)  # build up the full plate\n",
        "\n",
        "nested_plate"
      ],
      "metadata": {
        "id": "3DGvcB49a8Is",
        "outputId": "2faf4048-40fc-4e49-a981-1ed3cba2cb34",
        "colab": {
          "base_uri": "https://localhost:8080/"
        }
      },
      "execution_count": 103,
      "outputs": [
        {
          "output_type": "execute_result",
          "data": {
            "text/plain": [
              "[['A12', 'A12', 'A12', 'A12', 'A12', 'A12', 'A12', 'A12', 'A12', 'A12'],\n",
              " ['B12', 'B12', 'B12', 'B12', 'B12', 'B12', 'B12', 'B12', 'B12', 'B12'],\n",
              " ['C12', 'C12', 'C12', 'C12', 'C12', 'C12', 'C12', 'C12', 'C12', 'C12']]"
            ]
          },
          "metadata": {},
          "execution_count": 103
        }
      ]
    },
    {
      "cell_type": "markdown",
      "metadata": {
        "id": "VQRfX9or-CTk"
      },
      "source": [
        "## B2\n",
        "\n",
        "Write a function called `list_mean()` that takes a list of numbers and does the following:\n",
        "1. Prints the text `'The mean value is'`, followed by the mean value.\n",
        "2. Returns the mean value."
      ]
    },
    {
      "cell_type": "code",
      "execution_count": 107,
      "metadata": {
        "id": "mi9auQta-c44",
        "outputId": "f9513dfa-f3d8-4be8-c8a3-1cee52d7f17d",
        "colab": {
          "base_uri": "https://localhost:8080/"
        }
      },
      "outputs": [
        {
          "output_type": "stream",
          "name": "stdout",
          "text": [
            "The mean value is 6.471428571428571\n"
          ]
        },
        {
          "output_type": "execute_result",
          "data": {
            "text/plain": [
              "6.471428571428571"
            ]
          },
          "metadata": {},
          "execution_count": 107
        }
      ],
      "source": [
        "num_list = [5, 9, 2.3, 14, 3, 2, 10]\n",
        "\n",
        "# hints:\n",
        "# 1. you can use sum() to add all elements in a list\n",
        "# 2. you can use len() to determine the length of an object with multiple elements\n",
        "# 3. remember that you can print multiple things with one print() call\n",
        "#    just separate your inputs with commas!\n",
        "\n",
        "### write your code below ###\n",
        "def list_mean(x):\n",
        "    b = sum(x)\n",
        "    t = b/ len(x)\n",
        "    print(\"The mean value is\", t)\n",
        "    return t\n",
        "\n",
        "list_mean(num_list)"
      ]
    },
    {
      "cell_type": "markdown",
      "metadata": {
        "id": "xOwv5KSQ0L8f"
      },
      "source": [
        "## B3\n",
        "\n",
        "Write a function called `list_median()` that takes a list and does four things:\n",
        "\n",
        "1. Sorts the list using the `.sort()` method.\n",
        "2. Obtain the median value of the list using indexing, and assigns it to a variable called `median_value`. <br>(For now, assume that *we are only going to work with lists that have odd numbers of elements*.)\n",
        "3. Prints the text `'The median value is'`, followed by the median value.\n",
        "4. Returns the median value."
      ]
    },
    {
      "cell_type": "code",
      "execution_count": 117,
      "metadata": {
        "id": "k71IVhOZmpXF"
      },
      "outputs": [],
      "source": [
        "# hints:\n",
        "# the median index can be found using the formula ((n+1)/2)-1\n",
        "# the extra -1 accounts for zero-indexing :)\n",
        "\n",
        "num_list = [5, 9, 2.3, 14, 3, 2, 10]\n",
        "\n",
        "### write your code below ###\n",
        "\n"
      ]
    },
    {
      "cell_type": "markdown",
      "metadata": {
        "id": "jrZyMWRi1DOi"
      },
      "source": [
        "Using a `for` loop, apply `list_median()` to each list inside `nested_nums`."
      ]
    },
    {
      "cell_type": "code",
      "execution_count": 118,
      "metadata": {
        "id": "fCkatzUY07y3"
      },
      "outputs": [],
      "source": [
        "nested_nums = [[8, 4, 2], [7, 21, -3], [6.8, 3, 9]]\n",
        "\n",
        "### write your code below ###\n"
      ]
    },
    {
      "cell_type": "markdown",
      "metadata": {
        "id": "Drd9DKdbT0cG"
      },
      "source": [
        "# More data structures\n",
        "\n",
        "Let's take a quick step back to data structures. This morning we taught you about lists, which are a simple data structure that can contain a variety of data types (strings, integers, floats).\n",
        "\n",
        "We're now going to move on to some more complex data structures: each of these data structures sacrifices some of the flexibility afforded by a list in order to gain a boost in either speed and/or accessibility. We'll broadly describe these gains as **efficiency**, in order to get you to start thinking about picking *efficient* data structures to use in your code."
      ]
    },
    {
      "cell_type": "markdown",
      "metadata": {
        "id": "AhP6Y8yccHSn"
      },
      "source": [
        "## Tuples\n",
        "Our first new data structure is calle a **tuple** (pronounced `tuhp-pull`). We can consider tuples to be sort of like lists, because there's a lot of similarities between the two.\n",
        "1. **Both can contain multiple values.** They don't *have* to, but they can.\n",
        "2. **Both can contain multiple types.** Again, they don't *have* to.\n",
        "3. **Both can be accessed using indexing.** Remember zero-indexing though!\n",
        "4. **Both can be nested.** You can make a tuple of tuples, or even combine tuples and lists: a list of tuples, a tuple of lists!\n",
        "5. **Both are iterable.** You can loop over the contents of a tuple just like you would a list.\n",
        "6. **Both have handy `.count()` and `.index()` methods.** (In fact, these are the [only two methods](https://www.programiz.com/python-programming/methods/tuple) for tuples. We'll discuss why that is in a second.)"
      ]
    },
    {
      "cell_type": "code",
      "execution_count": 120,
      "metadata": {
        "id": "2kNJKudkRh4O",
        "outputId": "e5dd3626-9953-496b-a374-923aadaa2925",
        "colab": {
          "base_uri": "https://localhost:8080/"
        }
      },
      "outputs": [
        {
          "output_type": "stream",
          "name": "stdout",
          "text": [
            "The tuple: (5, 0, 9.2, 8, 0)\n",
            "5\n",
            "0\n"
          ]
        }
      ],
      "source": [
        "num_tuple = (5, 0, 9.2, 8, 0)  # tuples are defined using parentheses\n",
        "print('The tuple:', num_tuple)\n",
        "\n",
        "print(num_tuple[0])  # first element\n",
        "print(num_tuple[-1])  # last element"
      ]
    },
    {
      "cell_type": "markdown",
      "metadata": {
        "id": "GfkArsLeRTk9"
      },
      "source": [
        "The key difference between a list and a tuple is that a tuple is **immutable**: tuples can't be changed once they're assigned to a variable. This means that you can't use methods to append, extend, sort, or pop elements from a tuple: the only two available are `.count()` and `.index()`, neither of which change the tuple.\n",
        "\n",
        "> **\"Why would you choose to use a tuple instead of a list if you can't actually do anything to them?\"**<br>\n",
        "It turns out that tuples are **more efficient** than lists, specifically *because* they can't be modified. This principle applies to all data structures in Python: the more flexibility permitted by the structure, the less computationally efficient it is to create and access elements in the structure. In other words, your computer will allocate less memory for tuples because it knows that their size will not change. This **efficiency-flexibility tradeoff** is a key motivator selecting appropriate data structures in your work.\n",
        "\n",
        "Beyond efficiency reasons, tuples are important for you to know because they're the default data structure for returning multiple values in functions."
      ]
    },
    {
      "cell_type": "code",
      "execution_count": 121,
      "metadata": {
        "id": "6Y6xH_CoWuzC",
        "outputId": "35082773-d9db-408d-9eca-a981db0ef134",
        "colab": {
          "base_uri": "https://localhost:8080/",
          "height": 323
        }
      },
      "outputs": [
        {
          "output_type": "stream",
          "name": "stdout",
          "text": [
            "Output is in order: length, median, mean\n"
          ]
        },
        {
          "output_type": "error",
          "ename": "NameError",
          "evalue": "name 'list_median' is not defined",
          "traceback": [
            "\u001b[0;31m---------------------------------------------------------------------------\u001b[0m",
            "\u001b[0;31mNameError\u001b[0m                                 Traceback (most recent call last)",
            "\u001b[0;32m<ipython-input-121-475604d31b0f>\u001b[0m in \u001b[0;36m<cell line: 10>\u001b[0;34m()\u001b[0m\n\u001b[1;32m      8\u001b[0m     \u001b[0;32mreturn\u001b[0m \u001b[0mlen\u001b[0m\u001b[0;34m(\u001b[0m\u001b[0minput_list\u001b[0m\u001b[0;34m)\u001b[0m\u001b[0;34m,\u001b[0m \u001b[0mlist_median\u001b[0m\u001b[0;34m(\u001b[0m\u001b[0minput_list\u001b[0m\u001b[0;34m)\u001b[0m\u001b[0;34m,\u001b[0m \u001b[0mlist_mean\u001b[0m\u001b[0;34m(\u001b[0m\u001b[0minput_list\u001b[0m\u001b[0;34m)\u001b[0m\u001b[0;34m\u001b[0m\u001b[0;34m\u001b[0m\u001b[0m\n\u001b[1;32m      9\u001b[0m \u001b[0;34m\u001b[0m\u001b[0m\n\u001b[0;32m---> 10\u001b[0;31m \u001b[0msummarize_tuple\u001b[0m\u001b[0;34m(\u001b[0m\u001b[0mnum_list\u001b[0m\u001b[0;34m)\u001b[0m\u001b[0;34m\u001b[0m\u001b[0;34m\u001b[0m\u001b[0m\n\u001b[0m",
            "\u001b[0;32m<ipython-input-121-475604d31b0f>\u001b[0m in \u001b[0;36msummarize_tuple\u001b[0;34m(input_list)\u001b[0m\n\u001b[1;32m      6\u001b[0m     \u001b[0mprint\u001b[0m\u001b[0;34m(\u001b[0m\u001b[0;34m'Output is in order: length, median, mean'\u001b[0m\u001b[0;34m)\u001b[0m\u001b[0;34m\u001b[0m\u001b[0;34m\u001b[0m\u001b[0m\n\u001b[1;32m      7\u001b[0m \u001b[0;34m\u001b[0m\u001b[0m\n\u001b[0;32m----> 8\u001b[0;31m     \u001b[0;32mreturn\u001b[0m \u001b[0mlen\u001b[0m\u001b[0;34m(\u001b[0m\u001b[0minput_list\u001b[0m\u001b[0;34m)\u001b[0m\u001b[0;34m,\u001b[0m \u001b[0mlist_median\u001b[0m\u001b[0;34m(\u001b[0m\u001b[0minput_list\u001b[0m\u001b[0;34m)\u001b[0m\u001b[0;34m,\u001b[0m \u001b[0mlist_mean\u001b[0m\u001b[0;34m(\u001b[0m\u001b[0minput_list\u001b[0m\u001b[0;34m)\u001b[0m\u001b[0;34m\u001b[0m\u001b[0;34m\u001b[0m\u001b[0m\n\u001b[0m\u001b[1;32m      9\u001b[0m \u001b[0;34m\u001b[0m\u001b[0m\n\u001b[1;32m     10\u001b[0m \u001b[0msummarize_tuple\u001b[0m\u001b[0;34m(\u001b[0m\u001b[0mnum_list\u001b[0m\u001b[0;34m)\u001b[0m\u001b[0;34m\u001b[0m\u001b[0;34m\u001b[0m\u001b[0m\n",
            "\u001b[0;31mNameError\u001b[0m: name 'list_median' is not defined"
          ]
        }
      ],
      "source": [
        "def summarize_tuple(input_list):\n",
        "    # A function that will take a list of numerics return three key summary values:\n",
        "    # 1. The length\n",
        "    # 2. The median\n",
        "    # 3. The mean\n",
        "    print('Output is in order: length, median, mean')\n",
        "\n",
        "    return len(input_list), list_median(input_list), list_mean(input_list)\n",
        "\n",
        "summarize_tuple(num_list)"
      ]
    },
    {
      "cell_type": "code",
      "execution_count": 122,
      "metadata": {
        "id": "BCkdY6P7MErD",
        "outputId": "1b4b84f0-6282-4870-cfab-419595fb8e4e",
        "colab": {
          "base_uri": "https://localhost:8080/",
          "height": 287
        }
      },
      "outputs": [
        {
          "output_type": "stream",
          "name": "stdout",
          "text": [
            "Output is in order: length, median, mean\n"
          ]
        },
        {
          "output_type": "error",
          "ename": "NameError",
          "evalue": "name 'list_median' is not defined",
          "traceback": [
            "\u001b[0;31m---------------------------------------------------------------------------\u001b[0m",
            "\u001b[0;31mNameError\u001b[0m                                 Traceback (most recent call last)",
            "\u001b[0;32m<ipython-input-122-ba5b63974abb>\u001b[0m in \u001b[0;36m<cell line: 1>\u001b[0;34m()\u001b[0m\n\u001b[0;32m----> 1\u001b[0;31m \u001b[0mout\u001b[0m \u001b[0;34m=\u001b[0m \u001b[0msummarize_tuple\u001b[0m\u001b[0;34m(\u001b[0m\u001b[0mnum_list\u001b[0m\u001b[0;34m)\u001b[0m\u001b[0;34m\u001b[0m\u001b[0;34m\u001b[0m\u001b[0m\n\u001b[0m",
            "\u001b[0;32m<ipython-input-121-475604d31b0f>\u001b[0m in \u001b[0;36msummarize_tuple\u001b[0;34m(input_list)\u001b[0m\n\u001b[1;32m      6\u001b[0m     \u001b[0mprint\u001b[0m\u001b[0;34m(\u001b[0m\u001b[0;34m'Output is in order: length, median, mean'\u001b[0m\u001b[0;34m)\u001b[0m\u001b[0;34m\u001b[0m\u001b[0;34m\u001b[0m\u001b[0m\n\u001b[1;32m      7\u001b[0m \u001b[0;34m\u001b[0m\u001b[0m\n\u001b[0;32m----> 8\u001b[0;31m     \u001b[0;32mreturn\u001b[0m \u001b[0mlen\u001b[0m\u001b[0;34m(\u001b[0m\u001b[0minput_list\u001b[0m\u001b[0;34m)\u001b[0m\u001b[0;34m,\u001b[0m \u001b[0mlist_median\u001b[0m\u001b[0;34m(\u001b[0m\u001b[0minput_list\u001b[0m\u001b[0;34m)\u001b[0m\u001b[0;34m,\u001b[0m \u001b[0mlist_mean\u001b[0m\u001b[0;34m(\u001b[0m\u001b[0minput_list\u001b[0m\u001b[0;34m)\u001b[0m\u001b[0;34m\u001b[0m\u001b[0;34m\u001b[0m\u001b[0m\n\u001b[0m\u001b[1;32m      9\u001b[0m \u001b[0;34m\u001b[0m\u001b[0m\n\u001b[1;32m     10\u001b[0m \u001b[0msummarize_tuple\u001b[0m\u001b[0;34m(\u001b[0m\u001b[0mnum_list\u001b[0m\u001b[0;34m)\u001b[0m\u001b[0;34m\u001b[0m\u001b[0;34m\u001b[0m\u001b[0m\n",
            "\u001b[0;31mNameError\u001b[0m: name 'list_median' is not defined"
          ]
        }
      ],
      "source": [
        "out = summarize_tuple(num_list)"
      ]
    },
    {
      "cell_type": "code",
      "execution_count": null,
      "metadata": {
        "id": "eyjT0H4dL-C2"
      },
      "outputs": [],
      "source": [
        "print(type(out))  # as promised, the output of elements from a function is a tuple by default\n",
        "print(out)"
      ]
    },
    {
      "cell_type": "markdown",
      "metadata": {
        "id": "U5hs8j4yYYp8"
      },
      "source": [
        "Here, the values are returned in a 3-member tuple. This default makes sense if you consider *efficiency*: it's more efficient to return values from a function as a tuple, unless otherwise specified. It's like Occam's Razor, but for efficiency in your functions.\n",
        "\n",
        "To sum it up, tuples are good data structures if you value efficiency and don't anticipate needing to add, remove, or otherwise alter the structure of your data."
      ]
    },
    {
      "cell_type": "markdown",
      "metadata": {
        "id": "L0r1Hthi2zt0"
      },
      "source": [
        "## Sets\n",
        "Let's move on to sets. **Sets** are a type of data structure that only contains unique values.\n",
        "\n",
        "You can create a set directly using curly brackets (`{}`), or coerce an existing object into a set. In the latter case, any duplicate values will be dropped, leaving only unique values in the set."
      ]
    },
    {
      "cell_type": "code",
      "execution_count": 123,
      "metadata": {
        "id": "Iu8FkA3vgeUH",
        "outputId": "bf662286-04c5-42fb-9a71-5424a50d4211",
        "colab": {
          "base_uri": "https://localhost:8080/"
        }
      },
      "outputs": [
        {
          "output_type": "stream",
          "name": "stdout",
          "text": [
            "{'bread', 'milk', 'eggs', 'grapes', 'salmon', 'apple'}\n",
            "<class 'set'>\n"
          ]
        }
      ],
      "source": [
        "# Method 1: Create a set using curly brackets\n",
        "groceries = {'grapes', 'milk', 'eggs', 'apple', 'salmon', 'bread'}  # initalized with curly brackets\n",
        "\n",
        "print(groceries)\n",
        "print(type(groceries))"
      ]
    },
    {
      "cell_type": "code",
      "execution_count": 127,
      "metadata": {
        "id": "wKfnA_owFX9U",
        "outputId": "8d6aa0b4-fc45-4df1-98fa-f8d2726b1f16",
        "colab": {
          "base_uri": "https://localhost:8080/"
        }
      },
      "outputs": [
        {
          "output_type": "stream",
          "name": "stdout",
          "text": [
            "The original tuple: ('apple', 'orange', 'banana', 'apple', 'grapes', 'orange')\n",
            "The coerced set: {'banana', 'grapes', 'apple', 'orange'}\n"
          ]
        }
      ],
      "source": [
        "# Method 2: Create a set from an existing object\n",
        "\n",
        "# example: tuple with duplicate elements\n",
        "fruit = ('apple', 'orange', 'banana', 'apple', 'grapes', 'orange')\n",
        "print('The original tuple:', fruit)\n",
        "print('The coerced set:', set(fruit))  # duplicate values dropped\n"
      ]
    },
    {
      "cell_type": "code",
      "execution_count": 128,
      "metadata": {
        "id": "h4kMQI1DMm43",
        "outputId": "39146890-92d7-4d1a-8eb9-780b73fce70b",
        "colab": {
          "base_uri": "https://localhost:8080/"
        }
      },
      "outputs": [
        {
          "output_type": "stream",
          "name": "stdout",
          "text": [
            "Turning a single string into a set: {'l', 'e', 'a', 'p'}\n"
          ]
        }
      ],
      "source": [
        "# Coercing a single string into a set yields interesting results...\n",
        "print('Turning a single string into a set:', set('apple'))"
      ]
    },
    {
      "cell_type": "markdown",
      "metadata": {
        "id": "Qzfyb3LTMZQf"
      },
      "source": [
        "Once you've created a set, you can modify it *in place* using set methods, just like a list: in this aspect, both sets and lists are **mutable**.\n",
        "\n",
        "Set methods are super useful for performing comparisons or other **set operations** between sets. They're more concise compared to looping through logic and membership checks, and they're also remarkably efficient due to the way that lists are created/stored by Python. Say goodbye to the days of having to use `Ctrl/Cmd + F` to manually check one list of things against another!\n",
        "\n",
        "Here are some of the more useful set methods:\n",
        "\n",
        "- `.difference()`: Returns a set containing objects that are not found in both sets.\n",
        "- `.intersection()`: Returns a set containing objects found in both sets.\n",
        "- `.union()`: Returns a set with all objects in both sets.\n",
        "- `.issubset()`: Performs a logic check to see if the target set is a *subset* of the input set.\n",
        "- `.issuperset()`: Performs a logic check to see if the target set is a *superset* of the input set.\n",
        "\n",
        "A full list of set methods is available [here](https://www.programiz.com/python-programming/methods/set)."
      ]
    },
    {
      "cell_type": "markdown",
      "metadata": {
        "id": "pFngEFj99Xfs"
      },
      "source": [
        "## Dictionaries\n",
        "\n",
        "So far, we've discussed lists and tuples, which allow us to create flat or nested structures to contain our data. We've also discussed sets, which allow us to efficiently curate and store unique values.\n",
        "\n",
        "```\n",
        "sample_list = ['element1', 'element2', 'element3'] # square brackets\n",
        "\n",
        "sample_tuple = ('element1', 'element2', 'element3') # parentheses\n",
        "\n",
        "sample_set = {'element1', 'element2', 'element3'} # curly brackets\n",
        "```\n",
        "\n",
        "A **dictionary** is a data structure that efficiently stores values that are associated with each other. These values are stored as **key-value pairs**.\n",
        "- A *key* is a singular data object: it can be a string, integer, or float, but not a data structure that contains multiple objects (lists, tuples, sets). **Each key in a dictionary must be unique.**\n",
        "- A *value* can be any object: it can be a single object or a data structure containing multiple objects, even multiple objects of different types. **Values do not need to be unique.**\n",
        "\n",
        "It may help to think of a dictionary as a set that has objects associated with each unique item in the set.\n",
        "\n",
        "Just like with the previous data structures, you can construct dictionaries in a couple of different ways. The first way is using curly brackets, which we just used to defined sets."
      ]
    },
    {
      "cell_type": "code",
      "execution_count": 130,
      "metadata": {
        "id": "PJqvS_49uuSk",
        "outputId": "23abaca5-3bb6-4183-ce65-eda31246ecd0",
        "colab": {
          "base_uri": "https://localhost:8080/"
        }
      },
      "outputs": [
        {
          "output_type": "execute_result",
          "data": {
            "text/plain": [
              "{'eIF1': 'initiation factor',\n",
              " 'eIF3': 'initiation factor',\n",
              " 'eIF4': 'initiation factor',\n",
              " 'eIF5': 'initiation factor',\n",
              " 'eRF1': 'release factor',\n",
              " 'eRF3': 'release factor'}"
            ]
          },
          "metadata": {},
          "execution_count": 130
        }
      ],
      "source": [
        "# Method 1: defining a dictionary from scratch\n",
        "# dictionaries are defined using curly brackets, like sets\n",
        "# each key-value pair is defined as key: value\n",
        "\n",
        "eukaryotic_dict = {\n",
        "    'eIF1': 'initiation factor',\n",
        "    'eIF3': 'initiation factor',\n",
        "    'eIF4': 'initiation factor',\n",
        "    'eIF5': 'initiation factor',\n",
        "    'eRF1': 'release factor',\n",
        "    'eRF3': 'release factor'\n",
        "}\n",
        "\n",
        "eukaryotic_dict"
      ]
    },
    {
      "cell_type": "markdown",
      "metadata": {
        "id": "vvNL0yUHx4HV"
      },
      "source": [
        "If we have two coordinated lists of the same length (for example, x-y coordinate pairs), we can efficiently create a dictionary by using the built-in `zip()` and `dict()` functions."
      ]
    },
    {
      "cell_type": "code",
      "execution_count": 134,
      "metadata": {
        "id": "zC5erzGq7Lgq",
        "outputId": "14f9c514-13d3-40e7-d7e6-17e4690e9e9a",
        "colab": {
          "base_uri": "https://localhost:8080/"
        }
      },
      "outputs": [
        {
          "output_type": "execute_result",
          "data": {
            "text/plain": [
              "{'eIF1': 'initiation factor',\n",
              " 'eRF1': 'release factor',\n",
              " 'eRF3': 'release factor',\n",
              " 'eIF3': 'initiation factor',\n",
              " 'eIF4': 'initiation factor',\n",
              " 'eIF5': 'initiation factor'}"
            ]
          },
          "metadata": {},
          "execution_count": 134
        }
      ],
      "source": [
        "# Method 2: defining a dictionary from existing lists\n",
        "# zip()` pairs the lists together\n",
        "# `dict()` coerces the paired lists into a dictionary\n",
        "\n",
        "eukaryotic_genes = [\n",
        "    'eIF1',\n",
        "    'eRF1',\n",
        "    'eRF3',\n",
        "    'eIF3',\n",
        "    'eIF4',\n",
        "    'eIF5'\n",
        "]  # gene names\n",
        "\n",
        "eukaryotic_desc = [\n",
        "    'initiation factor',\n",
        "    'release factor',\n",
        "    'release factor',\n",
        "    'initiation factor',\n",
        "    'initiation factor',\n",
        "    'initiation factor'\n",
        "]  # gene descriptions\n",
        "\n",
        "eukaryotic_dict = dict(zip(eukaryotic_genes, eukaryotic_desc))\n",
        "eukaryotic_dict\n"
      ]
    },
    {
      "cell_type": "markdown",
      "metadata": {
        "id": "j4VlcIcUuvGw"
      },
      "source": [
        "Once the dictionary is constructed, you can access the value associated with a key by simply using the key as an index."
      ]
    },
    {
      "cell_type": "code",
      "execution_count": 135,
      "metadata": {
        "id": "08TD-lFSxJuy",
        "outputId": "d55a784b-a2de-4ea7-b863-1cf01f25d499",
        "colab": {
          "base_uri": "https://localhost:8080/"
        }
      },
      "outputs": [
        {
          "output_type": "stream",
          "name": "stdout",
          "text": [
            "initiation factor\n"
          ]
        }
      ],
      "source": [
        "# using eIF3 as the key index will return the associated value\n",
        "print(eukaryotic_dict['eIF3'])"
      ]
    },
    {
      "cell_type": "markdown",
      "metadata": {
        "id": "3uOLl_zmtVnx"
      },
      "source": [
        "Like lists and sets, dictionaries are also mutable and can be modified *in place*. The easiest way to add or change a key-value pair is by **explicit assignment**."
      ]
    },
    {
      "cell_type": "code",
      "execution_count": 138,
      "metadata": {
        "id": "q4GrNKFsWV14",
        "outputId": "d4577c1e-6a1b-4670-9bc6-26df6b4703c2",
        "colab": {
          "base_uri": "https://localhost:8080/"
        }
      },
      "outputs": [
        {
          "output_type": "stream",
          "name": "stdout",
          "text": [
            "After eIF5B is added:\n"
          ]
        },
        {
          "output_type": "execute_result",
          "data": {
            "text/plain": [
              "{'eIF1': 'initiation factor',\n",
              " 'eRF1': 'release factor',\n",
              " 'eRF3': 'release factor',\n",
              " 'eIF3': 'initiation factor',\n",
              " 'eIF4': 'initiation factor',\n",
              " 'eIF5': 'initiation factor',\n",
              " 'eIF5B': 'initiation factor'}"
            ]
          },
          "metadata": {},
          "execution_count": 138
        }
      ],
      "source": [
        "# Using explicit assignment to add a single key-value pair\n",
        "eukaryotic_dict['eIF5B'] = 'initiation factor'\n",
        "print('After eIF5B is added:')\n",
        "eukaryotic_dict"
      ]
    },
    {
      "cell_type": "markdown",
      "metadata": {
        "id": "Txy2-bOH1wrv"
      },
      "source": [
        "In cases where you want to add or update multiple values, it's easier to use the `.update()` method."
      ]
    },
    {
      "cell_type": "code",
      "execution_count": 139,
      "metadata": {
        "id": "Gu05WV5HuqGT",
        "outputId": "243e7f59-f8f8-48b5-ae6c-b5620eb0d1fe",
        "colab": {
          "base_uri": "https://localhost:8080/"
        }
      },
      "outputs": [
        {
          "output_type": "stream",
          "name": "stdout",
          "text": [
            "After multiple entries are added:\n"
          ]
        },
        {
          "output_type": "execute_result",
          "data": {
            "text/plain": [
              "{'eIF1': 'initiation factor',\n",
              " 'eRF1': 'release factor',\n",
              " 'eRF3': 'release factor',\n",
              " 'eIF3': 'initiation factor',\n",
              " 'eIF4': 'initiation factor',\n",
              " 'eIF5': 'initiation factor',\n",
              " 'eIF5B': 'initiation factor',\n",
              " 'eIF6': 'initiation factor',\n",
              " 'eEF1': 'elongation factor',\n",
              " 'eEF2': 'elongation factor'}"
            ]
          },
          "metadata": {},
          "execution_count": 139
        }
      ],
      "source": [
        "# Using .update() to add multiple key-value pairs\n",
        "more_genes = {\n",
        "    'eIF6': 'initiation factor',\n",
        "    'eEF1': 'elongation factor',\n",
        "    'eEF2': 'elongation factor',\n",
        "    'eRF1': 'release factor',\n",
        "    'eRF3': 'release factor'\n",
        "}  # a new dictionary with more entries\n",
        "\n",
        "eukaryotic_dict.update(more_genes) # updates the dict in place\n",
        "print('After multiple entries are added:')\n",
        "eukaryotic_dict\n"
      ]
    },
    {
      "cell_type": "markdown",
      "metadata": {
        "id": "nidM6W_7yLXy"
      },
      "source": [
        "Last but not least, dictionaries have three methods for accessing their contents \"in bulk\".\n",
        "\n",
        "* `.items()`: Returns the key-value pairs as an iterable of tuples.\n",
        "* `.keys()`: Returns the keys as an iterable.\n",
        "* `.values()`: Returns the values as an iterable.\n",
        "\n",
        "Note that we refer to the returned objects as generic \"iterables\". Although you *can* use these iterables in `for` loops or other operations where you want the elements one at a time, you can't retrieve individual elements unless you coerce the iterable into a structure that supports indexing (list, tuple)."
      ]
    },
    {
      "cell_type": "code",
      "execution_count": 140,
      "metadata": {
        "id": "phb0Kecoz6Wi",
        "outputId": "11990cbf-c2ad-45d6-dc6d-775ba617a725",
        "colab": {
          "base_uri": "https://localhost:8080/"
        }
      },
      "outputs": [
        {
          "output_type": "stream",
          "name": "stdout",
          "text": [
            "The .keys() iterable object:\n",
            "dict_keys(['eIF1', 'eRF1', 'eRF3', 'eIF3', 'eIF4', 'eIF5', 'eIF5B', 'eIF6', 'eEF1', 'eEF2'])\n"
          ]
        }
      ],
      "source": [
        "print('The .keys() iterable object:')\n",
        "print(eukaryotic_dict.keys())\n"
      ]
    },
    {
      "cell_type": "code",
      "execution_count": 141,
      "metadata": {
        "id": "oeTrn5X3PSly",
        "outputId": "02d6872d-2cf7-411c-df1a-76c82966a7dc",
        "colab": {
          "base_uri": "https://localhost:8080/"
        }
      },
      "outputs": [
        {
          "output_type": "stream",
          "name": "stdout",
          "text": [
            "We can use the iterable in a loop:\n",
            "The key eIF1 is a <class 'str'>\n",
            "The key eRF1 is a <class 'str'>\n",
            "The key eRF3 is a <class 'str'>\n",
            "The key eIF3 is a <class 'str'>\n",
            "The key eIF4 is a <class 'str'>\n",
            "The key eIF5 is a <class 'str'>\n",
            "The key eIF5B is a <class 'str'>\n",
            "The key eIF6 is a <class 'str'>\n",
            "The key eEF1 is a <class 'str'>\n",
            "The key eEF2 is a <class 'str'>\n"
          ]
        }
      ],
      "source": [
        "print('We can use the iterable in a loop:')\n",
        "for key in eukaryotic_dict.keys():\n",
        "  print(f'The key {key} is a {type(key)}')"
      ]
    },
    {
      "cell_type": "code",
      "execution_count": 142,
      "metadata": {
        "id": "Rg5_i5-XcQOn",
        "outputId": "8df17a5a-dbbe-46c0-b8ab-524547374fe7",
        "colab": {
          "base_uri": "https://localhost:8080/",
          "height": 180
        }
      },
      "outputs": [
        {
          "output_type": "error",
          "ename": "TypeError",
          "evalue": "'dict_keys' object is not subscriptable",
          "traceback": [
            "\u001b[0;31m---------------------------------------------------------------------------\u001b[0m",
            "\u001b[0;31mTypeError\u001b[0m                                 Traceback (most recent call last)",
            "\u001b[0;32m<ipython-input-142-b0f5efad12a9>\u001b[0m in \u001b[0;36m<cell line: 4>\u001b[0;34m()\u001b[0m\n\u001b[1;32m      2\u001b[0m \u001b[0;31m# but it won't work for this generic iterable\u001b[0m\u001b[0;34m\u001b[0m\u001b[0;34m\u001b[0m\u001b[0m\n\u001b[1;32m      3\u001b[0m \u001b[0;34m\u001b[0m\u001b[0m\n\u001b[0;32m----> 4\u001b[0;31m \u001b[0meukaryotic_dict\u001b[0m\u001b[0;34m.\u001b[0m\u001b[0mkeys\u001b[0m\u001b[0;34m(\u001b[0m\u001b[0;34m)\u001b[0m\u001b[0;34m[\u001b[0m\u001b[0;36m0\u001b[0m\u001b[0;34m]\u001b[0m\u001b[0;34m\u001b[0m\u001b[0;34m\u001b[0m\u001b[0m\n\u001b[0m",
            "\u001b[0;31mTypeError\u001b[0m: 'dict_keys' object is not subscriptable"
          ]
        }
      ],
      "source": [
        "# in a list, index 0 would be 'eIF1'\n",
        "# but it won't work for this generic iterable\n",
        "\n",
        "eukaryotic_dict.keys()[0]"
      ]
    },
    {
      "cell_type": "code",
      "execution_count": 154,
      "metadata": {
        "id": "ZWA_FE38c28o",
        "outputId": "85a5e869-6850-4016-8fca-47a9a4897bee",
        "colab": {
          "base_uri": "https://localhost:8080/"
        }
      },
      "outputs": [
        {
          "output_type": "execute_result",
          "data": {
            "text/plain": [
              "dict_items([('eIF1', 'initiation factor'), ('eRF1', 'release factor'), ('eRF3', 'release factor'), ('eIF3', 'initiation factor'), ('eIF4', 'initiation factor'), ('eIF5', 'initiation factor'), ('eIF5B', 'initiation factor'), ('eIF6', 'initiation factor'), ('eEF1', 'elongation factor'), ('eEF2', 'elongation factor')])"
            ]
          },
          "metadata": {},
          "execution_count": 154
        }
      ],
      "source": [
        "# try it out:\n",
        "# coerce the generic iterable generated by .keys() into a structure\n",
        "# that supports indexing, then see if you can access index 0\n",
        "\n",
        "list(eukaryotic_dict.keys())[0]\n",
        "tuple(eukaryotic_dict.keys())[0]\n",
        "\n",
        "eukaryotic_dict\n",
        "eukaryotic_dict.items()"
      ]
    },
    {
      "cell_type": "code",
      "source": [
        "# or even more streamlined way of doing this (not as understandable)\n",
        "dict_keys_list = list(eukaryotic_dict.items())\n",
        "print(dict_keys_list)\n",
        "#print(dict_keys_list[0])\n"
      ],
      "metadata": {
        "id": "bakFYa6TePF5",
        "outputId": "b011fcbc-ae78-4109-8d2b-4be81d7cf319",
        "colab": {
          "base_uri": "https://localhost:8080/"
        }
      },
      "execution_count": 158,
      "outputs": [
        {
          "output_type": "stream",
          "name": "stdout",
          "text": [
            "[('eIF1', 'initiation factor'), ('eRF1', 'release factor'), ('eRF3', 'release factor'), ('eIF3', 'initiation factor'), ('eIF4', 'initiation factor'), ('eIF5', 'initiation factor'), ('eIF5B', 'initiation factor'), ('eIF6', 'initiation factor'), ('eEF1', 'elongation factor'), ('eEF2', 'elongation factor')]\n"
          ]
        }
      ]
    },
    {
      "cell_type": "markdown",
      "metadata": {
        "id": "5Bb4uEOysVpQ"
      },
      "source": [
        "That wraps it up for the need-to-know operations with dictionaries for the remainder of the bootcamp. If you'd like to look at the complete list of methods available for dictionaries, you can review them [here](https://www.programiz.com/python-programming/methods/dictionary)."
      ]
    },
    {
      "cell_type": "markdown",
      "metadata": {
        "id": "OTyPszUZvq0E"
      },
      "source": [
        "# Exercises: Set C\n",
        "\n",
        "That's it for new content: time for some wrap-up exercises. As we mentioned before, the solutions to these exercises are available in the Day 1 Solutions notebook. We'll also post the lecturer's copy of the notebook after the end of each day."
      ]
    },
    {
      "cell_type": "markdown",
      "metadata": {
        "id": "SUj9Kplb4eMm"
      },
      "source": [
        "**C1**: Write code that will perform and print the result of the set operation."
      ]
    },
    {
      "cell_type": "code",
      "execution_count": 181,
      "metadata": {
        "id": "EBtNjMCW4eUm",
        "outputId": "c877ec08-4b43-42f7-a5c9-a58c12963839",
        "colab": {
          "base_uri": "https://localhost:8080/"
        }
      },
      "outputs": [
        {
          "output_type": "stream",
          "name": "stdout",
          "text": [
            "{'bread', 'milk', 'eggs', 'salmon'}\n",
            "{'grapes', 'apple'}\n",
            "{'banana', 'bread', 'orange', 'grapes', 'salmon', 'apple', 'milk', 'eggs'}\n",
            "fruits is a subset of grocerries False\n",
            "fruits is the superset of favorites True\n",
            "fruits is the superset of refrigerator False\n"
          ]
        }
      ],
      "source": [
        "groceries = {'grapes', 'milk', 'eggs', 'apple', 'salmon', 'bread'}\n",
        "fruits = set(('apple', 'orange', 'banana', 'apple', 'grapes', 'orange'))\n",
        "refrigerator = {'milk', 'salmon', 'eggs', 'grapes'}\n",
        "favorites = {'apple', 'grapes'}\n",
        "\n",
        "# check the difference between groceries and fruits\n",
        "print(groceries.difference(fruit))\n",
        "# check the intersection between groceries and fruits\n",
        "\n",
        "print(groceries.intersection(fruit))\n",
        "# check the union between groceries and fruits\n",
        "print(groceries.union(fruits))\n",
        "\n",
        "print(\"fruits is a subset of grocerries\", fruits.issubset(groceries))\n",
        "# check for a set that is a subset of groceries\n",
        "\n",
        "\n",
        "# check for a set that is a superset of favorites\n",
        "print(\"fruits is the superset of favorites\", groceries.issuperset(favorite))\n",
        "print(\"fruits is the superset of refrigerator\", fruits.issuperset(refrigerator))\n"
      ]
    },
    {
      "cell_type": "markdown",
      "metadata": {
        "id": "u8lzDzRu3QJL"
      },
      "source": [
        "**C2**: Using sets, count how many unique gene names and unique gene descriptions exist in `eukaryotic_dict`."
      ]
    },
    {
      "cell_type": "code",
      "execution_count": 201,
      "metadata": {
        "id": "epY8gR-P3iCN",
        "outputId": "23be432a-1427-40a4-ecc7-602467c3a901",
        "colab": {
          "base_uri": "https://localhost:8080/"
        }
      },
      "outputs": [
        {
          "output_type": "stream",
          "name": "stdout",
          "text": [
            "dict_keys(['eEF1', 'eEF2', 'eIF1', 'eIF3', 'eIF4', 'eIF5', 'eIF5B', 'eIF6', 'eRF1', 'eRF3'])\n",
            "dict_values(['elongation factor', 'elongation factor', 'initiation factor', 'initiation factor', 'initiation factor', 'initiation factor', 'initiation factor', 'initiation factor', 'release factor', 'release factor'])\n",
            "num of unique gene is 10\n",
            "3\n"
          ]
        },
        {
          "output_type": "execute_result",
          "data": {
            "text/plain": [
              "['elongation factor', 'initiation factor', 'release factor']"
            ]
          },
          "metadata": {},
          "execution_count": 201
        }
      ],
      "source": [
        "### your code goes here ###\n",
        "eukaryotic_dict\n",
        "print(eukaryotic_dict.keys()) #genes names\n",
        "print(eukaryotic_dict.values()) #gene descriptions\n",
        "\n",
        "unique_name_set = set(eukaryotic_dict.keys())\n",
        "unique_des_set = set(eukaryotic_dict.values())\n",
        "\n",
        "print(\"num of unique gene is\", len(unique_name_set))\n",
        "print(len(unique_des_set))\n",
        "list(unique_des_set)"
      ]
    },
    {
      "cell_type": "markdown",
      "metadata": {
        "id": "ImHCOOGndaYL"
      },
      "source": [
        "**C3**:\n",
        "\n",
        " Use a `for` loop to iterate over the key-value pairs in `eukaryotic_dict`, printing the following sentence for each key-value pair:\n",
        "```\n",
        "The gene <KEY> is a <VALUE>\n",
        "```\n",
        "\n",
        "Your result should look like:\n",
        "```\n",
        "The gene eIF1 is a initiation factor\n",
        "The gene eRF1 is a release factor\n",
        "The gene eRF3 is a release factor\n",
        "The gene eIF3 is a initiation factor\n",
        "The gene eIF4 is a initiation factor\n",
        "The gene eIF5 is a initiation factor\n",
        "The gene eIF5B is a initiation factor\n",
        "The gene eIF6 is a initiation factor\n",
        "The gene eEF1 is a elongation factor\n",
        "The gene eEF2 is a elongation factor\n",
        "```"
      ]
    },
    {
      "cell_type": "code",
      "execution_count": 204,
      "metadata": {
        "id": "zTd5XxJWeAUm",
        "outputId": "c580c199-83e1-4b9b-95ff-70d53a6a0dcf",
        "colab": {
          "base_uri": "https://localhost:8080/"
        }
      },
      "outputs": [
        {
          "output_type": "stream",
          "name": "stdout",
          "text": [
            "eEF1 is a elongation factor\n",
            "eEF2 is a elongation factor\n",
            "eIF1 is a initiation factor\n",
            "eIF3 is a initiation factor\n",
            "eIF4 is a initiation factor\n",
            "eIF5 is a initiation factor\n",
            "eIF5B is a initiation factor\n",
            "eIF6 is a initiation factor\n",
            "eRF1 is a release factor\n",
            "eRF3 is a release factor\n",
            "('eEF1', 'elongation factor')\n",
            "('eEF2', 'elongation factor')\n",
            "('eIF1', 'initiation factor')\n",
            "('eIF3', 'initiation factor')\n",
            "('eIF4', 'initiation factor')\n",
            "('eIF5', 'initiation factor')\n",
            "('eIF5B', 'initiation factor')\n",
            "('eIF6', 'initiation factor')\n",
            "('eRF1', 'release factor')\n",
            "('eRF3', 'release factor')\n",
            "eRF3\n",
            "release factor\n"
          ]
        }
      ],
      "source": [
        "### do not change below ###\n",
        "eukaryotic_dict = {\n",
        "    'eEF1': 'elongation factor',\n",
        "    'eEF2': 'elongation factor',\n",
        "    'eIF1': 'initiation factor',\n",
        "    'eIF3': 'initiation factor',\n",
        "    'eIF4': 'initiation factor',\n",
        "    'eIF5': 'initiation factor',\n",
        "    'eIF5B': 'initiation factor',\n",
        "    'eIF6': 'initiation factor',\n",
        "    'eRF1': 'release factor',\n",
        "    'eRF3': 'release factor'\n",
        "}\n",
        "### do not change above ###\n",
        "\n",
        "# hint:\n",
        "# .items() generates an iterable of key-value pairs in a tuple structure\n",
        "# each key-value tuple can be indexed\n",
        "\n",
        "### write your code below ###\n",
        "eukaryotic_dict.items()\n",
        "#first solution\n",
        "#for item in eukaryotic_dict.items():\n",
        "#    gene_name = item[0]\n",
        "#    gene_descr = item[1]\n",
        "\n",
        "#    print(gene_name, \"is a\", gene_descr)\n",
        "\n",
        "#second solution\n",
        "for (gene_name, gene_descr) in eukaryotic_dict.items():\n",
        "\n",
        "    print(gene_name, \"is a\", gene_descr)\n",
        "\n",
        "list(eukaryotic_dict.items())\n",
        "for item in eukaryotic_dict.items():\n",
        "    print(item)\n",
        "\n",
        "print(item[0])\n",
        "print(item[1])"
      ]
    },
    {
      "cell_type": "markdown",
      "metadata": {
        "id": "x9m0zquWc_FR"
      },
      "source": [
        "**C4**: Write a function called `revcomp()` that takes a string and does the following:\n",
        "1. Prints the reverse complement of the string.\n",
        "2. Returns a tuple of the original string and its reverse complement."
      ]
    },
    {
      "cell_type": "code",
      "execution_count": 205,
      "metadata": {
        "id": "YTosoXYlSLwE",
        "outputId": "4f5106b1-0c4d-49d1-b2ba-ac3a498a9721",
        "colab": {
          "base_uri": "https://localhost:8080/"
        }
      },
      "outputs": [
        {
          "output_type": "stream",
          "name": "stdout",
          "text": [
            "Reversed string: CBA\n",
            "Reversed tuple: ('C', 'B', 'A')\n"
          ]
        }
      ],
      "source": [
        "# tip: You can use the following indexing trick (`[::-1]`) to reverse a string or a list.\n",
        "\n",
        "abc_string = 'ABC'\n",
        "abc_tuple = ('A', 'B', 'C')\n",
        "\n",
        "print('Reversed string:', abc_string[::-1])\n",
        "print('Reversed tuple:', abc_tuple[::-1])"
      ]
    },
    {
      "cell_type": "code",
      "execution_count": 206,
      "metadata": {
        "id": "eI0HZDqYdmal",
        "outputId": "c4db9394-b5e5-4842-b936-8315adc54715",
        "colab": {
          "base_uri": "https://localhost:8080/"
        }
      },
      "outputs": [
        {
          "output_type": "stream",
          "name": "stdout",
          "text": [
            "['T', 'G', 'A', 'A', 'C', 'G', 'C', 'G', 'C', 'A', 'G', 'C', 'A', 'T', 'C', 'G', 'T', 'T', 'A', 'C', 'A', 'T', 'G', 'C', 'A', 'T', 'G', 'C', 'T', 'A', 'A', 'A', 'T', 'G', 'C', 'C', 'T']\n"
          ]
        }
      ],
      "source": [
        "imaginary_seq = 'AGGCATTTAGCATGCATGTAACGATGCTGCGCGTTCA'\n",
        "\n",
        "# hints: the += operator *also* works for adding characters to strings\n",
        "\n",
        "# this dictionary contains the complement for every nucleotide\n",
        "nuc_comp_dict = {\"A\":\"T\", \"T\":\"A\", \"G\":\"C\", \"C\":\"G\"}\n",
        "\n",
        "### write your code below ###\n",
        "\n",
        "def revcomp(my_sequence):\n",
        "    #1. reverse the seq\n",
        "    my_sequence = my_sequence[::-1]\n",
        "    #2. Find the complement for nucleotides\n",
        "    complemented_seq = []\n",
        "    for nuc in my_sequence:\n",
        "        nuc_com = nuc_comp_dict[nuc]\n",
        "        complemented_seq.append(nuc_com)\n",
        "\n",
        "    print(complemented_seq)\n",
        "\n",
        "\n",
        "revcomp(imaginary_seq)\n"
      ]
    },
    {
      "cell_type": "markdown",
      "metadata": {
        "id": "Mg3NBiFvOpym"
      },
      "source": [
        "**C5**: Write a function called `p_nucleotides()` that uses the `.count()` method to count the number of nucleotides in the input sequence. The function should return a dictionary of nucleotides and their corresponding frequencies."
      ]
    },
    {
      "cell_type": "code",
      "execution_count": null,
      "metadata": {
        "id": "XuiFvCl0OqIn"
      },
      "outputs": [],
      "source": [
        "### write your code below ###\n",
        "\n",
        "def p_nucleotides(my_sequence):\n",
        "    ... code goes here ...\n",
        "\n",
        "p_nucleotides(imaginary_seq)"
      ]
    },
    {
      "cell_type": "markdown",
      "metadata": {
        "id": "-rtUjDZi1PsO"
      },
      "source": [
        "**Challenge 1**: Write a function called `list_joiner()`, which should take a list containing *any* types and:\n",
        "1. Check the type of each element in the input list.\n",
        "  - If the element is a integer *or* a float, coerce the element into a string.\n",
        "  - If the element contains a period, replace the period with an empty string (`''`).\n",
        "2. After both of the above are checked and/or done, append the element to `to_be_joined`.\n",
        "3. Sort `to_be_joined` in place.\n",
        "4. Use `.join()` on `to_be_joined`, using a dash (`-`) as a connector. Save the resultant string to a new variable called `has_been_joined`.\n",
        "5. Print `to_be_joined` and return `has_been_joined`.\n",
        "\n",
        "When you're done, try out `list_joiner()` on `jumbled_list`.\n",
        "\n"
      ]
    },
    {
      "cell_type": "code",
      "execution_count": null,
      "metadata": {
        "id": "s03eqe9V3kcP"
      },
      "outputs": [],
      "source": [
        "jumbled_list = ['5', 9, '8.0', 15, 3.2, '0', 1]\n",
        "\n",
        "### write your code below ###\n",
        "def list_joiner(my_list):\n",
        "   ... code goes here ...\n",
        "\n",
        "list_joiner(jumbled_list)"
      ]
    },
    {
      "cell_type": "markdown",
      "metadata": {
        "id": "Bvi0CQLd7M60"
      },
      "source": [
        "**Challenge 2**: Read over the section at the bottom of the notebook titled `[Optional] List comprehensions`. (This is an optional section because we won't use them much in the future, but they *are* a useful technique for lists!)\n",
        "\n",
        "1. Use a list comprehension instead of a `for` loop to get the maximum value of each sub-list in `nested_nums` AND said value into a string. Save this to a list called `max_nums`.\n",
        "2. Join `max_nums` using an empty string (`''`), updating `max_nums` with the resultant string.\n",
        "3. Use coercion to update `max_nums` into a float."
      ]
    },
    {
      "cell_type": "code",
      "execution_count": null,
      "metadata": {
        "id": "zPIhzUi27hWk"
      },
      "outputs": [],
      "source": [
        "nested_nums = [[8, 4, 2], [7, 21, -3], [6.8, 3, 9]]\n",
        "\n",
        "### write your code below ###\n"
      ]
    },
    {
      "cell_type": "markdown",
      "metadata": {
        "id": "mg7ICLO0Xxsu"
      },
      "source": [
        "# [Resource] Python Code Visualizer\n",
        "\n",
        "If you're having trouble figuring out how exactly code gets executed (example: how things like nested function calls work), the [Python Code Visualizer](http://www.pythontutor.com/visualize.html) is an excellent resource. You can enter the contents of any code cell to see how Python executes the code step-by-step."
      ]
    },
    {
      "cell_type": "markdown",
      "metadata": {
        "id": "urK_ua6r3JAg"
      },
      "source": [
        "# [Optional] String formatting\n",
        "`.format()` is an interesting method that allows us to form-fill parts of strings. We may occasionally use `.format()` to generate and print more readable descriptions of things we're doing during the next days of the bootcamp.\n",
        "\n",
        "The target string for `.format()` is a special \"blueprint\" string: when writing your blueprint string, place curly braces `{}` where you'd like variables to appear. This is akin to providing a blank space in a form.\n",
        "\n",
        "```\n",
        "cat_format = 'I have a {}, {} of them. Does this make me a hoarder?'\n",
        "```\n",
        "\n",
        "When you want to form-fill the string, you can use `.format()` and provide a list of values/variables as input. Values/variables that are not strings will be coerced to string type."
      ]
    },
    {
      "cell_type": "code",
      "execution_count": null,
      "metadata": {
        "id": "X-viqEvz3LWZ"
      },
      "outputs": [],
      "source": [
        "cat_format = 'I have a {}, {} of them. Does this make me a hoarder?'\n",
        "print(\"The 'blueprint' string:\", cat_format)\n",
        "print(\"Formatted string:\", 'I have a {}, {} of them. Does this make me a hoarder?' .format('cat', 13))"
      ]
    },
    {
      "cell_type": "markdown",
      "metadata": {
        "id": "ZJ4iNsbS3L6f"
      },
      "source": [
        "You can provide additional information about the desired placement of values by assigning a *placeholder name* within the curly braces. You can treat these placeholder names as you would with placeholder names for inputs in a function. This can be quite useful for formatting long strings with many variables, as shown in the RefSeq information below."
      ]
    },
    {
      "cell_type": "code",
      "execution_count": null,
      "metadata": {
        "id": "88oFqhR33O8_"
      },
      "outputs": [],
      "source": [
        "# below, we provide seven placeholder names:\n",
        "# 1) refseq\n",
        "# 2) INSDC\n",
        "# 3) size\n",
        "# 4) GC\n",
        "# 5) protein\n",
        "# 6) datatype\n",
        "# 7) name\n",
        "\n",
        "ref_format = '''Type\tName\\tRefSeq\\tINSDC\\tSize (Mb)\\tGC%\\tProtein\n",
        "{datatype}\\t{name}\\t{refseq}\\t{INSDC}\\t{size}\\t{GC}\\t{protein}'''\n",
        "\n",
        "# format the string with data for one sequence...\n",
        "print('Formatted string #1:\\n',\n",
        "      ref_format.format(refseq = 'NC_000913.3',\n",
        "                        INSDC = 'U00096.3',\n",
        "                        size = 4.64,\n",
        "                        GC = 50.8,\n",
        "                        protein = 4242,\n",
        "                        datatype = 'Chr',\n",
        "                        name = '-'))\n",
        "\n",
        "# and then do the same with data for another sequence\n",
        "print('Formatted string #2:\\n',\n",
        "      ref_format.format(datatype = 'Chr',\n",
        "                        name = '-',\n",
        "                        refseq = 'NC_003197.2',\n",
        "                        INSDC = 'AE006468.2',\n",
        "                        size = 4.86,\n",
        "                        GC = 52.2,\n",
        "                        protein = 4446))"
      ]
    },
    {
      "cell_type": "markdown",
      "metadata": {
        "id": "InIgY6dzWgNL"
      },
      "source": [
        "# [Optional] List comprehensions\n",
        "\n",
        "`for` loops are useful for performing certain tasks without needing to manually write code to access each element of the iterable.\n",
        "\n",
        "For example, we can use a `for` loop to create a new list based on the contents of an existing list: we simply need to create an empty (container) list, then append elements to the container as we loop through our origin list."
      ]
    },
    {
      "cell_type": "code",
      "execution_count": null,
      "metadata": {
        "id": "Mj0Kme3KX3T1"
      },
      "outputs": [],
      "source": [
        "# let's say that we want to count the length of each string in weekdays\n",
        "\n",
        "print(weekdays)\n",
        "\n",
        "weekday_len = [] # empty (container) list\n",
        "for day in weekdays:\n",
        "  weekday_len.append(len(day)) # appending updates the list in place\n",
        "\n",
        "print(weekday_len)"
      ]
    },
    {
      "cell_type": "markdown",
      "metadata": {
        "id": "Ywx71Muwcoc2"
      },
      "source": [
        "This isn't the *worst*, but it could be more concise. A **list comprehension** is a shortcut that simultaneously creates a list and fills it in using a modified `for` loop, compressing what was previously three lines of code into one line of code."
      ]
    },
    {
      "cell_type": "code",
      "execution_count": null,
      "metadata": {
        "id": "2gIOqCu0ZeH_"
      },
      "outputs": [],
      "source": [
        "# now we'll use a list comprehension\n",
        "\n",
        "weekday_len = [len(day) for day in weekdays] # no need to append: just use len() directly\n",
        "\n",
        "print(weekdays)\n",
        "print(weekday_len)"
      ]
    },
    {
      "cell_type": "markdown",
      "metadata": {
        "id": "D21BrRsteGNn"
      },
      "source": [
        "Given the desired task of applying a function to each element of a list and saving the resultant values to a new list, list comprehensions are both more concise and more efficient in speed performance."
      ]
    },
    {
      "cell_type": "code",
      "execution_count": null,
      "metadata": {
        "id": "4ADcGPiuonQF"
      },
      "outputs": [],
      "source": [
        "num_list = [5, 9, 2.3, 14, 3, 2, 10]\n",
        "\n",
        "# try it out:\n",
        "# create a container list called for_squared\n",
        "# square the value of each element in num_list using a for loop, appending\n",
        "# each squared value to for_squared\n",
        "\n",
        "\n"
      ]
    },
    {
      "cell_type": "code",
      "execution_count": null,
      "metadata": {
        "id": "buXe_AZKo0AL"
      },
      "outputs": [],
      "source": [
        "# try it out:\n",
        "# use a list comprehension to square each value of num_list, saving the new\n",
        "# list to a variable called comp_squared\n",
        "\n"
      ]
    },
    {
      "cell_type": "markdown",
      "metadata": {
        "id": "1PjGIdGsVyiu"
      },
      "source": [
        "# [Optional] `while` loops\n",
        "\n",
        "Earlier, we learned that `for` loops are used to iterate over each element of an iterable. This is the most common type of loop you'll use in the bootcamp (and likely beyond). Another type of loop is the `while` loop, which loops a code block *while* a logic check returns `True`. We won't use it much in the coming days, which is why this subject is optional: nevertheless, it may be useful to you.\n",
        "\n",
        "For example, the below `while` loop continually shortens an input string by slicing it. The `while` loop will only terminate when the string contains one character or fewer."
      ]
    },
    {
      "cell_type": "code",
      "execution_count": null,
      "metadata": {
        "id": "LYQ75MRdVz3H"
      },
      "outputs": [],
      "source": [
        "while_string = 'this will loop until the string is only a period.'\n",
        "\n",
        "while len(while_string) > 1:\n",
        "  while_string = while_string[1:] # shortens it by one character\n",
        "  print(while_string)"
      ]
    }
  ],
  "metadata": {
    "celltoolbar": "Raw Cell Format",
    "colab": {
      "provenance": [],
      "toc_visible": true,
      "include_colab_link": true
    },
    "kernelspec": {
      "display_name": "Python 3",
      "language": "python",
      "name": "python3"
    },
    "language_info": {
      "codemirror_mode": {
        "name": "ipython",
        "version": 3
      },
      "file_extension": ".py",
      "mimetype": "text/x-python",
      "name": "python",
      "nbconvert_exporter": "python",
      "pygments_lexer": "ipython3",
      "version": "3.12.0"
    }
  },
  "nbformat": 4,
  "nbformat_minor": 0
}