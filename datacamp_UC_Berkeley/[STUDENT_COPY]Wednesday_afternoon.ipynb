{
  "cells": [
    {
      "cell_type": "markdown",
      "metadata": {
        "id": "view-in-github",
        "colab_type": "text"
      },
      "source": [
        "<a href=\"https://colab.research.google.com/github/SchachtmanLab/Transgenic-sorghum-sorgoleone/blob/master/%5BSTUDENT_COPY%5DWednesday_afternoon.ipynb\" target=\"_parent\"><img src=\"https://colab.research.google.com/assets/colab-badge.svg\" alt=\"Open In Colab\"/></a>"
      ]
    },
    {
      "cell_type": "markdown",
      "metadata": {
        "id": "vS2tF7uXaJJM"
      },
      "source": [
        "# More about data exploration\n",
        "\n",
        "Now that we have our data imported and cleaned, we can move on to summarizing and otherwise examining our data. Again, **do not try to memorize everything, you have access to a cheat sheet!**\n",
        "\n",
        "<font color = '#ed865c' size = 4>**Make sure to press the play button to run the cell below: this will re-load the datasets and functions that we worked on during the last section.**</font>"
      ]
    },
    {
      "cell_type": "code",
      "execution_count": 1,
      "metadata": {
        "cellView": "form",
        "id": "h4c4RG3hVMNl",
        "outputId": "71c49f55-ffcc-4b1f-9a3c-7a8f15ffb34a",
        "colab": {
          "base_uri": "https://localhost:8080/"
        }
      },
      "outputs": [
        {
          "output_type": "stream",
          "name": "stdout",
          "text": [
            "Cloning into 'pythonbootcamp'...\n",
            "remote: Enumerating objects: 298, done.\u001b[K\n",
            "remote: Counting objects: 100% (200/200), done.\u001b[K\n",
            "remote: Compressing objects: 100% (163/163), done.\u001b[K\n",
            "remote: Total 298 (delta 113), reused 82 (delta 37), pack-reused 98 (from 1)\u001b[K\n",
            "Receiving objects: 100% (298/298), 95.57 MiB | 9.99 MiB/s, done.\n",
            "Resolving deltas: 100% (141/141), done.\n",
            "Updating files: 100% (50/50), done.\n"
          ]
        }
      ],
      "source": [
        "#@title\n",
        "# we hid the contents of this cell because there's a lot going on in here\n",
        "# you can re-hide this cell by clicking on View -> Show/hide code\n",
        "\n",
        "!git clone https://github.com/ccbskillssem/pythonbootcamp.git\n",
        "import numpy as np\n",
        "\n",
        "### load and clean datasets ###\n",
        "animals2 = np.genfromtxt('/content/pythonbootcamp/day_3/Animals2.csv',\n",
        "              delimiter=',')\n",
        "animals2 = animals2[:, ~np.isnan(animals2).all(axis = 0)][~np.isnan(animals2).all(axis = 1), :]\n",
        "airquality = np.genfromtxt('/content/pythonbootcamp/day_3/airquality.csv',\n",
        "              delimiter=',')\n",
        "airquality = airquality[:, ~np.isnan(airquality).all(axis = 0)][~np.isnan(airquality).all(axis = 1), :]\n",
        "nan_inds = np.where(np.isnan(airquality))\n",
        "airquality[nan_inds] = np.take(np.nanmean(airquality, axis = 0), nan_inds[1])\n",
        "\n",
        "### load in sample solution for clean_data() ###\n",
        "def clean_data(data_array):\n",
        "  nan_map = np.isnan(data_array)\n",
        "\n",
        "  data_array = data_array[:, ~nan_map.all(axis = 0)]\n",
        "  data_array = data_array[~nan_map.all(axis = 1), :]\n",
        "  return data_array"
      ]
    },
    {
      "cell_type": "markdown",
      "metadata": {
        "id": "Nsz1KLq_URBP"
      },
      "source": [
        "## Examining attributes\n",
        "\n",
        "<font color = '#ed865c' size = 4>**Make sure to run the cell above before you begin: this will re-load the datasets and functions that we worked on during the last section.**</font>\n",
        "\n",
        "As we discussed yesterday, arrays have *attributes* that describe key characteristics of the array at hand. Let's take a look at the attributes of the `animals2` array, just to make sure that we have the right number of columns and rows."
      ]
    },
    {
      "cell_type": "code",
      "execution_count": 6,
      "metadata": {
        "id": "Ngf-3XiJayyE",
        "outputId": "75227b18-2be2-4f21-cfd7-76d58e970757",
        "colab": {
          "base_uri": "https://localhost:8080/"
        }
      },
      "outputs": [
        {
          "output_type": "stream",
          "name": "stdout",
          "text": [
            "(65, 2)\n",
            "130\n",
            "2\n",
            "[9.45000e+00 8.88000e+02 1.55830e+02 1.42660e+02 6.54000e+00 1.17500e+04\n",
            " 7.15000e+03 6.06100e+02 1.17600e+03 1.25000e+02 2.89000e+01 1.20900e+03\n",
            " 6.13000e+02 1.38200e+03 1.23660e+04 9.47000e+03 1.85800e+02 9.10000e+01\n",
            " 1.12000e+00 4.23000e-01 1.46000e+01 2.30500e+02 2.57000e+02 4.92160e+02\n",
            " 2.18000e+00 8.71545e+04 3.12200e+00 3.72000e+02 4.78850e+01 1.59800e+01\n",
            " 1.13030e+02 6.21900e+01 6.82500e+00 4.10100e+00 6.62000e+00 7.60000e+00\n",
            " 1.45000e-01 1.06000e+00 1.43000e+01 1.43000e+01 8.00000e+00 3.23000e-01\n",
            " 4.28500e+00 5.20000e+00 1.89100e+01 4.10000e+02 1.30500e+01 7.40000e+00\n",
            " 2.10500e+01 2.60000e-01 1.39000e+01 7.40000e+02 1.90050e+02 2.95000e+00\n",
            " 1.41000e+02 2.46000e+01 4.34880e+01 1.27500e+00 3.78000e-01 2.80000e+01\n",
            " 3.29000e+02 3.50000e+00 1.30200e+01 2.60400e+00 5.46350e+01]\n",
            "[[1.350e+00 8.100e+00 4.650e+02 4.230e+02 3.633e+01 1.195e+02 2.766e+01\n",
            "  1.150e+02 1.040e+00 5.500e+00 1.170e+04 5.000e+01 2.547e+03]\n",
            " [4.603e+03 1.871e+02 4.190e+02 5.210e+02 6.550e+02 1.000e+01 1.150e+02\n",
            "  3.300e+00 2.560e+01 5.290e+02 6.800e+02 2.070e+02 4.060e+02]\n",
            " [6.200e+01 1.320e+03 6.654e+03 5.712e+03 9.400e+03 7.000e+01 6.800e+00\n",
            "  1.790e+02 3.500e+01 5.600e+01 1.200e-01 1.000e+00 2.300e-02]\n",
            " [4.000e-01 2.500e+00 1.210e+01 5.550e+01 1.750e+02 1.000e+02 1.570e+02\n",
            "  5.216e+01 4.400e+02 2.800e-01 1.900e+00 8.700e+04 1.545e+02]\n",
            " [1.220e-01 3.000e+00 1.920e+02 1.800e+02 3.385e+00 4.450e+01 4.800e-01\n",
            "  1.550e+01 1.483e+01 9.820e+01 4.190e+00 5.800e+01 4.250e-01]\n",
            " [6.400e+00 1.010e-01 4.000e+00 9.200e-01 5.700e+00 1.000e+00 6.600e+00\n",
            "  5.000e-03 1.400e-01 6.000e-02 1.000e+00 3.500e+00 1.080e+01]\n",
            " [2.000e+00 1.230e+01 1.700e+00 6.300e+00 2.300e-02 3.000e-01 7.850e-01\n",
            "  3.500e+00 2.000e-01 5.000e+00 1.410e+00 1.750e+01 8.500e+01]\n",
            " [3.250e+02 7.500e-01 1.230e+01 3.500e+00 3.900e+00 4.050e+00 1.700e+01\n",
            "  1.000e-02 2.500e-01 1.400e+00 1.250e+01 2.500e+02 4.900e+02]\n",
            " [1.055e+01 1.795e+02 5.500e-01 2.400e+00 6.000e+01 8.100e+01 3.600e+00\n",
            "  2.100e+01 4.288e+00 3.920e+01 7.500e-02 1.200e+00 4.800e-02]\n",
            " [3.300e-01 3.000e+00 2.500e+01 1.600e+02 1.690e+02 9.000e-01 2.600e+00\n",
            "  1.620e+00 1.140e+01 1.040e-01 2.500e+00 4.235e+00 5.040e+01]]\n"
          ]
        }
      ],
      "source": [
        "print(animals2.shape)\n",
        "print(animals2.size)\n",
        "print(animals2.ndim)\n",
        "print(animals2.sum(axis=1))\n",
        "print(animals2.reshape(10,13))"
      ]
    },
    {
      "cell_type": "markdown",
      "metadata": {
        "id": "4Qbt9mtA8BtS"
      },
      "source": [
        "Everything looks to be in order: based on the background information about `animals2`, we know that there should be 65 rows (species) and two columns.\n",
        "\n",
        "## Heads and tails\n",
        "\n",
        "One good place to start is by simply examining the content of the data. As we saw earlier, calling `animals2` directly results in the entire dataset being shown in the output. However, it can be visually difficult to parse all 65 rows at once: in most cases, slicing a small number of rows will suffice for examining the data."
      ]
    },
    {
      "cell_type": "code",
      "execution_count": 13,
      "metadata": {
        "id": "zYaK4vqtKGuJ",
        "outputId": "eb5736f9-e584-4614-d200-ea34c76d8271",
        "colab": {
          "base_uri": "https://localhost:8080/"
        }
      },
      "outputs": [
        {
          "output_type": "execute_result",
          "data": {
            "text/plain": [
              "array([[1.350e+00, 8.100e+00],\n",
              "       [4.650e+02, 4.230e+02],\n",
              "       [3.633e+01, 1.195e+02],\n",
              "       [2.766e+01, 1.150e+02],\n",
              "       [1.040e+00, 5.500e+00],\n",
              "       [1.170e+04, 5.000e+01],\n",
              "       [2.547e+03, 4.603e+03],\n",
              "       [1.871e+02, 4.190e+02],\n",
              "       [5.210e+02, 6.550e+02],\n",
              "       [1.000e+01, 1.150e+02]])"
            ]
          },
          "metadata": {},
          "execution_count": 13
        }
      ],
      "source": [
        "# let's slice the first ten rows of animals2\n",
        "#animals2[10:, :]\n",
        "animals2\n",
        "animals2[:10, :]\n",
        "#head(animals2)"
      ]
    },
    {
      "cell_type": "markdown",
      "metadata": {
        "id": "He8JF9kRJphI"
      },
      "source": [
        "Good! This is a simple way for us to inspect a small, ordered section of the data: one row after another, for ten rows. This is described as viewing the **head** of our dataset.\n",
        "\n",
        "Similarly, taking a small number of rows from the end of your dataset is described as viewing the **tail** of the data."
      ]
    },
    {
      "cell_type": "code",
      "execution_count": 16,
      "metadata": {
        "id": "QYj6D49USD2k",
        "outputId": "218ac054-0128-45a1-ea74-12886a8984b7",
        "colab": {
          "base_uri": "https://localhost:8080/"
        }
      },
      "outputs": [
        {
          "output_type": "execute_result",
          "data": {
            "text/plain": [
              "array([[4.288e+00, 3.920e+01],\n",
              "       [7.500e-02, 1.200e+00],\n",
              "       [4.800e-02, 3.300e-01],\n",
              "       [3.000e+00, 2.500e+01],\n",
              "       [1.600e+02, 1.690e+02],\n",
              "       [9.000e-01, 2.600e+00],\n",
              "       [1.620e+00, 1.140e+01],\n",
              "       [1.040e-01, 2.500e+00],\n",
              "       [4.235e+00, 5.040e+01]])"
            ]
          },
          "metadata": {},
          "execution_count": 16
        }
      ],
      "source": [
        "# try it out:\n",
        "# slice the *last* 10 rows of animals2\n",
        "animals2[-9:, :]"
      ]
    },
    {
      "cell_type": "markdown",
      "metadata": {
        "id": "JEkqoZE5DzYa"
      },
      "source": [
        "## Summarizing values\n",
        "\n",
        "Finally, we can generate some simple summary values. We've already taught you the following functions/methods that describe summary values of an array:\n",
        "* `np.min()` / `.min()`\n",
        "* `np.max()` / `.max()`\n",
        "* `np.mean()` / `.mean()`\n",
        "* `np.std()` / `.std()`\n",
        "* `np.var()` / `.var()`\n",
        "* `np.median()` (no method equivalent, for reasons unknown to us...)\n",
        "\n",
        "It's important to keep in mind that these summary functions/methods need a specific axis parameter to guide their operation: a row-wise mean will be different than a column-wise mean.\n",
        "\n",
        "* `0` indicates a column-wise operation.\n",
        "* `1` indicates a row-wise operation."
      ]
    },
    {
      "cell_type": "code",
      "execution_count": 18,
      "metadata": {
        "id": "1cGCSry7kYBY",
        "outputId": "170190ac-f00c-43ce-a28f-fcda9eab77a0",
        "colab": {
          "base_uri": "https://localhost:8080/"
        }
      },
      "outputs": [
        {
          "output_type": "execute_result",
          "data": {
            "text/plain": [
              "array([1852.69198462,  274.28953846])"
            ]
          },
          "metadata": {},
          "execution_count": 18
        }
      ],
      "source": [
        "# try it out:\n",
        "# calculate the column-wise means of animals2\n",
        "animals2.mean(axis=0)"
      ]
    },
    {
      "cell_type": "code",
      "source": [
        "np.unique(animals2[:,2])"
      ],
      "metadata": {
        "id": "h5isEqA97Adz",
        "outputId": "13abb32c-b02e-4202-d3cd-5667c5884cb9",
        "colab": {
          "base_uri": "https://localhost:8080/",
          "height": 144
        }
      },
      "execution_count": 22,
      "outputs": [
        {
          "output_type": "error",
          "ename": "IndexError",
          "evalue": "index 2 is out of bounds for axis 1 with size 2",
          "traceback": [
            "\u001b[0;31m---------------------------------------------------------------------------\u001b[0m",
            "\u001b[0;31mIndexError\u001b[0m                                Traceback (most recent call last)",
            "\u001b[0;32m<ipython-input-22-ac87f941ff3e>\u001b[0m in \u001b[0;36m<cell line: 0>\u001b[0;34m()\u001b[0m\n\u001b[0;32m----> 1\u001b[0;31m \u001b[0mnp\u001b[0m\u001b[0;34m.\u001b[0m\u001b[0munique\u001b[0m\u001b[0;34m(\u001b[0m\u001b[0manimals2\u001b[0m\u001b[0;34m[\u001b[0m\u001b[0;34m:\u001b[0m\u001b[0;34m,\u001b[0m\u001b[0;36m2\u001b[0m\u001b[0;34m]\u001b[0m\u001b[0;34m)\u001b[0m\u001b[0;34m\u001b[0m\u001b[0;34m\u001b[0m\u001b[0m\n\u001b[0m",
            "\u001b[0;31mIndexError\u001b[0m: index 2 is out of bounds for axis 1 with size 2"
          ]
        }
      ]
    },
    {
      "cell_type": "markdown",
      "metadata": {
        "id": "TmY-LHPsCJXF"
      },
      "source": [
        "These last four functions are slightly more advanced in their scope. We've summarized their main inputs and functions, but they do offer additional options that may be useful to you in the future. You can view these options in the docs.\n",
        "* `np.unique()`: Takes an array and returns a sorted copy of unique values. [[docs]](https://numpy.org/doc/stable/reference/generated/numpy.unique.html)\n",
        "* `np.histogram()`: Takes an array of values and returns a tuple of two arrays: the first array describes bin count, and the second array gives left-hand bin boundaries. [[docs]](https://numpy.org/doc/stable/reference/generated/numpy.histogram.html)\n",
        "  * You can explicitly specify desired bin boundaries using the `bins` input.\n",
        "* `np.percentile()`: Takes in an array and a percentile value (float, `0.0`-`100.0`), returning the value of the array that demarcates the given percentile value. [[docs]](https://numpy.org/doc/stable/reference/generated/numpy.percentile.html)\n",
        "* `np.quantile()`: Takes in an array and a quantile value (float, `0.0`-`1.0`), returning the value of the array that demarcates the given quantile value. [[docs]](https://numpy.org/doc/stable/reference/generated/numpy.quantile.html)\n",
        "\n",
        "We'll show you how these work using the `airquality` dataset. We've provided the columns again for your convenience:\n",
        "\n",
        "| Index  | Description                   |\n",
        "|--------|-------------------------------|\n",
        "| 0      | Ozone (ppb)                   |\n",
        "| 1      | Solar radiation (Langeleys)   |\n",
        "| 2      | Wind (mph)                    |\n",
        "| 3      | Temperature (degrees F)       |\n",
        "| 4      | Month (`1`-`12`)              |\n",
        "| 5      | Day of month (`1`-`31`)       |"
      ]
    },
    {
      "cell_type": "code",
      "execution_count": 32,
      "metadata": {
        "id": "iVPF3JWbCEFW",
        "outputId": "d5e6be46-3c38-41b3-e8ba-2518a1e4fd2a",
        "colab": {
          "base_uri": "https://localhost:8080/"
        }
      },
      "outputs": [
        {
          "output_type": "stream",
          "name": "stdout",
          "text": [
            "[[ 41.         190.           7.4         67.           5.\n",
            "    1.        ]\n",
            " [ 36.         118.           8.          72.           5.\n",
            "    2.        ]\n",
            " [ 12.         149.          12.6         74.           5.\n",
            "    3.        ]\n",
            " [ 18.         313.          11.5         62.           5.\n",
            "    4.        ]\n",
            " [ 42.12931034 185.93150685  14.3         56.           5.\n",
            "    5.        ]\n",
            " [ 28.         185.93150685  14.9         66.           5.\n",
            "    6.        ]\n",
            " [ 23.         299.           8.6         65.           5.\n",
            "    7.        ]\n",
            " [ 19.          99.          13.8         59.           5.\n",
            "    8.        ]\n",
            " [  8.          19.          20.1         61.           5.\n",
            "    9.        ]\n",
            " [ 42.12931034 194.           8.6         69.           5.\n",
            "   10.        ]\n",
            " [  7.         185.93150685   6.9         74.           5.\n",
            "   11.        ]\n",
            " [ 16.         256.           9.7         69.           5.\n",
            "   12.        ]\n",
            " [ 11.         290.           9.2         66.           5.\n",
            "   13.        ]\n",
            " [ 14.         274.          10.9         68.           5.\n",
            "   14.        ]\n",
            " [ 18.          65.          13.2         58.           5.\n",
            "   15.        ]\n",
            " [ 14.         334.          11.5         64.           5.\n",
            "   16.        ]\n",
            " [ 34.         307.          12.          66.           5.\n",
            "   17.        ]\n",
            " [  6.          78.          18.4         57.           5.\n",
            "   18.        ]\n",
            " [ 30.         322.          11.5         68.           5.\n",
            "   19.        ]\n",
            " [ 11.          44.           9.7         62.           5.\n",
            "   20.        ]\n",
            " [  1.           8.           9.7         59.           5.\n",
            "   21.        ]\n",
            " [ 11.         320.          16.6         73.           5.\n",
            "   22.        ]\n",
            " [  4.          25.           9.7         61.           5.\n",
            "   23.        ]\n",
            " [ 32.          92.          12.          61.           5.\n",
            "   24.        ]\n",
            " [ 42.12931034  66.          16.6         57.           5.\n",
            "   25.        ]\n",
            " [ 42.12931034 266.          14.9         58.           5.\n",
            "   26.        ]\n",
            " [ 42.12931034 185.93150685   8.          57.           5.\n",
            "   27.        ]\n",
            " [ 23.          13.          12.          67.           5.\n",
            "   28.        ]\n",
            " [ 45.         252.          14.9         81.           5.\n",
            "   29.        ]\n",
            " [115.         223.           5.7         79.           5.\n",
            "   30.        ]\n",
            " [ 37.         279.           7.4         76.           5.\n",
            "   31.        ]\n",
            " [ 42.12931034 286.           8.6         78.           6.\n",
            "    1.        ]\n",
            " [ 42.12931034 287.           9.7         74.           6.\n",
            "    2.        ]\n",
            " [ 42.12931034 242.          16.1         67.           6.\n",
            "    3.        ]\n",
            " [ 42.12931034 186.           9.2         84.           6.\n",
            "    4.        ]\n",
            " [ 42.12931034 220.           8.6         85.           6.\n",
            "    5.        ]\n",
            " [ 42.12931034 264.          14.3         79.           6.\n",
            "    6.        ]\n",
            " [ 29.         127.           9.7         82.           6.\n",
            "    7.        ]\n",
            " [ 42.12931034 273.           6.9         87.           6.\n",
            "    8.        ]\n",
            " [ 71.         291.          13.8         90.           6.\n",
            "    9.        ]\n",
            " [ 39.         323.          11.5         87.           6.\n",
            "   10.        ]\n",
            " [ 42.12931034 259.          10.9         93.           6.\n",
            "   11.        ]\n",
            " [ 42.12931034 250.           9.2         92.           6.\n",
            "   12.        ]\n",
            " [ 23.         148.           8.          82.           6.\n",
            "   13.        ]\n",
            " [ 42.12931034 332.          13.8         80.           6.\n",
            "   14.        ]\n",
            " [ 42.12931034 322.          11.5         79.           6.\n",
            "   15.        ]\n",
            " [ 21.         191.          14.9         77.           6.\n",
            "   16.        ]\n",
            " [ 37.         284.          20.7         72.           6.\n",
            "   17.        ]\n",
            " [ 20.          37.           9.2         65.           6.\n",
            "   18.        ]\n",
            " [ 12.         120.          11.5         73.           6.\n",
            "   19.        ]\n",
            " [ 13.         137.          10.3         76.           6.\n",
            "   20.        ]\n",
            " [ 42.12931034 150.           6.3         77.           6.\n",
            "   21.        ]\n",
            " [ 42.12931034  59.           1.7         76.           6.\n",
            "   22.        ]\n",
            " [ 42.12931034  91.           4.6         76.           6.\n",
            "   23.        ]\n",
            " [ 42.12931034 250.           6.3         76.           6.\n",
            "   24.        ]\n",
            " [ 42.12931034 135.           8.          75.           6.\n",
            "   25.        ]\n",
            " [ 42.12931034 127.           8.          78.           6.\n",
            "   26.        ]\n",
            " [ 42.12931034  47.          10.3         73.           6.\n",
            "   27.        ]\n",
            " [ 42.12931034  98.          11.5         80.           6.\n",
            "   28.        ]\n",
            " [ 42.12931034  31.          14.9         77.           6.\n",
            "   29.        ]\n",
            " [ 42.12931034 138.           8.          83.           6.\n",
            "   30.        ]\n",
            " [135.         269.           4.1         84.           7.\n",
            "    1.        ]\n",
            " [ 49.         248.           9.2         85.           7.\n",
            "    2.        ]\n",
            " [ 32.         236.           9.2         81.           7.\n",
            "    3.        ]\n",
            " [ 42.12931034 101.          10.9         84.           7.\n",
            "    4.        ]\n",
            " [ 64.         175.           4.6         83.           7.\n",
            "    5.        ]\n",
            " [ 40.         314.          10.9         83.           7.\n",
            "    6.        ]\n",
            " [ 77.         276.           5.1         88.           7.\n",
            "    7.        ]\n",
            " [ 97.         267.           6.3         92.           7.\n",
            "    8.        ]\n",
            " [ 97.         272.           5.7         92.           7.\n",
            "    9.        ]\n",
            " [ 85.         175.           7.4         89.           7.\n",
            "   10.        ]\n",
            " [ 42.12931034 139.           8.6         82.           7.\n",
            "   11.        ]\n",
            " [ 10.         264.          14.3         73.           7.\n",
            "   12.        ]\n",
            " [ 27.         175.          14.9         81.           7.\n",
            "   13.        ]\n",
            " [ 42.12931034 291.          14.9         91.           7.\n",
            "   14.        ]\n",
            " [  7.          48.          14.3         80.           7.\n",
            "   15.        ]\n",
            " [ 48.         260.           6.9         81.           7.\n",
            "   16.        ]\n",
            " [ 35.         274.          10.3         82.           7.\n",
            "   17.        ]\n",
            " [ 61.         285.           6.3         84.           7.\n",
            "   18.        ]\n",
            " [ 79.         187.           5.1         87.           7.\n",
            "   19.        ]\n",
            " [ 63.         220.          11.5         85.           7.\n",
            "   20.        ]\n",
            " [ 16.           7.           6.9         74.           7.\n",
            "   21.        ]\n",
            " [ 42.12931034 258.           9.7         81.           7.\n",
            "   22.        ]\n",
            " [ 42.12931034 295.          11.5         82.           7.\n",
            "   23.        ]\n",
            " [ 80.         294.           8.6         86.           7.\n",
            "   24.        ]\n",
            " [108.         223.           8.          85.           7.\n",
            "   25.        ]\n",
            " [ 20.          81.           8.6         82.           7.\n",
            "   26.        ]\n",
            " [ 52.          82.          12.          86.           7.\n",
            "   27.        ]\n",
            " [ 82.         213.           7.4         88.           7.\n",
            "   28.        ]\n",
            " [ 50.         275.           7.4         86.           7.\n",
            "   29.        ]\n",
            " [ 64.         253.           7.4         83.           7.\n",
            "   30.        ]\n",
            " [ 59.         254.           9.2         81.           7.\n",
            "   31.        ]\n",
            " [ 39.          83.           6.9         81.           8.\n",
            "    1.        ]\n",
            " [  9.          24.          13.8         81.           8.\n",
            "    2.        ]\n",
            " [ 16.          77.           7.4         82.           8.\n",
            "    3.        ]\n",
            " [ 78.         185.93150685   6.9         86.           8.\n",
            "    4.        ]\n",
            " [ 35.         185.93150685   7.4         85.           8.\n",
            "    5.        ]\n",
            " [ 66.         185.93150685   4.6         87.           8.\n",
            "    6.        ]\n",
            " [122.         255.           4.          89.           8.\n",
            "    7.        ]\n",
            " [ 89.         229.          10.3         90.           8.\n",
            "    8.        ]\n",
            " [110.         207.           8.          90.           8.\n",
            "    9.        ]\n",
            " [ 42.12931034 222.           8.6         92.           8.\n",
            "   10.        ]\n",
            " [ 42.12931034 137.          11.5         86.           8.\n",
            "   11.        ]\n",
            " [ 44.         192.          11.5         86.           8.\n",
            "   12.        ]\n",
            " [ 28.         273.          11.5         82.           8.\n",
            "   13.        ]\n",
            " [ 65.         157.           9.7         80.           8.\n",
            "   14.        ]\n",
            " [ 42.12931034  64.          11.5         79.           8.\n",
            "   15.        ]\n",
            " [ 22.          71.          10.3         77.           8.\n",
            "   16.        ]\n",
            " [ 59.          51.           6.3         79.           8.\n",
            "   17.        ]\n",
            " [ 23.         115.           7.4         76.           8.\n",
            "   18.        ]\n",
            " [ 31.         244.          10.9         78.           8.\n",
            "   19.        ]\n",
            " [ 44.         190.          10.3         78.           8.\n",
            "   20.        ]\n",
            " [ 21.         259.          15.5         77.           8.\n",
            "   21.        ]\n",
            " [  9.          36.          14.3         72.           8.\n",
            "   22.        ]\n",
            " [ 42.12931034 255.          12.6         75.           8.\n",
            "   23.        ]\n",
            " [ 45.         212.           9.7         79.           8.\n",
            "   24.        ]\n",
            " [168.         238.           3.4         81.           8.\n",
            "   25.        ]\n",
            " [ 73.         215.           8.          86.           8.\n",
            "   26.        ]\n",
            " [ 42.12931034 153.           5.7         88.           8.\n",
            "   27.        ]\n",
            " [ 76.         203.           9.7         97.           8.\n",
            "   28.        ]\n",
            " [118.         225.           2.3         94.           8.\n",
            "   29.        ]\n",
            " [ 84.         237.           6.3         96.           8.\n",
            "   30.        ]\n",
            " [ 85.         188.           6.3         94.           8.\n",
            "   31.        ]\n",
            " [ 96.         167.           6.9         91.           9.\n",
            "    1.        ]\n",
            " [ 78.         197.           5.1         92.           9.\n",
            "    2.        ]\n",
            " [ 73.         183.           2.8         93.           9.\n",
            "    3.        ]\n",
            " [ 91.         189.           4.6         93.           9.\n",
            "    4.        ]\n",
            " [ 47.          95.           7.4         87.           9.\n",
            "    5.        ]\n",
            " [ 32.          92.          15.5         84.           9.\n",
            "    6.        ]\n",
            " [ 20.         252.          10.9         80.           9.\n",
            "    7.        ]\n",
            " [ 23.         220.          10.3         78.           9.\n",
            "    8.        ]\n",
            " [ 21.         230.          10.9         75.           9.\n",
            "    9.        ]\n",
            " [ 24.         259.           9.7         73.           9.\n",
            "   10.        ]\n",
            " [ 44.         236.          14.9         81.           9.\n",
            "   11.        ]\n",
            " [ 21.         259.          15.5         76.           9.\n",
            "   12.        ]\n",
            " [ 28.         238.           6.3         77.           9.\n",
            "   13.        ]\n",
            " [  9.          24.          10.9         71.           9.\n",
            "   14.        ]\n",
            " [ 13.         112.          11.5         71.           9.\n",
            "   15.        ]\n",
            " [ 46.         237.           6.9         78.           9.\n",
            "   16.        ]\n",
            " [ 18.         224.          13.8         67.           9.\n",
            "   17.        ]\n",
            " [ 13.          27.          10.3         76.           9.\n",
            "   18.        ]\n",
            " [ 24.         238.          10.3         68.           9.\n",
            "   19.        ]\n",
            " [ 16.         201.           8.          82.           9.\n",
            "   20.        ]\n",
            " [ 13.         238.          12.6         64.           9.\n",
            "   21.        ]\n",
            " [ 23.          14.           9.2         71.           9.\n",
            "   22.        ]\n",
            " [ 36.         139.          10.3         81.           9.\n",
            "   23.        ]\n",
            " [  7.          49.          10.3         69.           9.\n",
            "   24.        ]\n",
            " [ 14.          20.          16.6         63.           9.\n",
            "   25.        ]\n",
            " [ 30.         193.           6.9         70.           9.\n",
            "   26.        ]\n",
            " [ 42.12931034 145.          13.2         77.           9.\n",
            "   27.        ]\n",
            " [ 14.         191.          14.3         75.           9.\n",
            "   28.        ]\n",
            " [ 18.         131.           8.          76.           9.\n",
            "   29.        ]\n",
            " [ 20.         223.          11.5         68.           9.\n",
            "   30.        ]]\n"
          ]
        },
        {
          "output_type": "execute_result",
          "data": {
            "text/plain": [
              "(array([532, 102, 158,  13,  14,  24,  17,  30,  19,   9]),\n",
              " array([  1. ,  34.3,  67.6, 100.9, 134.2, 167.5, 200.8, 234.1, 267.4,\n",
              "        300.7, 334. ]))"
            ]
          },
          "metadata": {},
          "execution_count": 32
        }
      ],
      "source": [
        "# using np.histogram() to generate bin count and intervals for\n",
        "# temperature values in airquality\n",
        "print(airquality)\n",
        "np.histogram(airquality)\n"
      ]
    },
    {
      "cell_type": "code",
      "execution_count": 48,
      "metadata": {
        "id": "NaFk0jARDheh",
        "outputId": "8317c78d-58d9-47b1-ba43-5cfa5c0dcfea",
        "colab": {
          "base_uri": "https://localhost:8080/"
        }
      },
      "outputs": [
        {
          "output_type": "execute_result",
          "data": {
            "text/plain": [
              "array([[ 41. , 190. ,   7.4,  67. ,   5. ,   1. ],\n",
              "       [ 36. , 118. ,   8. ,  72. ,   5. ,   2. ],\n",
              "       [ 12. , 149. ,  12.6,  74. ,   5. ,   3. ]])"
            ]
          },
          "metadata": {},
          "execution_count": 48
        }
      ],
      "source": [
        "# creating bins from the minimum temp to the maximum temp in 5 degree intervals\n",
        "temp_bin = np.arange(airquality[:,3].min(), airquality[:,3].max() + 5, 5)\n",
        "airquality[:, 3]\n",
        "airquality[:3]"
      ]
    },
    {
      "cell_type": "code",
      "execution_count": 49,
      "metadata": {
        "id": "fNi5WU8sF3Sj",
        "outputId": "8c0440b6-bdc0-44b1-8f1c-631209463999",
        "colab": {
          "base_uri": "https://localhost:8080/"
        }
      },
      "outputs": [
        {
          "output_type": "execute_result",
          "data": {
            "text/plain": [
              "(array([ 8, 10, 15, 19, 33, 34, 20, 12,  2]),\n",
              " array([ 56.,  61.,  66.,  71.,  76.,  81.,  86.,  91.,  96., 101.]))"
            ]
          },
          "metadata": {},
          "execution_count": 49
        }
      ],
      "source": [
        "# specifying temp_bins in np.histogram()\n",
        "np.histogram(airquality[:, 3], bins=temp_bin)"
      ]
    },
    {
      "cell_type": "markdown",
      "metadata": {
        "id": "laeHXxpC9AV6"
      },
      "source": [
        "## Very, very simple plots\n",
        "\n",
        "Plots can be a useful tool in data exploration: sometimes it's easier to identify patterns in data once it's been visualized.\n",
        "\n",
        "Today, we'll introduce you to some very simple plotting functions that you can use to explore your data. We'll use a popular package called `matplotlib`, which contains a collection of useful MATLAB-like plotting functions (`pyplot`)."
      ]
    },
    {
      "cell_type": "code",
      "execution_count": 43,
      "metadata": {
        "id": "ptPVqnP68_mT"
      },
      "outputs": [],
      "source": [
        "import matplotlib.pyplot as plt # the alias is plt\n",
        "import numpy as np"
      ]
    },
    {
      "cell_type": "markdown",
      "metadata": {
        "id": "mq_RLdzK97mk"
      },
      "source": [
        "For today's purposes, we'll only introduce you to three simple `pyplot` functions and their key functionality.\n",
        "* `plt.hist()`: Takes in an array of values to generate a basic histogram plot.\n",
        "  * Can be used to visualize the distribution of values in a single column.\n",
        "  * You can explicitly specify desired bin boundaries using the `bins` input.\n",
        "* `plt.scatter()`: Takes in two arrays of values and generates a scatter plot.\n",
        "  * Can be used to visualize the relationship between values in two columns.\n",
        "* `plt.violinplot()`: Takes in a 2D array of values and plots a series of \"violins\".\n",
        "  * Can be used to visualize the distribution of values in *multiple* columns."
      ]
    },
    {
      "cell_type": "code",
      "execution_count": 46,
      "metadata": {
        "id": "26vlWUV6vmfd",
        "outputId": "ba92ac24-94b8-4cb9-8e90-62ab1eaecac2",
        "colab": {
          "base_uri": "https://localhost:8080/",
          "height": 484
        }
      },
      "outputs": [
        {
          "output_type": "execute_result",
          "data": {
            "text/plain": [
              "(array([ 8.,  8., 13., 10., 22., 24., 29., 20., 12.,  7.]),\n",
              " array([56. , 60.1, 64.2, 68.3, 72.4, 76.5, 80.6, 84.7, 88.8, 92.9, 97. ]),\n",
              " <BarContainer object of 10 artists>)"
            ]
          },
          "metadata": {},
          "execution_count": 46
        },
        {
          "output_type": "display_data",
          "data": {
            "text/plain": [
              "<Figure size 640x480 with 1 Axes>"
            ],
            "image/png": "[encoded data removed]"
          },
          "metadata": {}
        }
      ],
      "source": [
        "# creating a histogram of temperatures\n",
        "\n",
        "plt.hist(airquality[:, 3])"
      ]
    },
    {
      "cell_type": "code",
      "execution_count": 50,
      "metadata": {
        "id": "l3Nn8B7XAOpK",
        "outputId": "ab58b53d-329a-461a-8013-1b2ea90cc5ce",
        "colab": {
          "base_uri": "https://localhost:8080/",
          "height": 484
        }
      },
      "outputs": [
        {
          "output_type": "execute_result",
          "data": {
            "text/plain": [
              "(array([ 8., 10., 15., 19., 33., 34., 20., 12.,  2.]),\n",
              " array([ 56.,  61.,  66.,  71.,  76.,  81.,  86.,  91.,  96., 101.]),\n",
              " <BarContainer object of 9 artists>)"
            ]
          },
          "metadata": {},
          "execution_count": 50
        },
        {
          "output_type": "display_data",
          "data": {
            "text/plain": [
              "<Figure size 640x480 with 1 Axes>"
            ],
            "image/png": "[encoded data removed]"
          },
          "metadata": {}
        }
      ],
      "source": [
        "# creating a histogram of temperatures using temp_bins\n",
        "\n",
        "plt.hist(airquality[:, 3], bins=temp_bin)"
      ]
    },
    {
      "cell_type": "code",
      "execution_count": 55,
      "metadata": {
        "id": "pv2YA4iDIVBz",
        "outputId": "9272d19e-39d7-4499-baa7-15f8e13f6d28",
        "colab": {
          "base_uri": "https://localhost:8080/",
          "height": 448
        }
      },
      "outputs": [
        {
          "output_type": "execute_result",
          "data": {
            "text/plain": [
              "<matplotlib.collections.PathCollection at 0x7b038f49b7d0>"
            ]
          },
          "metadata": {},
          "execution_count": 55
        },
        {
          "output_type": "display_data",
          "data": {
            "text/plain": [
              "<Figure size 640x480 with 1 Axes>"
            ],
            "image/png": "[encoded data removed]"
          },
          "metadata": {}
        }
      ],
      "source": [
        "# visualizing temperature ranges by month\n",
        "plt.scatter(airquality[:, 4], airquality[:, 3])"
      ]
    },
    {
      "cell_type": "code",
      "execution_count": 54,
      "metadata": {
        "id": "6fyUfpgnQxrl",
        "outputId": "c7669cb9-ea73-4461-d4a4-12b5d7e59427",
        "colab": {
          "base_uri": "https://localhost:8080/",
          "height": 596
        }
      },
      "outputs": [
        {
          "output_type": "execute_result",
          "data": {
            "text/plain": [
              "{'bodies': [<matplotlib.collections.FillBetweenPolyCollection at 0x7b038f6c1e10>,\n",
              "  <matplotlib.collections.FillBetweenPolyCollection at 0x7b038f435f90>,\n",
              "  <matplotlib.collections.FillBetweenPolyCollection at 0x7b038f437fd0>,\n",
              "  <matplotlib.collections.FillBetweenPolyCollection at 0x7b038f441a90>,\n",
              "  <matplotlib.collections.FillBetweenPolyCollection at 0x7b038f443b90>,\n",
              "  <matplotlib.collections.FillBetweenPolyCollection at 0x7b038f449a90>],\n",
              " 'cmaxes': <matplotlib.collections.LineCollection at 0x7b038f44b490>,\n",
              " 'cmins': <matplotlib.collections.LineCollection at 0x7b038f449010>,\n",
              " 'cbars': <matplotlib.collections.LineCollection at 0x7b038f452dd0>}"
            ]
          },
          "metadata": {},
          "execution_count": 54
        },
        {
          "output_type": "display_data",
          "data": {
            "text/plain": [
              "<Figure size 640x480 with 1 Axes>"
            ],
            "image/png": "[encoded data removed]"
          },
          "metadata": {}
        }
      ],
      "source": [
        "# visualize the distribution of values in all the columns.\n",
        "plt.violinplot(airquality)\n"
      ]
    },
    {
      "cell_type": "markdown",
      "metadata": {
        "id": "n0goybhJLCBt"
      },
      "source": [
        "As you can see, these plots are quite rudimentary, but they get the job done for data exploration. We'll explore greater `pyplot` functionality on Friday."
      ]
    },
    {
      "cell_type": "markdown",
      "metadata": {
        "id": "FXknmaKG1F-i"
      },
      "source": [
        "# Mini-project: Exploring health data\n",
        "\n",
        "That's the last of the `numpy` techniques that we'll cover in this bootcamp!\n",
        "\n",
        "To cap things off, we're going to embark on a mini-project that will require you to use the skills you've learned so far. We've provided two project options:\n",
        "\n",
        "1. `badhealth`, a dataset describing healthcare habits of individuals and their self-reported health status. (Recommended)\n",
        "2. `hepatocellular`, a dataset from a journal article exploring gene expression biomarkers in cancer prognosis.\n",
        "\n",
        "We recommend that you start with `badhealth` and work on `hepatocellular` if you have extra time.\n"
      ]
    },
    {
      "cell_type": "markdown",
      "metadata": {
        "id": "nDHjEB7nPbIA"
      },
      "source": [
        "## `badhealth` dataset\n",
        "\n",
        "Our first dataset is the `badhealth` dataset. This dataset originates from a 1998 German health study of 1,127 individuals and their healthcare habits. [[source]](https://vincentarelbundock.github.io/Rdatasets/doc/COUNT/badhealth.html)\n",
        "\n",
        "Here are the descriptions and indices of columns in `badhealth`.\n",
        "\n",
        "| Index  | Description                   |\n",
        "|--------|-------------------------------|\n",
        "| 0      | Recorded # of doctor visits   |\n",
        "| 1      | Reported health status:<br>`0`: health, `1`: bad health   |\n",
        "| 2      | Age of patient (years)        |\n",
        "\n",
        "Using the following file path, import the `badhealth` dataset to a variable (also called `badhealth`). Slice and print the first 10 rows of the dataset.\n",
        "\n",
        "```\n",
        "'/content/pythonbootcamp/day_3/badhealth.csv'\n",
        "```"
      ]
    },
    {
      "cell_type": "code",
      "execution_count": 56,
      "metadata": {
        "id": "0dDq4-QpPqtO",
        "outputId": "c1594271-55fd-43fb-aafe-d954f998c0fd",
        "colab": {
          "base_uri": "https://localhost:8080/"
        }
      },
      "outputs": [
        {
          "output_type": "execute_result",
          "data": {
            "text/plain": [
              "array([[nan, nan, nan, nan],\n",
              "       [nan, 30.,  0., 58.],\n",
              "       [nan, 20.,  0., 54.],\n",
              "       [nan, 16.,  0., 44.],\n",
              "       [nan, 20.,  0., 57.],\n",
              "       [nan, 15.,  0., 33.],\n",
              "       [nan, 15.,  0., 28.],\n",
              "       [nan, 13.,  0., 37.],\n",
              "       [nan, 15.,  0., 31.],\n",
              "       [nan, 15.,  0., 30.]])"
            ]
          },
          "metadata": {},
          "execution_count": 56
        }
      ],
      "source": [
        "### use this cell to import and view the head of the data ###\n",
        "badhealth = np.genfromtxt('/content/pythonbootcamp/day_3/badhealth.csv', delimiter = \",\")\n",
        "badhealth[:10,:]"
      ]
    },
    {
      "cell_type": "markdown",
      "metadata": {
        "id": "MNB_U2mkPTbC"
      },
      "source": [
        "Next, use `clean_data()` to clean `badhealth`. There shouldn't be any interspersed `nan` values, but make sure to check anyway to practice your `nan`-detection routine!"
      ]
    },
    {
      "cell_type": "code",
      "execution_count": 67,
      "metadata": {
        "id": "Dhi8pa5SPoVT",
        "outputId": "274e1085-a9d1-4bb1-df6d-89bdeb4d393b",
        "colab": {
          "base_uri": "https://localhost:8080/"
        }
      },
      "outputs": [
        {
          "output_type": "stream",
          "name": "stdout",
          "text": [
            "1131\n"
          ]
        },
        {
          "output_type": "execute_result",
          "data": {
            "text/plain": [
              "0"
            ]
          },
          "metadata": {},
          "execution_count": 67
        }
      ],
      "source": [
        "### write your code below ###\n",
        "np.isnan(badhealth).sum()\n",
        "print(np.isnan(badhealth).sum())\n",
        "#clean data\n",
        "x = clean_data(badhealth)\n",
        "#check no value\n",
        "np.isnan(x).sum()"
      ]
    },
    {
      "cell_type": "markdown",
      "metadata": {
        "id": "pXf0uY36MuSB"
      },
      "source": [
        "Let's consider some of the key summary values that we might want to identify in our dataset, such as mean and median values.\n",
        "\n",
        "Write a function called `summary_values()` that takes an array and returns a dictionary containing:\n",
        "* The number of elements in the array, with the key value `'count'`.\n",
        "* Column-wise minimum values, with the key value `'mins'`\n",
        "* Column-wise maximum values, with the key value `'maxs'`\n",
        "* Column-wise means, with the key value `'means'`\n",
        "* Column-wise medians, with the key value `'medians'`\n",
        "* Column-wise standard deviations, with the key value `'stdevs'`"
      ]
    },
    {
      "cell_type": "code",
      "execution_count": 121,
      "metadata": {
        "id": "3opBMcq1SfWZ"
      },
      "outputs": [],
      "source": [
        "### write your code below ###\n",
        "def summary_values(d):\n",
        "    count = d.size\n",
        "    mins = d.min(axis=0)\n",
        "    maxs = d.max(axis=0)\n",
        "    means = d.mean(axis=0)\n",
        "    medians = np.median(d, axis=0)\n",
        "    stdevs = d.std(axis=0)\n",
        "    print(\"number of element is:\" + str(count))\n",
        "    print(\"mins is:\" + str(mins))\n",
        "    print(\"maxs is:\" + str(maxs))\n",
        "    print(\"means is:\" + str(means))\n",
        "    print(\"medians is:\" + str(medians))\n",
        "    print(\"stdevs is:\" + str(stdevs))\n",
        "\n",
        "    return (count, mins, maxs, means, medians, stdevs)\n",
        "\n",
        "#\n",
        "\n",
        "\n",
        "#way 2\n",
        "def summary_values_2(d):\n",
        "    summary_dict = {}\n",
        "    summary_dict['count'] = d.size\n",
        "    summary_dict['mins'] = d.min(axis=0)\n",
        "    summary_dict['maxs'] = d.max(axis=0)\n",
        "    summary_dict['means'] = d.mean(axis=0)\n",
        "    summary_dict['medians'] = np.median(d, axis=0)\n",
        "    summary_dict['stdevs'] = d.std(axis=0)\n",
        "\n",
        "    return summary_dict"
      ]
    },
    {
      "cell_type": "markdown",
      "metadata": {
        "id": "rFUxkBPrM1lD"
      },
      "source": [
        "Next, using `summary_values()`, find the specified summaries of all columns in `badhealth`."
      ]
    },
    {
      "cell_type": "code",
      "execution_count": 122,
      "metadata": {
        "id": "78jwq6vjdVUM",
        "outputId": "f9c00a5d-3d75-4cb8-b508-ba2639e51b60",
        "colab": {
          "base_uri": "https://localhost:8080/"
        }
      },
      "outputs": [
        {
          "output_type": "stream",
          "name": "stdout",
          "text": [
            "number of element is:3381\n",
            "mins is:[ 0.  0. 20.]\n",
            "maxs is:[40.  1. 60.]\n",
            "means is:[ 2.35314996  0.09937888 37.22892635]\n",
            "medians is:[ 1.  0. 35.]\n",
            "stdevs is:[ 3.45992988  0.29917005 10.82411358]\n"
          ]
        },
        {
          "output_type": "execute_result",
          "data": {
            "text/plain": [
              "{'count': 3381,\n",
              " 'mins': array([ 0.,  0., 20.]),\n",
              " 'maxs': array([40.,  1., 60.]),\n",
              " 'means': array([ 2.35314996,  0.09937888, 37.22892635]),\n",
              " 'medians': array([ 1.,  0., 35.]),\n",
              " 'stdevs': array([ 3.45992988,  0.29917005, 10.82411358])}"
            ]
          },
          "metadata": {},
          "execution_count": 122
        }
      ],
      "source": [
        "summary_values(x)\n",
        "summary_values_2(x)"
      ]
    },
    {
      "cell_type": "markdown",
      "metadata": {
        "id": "zzU_ljjUdZG1"
      },
      "source": [
        "Good! Let's try out more of the techniques we learned about earlier, such as percentiles and histograms.\n",
        "\n",
        "Below, use `np.histogram()` to generate a histogram of individual ages in `badhealth` using 5 year-intervals from the min to max age (inclusive of max age). Assign the intervals to a variable called `age_bins`."
      ]
    },
    {
      "cell_type": "code",
      "execution_count": 175,
      "metadata": {
        "id": "P9CYu9hF-uU7",
        "outputId": "90bcf6da-d505-4c2d-e127-0f2e7e6f01d7",
        "colab": {
          "base_uri": "https://localhost:8080/"
        }
      },
      "outputs": [
        {
          "output_type": "stream",
          "name": "stdout",
          "text": [
            "[20. 25. 30. 35. 40. 45. 50. 55. 60.]\n"
          ]
        },
        {
          "output_type": "execute_result",
          "data": {
            "text/plain": [
              "(array([124, 226, 196, 122, 132, 130, 105,  92]),\n",
              " array([20., 25., 30., 35., 40., 45., 50., 55., 60.]))"
            ]
          },
          "metadata": {},
          "execution_count": 175
        }
      ],
      "source": [
        "### write your code below ###\n",
        "age_bins = np.arange((x[:,2]).min(), (x[:,2]).max() + 5, 5)\n",
        "print(age_bins)\n",
        "np.histogram(x[:,2], bins=age_bins)"
      ]
    },
    {
      "cell_type": "markdown",
      "metadata": {
        "id": "pgrxQjJvewgw"
      },
      "source": [
        "When you're done, try using `plt.hist()` to plot the histogram of ages, defined by `age_bins`: they should yield the same values as `np.histogram()`."
      ]
    },
    {
      "cell_type": "code",
      "execution_count": 143,
      "metadata": {
        "id": "EAkZtblfe5JI",
        "outputId": "adc71a82-5f1b-49bc-a9ce-f6e9969e17da",
        "colab": {
          "base_uri": "https://localhost:8080/",
          "height": 484
        }
      },
      "outputs": [
        {
          "output_type": "execute_result",
          "data": {
            "text/plain": [
              "(array([124., 226., 196., 122., 132., 130., 105.,  92.]),\n",
              " array([20., 25., 30., 35., 40., 45., 50., 55., 60.]),\n",
              " <BarContainer object of 8 artists>)"
            ]
          },
          "metadata": {},
          "execution_count": 143
        },
        {
          "output_type": "display_data",
          "data": {
            "text/plain": [
              "<Figure size 640x480 with 1 Axes>"
            ],
            "image/png": "[encoded data removed]"
          },
          "metadata": {}
        }
      ],
      "source": [
        "### write your code below ###\n",
        "\n",
        "plt.hist(x[:,2], bins = age_bins)"
      ]
    },
    {
      "cell_type": "markdown",
      "metadata": {
        "id": "6zgndnmoG0iA"
      },
      "source": [
        "Repeat the above process to generate the histogram and histogram plot of individuals' doctor visits. Save the 5-visit interval bins to a new variable called `visit_bins`."
      ]
    },
    {
      "cell_type": "code",
      "execution_count": 144,
      "metadata": {
        "id": "RS12Ds3kHJV8",
        "outputId": "83a91656-3eda-4eb5-e59c-f05bb3f78a0f",
        "colab": {
          "base_uri": "https://localhost:8080/",
          "height": 472
        }
      },
      "outputs": [
        {
          "output_type": "display_data",
          "data": {
            "text/plain": [
              "<Figure size 640x480 with 1 Axes>"
            ],
            "image/png": "[encoded data removed]"
          },
          "metadata": {}
        }
      ],
      "source": [
        "### write your code below ###\n",
        "visit_bins = np.arange((x[:,0]).min(), (x[:,0]).max() + 5, 5)\n",
        "np.histogram(x[:,0], bins=visit_bins)\n",
        "plt.hist(x[:,0], visit_bins)\n",
        "plt.xlabel('Doctor Visits')\n",
        "plt.ylabel('Frequency')\n",
        "plt.title('Histogram of Doctor Visits')\n",
        "plt.show()\n"
      ]
    },
    {
      "cell_type": "markdown",
      "metadata": {
        "id": "ba1l7wEOdOgd"
      },
      "source": [
        "What percentile range corresponds to 30 or more visits? Try out different values with `np.percentile()` to find out."
      ]
    },
    {
      "cell_type": "code",
      "execution_count": 139,
      "metadata": {
        "id": "qgGdRLT38mzV",
        "outputId": "4aa801cf-229a-4878-e634-352ec8e8458e",
        "colab": {
          "base_uri": "https://localhost:8080/"
        }
      },
      "outputs": [
        {
          "output_type": "execute_result",
          "data": {
            "text/plain": [
              "8.700000000000045"
            ]
          },
          "metadata": {},
          "execution_count": 139
        }
      ],
      "source": [
        "### write your code below ###\n",
        "np.percentile(x[:,0], 30)\n",
        "np.percentile(x[:,0], 1)\n",
        "np.percentile(x[:,0], 0)\n",
        "np.percentile(x[:,0], 50)\n",
        "np.percentile(x[:,0], 80)\n",
        "np.percentile(x[:,0], 95)\n"
      ]
    },
    {
      "cell_type": "markdown",
      "metadata": {
        "id": "zJmmUHXVIEY4"
      },
      "source": [
        "Is there a difference in the age distribution of individuals who *never* visit the doctor, versus individuals who *frequently* visit the doctor?\n",
        "\n",
        "1.   `never_visit` for never-visiting individuals, or individuals with zero visits.\n",
        "2.   `frequent_visit` for frequently-visiting individuals, or individuals who visit more than 95% of other people (95+ percentile)\n",
        "\n"
      ]
    },
    {
      "cell_type": "code",
      "execution_count": 188,
      "metadata": {
        "id": "252OAIvbIfVk",
        "outputId": "84bda63e-7487-48ac-a005-848f7bba5364",
        "colab": {
          "base_uri": "https://localhost:8080/"
        }
      },
      "outputs": [
        {
          "output_type": "stream",
          "name": "stdout",
          "text": [
            "0.0\n",
            "8.700000000000045\n",
            "[False False False ...  True  True  True]\n",
            "[ True  True  True ... False False False]\n",
            "[30. 20. 16. ...  0.  0.  0.]\n",
            "[0. 0. 0. 0. 0. 0. 0. 0. 0. 0. 0. 0. 0. 0. 0. 0. 0. 0. 0. 0. 0. 0. 0. 0.\n",
            " 0. 0. 0. 0. 0. 0. 0. 0. 0. 0. 0. 0. 0. 0. 0. 0. 0. 0. 0. 0. 0. 0. 0. 0.\n",
            " 0. 0. 0. 0. 0. 0. 0. 0. 0. 0. 0. 0. 0. 0. 0. 0. 0. 0. 0. 0. 0. 0. 0. 0.\n",
            " 0. 0. 0. 0. 0. 0. 0. 0. 0. 0. 0. 0. 0. 0. 0. 0. 0. 0. 0. 0. 0. 0. 0. 0.\n",
            " 0. 0. 0. 0. 0. 0. 0. 0. 0. 0. 0. 0. 0. 0. 0. 0. 0. 0. 0. 0. 0. 0. 0. 0.\n",
            " 0. 0. 0. 0. 0. 0. 0. 0. 0. 0. 0. 0. 0. 0. 0. 0. 0. 0. 0. 0. 0. 0. 0. 0.\n",
            " 0. 0. 0. 0. 0. 0. 0. 0. 0. 0. 0. 0. 0. 0. 0. 0. 0. 0. 0. 0. 0. 0. 0. 0.\n",
            " 0. 0. 0. 0. 0. 0. 0. 0. 0. 0. 0. 0. 0. 0. 0. 0. 0. 0. 0. 0. 0. 0. 0. 0.\n",
            " 0. 0. 0. 0. 0. 0. 0. 0. 0. 0. 0. 0. 0. 0. 0. 0. 0. 0. 0. 0. 0. 0. 0. 0.\n",
            " 0. 0. 0. 0. 0. 0. 0. 0. 0. 0. 0. 0. 0. 0. 0. 0. 0. 0. 0. 0. 0. 0. 0. 0.\n",
            " 0. 0. 0. 0. 0. 0. 0. 0. 0. 0. 0. 0. 0. 0. 0. 0. 0. 0. 0. 0. 0. 0. 0. 0.\n",
            " 0. 0. 0. 0. 0. 0. 0. 0. 0. 0. 0. 0. 0. 0. 0. 0. 0. 0. 0. 0. 0. 0. 0. 0.\n",
            " 0. 0. 0. 0. 0. 0. 0. 0. 0. 0. 0. 0. 0. 0. 0. 0. 0. 0. 0. 0. 0. 0. 0. 0.\n",
            " 0. 0. 0. 0. 0. 0. 0. 0. 0. 0. 0. 0. 0. 0. 0. 0. 0. 0. 0. 0. 0. 0. 0. 0.\n",
            " 0. 0. 0. 0. 0. 0. 0. 0. 0. 0. 0. 0. 0. 0. 0. 0. 0. 0. 0. 0. 0. 0. 0. 0.]\n",
            "[30. 20. 16. 20. 15. 15. 13. 15. 15. 40. 15. 13. 12. 13. 12. 30. 10. 12.\n",
            " 12. 10. 10. 10. 10. 10. 10. 10. 10.  9. 10.  9. 20. 20. 20. 15. 15. 15.\n",
            " 20. 15. 15. 13. 13. 14. 15. 12. 12. 10. 10. 11. 10. 10.  9. 10. 10. 10.\n",
            " 10. 10. 10.]\n",
            "[30. 20. 16. ...  0.  0.  0.]\n"
          ]
        }
      ],
      "source": [
        "### write your code below ###\n",
        "a = np.percentile(x[:,0], 0)\n",
        "b = np.percentile(x[:,0], 95)\n",
        "print(a)\n",
        "print(b)\n",
        "never_visit = x[:,0] <= a  #   never_visit_mask = x[:,0] == 0; never_visit = x[never_visit_mask,:]\n",
        "frequent_visit = x[:,0] >= b\n",
        "print(never_visit)\n",
        "print(frequent_visit)\n",
        "pp = x[:,0]\n",
        "print(pp)\n",
        "n=pp[never_visit]\n",
        "f=pp[frequent_visit]\n",
        "print(n)\n",
        "print(f)\n"
      ]
    },
    {
      "cell_type": "markdown",
      "metadata": {
        "id": "yxSGQilQNo0K"
      },
      "source": [
        "Use `summary_values()` to examine the ages of each group. How many individuals are in each group? Does there seem to be a difference in the average/median age?"
      ]
    },
    {
      "cell_type": "code",
      "execution_count": 193,
      "metadata": {
        "id": "sKZOYlBhNpem",
        "outputId": "7ffb7554-6211-4b97-94ca-3b4b937b30f2",
        "colab": {
          "base_uri": "https://localhost:8080/"
        }
      },
      "outputs": [
        {
          "output_type": "stream",
          "name": "stdout",
          "text": [
            "{'count': 360, 'mins': 20.0, 'maxs': 60.0, 'means': 37.45, 'medians': 37.0, 'stdevs': 10.592332132254919}\n",
            "{'count': 57, 'mins': 22.0, 'maxs': 60.0, 'means': 44.19298245614035, 'medians': 45.0, 'stdevs': 10.241707979288686}\n"
          ]
        }
      ],
      "source": [
        "### write your code below ###\n",
        "summary_values_2(x[:,2][never_visit])\n",
        "summary_values_2(x[:,2][frequent_visit])\n",
        "\n",
        "print(summary_values_2(x[:,2][never_visit]))\n",
        "print(summary_values_2(x[:,2][frequent_visit]))"
      ]
    },
    {
      "cell_type": "markdown",
      "metadata": {
        "id": "EulZFWUbdJud"
      },
      "source": [
        "Finally, plot age histograms for both groups using `age_bins`."
      ]
    },
    {
      "cell_type": "code",
      "execution_count": 198,
      "metadata": {
        "id": "IZoFDJOG_5qJ",
        "outputId": "1d96165a-8523-497d-b0a1-c290c3d71710",
        "colab": {
          "base_uri": "https://localhost:8080/",
          "height": 472
        }
      },
      "outputs": [
        {
          "output_type": "display_data",
          "data": {
            "text/plain": [
              "<Figure size 640x480 with 1 Axes>"
            ],
            "image/png": "[encoded data removed]"
          },
          "metadata": {}
        }
      ],
      "source": [
        "### write your code below ###\n",
        "\n",
        "#plt.hist(x[:,2], bins=age_bins)\n",
        "plt.hist(x[:,2][never_visit], bins = age_bins, label=\"never visit\")\n",
        "plt.hist(x[:,2][frequent_visit], bins = age_bins, label=\"frequent visit\")\n",
        "plt.legend()\n",
        "plt.xlabel('Age')\n",
        "plt.ylabel('Frequency')\n",
        "plt.title('Histogram of Age')\n",
        "plt.show()"
      ]
    },
    {
      "cell_type": "code",
      "source": [
        "# Optional: Put these both on the same plot\n"
      ],
      "metadata": {
        "id": "sujJYsA7nGkF"
      },
      "execution_count": 199,
      "outputs": []
    },
    {
      "cell_type": "markdown",
      "metadata": {
        "id": "E4g4_fm8PZub"
      },
      "source": [
        "Are there other explorations you can think of, or better ways to plot the relationship between variables? If time permits, share your own useful explorations or visualizations!"
      ]
    },
    {
      "cell_type": "markdown",
      "metadata": {
        "id": "Q-uWZVMGgrEs"
      },
      "source": [
        "## `hepatocellular` dataset\n",
        "\n",
        "The `hepatocellular` dataset describes clinical metrics and biomarkers sampled in patients with hepatocellular carcinoma.\n",
        "\n",
        "> This dataset was obtained from this [source](https://vincentarelbundock.github.io/Rdatasets/doc/asaur/hepatoCellular.html), and originates from [Li et al. 2014: CXCL17 Expression Predicts Poor Prognosis and Correlates with Adverse Immune Infiltration in Hepatocellular Carcinoma](https://journals.plos.org/plosone/article?id=10.1371/journal.pone.0110064).\n",
        "\n",
        "`hepatocellular` contains significantly more columns than `badhealth`, spanning 48 variables for 227 individuals.\n",
        "\n",
        "Columns are listed in the following order: we've provided the 0-index of all columns for your convenience. All column values are encoded numerically.\n",
        "\n",
        "| Index   |      Description     | Index   |        Description       |  Index  |      Description      |  Index   |      Description    |\n",
        "| ------- | ---------------------| ------- | -------------------------| ------- | ----------------------| -------- | --------------------|\n",
        "| 0       | Patient ID number    | 12      | Capsulation              | 24      | CD8T                  | 36       | CD20NR              |\n",
        "| 1       | Age                  | 13      | TNM                      | 25      | CD8N                  | 37       | CD57NR              |\n",
        "| 2       | Sex                  | 14      | BCLC                     | 26      | CD20T                 | 38       | CD15NR              |\n",
        "| 3       | HBsAg                | 15      | Overall survival         | 27      | CD20N                 | 39       | CD68NR              |\n",
        "| 4       | Cirrhosis status     | 16      | Death                    | 28      | CD57T                 | 40       | CD4TR               |\n",
        "| 5       | ALT                  | 17      | Recurrence-free survival | 29      | CD57N                 | 41       | CD8TR               |\n",
        "| 6       | AST                  | 18      | Recurrence               | 30      | CD15T                 | 42       | CD20TR              |\n",
        "| 7       | AFP                  | 19      | CXCL17T                  | 31      | CD15N                 | 43       | CD57TR              |\n",
        "| 8       | Tumor size           | 20      | CXCL17P                  | 32      | CD68T                 | 44       | CD15TR              |\n",
        "| 9       | Tumor differentiation| 21      | CXCL17N                  | 33      | CD68N                 | 45       | CD68TR              |\n",
        "| 10      | Vascular invasion    | 22      | CD4T                     | 34      | CD4NR                 | 46       | Ki67                |\n",
        "| 11      | Tumor multiplicity   | 23      | CD4N                     | 35      | CD8NR                 | 47       | CD34                |\n",
        "\n",
        "That's a lot of columns, but have no fear – we're only going to have you take a look at a couple of them, and you don't need to know what the biological function of the biomarkers are (but we won't stop you from looking them up!)\n",
        "\n",
        "Just as before, start by importing the data from the following file path, then cleaning all-`nan` rows/columns using `clean_data()`.\n",
        "\n",
        "`'/content/pythonbootcamp/day_3/hepatoCellular.csv'`\n",
        "\n",
        "Assign this to a variable called `hepatocellular`."
      ]
    },
    {
      "cell_type": "code",
      "execution_count": 203,
      "metadata": {
        "id": "ufksqFn-hCyv",
        "outputId": "55ae9469-3a19-49ec-9536-7a6e49c40bb8",
        "colab": {
          "base_uri": "https://localhost:8080/"
        }
      },
      "outputs": [
        {
          "output_type": "execute_result",
          "data": {
            "text/plain": [
              "array([[ 1., 57.,  0.,  1.,  1.,  1.,  2.,  2.,  2.,  1.],\n",
              "       [ 2., 58.,  1.,  0.,  0.,  1.,  1.,  2.,  1.,  1.],\n",
              "       [ 3., 65.,  1.,  0.,  0.,  1.,  1.,  2.,  2.,  2.],\n",
              "       [ 4., 54.,  1.,  1.,  0.,  2.,  1.,  2.,  2.,  2.],\n",
              "       [ 5., 71.,  1.,  1.,  0.,  2.,  2.,  2.,  2.,  2.],\n",
              "       [ 6., 32.,  1.,  0.,  0.,  2.,  2.,  2.,  2.,  2.],\n",
              "       [ 7., 79.,  1.,  0.,  0.,  2.,  1.,  2.,  2.,  1.],\n",
              "       [ 8., 27.,  0.,  1.,  0.,  1.,  2.,  2.,  2.,  2.],\n",
              "       [ 9., 55.,  1.,  1.,  0.,  2.,  2.,  2.,  2.,  2.],\n",
              "       [10., 35.,  1.,  1.,  0.,  2.,  2.,  1.,  2.,  1.]])"
            ]
          },
          "metadata": {},
          "execution_count": 203
        }
      ],
      "source": [
        "### use this cell to import and clean the data ###\n",
        "hepatocellular = np.genfromtxt('/content/pythonbootcamp/day_3/hepatoCellular.csv', delimiter = \",\")\n",
        "hepatocellular = clean_data(hepatocellular)\n",
        "\n",
        "hepatocellular[:10, :10]"
      ]
    },
    {
      "cell_type": "markdown",
      "metadata": {
        "id": "jLMUcoJbTLct"
      },
      "source": [
        "Check for remaining `nan` values by column. Which columns still have `nan` values?"
      ]
    },
    {
      "cell_type": "code",
      "execution_count": 207,
      "metadata": {
        "id": "e7HrYPAhTAi_",
        "outputId": "2dc65571-5ebf-4942-dbff-74a1723e50e6",
        "colab": {
          "base_uri": "https://localhost:8080/"
        }
      },
      "outputs": [
        {
          "output_type": "execute_result",
          "data": {
            "text/plain": [
              "array([False, False, False, False, False, False, False, False, False,\n",
              "       False, False, False, False, False, False, False, False, False,\n",
              "       False, False, False, False,  True,  True,  True,  True,  True,\n",
              "        True,  True,  True,  True,  True,  True,  True,  True,  True,\n",
              "        True,  True,  True,  True,  True,  True,  True,  True,  True,\n",
              "        True,  True,  True])"
            ]
          },
          "metadata": {},
          "execution_count": 207
        }
      ],
      "source": [
        "### write your code below ###\n",
        "np.isnan(hepatocellular).any(axis=0)"
      ]
    },
    {
      "cell_type": "markdown",
      "metadata": {
        "id": "_JwVI8cEbSa4"
      },
      "source": [
        "For our purposes, we'll only be examining columns without `nan` values. The `hepatocellular` dataset has data for three measurements of `CXCL17` gene expression:\n",
        "* `CXCL17T`, Index 19: Intratumoral gene expression (measured within tumoral tissue).\n",
        "* `CXCL17P`, Index 20: Peritumoral gene expression (measured adjacent to tumoral tissue).\n",
        "* `CXCL17N`, Index 21: Non-tumoral gene expression.\n",
        "\n",
        "Recall the simple `pyplot` functions we taught you about earlier: which one is suitable for visualizing all three measurements of *CXCL17* expression? Use this function to visualize gene expression across all three measurements for all patients in `hepatocellular`."
      ]
    },
    {
      "cell_type": "code",
      "execution_count": 228,
      "metadata": {
        "id": "YQBpiQX_b5fm",
        "outputId": "902571f0-d7cf-49ff-ec3d-f714d29318b9",
        "colab": {
          "base_uri": "https://localhost:8080/",
          "height": 609
        }
      },
      "outputs": [
        {
          "output_type": "stream",
          "name": "stdout",
          "text": [
            "(227, 22)\n",
            "[False False False False False False False False False False False False\n",
            " False False False False False False False False False False]\n",
            "(227, 22)\n"
          ]
        },
        {
          "output_type": "execute_result",
          "data": {
            "text/plain": [
              "{'bodies': [<matplotlib.collections.FillBetweenPolyCollection at 0x7b038d7fa990>,\n",
              "  <matplotlib.collections.FillBetweenPolyCollection at 0x7b038d820b10>,\n",
              "  <matplotlib.collections.FillBetweenPolyCollection at 0x7b038d822c50>],\n",
              " 'cmaxes': <matplotlib.collections.LineCollection at 0x7b038d8067d0>,\n",
              " 'cmins': <matplotlib.collections.LineCollection at 0x7b038d98db10>,\n",
              " 'cbars': <matplotlib.collections.LineCollection at 0x7b038d837210>}"
            ]
          },
          "metadata": {},
          "execution_count": 228
        },
        {
          "output_type": "display_data",
          "data": {
            "text/plain": [
              "<Figure size 640x480 with 1 Axes>"
            ],
            "image/png": "[encoded data removed]"
          },
          "metadata": {}
        }
      ],
      "source": [
        "### write your code below ###\n",
        "#plt.violinplot(hepatocellular)\n",
        "#plt.violinplot(hepatocellular[:, (19,20, 21)])\n",
        "print(hepatocellular.shape)\n",
        "print(np.isnan(hepatocellular).any(axis = 0))\n",
        "column = ~np.isnan(hepatocellular).any(axis = 0)\n",
        "hepatocellular = hepatocellular[:, column]\n",
        "print(hepatocellular.shape)\n",
        "hepatocellular.shape\n",
        "plt.violinplot(hepatocellular[:, (19,20, 21)])\n",
        "#plt.violinplot(hepatocellular[:, (18, 19, 20)])\n"
      ]
    },
    {
      "cell_type": "markdown",
      "metadata": {
        "id": "SaGOjdBadIHL"
      },
      "source": [
        "Take a moment to examine the range and distribution of each measurement: what does the spread of the values look like?\n",
        "\n",
        "In the paper discussion, the authors posit that high peritumoral and intratumoral *CXCL17* expression is predictive of carcinoma prognosis. Let's see if we can see the same trend, using very basic data exploration.\n",
        "\n",
        "* Find the median values for peritumoral and intratumoral *CXCL17* expression.\n",
        "* Create two new subsets: `low_exp`, for patients with below-median expression for both peri- and intratumoral expression, and `high_exp`, for patients with above-median expression."
      ]
    },
    {
      "cell_type": "code",
      "execution_count": 255,
      "metadata": {
        "id": "dsGOa0e-dom1",
        "collapsed": true,
        "outputId": "3f625fff-bf0a-49fb-e520-9feae7fedd90",
        "colab": {
          "base_uri": "https://localhost:8080/",
          "height": 537
        }
      },
      "outputs": [
        {
          "output_type": "execute_result",
          "data": {
            "text/plain": [
              "{'bodies': [<matplotlib.collections.FillBetweenPolyCollection at 0x7b038d48ec90>,\n",
              "  <matplotlib.collections.FillBetweenPolyCollection at 0x7b038d484f10>,\n",
              "  <matplotlib.collections.FillBetweenPolyCollection at 0x7b038d316ed0>],\n",
              " 'cmaxes': <matplotlib.collections.LineCollection at 0x7b038d31cb90>,\n",
              " 'cmins': <matplotlib.collections.LineCollection at 0x7b038d31e110>,\n",
              " 'cbars': <matplotlib.collections.LineCollection at 0x7b038d31f890>}"
            ]
          },
          "metadata": {},
          "execution_count": 255
        },
        {
          "output_type": "display_data",
          "data": {
            "text/plain": [
              "<Figure size 640x480 with 1 Axes>"
            ],
            "image/png": "[encoded data removed]"
          },
          "metadata": {}
        }
      ],
      "source": [
        "### write your code below ###\n",
        "h = hepatocellular[:, 20]\n",
        "per_medium = np.median(h)\n",
        "\n",
        "g = hepatocellular[:, 19]\n",
        "intra_medium = np.median(h)\n",
        "\n",
        "\n",
        "per_mask = hepatocellular[:, 20] < per_medium\n",
        "low_exp = hepatocellular[per_mask, :]\n",
        "\n",
        "\n",
        "intra_mask = low_exp[:, 19] < intra_medium\n",
        "low_exp = low_exp[intra_mask, :]\n",
        "\n",
        "combined_mask = (hepatocellular[:, 20] < per_medium) & (hepatocellular[:, 19] < intra_medium)\n",
        "low_exp = hepatocellular[combined_mask, :]\n",
        "\n",
        "\n",
        "plt.violinplot(hepatocellular[:, 19:22][combined_mask])\n",
        "#plt.violinplot(hepatocellular[:, 20][high_exp_mask])\n",
        "#plt.violinplot(hepatocellular[:, 21][low_exp_mask])\n",
        "#plt.violinplot(hepatocellular[:, 21][high_exp_mask])\n",
        "#plt.legend()\n",
        "#plt.show()\n",
        "\n"
      ]
    },
    {
      "cell_type": "markdown",
      "metadata": {
        "id": "P5OlqSl9e_MF"
      },
      "source": [
        "Next, re-examine the distribution of all three *CXCL17T* measurements: this time, create one plot for `low_exp` and `high_exp`. Do you notice any trends or associations?"
      ]
    },
    {
      "cell_type": "code",
      "execution_count": 260,
      "metadata": {
        "id": "v2rYXTrvewTH",
        "collapsed": true,
        "outputId": "e293e364-176e-4433-91dc-3df02368509b",
        "colab": {
          "base_uri": "https://localhost:8080/",
          "height": 537
        }
      },
      "outputs": [
        {
          "output_type": "execute_result",
          "data": {
            "text/plain": [
              "{'bodies': [<matplotlib.collections.FillBetweenPolyCollection at 0x7b038d165dd0>,\n",
              "  <matplotlib.collections.FillBetweenPolyCollection at 0x7b038d174310>,\n",
              "  <matplotlib.collections.FillBetweenPolyCollection at 0x7b038d166810>],\n",
              " 'cmaxes': <matplotlib.collections.LineCollection at 0x7b038d0dc3d0>,\n",
              " 'cmins': <matplotlib.collections.LineCollection at 0x7b038d185d50>,\n",
              " 'cbars': <matplotlib.collections.LineCollection at 0x7b038d187610>}"
            ]
          },
          "metadata": {},
          "execution_count": 260
        },
        {
          "output_type": "display_data",
          "data": {
            "text/plain": [
              "<Figure size 640x480 with 1 Axes>"
            ],
            "image/png": "[encoded data removed]"
          },
          "metadata": {}
        }
      ],
      "source": [
        "### write your code below ###\n",
        "combined_mask_2 = (hepatocellular[:, 20] > per_medium) & (hepatocellular[:, 19] > intra_medium)\n",
        "high_exp = hepatocellular[combined_mask_2, :]\n",
        "plt.violinplot(hepatocellular[:, 19:22][combined_mask_2])\n",
        "plt.violinplot(hepatocellular[:, 19:22][combined_mask])"
      ]
    },
    {
      "cell_type": "code",
      "execution_count": null,
      "metadata": {
        "id": "hucGeVUde0nz"
      },
      "outputs": [],
      "source": [
        "### write your code below ###\n"
      ]
    },
    {
      "cell_type": "markdown",
      "metadata": {
        "id": "T85sdpvbfZWy"
      },
      "source": [
        "Next, let's look at patient prognosis. There are several measures of patient outcomes in the dataset, but we'll focus on just two: patient death (Index 16) and recurrence-free survival (Index 17).\n",
        "\n",
        "As we mentioned earlier, all of the columns in `hepatocellular` are numeric. Patient death is encoded as either a `0` or a `1`.\n",
        "* `0` indicates that the patient did not die.\n",
        "* `1` indicates patient death.\n",
        "\n",
        "Below, calculate the relative proportion of patients that died in `low_exp` and `high_exp`."
      ]
    },
    {
      "cell_type": "code",
      "execution_count": 274,
      "metadata": {
        "id": "CY_6IiCXfw_b",
        "outputId": "c3eb326b-16e8-4f8b-8f72-b17d000b4916",
        "colab": {
          "base_uri": "https://localhost:8080/"
        }
      },
      "outputs": [
        {
          "output_type": "stream",
          "name": "stdout",
          "text": [
            "low ex: 0.3069306930693069\n",
            "high ex: 0.5526315789473685\n",
            "(101, 22)\n",
            "[0. 0. 1. 1. 1. 0. 1. 0. 1. 0. 0. 0. 1. 0. 1. 0. 1. 0. 0. 1. 0. 1. 0. 1.\n",
            " 1. 0. 0. 0. 1. 1. 0. 0. 0. 0. 0. 0. 0. 0. 1. 0. 0. 0. 1. 1. 0. 0. 0. 1.\n",
            " 0. 1. 0. 0. 0. 0. 0. 0. 0. 0. 0. 1. 0. 1. 1. 1. 0. 0. 0. 0. 1. 0. 1. 0.\n",
            " 0. 0. 0. 0. 0. 0. 0. 0. 0. 0. 0. 0. 0. 0. 0. 1. 0. 1. 0. 0. 1. 0. 1. 1.\n",
            " 1. 0. 0. 0. 0.]\n",
            "(76, 22)\n",
            "[0. 0. 0. 1. 1. 1. 1. 0. 0. 1. 1. 0. 0. 1. 0. 1. 1. 1. 0. 0. 1. 1. 0. 0.\n",
            " 0. 0. 0. 1. 0. 1. 0. 1. 1. 1. 1. 0. 1. 0. 1. 0. 1. 1. 0. 1. 1. 0. 0. 0.\n",
            " 0. 0. 1. 1. 1. 1. 1. 0. 0. 0. 1. 0. 1. 0. 0. 1. 1. 1. 1. 0. 1. 1. 1. 1.\n",
            " 1. 0. 1. 1.]\n"
          ]
        }
      ],
      "source": [
        "### write your code below ###\n",
        "print(\"low ex:\", low_exp[:,16].mean())\n",
        "print(\"high ex:\", high_exp[:,16].mean())\n",
        "\n",
        "print(low_exp.shape)\n",
        "print(low_exp[:,16])\n",
        "\n",
        "print(high_exp.shape)\n",
        "print(high_exp[:,16])"
      ]
    },
    {
      "cell_type": "markdown",
      "metadata": {
        "id": "cUVx8iuel3U6"
      },
      "source": [
        "Next, let's examine recurrence-free survival. The clinical definition of recurrence-free survival is the number of days between the dates of sample biopsy and cancer recurrence, or the date from sample biopsy to last follow-up if no recurrence was observed.\n",
        "\n",
        "Below, calculate the summary values and plot the distribution of recurrence-free survival intervals for patients in both groups *on the same histogram plot*."
      ]
    },
    {
      "cell_type": "code",
      "execution_count": 264,
      "metadata": {
        "id": "owwj9R9Xm1Go",
        "outputId": "aca66e64-a064-44f0-96f7-ee162aa8dcdd",
        "colab": {
          "base_uri": "https://localhost:8080/"
        }
      },
      "outputs": [
        {
          "output_type": "execute_result",
          "data": {
            "text/plain": [
              "{'count': 76,\n",
              " 'mins': 1.0,\n",
              " 'maxs': 81.0,\n",
              " 'means': 20.05263157894737,\n",
              " 'medians': 11.0,\n",
              " 'stdevs': 22.027431902804448}"
            ]
          },
          "metadata": {},
          "execution_count": 264
        }
      ],
      "source": [
        "### write your code below ###\n",
        "summary_values_2(low_exp[:,17])\n",
        "\n",
        "summary_values_2(high_exp[:,17])"
      ]
    },
    {
      "cell_type": "code",
      "execution_count": 269,
      "metadata": {
        "id": "nRr_mxLCkRwy",
        "outputId": "05d7acb9-2240-43cc-85e4-3e033ae7d1cc",
        "colab": {
          "base_uri": "https://localhost:8080/",
          "height": 504
        }
      },
      "outputs": [
        {
          "output_type": "stream",
          "name": "stderr",
          "text": [
            "<ipython-input-269-a728d5ce3779>:10: UserWarning: No artists with labels found to put in legend.  Note that artists whose label start with an underscore are ignored when legend() is called with no argument.\n",
            "  plt.legend()\n"
          ]
        },
        {
          "output_type": "execute_result",
          "data": {
            "text/plain": [
              "<matplotlib.legend.Legend at 0x7b038d919010>"
            ]
          },
          "metadata": {},
          "execution_count": 269
        },
        {
          "output_type": "display_data",
          "data": {
            "text/plain": [
              "<Figure size 640x480 with 1 Axes>"
            ],
            "image/png": "[encoded data removed]"
          },
          "metadata": {}
        }
      ],
      "source": [
        "# plot the distribution here\n",
        "### write your code below ###\n",
        "\n",
        "# hint: you can plot *two* histogram distributions on the same plot\n",
        "# if you provide a list of arrays\n",
        "#plt.hist(low_exp[:,17],  label=\"low_exp\")\n",
        "#plt.hist(high_exp[:,17], label=\"high_exp\")\n",
        "plt.hist([low_exp[:,17] , high_exp[:,17]])\n",
        "\n",
        "plt.legend()\n"
      ]
    },
    {
      "cell_type": "markdown",
      "metadata": {
        "id": "Pd0ye54bn4Ci"
      },
      "source": [
        "That's it for `hepatocellular`! If you've finished early, you can review the paper manuscript and work on executing some more explorations according to the author's findings. If time permits, we'll ask people to share their results.\n",
        "\n"
      ]
    },
    {
      "cell_type": "markdown",
      "metadata": {
        "id": "ge7GlvSYA43O"
      },
      "source": [
        "# Introduction to Pandas\n",
        "\n",
        "That's about it for today! We hope that you enjoyed putting your skills to the test.\n",
        "\n",
        "Tomorrow, we'll embark on our last full day of lecture content that will discuss data exploration and preliminary analysis. We'll be working with a package called `pandas`, which is a package that extends the array infrastructure provided by `numpy`.\n",
        "\n",
        "> *Another package already?!* 😱<br>\n",
        "Have no fear: all of the conceptual material we covered with `numpy` arrays is transferable to `pandas`. In fact, `pandas` takes care of many of the techniques that were fairly clunky for us to perform with `numpy`, and most people find `pandas` a little more intuitive to work with. We're only going to preview our forthcoming work with `pandas` today.\n",
        "\n",
        "Let's think all the way back to when we first introduced `numpy`: recall that arrays *do* have their limitations. For one, arrays can't contain multiple types. This can be troublesome for scientific data that can't be stored in solely numeric form. Thus, we turn to `pandas`.\n",
        "\n",
        "Like `numpy`, `pandas` is imported with a shorthand **alias** (`pd`), which is used as the prefix for any functions imported via `pandas`.\n",
        "\n"
      ]
    },
    {
      "cell_type": "code",
      "execution_count": null,
      "metadata": {
        "id": "C5FHiVmvEI9F"
      },
      "outputs": [],
      "source": [
        "# try it out: import pandas with its alias\n",
        "import pandas as pd"
      ]
    },
    {
      "cell_type": "markdown",
      "metadata": {
        "id": "oYMrGHlyS78m"
      },
      "source": [
        "## DataFrames versus arrays\n",
        "\n",
        "`pandas` is a great tool for data manipulation and analysis in Python because of the infrastructure it provides for complex tabular data. Just as `numpy` introduced the array, `pandas` introduces the **DataFrame** (a term familiar to those of you coming from R).\n",
        "\n",
        "DataFrames and arrays are quite similar in many aspects. For one, they can both be used to store rectangular data (rows and columns), and they're both useful for performing vectorized operations. However, DataFrames have several key functions that can make it easier to work with *labeled* data.\n",
        "\n",
        "1. **DataFrames allow mixed types.** Unlike with arrays, you can store strings, integers, numerics, etc. in the same DataFrame.\n",
        "2. **DataFrames supports row and column names**. You can index with row and column names! This can be handy if you know your sample/variable names by heart.\n",
        "3. **DataFrames support easy database-like operations**. Merging, joining, grouping, sorting on a column's values – all possible with `pandas` DataFrames!\n",
        "\n",
        "We'll teach you about the essential `pandas` functions and operations, but if you'd like to know *more* about what you can do with `pandas`, you can read the introduction on the `pandas` documentation [here](https://pandas.pydata.org/pandas-docs/stable/getting_started/overview.html).\n",
        "\n",
        "Let's take a quick look at some data using `pandas`. All of the operations we're showing you will be covered in tomorrow's lecture, so there's no need to commit all of it to memory right now."
      ]
    },
    {
      "cell_type": "code",
      "execution_count": null,
      "metadata": {
        "id": "5aXdUo-6E50q"
      },
      "outputs": [],
      "source": [
        "# importing data\n",
        "airquality_df = pd.read_csv('/content/pythonbootcamp/day_3/airquality.csv').drop('Unnamed: 0', axis = \"columns\")\n",
        "airquality_df"
      ]
    },
    {
      "cell_type": "markdown",
      "metadata": {
        "id": "u-bgREA8RaxX"
      },
      "source": [
        "This is the `airquality` dataset we worked with earlier today, but imported into a `pandas` DataFrame. The first thing you'll notice is that the display of the data is quite different, compared to an array.\n",
        "\n",
        "Next, you'll probably notice that the columns in this table have names, and the rows have numbers: DataFrames operate using these **labels** as indices, rather than the strict numerical indices we've been using so far. This is *especially* useful for columns!"
      ]
    },
    {
      "cell_type": "code",
      "execution_count": null,
      "metadata": {
        "id": "NYKpaZAHSVBj"
      },
      "outputs": [],
      "source": [
        "hepatocellular_df = pd.read_csv('/content/pythonbootcamp/day_3/hepatoCellular.csv').drop('Unnamed: 0', axis = 1)\n",
        "hepatocellular_df"
      ]
    },
    {
      "cell_type": "markdown",
      "metadata": {
        "id": "lo3eHO5aSdjy"
      },
      "source": [
        "Look at all those columns! With DataFrames, you won't need to worry about constantly referring to index lists for datasets like `hepatocellular` that contain dozens of columns."
      ]
    },
    {
      "cell_type": "code",
      "execution_count": null,
      "metadata": {
        "id": "1v-ES7D1R8oJ"
      },
      "outputs": [],
      "source": [
        "# before, if we wanted CXCL17T expression\n",
        "hepatocellular[:,19]"
      ]
    },
    {
      "cell_type": "code",
      "execution_count": null,
      "metadata": {
        "id": "c5qtgiTFSEXl"
      },
      "outputs": [],
      "source": [
        "# if we want to examine CXCL17T expression in our DataFrame\n",
        "hepatocellular_df['CXCL17T']"
      ]
    },
    {
      "cell_type": "markdown",
      "metadata": {
        "id": "_klT99sZSN5v"
      },
      "source": [
        "Hopefully this is starting to show you some of the motivation behind `pandas` and DataFrames! By the end of the week, you'll be well-prepared to use `numpy`, `pandas`, and `pyplot` to analyze *your* particular data. We'll have TAs on staff during the Friday afternoon session to discuss future directions for your Python analyses."
      ]
    },
    {
      "cell_type": "markdown",
      "metadata": {
        "id": "EtzY5548Qn0U"
      },
      "source": [
        "# [Optional] Saving your arrays to external files\n",
        "\n",
        "`numpy` also provides a utility function called `np.savetxt()` that saves arrays to external files. We won't be using it in the remainder of the bootcamp (`pandas` has superior file input/output functions for mixed-type data), but it may be useful if you work with solely numerical data.\n",
        "\n",
        "`np.savetxt()` takes three key inputs:\n",
        "1. A file name.\n",
        "2. The array of interest.\n",
        "3. A `delimiter` string."
      ]
    },
    {
      "cell_type": "code",
      "execution_count": null,
      "metadata": {
        "id": "gV4tfZYfQnRp"
      },
      "outputs": [],
      "source": [
        "# let's sample 5 random rows from airquality\n",
        "\n",
        "rng = np.random.default_rng(2023) # this time, using a seed value for reproducibility\n",
        "random_airquality = rng.choice(airquality, 5)\n",
        "random_airquality"
      ]
    },
    {
      "cell_type": "code",
      "execution_count": null,
      "metadata": {
        "id": "Zg77LO5nTNLt"
      },
      "outputs": [],
      "source": [
        "# now let's save random_airquality as a comma-separated value file\n",
        "np.savetxt('random_airquality.csv', random_airquality, delimiter = ',')"
      ]
    },
    {
      "cell_type": "markdown",
      "metadata": {
        "id": "3TPs58j-Tp3l"
      },
      "source": [
        "Go to the left hand panel of the Colab notebook and click on the folder icon at the bottom of the panel. This will bring you to Colab's `Files` menu. You should see a file called `random_airquality.csv`: if you hover over it and click the menu with three dots, you can obtain the file path (if you want to import it again) or download the file.\n",
        "___\n",
        "**CAUTION**: Files that you save while using Colab are not retained after you close the notebook, as they only exist in Colab's temporary **session storage**. If you generate files and wish to keep them, make sure to download your files (with the same three dots menu) before you exit Colab.\n",
        "___"
      ]
    },
    {
      "cell_type": "markdown",
      "metadata": {
        "id": "9ST-WXNFsPoD"
      },
      "source": [
        "# [Optional] Cloning files from GitHub\n",
        "\n",
        "> This section was first introduced in the morning session on `numpy`. We've copy-pasted it here for convenience.\n",
        "\n",
        "[GitHub](https://github.com/) is a website that hosts code and files for software development projects. It serves two major functions: backing up **codebases** (files with data and code that work together) and enabling collaboration between programmers/developers.\n",
        "\n",
        "We (your staff team) use GitHub as a **repository** for files that are used during PyCamp. We do this so that we have a stable copy of these files that stays out of \"I spilled coffee on my laptop the night before PyCamp\", or \"my laptop was ransomed for cryptocurrency\" territory. Moreover, if we accidentally delete a file from the repository, GitHub's **version control**  allows us to roll back the repository to a working version. Neat, right?\n",
        "\n",
        "The below command allows us to **clone** these files from the GitHub repository to our local runtime's session storage. This allows for us to skip the messy steps of trying to get everyone to download and re-upload the right data.\n",
        "\n",
        "```\n",
        "!git clone https://github.com/ccbskillssem/pythonbootcamp.git\n",
        "```\n",
        "\n",
        "The `!` operator is used to indicate *special commands* that would normally be run at a computer's **command line**, rather than in Python. This is akin to communicating with a computer (or in Colab, our runtime) directly to tell it that we want to download files using the given file path.\n",
        "\n",
        "The GitHub file path that you see above points to a single file called a `.git` file. This file does not contain all the data: rather, it provides directions to the GitHub repository of interest, and therefore all the files it contains. In this manner, we never have to worry about giving all the file paths to each file we want: we just pull all the files in the repository by giving its `.git` file path."
      ]
    },
    {
      "cell_type": "markdown",
      "metadata": {
        "id": "vkHMnmrPUOlR"
      },
      "source": [
        "# [Optional] More methods for external data\n",
        "\n",
        "> This section was first introduced in yesterday's session on `numpy`. We've copy-pasted it here for convenience.\n",
        "\n",
        "This section describes the bare essentials of file uploads/downloads with Colab. For a more in-depth exploration, you can visit the official Google Colab notebook on data I/O [here](https://colab.research.google.com/notebooks/io.ipynb)."
      ]
    },
    {
      "cell_type": "markdown",
      "metadata": {
        "id": "0nFgc5EnUwZW"
      },
      "source": [
        "## Loading data from your computer\n",
        "You can use Colab's `Files` menu to upload data from your own computer to Colab's temporary **session storage**. Session storage is reset each time the notebook runtime ends or is otherwise reset.\n",
        "\n",
        "Go to the left hand panel of the Colab notebook and click on the folder icon at the bottom of the panel. This will bring you to Colab's `Files` menu.\n",
        "\n",
        "Click on the leftmost icon underneath the `'Files'` title of the panel: it should appear as a piece of paper with an up arrow on it. Follow the prompts to upload your data of choice. Once your file is uploaded, you can access the file path by hovering over the file name, clicking on the three-dot menu, then selecting `Copy path`.\n",
        "\n",
        "___\n",
        "\n",
        "**CAUTION**: Files that you upload are NOT retained in the `Files` panel after you close the notebook or reset the runtime. If you would prefer to avoid the upload process, consider the next section on loading data from Google Drive.\n",
        "\n",
        "___"
      ]
    },
    {
      "cell_type": "markdown",
      "metadata": {
        "id": "WIs4S8UeVl1p"
      },
      "source": [
        "## Loading data from Google Drive\n",
        "Google Drive is an excellent cloud storage solution for data you wish to work with in Colab. Colab provides a simple solution for allowing you to access files from Google Drive in Colab: all you have to do is access the `Files` menu by clicking the folder icon on the left hand panel of the Colab notebook.\n",
        "\n",
        "Once you're in the `Files` menu, click on the third icon below the `'Files'` title: it should appear as a filled-in white folder with the Google Drive icon. Click this button to connect Google Drive to Colab: a pop-up should appear asking you to confirm that you wish to do this, and you may need to wait a few minutes while Google Drive loads.\n",
        "\n",
        "Once your Drive is mounted, you should see a new folder called `drive` in the `Files` menu. You can access the file path by hovering over the file name, clicking on the three-dot menu, then selecting `Copy path`."
      ]
    }
  ],
  "metadata": {
    "colab": {
      "provenance": [],
      "include_colab_link": true
    },
    "kernelspec": {
      "display_name": "Python 3",
      "name": "python3"
    },
    "language_info": {
      "name": "python"
    }
  },
  "nbformat": 4,
  "nbformat_minor": 0
}